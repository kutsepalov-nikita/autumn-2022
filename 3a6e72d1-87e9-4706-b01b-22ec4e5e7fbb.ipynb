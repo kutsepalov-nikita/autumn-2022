{
 "cells": [
  {
   "cell_type": "markdown",
   "metadata": {},
   "source": [
    "# КОММЕНТАРИЙ РЕВЬЮВЕРА\n",
    "Привет Никита👋!)\n",
    "\n",
    "Меня зовут Сибирев Владислав, я осуществлял проверку проекта. Может перейдем сразу на <b>ты</b>? Если это неприемлемо, то обязательно дай знать)\n",
    "\n",
    "\n",
    "Далее по ходу работы ты сможешь встретить мои комментарии, они будут отмечены разными цветами:\n",
    "\n",
    "<div class=\"alert alert-block alert-success\">\n",
    " ✔️ Похвала и возможности развития\n",
    "</div>\n",
    "<div class=\"alert alert-block alert-warning\">\n",
    "⚠️ Некритичные замечания, но стоит обратить внимание\n",
    "</div>\n",
    "<div class=\"alert alert-block alert-danger\">\n",
    "❌ Грубая ошибка, необходимо исправить\n",
    "</div>\n",
    "\n",
    "\n",
    "Заранее прошу не удалять мои комментарии, это важно. Если у тебя возникнут вопросы, обозначь их, я с радостью тебе помогу!)\n",
    "\n",
    "Как вариант, можешь обозначить их так:\n",
    "<div class=\"alert alert-block alert-info\">\n",
    "<b>КОММЕНТАРИЙ СТУДЕНТА:</b>\n",
    "</div>"
   ]
  },
  {
   "cell_type": "markdown",
   "metadata": {},
   "source": [
    "<div class=\"alert alert-block alert-danger\">\n",
    "<b>Комментарий ревьюера:</b> \n",
    "\n",
    "❌ Кажется, в проекте отсутствуют основные шаги в проекте. Не доделаный проект был отправлен случайно? Тогда поправь его, пожалуйста, и возвращайся.<br>\n",
    "Или ты не понимаешь, как выполнить эти шаги? Тогда стоит задать вопрос преподавателю по проектам в чате slack. Также ты можешь написать вопрос в проекте и опять отправить его на проверку - так я смогу тебе ответить.\n",
    "</div>"
   ]
  },
  {
   "cell_type": "markdown",
   "metadata": {},
   "source": [
    "<div class=\"alert alert-block alert-info\">\n",
    "<b>КОММЕНТАРИЙ СТУДЕНТА: Привет Владислав. Да в определенной месте ниже (выделил синим комментарием) умирает ядро, далее продвинуться не удается. В чате слака туго очень вопрос решается, потому надеюсь на твою подсказку :).</b>\n",
    "</div>"
   ]
  },
  {
   "cell_type": "markdown",
   "metadata": {},
   "source": [
    "<div class=\"alert alert-block alert-danger\">\n",
    "<b>Комментарий ревьюера_V2:</b> \n",
    "\n",
    "❌Группировку надо делать другую, объединять можно не только по одному столбцу - можно в качестве ключа объединения использовать два и более столбца. В нашем случае `index` будет `['user_id', 'month']`, параметр `columns` нам здесь не нужен. Из-за того, что объемные данные, то он просто перегружается. Так нужно сделать по каждому анализируемому периоду)\n",
    "</div>"
   ]
  },
  {
   "cell_type": "markdown",
   "metadata": {},
   "source": [
    "<div class=\"alert alert-block alert-danger\">\n",
    "<b>Комментарий ревьюера_V3:</b> \n",
    "\n",
    "❌ Ты назвал эти ячейки `traffic_month`, `call_month`, `message_month`, хотя можно просто назвать их везде `month`. В данном случае речь шла не об объединении таблицы с помощью `merge`, а о группировке или о создании сводной таблицы с помощью `pivot_table`. После того как ты правильно сгруппируешь данные, то сможешь их объединить.<br> \n",
    "`data.pivot_table(index=['user_id', 'month'], values='duration', aggfunc = ['count', 'sum'])`\n",
    "Можно еще использовать для сброса индекса фрейма данных `reset_index()`\n",
    "</div>"
   ]
  },
  {
   "cell_type": "markdown",
   "metadata": {},
   "source": [
    "<div class=\"alert alert-block alert-info\">\n",
    "<b>КОММЕНТАРИЙ СТУДЕНТА_2: Спасибо, но не понял что комента. Предлагаю под ячейкой обсуждение продолжить, ниже прокоментировал комент).</b>\n",
    "</div>"
   ]
  },
  {
   "cell_type": "markdown",
   "metadata": {},
   "source": [
    "<div class=\"alert alert-block alert-success\">\n",
    "<b>КОММЕНТАРИЙ РЕВЬЮВЕРА_V4:</b> \n",
    "    \n",
    "Никита, ты большой молодец, проделал громадную работу, но надо еще будет собраться и доделать ее, осталось еще немного!))\n",
    "    \n",
    "Жду исправленного варианта)) \n",
    "\n",
    "</div>"
   ]
  },
  {
   "cell_type": "markdown",
   "metadata": {},
   "source": [
    "<div class=\"alert alert-block alert-success\">\n",
    "<b>КОММЕНТАРИЙ РЕВЬЮВЕРА_V5:</b> \n",
    "    \n",
    "Никита, проект с каждым разом становится все лучше и лучше, теперь давай уже наведем красоту,так как ты будешь его оформлять в свое портфолио)) Из критических замечаний неправильно присоединяешь таблицы друг с другом во время проверки второй гипотезы, остальные замечения относятся к офрмлению)) \n",
    "\n",
    "</div>"
   ]
  },
  {
   "cell_type": "markdown",
   "metadata": {},
   "source": [
    "<div class=\"alert alert-block alert-success\">\n",
    "<b>КОММЕНТАРИЙ РЕВЬЮВЕРА_V6:</b> \n",
    "    \n",
    "Никита, выходим уже на финишную прямую, замени пропуски в итоговой таблице на нули, добавь везде название боксплотов, как это сделать написал, а также в выводе напиши  `какой тариф выгоден для сотового оператора, так как это цель нашего исследования.`, буквально один абзац)) Работу присылай и я ее оперативно приму) В остальном умничка, поработал ты хорошо очень)\n",
    "\n",
    "</div>"
   ]
  },
  {
   "cell_type": "markdown",
   "metadata": {},
   "source": [
    "<div class=\"alert alert-block alert-success\">\n",
    "<b>КОММЕНТАРИЙ РЕВЬЮВЕРА_V6:</b> \n",
    "    \n",
    "Никита, пора двигаться дальше, все исправил)) Успехов в дальнейшем обучении))\n",
    "\n",
    "</div>"
   ]
  },
  {
   "cell_type": "markdown",
   "metadata": {},
   "source": [
    "# Открытые и подготовка данных (изменение типов и исправление)"
   ]
  },
  {
   "cell_type": "markdown",
   "metadata": {},
   "source": [
    "<div class=\"alert alert-block alert-warning\">\n",
    "<b>Комментарий ревьюера_V5:</b> \n",
    "\n",
    "⚠️ В самом начале лучше прописать конкретную цель и задачи исследования, какие данные у тебя имеются для этого. И лчуше основные моменты прописывать жирным шрифтом, то есть делать акценты на чем-то. \n",
    "\n",
    "Я дам тебе ссылки на полезные гайды, которые могут помочь:\n",
    "    \n",
    "<a href=\"https://markdown-guide.readthedocs.io/en/latest/basics.html\">guide1.</a>\n",
    "<a href=\"https://paulradzkov.com/2014/markdown_cheatsheet/\">guide2.</a>\n",
    "\n",
    "Также в Notion есть методичка по оформлению проектов.\n",
    "</div>"
   ]
  },
  {
   "cell_type": "markdown",
   "metadata": {},
   "source": [
    "<div class=\"alert alert-block alert-info\">\n",
    "<b>КОММЕНТАРИЙ СТУДЕНТА_5: Добавил.</b>\n",
    "</div>"
   ]
  },
  {
   "cell_type": "markdown",
   "metadata": {},
   "source": [
    "# Описание проекта</p>\n",
    "Вы аналитик компании «Мегалайн» — федерального оператора сотовой связи. Клиентам предлагают два тарифных плана: «Смарт» и «Ультра». Чтобы скорректировать рекламный бюджет, коммерческий департамент хочет понять, какой тариф приносит больше денег.\n",
    "Вам предстоит сделать предварительный анализ тарифов на небольшой выборке клиентов. В вашем распоряжении данные 500 пользователей «Мегалайна»: кто они, откуда, каким тарифом пользуются, сколько звонков и сообщений каждый отправил за 2018 год. Нужно проанализировать поведение клиентов и сделать вывод — какой тариф лучше."
   ]
  },
  {
   "cell_type": "code",
   "execution_count": 107,
   "metadata": {},
   "outputs": [],
   "source": [
    "import pandas as pd\n",
    "from scipy import stats as st\n",
    "import numpy as np\n",
    "import matplotlib.pyplot as plt"
   ]
  },
  {
   "cell_type": "markdown",
   "metadata": {},
   "source": [
    "<div class=\"alert alert-block alert-success\">\n",
    "<b>КОММЕНТАРИЙ РЕВЬЮВЕРА_V3:</b> \n",
    "    \n",
    "Молодец, что импортировал библиотеку в первую ячейку) \n",
    "\n",
    "</div>"
   ]
  },
  {
   "cell_type": "code",
   "execution_count": 108,
   "metadata": {},
   "outputs": [],
   "source": [
    "df_calls=pd.read_csv('/datasets/calls.csv')\n",
    "df_internet=pd.read_csv('/datasets/internet.csv')\n",
    "df_messages=pd.read_csv('/datasets/messages.csv')\n",
    "df_tariffs=pd.read_csv('/datasets/tariffs.csv')\n",
    "df_users=pd.read_csv('/datasets/users.csv')"
   ]
  },
  {
   "cell_type": "code",
   "execution_count": 109,
   "metadata": {},
   "outputs": [
    {
     "name": "stdout",
     "output_type": "stream",
     "text": [
      "<class 'pandas.core.frame.DataFrame'>\n",
      "RangeIndex: 202607 entries, 0 to 202606\n",
      "Data columns (total 4 columns):\n",
      " #   Column     Non-Null Count   Dtype  \n",
      "---  ------     --------------   -----  \n",
      " 0   id         202607 non-null  object \n",
      " 1   call_date  202607 non-null  object \n",
      " 2   duration   202607 non-null  float64\n",
      " 3   user_id    202607 non-null  int64  \n",
      "dtypes: float64(1), int64(1), object(2)\n",
      "memory usage: 6.2+ MB\n"
     ]
    },
    {
     "data": {
      "text/plain": [
       "id           0\n",
       "call_date    0\n",
       "duration     0\n",
       "user_id      0\n",
       "dtype: int64"
      ]
     },
     "execution_count": 109,
     "metadata": {},
     "output_type": "execute_result"
    }
   ],
   "source": [
    "df_calls.info()\n",
    "df_calls.head()\n",
    "df_calls.isna().sum()"
   ]
  },
  {
   "cell_type": "code",
   "execution_count": 110,
   "metadata": {},
   "outputs": [
    {
     "name": "stdout",
     "output_type": "stream",
     "text": [
      "<class 'pandas.core.frame.DataFrame'>\n",
      "RangeIndex: 149396 entries, 0 to 149395\n",
      "Data columns (total 5 columns):\n",
      " #   Column        Non-Null Count   Dtype  \n",
      "---  ------        --------------   -----  \n",
      " 0   Unnamed: 0    149396 non-null  int64  \n",
      " 1   id            149396 non-null  object \n",
      " 2   mb_used       149396 non-null  float64\n",
      " 3   session_date  149396 non-null  object \n",
      " 4   user_id       149396 non-null  int64  \n",
      "dtypes: float64(1), int64(2), object(2)\n",
      "memory usage: 5.7+ MB\n"
     ]
    },
    {
     "data": {
      "text/plain": [
       "Unnamed: 0      0\n",
       "id              0\n",
       "mb_used         0\n",
       "session_date    0\n",
       "user_id         0\n",
       "dtype: int64"
      ]
     },
     "execution_count": 110,
     "metadata": {},
     "output_type": "execute_result"
    }
   ],
   "source": [
    "df_internet.info()\n",
    "df_internet.head()\n",
    "df_internet.isna().sum()"
   ]
  },
  {
   "cell_type": "code",
   "execution_count": 111,
   "metadata": {},
   "outputs": [
    {
     "name": "stdout",
     "output_type": "stream",
     "text": [
      "<class 'pandas.core.frame.DataFrame'>\n",
      "RangeIndex: 123036 entries, 0 to 123035\n",
      "Data columns (total 3 columns):\n",
      " #   Column        Non-Null Count   Dtype \n",
      "---  ------        --------------   ----- \n",
      " 0   id            123036 non-null  object\n",
      " 1   message_date  123036 non-null  object\n",
      " 2   user_id       123036 non-null  int64 \n",
      "dtypes: int64(1), object(2)\n",
      "memory usage: 2.8+ MB\n"
     ]
    },
    {
     "data": {
      "text/plain": [
       "id              0\n",
       "message_date    0\n",
       "user_id         0\n",
       "dtype: int64"
      ]
     },
     "execution_count": 111,
     "metadata": {},
     "output_type": "execute_result"
    }
   ],
   "source": [
    "df_messages.info()\n",
    "df_messages.head()\n",
    "df_messages.isna().sum()"
   ]
  },
  {
   "cell_type": "code",
   "execution_count": 112,
   "metadata": {},
   "outputs": [
    {
     "name": "stdout",
     "output_type": "stream",
     "text": [
      "<class 'pandas.core.frame.DataFrame'>\n",
      "RangeIndex: 2 entries, 0 to 1\n",
      "Data columns (total 8 columns):\n",
      " #   Column                 Non-Null Count  Dtype \n",
      "---  ------                 --------------  ----- \n",
      " 0   messages_included      2 non-null      int64 \n",
      " 1   mb_per_month_included  2 non-null      int64 \n",
      " 2   minutes_included       2 non-null      int64 \n",
      " 3   rub_monthly_fee        2 non-null      int64 \n",
      " 4   rub_per_gb             2 non-null      int64 \n",
      " 5   rub_per_message        2 non-null      int64 \n",
      " 6   rub_per_minute         2 non-null      int64 \n",
      " 7   tariff_name            2 non-null      object\n",
      "dtypes: int64(7), object(1)\n",
      "memory usage: 256.0+ bytes\n"
     ]
    },
    {
     "data": {
      "text/html": [
       "<div>\n",
       "<style scoped>\n",
       "    .dataframe tbody tr th:only-of-type {\n",
       "        vertical-align: middle;\n",
       "    }\n",
       "\n",
       "    .dataframe tbody tr th {\n",
       "        vertical-align: top;\n",
       "    }\n",
       "\n",
       "    .dataframe thead th {\n",
       "        text-align: right;\n",
       "    }\n",
       "</style>\n",
       "<table border=\"1\" class=\"dataframe\">\n",
       "  <thead>\n",
       "    <tr style=\"text-align: right;\">\n",
       "      <th></th>\n",
       "      <th>messages_included</th>\n",
       "      <th>mb_per_month_included</th>\n",
       "      <th>minutes_included</th>\n",
       "      <th>rub_monthly_fee</th>\n",
       "      <th>rub_per_gb</th>\n",
       "      <th>rub_per_message</th>\n",
       "      <th>rub_per_minute</th>\n",
       "      <th>tariff_name</th>\n",
       "    </tr>\n",
       "  </thead>\n",
       "  <tbody>\n",
       "    <tr>\n",
       "      <th>0</th>\n",
       "      <td>50</td>\n",
       "      <td>15360</td>\n",
       "      <td>500</td>\n",
       "      <td>550</td>\n",
       "      <td>200</td>\n",
       "      <td>3</td>\n",
       "      <td>3</td>\n",
       "      <td>smart</td>\n",
       "    </tr>\n",
       "    <tr>\n",
       "      <th>1</th>\n",
       "      <td>1000</td>\n",
       "      <td>30720</td>\n",
       "      <td>3000</td>\n",
       "      <td>1950</td>\n",
       "      <td>150</td>\n",
       "      <td>1</td>\n",
       "      <td>1</td>\n",
       "      <td>ultra</td>\n",
       "    </tr>\n",
       "  </tbody>\n",
       "</table>\n",
       "</div>"
      ],
      "text/plain": [
       "   messages_included  mb_per_month_included  minutes_included  \\\n",
       "0                 50                  15360               500   \n",
       "1               1000                  30720              3000   \n",
       "\n",
       "   rub_monthly_fee  rub_per_gb  rub_per_message  rub_per_minute tariff_name  \n",
       "0              550         200                3               3       smart  \n",
       "1             1950         150                1               1       ultra  "
      ]
     },
     "execution_count": 112,
     "metadata": {},
     "output_type": "execute_result"
    }
   ],
   "source": [
    "df_tariffs.info()\n",
    "df_tariffs.head()"
   ]
  },
  {
   "cell_type": "code",
   "execution_count": 113,
   "metadata": {},
   "outputs": [
    {
     "name": "stdout",
     "output_type": "stream",
     "text": [
      "<class 'pandas.core.frame.DataFrame'>\n",
      "RangeIndex: 500 entries, 0 to 499\n",
      "Data columns (total 8 columns):\n",
      " #   Column      Non-Null Count  Dtype \n",
      "---  ------      --------------  ----- \n",
      " 0   user_id     500 non-null    int64 \n",
      " 1   age         500 non-null    int64 \n",
      " 2   churn_date  38 non-null     object\n",
      " 3   city        500 non-null    object\n",
      " 4   first_name  500 non-null    object\n",
      " 5   last_name   500 non-null    object\n",
      " 6   reg_date    500 non-null    object\n",
      " 7   tariff      500 non-null    object\n",
      "dtypes: int64(2), object(6)\n",
      "memory usage: 31.4+ KB\n"
     ]
    },
    {
     "data": {
      "text/plain": [
       "user_id         0\n",
       "age             0\n",
       "churn_date    462\n",
       "city            0\n",
       "first_name      0\n",
       "last_name       0\n",
       "reg_date        0\n",
       "tariff          0\n",
       "dtype: int64"
      ]
     },
     "execution_count": 113,
     "metadata": {},
     "output_type": "execute_result"
    }
   ],
   "source": [
    "df_users.info()\n",
    "df_users.head()\n",
    "df_users.isna().sum()"
   ]
  },
  {
   "cell_type": "markdown",
   "metadata": {},
   "source": [
    "<div class=\"alert alert-block alert-warning\">\n",
    "<b>КОММЕНТАРИЙ РЕВЬЮВЕРА_V3:</b> \n",
    "\n",
    "⚠️ Давай с помощью __info() и head() изучим все таблицы, чтобы было понимание с чем мы работаем<br>\n"
   ]
  },
  {
   "cell_type": "markdown",
   "metadata": {},
   "source": [
    "<div class=\"alert alert-block alert-info\">\n",
    "<b>КОММЕНТАРИЙ СТУДЕНТА_3: Регулярно вызывают эти методы, но удаляю после использования, чтобы улучшить читаемость тетрадки. Добавил info head по всем таблицам.</b>\n",
    "</div>"
   ]
  },
  {
   "cell_type": "markdown",
   "metadata": {},
   "source": [
    "#### Изменение типов данных"
   ]
  },
  {
   "cell_type": "markdown",
   "metadata": {},
   "source": [
    "df_internet содержит странную колонку Unnamed: 0 ее можно удалить, также она в описани проекта не описана."
   ]
  },
  {
   "cell_type": "code",
   "execution_count": 114,
   "metadata": {},
   "outputs": [
    {
     "data": {
      "text/html": [
       "<div>\n",
       "<style scoped>\n",
       "    .dataframe tbody tr th:only-of-type {\n",
       "        vertical-align: middle;\n",
       "    }\n",
       "\n",
       "    .dataframe tbody tr th {\n",
       "        vertical-align: top;\n",
       "    }\n",
       "\n",
       "    .dataframe thead th {\n",
       "        text-align: right;\n",
       "    }\n",
       "</style>\n",
       "<table border=\"1\" class=\"dataframe\">\n",
       "  <thead>\n",
       "    <tr style=\"text-align: right;\">\n",
       "      <th></th>\n",
       "      <th>id</th>\n",
       "      <th>mb_used</th>\n",
       "      <th>session_date</th>\n",
       "      <th>user_id</th>\n",
       "    </tr>\n",
       "  </thead>\n",
       "  <tbody>\n",
       "    <tr>\n",
       "      <th>0</th>\n",
       "      <td>1000_0</td>\n",
       "      <td>112.95</td>\n",
       "      <td>2018-11-25</td>\n",
       "      <td>1000</td>\n",
       "    </tr>\n",
       "    <tr>\n",
       "      <th>1</th>\n",
       "      <td>1000_1</td>\n",
       "      <td>1052.81</td>\n",
       "      <td>2018-09-07</td>\n",
       "      <td>1000</td>\n",
       "    </tr>\n",
       "    <tr>\n",
       "      <th>2</th>\n",
       "      <td>1000_2</td>\n",
       "      <td>1197.26</td>\n",
       "      <td>2018-06-25</td>\n",
       "      <td>1000</td>\n",
       "    </tr>\n",
       "    <tr>\n",
       "      <th>3</th>\n",
       "      <td>1000_3</td>\n",
       "      <td>550.27</td>\n",
       "      <td>2018-08-22</td>\n",
       "      <td>1000</td>\n",
       "    </tr>\n",
       "    <tr>\n",
       "      <th>4</th>\n",
       "      <td>1000_4</td>\n",
       "      <td>302.56</td>\n",
       "      <td>2018-09-24</td>\n",
       "      <td>1000</td>\n",
       "    </tr>\n",
       "    <tr>\n",
       "      <th>...</th>\n",
       "      <td>...</td>\n",
       "      <td>...</td>\n",
       "      <td>...</td>\n",
       "      <td>...</td>\n",
       "    </tr>\n",
       "    <tr>\n",
       "      <th>149391</th>\n",
       "      <td>1499_152</td>\n",
       "      <td>318.90</td>\n",
       "      <td>2018-10-03</td>\n",
       "      <td>1499</td>\n",
       "    </tr>\n",
       "    <tr>\n",
       "      <th>149392</th>\n",
       "      <td>1499_153</td>\n",
       "      <td>490.13</td>\n",
       "      <td>2018-12-14</td>\n",
       "      <td>1499</td>\n",
       "    </tr>\n",
       "    <tr>\n",
       "      <th>149393</th>\n",
       "      <td>1499_154</td>\n",
       "      <td>0.00</td>\n",
       "      <td>2018-10-27</td>\n",
       "      <td>1499</td>\n",
       "    </tr>\n",
       "    <tr>\n",
       "      <th>149394</th>\n",
       "      <td>1499_155</td>\n",
       "      <td>1246.32</td>\n",
       "      <td>2018-11-26</td>\n",
       "      <td>1499</td>\n",
       "    </tr>\n",
       "    <tr>\n",
       "      <th>149395</th>\n",
       "      <td>1499_156</td>\n",
       "      <td>544.37</td>\n",
       "      <td>2018-10-26</td>\n",
       "      <td>1499</td>\n",
       "    </tr>\n",
       "  </tbody>\n",
       "</table>\n",
       "<p>149396 rows × 4 columns</p>\n",
       "</div>"
      ],
      "text/plain": [
       "              id  mb_used session_date  user_id\n",
       "0         1000_0   112.95   2018-11-25     1000\n",
       "1         1000_1  1052.81   2018-09-07     1000\n",
       "2         1000_2  1197.26   2018-06-25     1000\n",
       "3         1000_3   550.27   2018-08-22     1000\n",
       "4         1000_4   302.56   2018-09-24     1000\n",
       "...          ...      ...          ...      ...\n",
       "149391  1499_152   318.90   2018-10-03     1499\n",
       "149392  1499_153   490.13   2018-12-14     1499\n",
       "149393  1499_154     0.00   2018-10-27     1499\n",
       "149394  1499_155  1246.32   2018-11-26     1499\n",
       "149395  1499_156   544.37   2018-10-26     1499\n",
       "\n",
       "[149396 rows x 4 columns]"
      ]
     },
     "execution_count": 114,
     "metadata": {},
     "output_type": "execute_result"
    }
   ],
   "source": [
    "df_internet.drop(columns='Unnamed: 0')"
   ]
  },
  {
   "cell_type": "markdown",
   "metadata": {},
   "source": [
    "<div class=\"alert alert-block alert-success\">\n",
    "<b>КОММЕНТАРИЙ РЕВЬЮВЕРА_V3:</b> \n",
    "    \n",
    "Все верно значение 'Unnamed: 0' нам не нужно))\n",
    "\n",
    "</div>"
   ]
  },
  {
   "cell_type": "code",
   "execution_count": 115,
   "metadata": {},
   "outputs": [
    {
     "data": {
      "text/html": [
       "<div>\n",
       "<style scoped>\n",
       "    .dataframe tbody tr th:only-of-type {\n",
       "        vertical-align: middle;\n",
       "    }\n",
       "\n",
       "    .dataframe tbody tr th {\n",
       "        vertical-align: top;\n",
       "    }\n",
       "\n",
       "    .dataframe thead th {\n",
       "        text-align: right;\n",
       "    }\n",
       "</style>\n",
       "<table border=\"1\" class=\"dataframe\">\n",
       "  <thead>\n",
       "    <tr style=\"text-align: right;\">\n",
       "      <th></th>\n",
       "      <th>Unnamed: 0</th>\n",
       "      <th>id</th>\n",
       "      <th>mb_used</th>\n",
       "      <th>session_date</th>\n",
       "      <th>user_id</th>\n",
       "    </tr>\n",
       "  </thead>\n",
       "  <tbody>\n",
       "    <tr>\n",
       "      <th>0</th>\n",
       "      <td>0</td>\n",
       "      <td>1000_0</td>\n",
       "      <td>112.95</td>\n",
       "      <td>2018-11-25</td>\n",
       "      <td>1000</td>\n",
       "    </tr>\n",
       "    <tr>\n",
       "      <th>1</th>\n",
       "      <td>1</td>\n",
       "      <td>1000_1</td>\n",
       "      <td>1052.81</td>\n",
       "      <td>2018-09-07</td>\n",
       "      <td>1000</td>\n",
       "    </tr>\n",
       "    <tr>\n",
       "      <th>2</th>\n",
       "      <td>2</td>\n",
       "      <td>1000_2</td>\n",
       "      <td>1197.26</td>\n",
       "      <td>2018-06-25</td>\n",
       "      <td>1000</td>\n",
       "    </tr>\n",
       "    <tr>\n",
       "      <th>3</th>\n",
       "      <td>3</td>\n",
       "      <td>1000_3</td>\n",
       "      <td>550.27</td>\n",
       "      <td>2018-08-22</td>\n",
       "      <td>1000</td>\n",
       "    </tr>\n",
       "    <tr>\n",
       "      <th>4</th>\n",
       "      <td>4</td>\n",
       "      <td>1000_4</td>\n",
       "      <td>302.56</td>\n",
       "      <td>2018-09-24</td>\n",
       "      <td>1000</td>\n",
       "    </tr>\n",
       "    <tr>\n",
       "      <th>...</th>\n",
       "      <td>...</td>\n",
       "      <td>...</td>\n",
       "      <td>...</td>\n",
       "      <td>...</td>\n",
       "      <td>...</td>\n",
       "    </tr>\n",
       "    <tr>\n",
       "      <th>149391</th>\n",
       "      <td>149391</td>\n",
       "      <td>1499_152</td>\n",
       "      <td>318.90</td>\n",
       "      <td>2018-10-03</td>\n",
       "      <td>1499</td>\n",
       "    </tr>\n",
       "    <tr>\n",
       "      <th>149392</th>\n",
       "      <td>149392</td>\n",
       "      <td>1499_153</td>\n",
       "      <td>490.13</td>\n",
       "      <td>2018-12-14</td>\n",
       "      <td>1499</td>\n",
       "    </tr>\n",
       "    <tr>\n",
       "      <th>149393</th>\n",
       "      <td>149393</td>\n",
       "      <td>1499_154</td>\n",
       "      <td>0.00</td>\n",
       "      <td>2018-10-27</td>\n",
       "      <td>1499</td>\n",
       "    </tr>\n",
       "    <tr>\n",
       "      <th>149394</th>\n",
       "      <td>149394</td>\n",
       "      <td>1499_155</td>\n",
       "      <td>1246.32</td>\n",
       "      <td>2018-11-26</td>\n",
       "      <td>1499</td>\n",
       "    </tr>\n",
       "    <tr>\n",
       "      <th>149395</th>\n",
       "      <td>149395</td>\n",
       "      <td>1499_156</td>\n",
       "      <td>544.37</td>\n",
       "      <td>2018-10-26</td>\n",
       "      <td>1499</td>\n",
       "    </tr>\n",
       "  </tbody>\n",
       "</table>\n",
       "<p>149396 rows × 5 columns</p>\n",
       "</div>"
      ],
      "text/plain": [
       "        Unnamed: 0        id  mb_used session_date  user_id\n",
       "0                0    1000_0   112.95   2018-11-25     1000\n",
       "1                1    1000_1  1052.81   2018-09-07     1000\n",
       "2                2    1000_2  1197.26   2018-06-25     1000\n",
       "3                3    1000_3   550.27   2018-08-22     1000\n",
       "4                4    1000_4   302.56   2018-09-24     1000\n",
       "...            ...       ...      ...          ...      ...\n",
       "149391      149391  1499_152   318.90   2018-10-03     1499\n",
       "149392      149392  1499_153   490.13   2018-12-14     1499\n",
       "149393      149393  1499_154     0.00   2018-10-27     1499\n",
       "149394      149394  1499_155  1246.32   2018-11-26     1499\n",
       "149395      149395  1499_156   544.37   2018-10-26     1499\n",
       "\n",
       "[149396 rows x 5 columns]"
      ]
     },
     "execution_count": 115,
     "metadata": {},
     "output_type": "execute_result"
    }
   ],
   "source": [
    "df_internet"
   ]
  },
  {
   "cell_type": "code",
   "execution_count": 116,
   "metadata": {},
   "outputs": [],
   "source": [
    "df_calls['duration'] = df_calls['duration'].apply(np.ceil)\n",
    "df_calls['duration'].where(df_calls['duration'] > 0, 1, inplace=True)\n",
    "\n",
    "#df_internet['mb_used'] = df_internet['mb_used'].apply(np.ceil)\n",
    "#df_internet['mb_used'].where(df_internet['mb_used'] > 0, 1, inplace=True)\n",
    "\n",
    "#df_internet['mb_used'] = df_internet['mb_used'].astype('int64')\n",
    "df_calls['duration'] = df_calls['duration'].astype('int64')"
   ]
  },
  {
   "cell_type": "markdown",
   "metadata": {},
   "source": [
    "<div class=\"alert alert-danger\">\n",
    "<b>КОММЕНТАРИЙ РЕВЬЮВЕРА_V5:</b>  \n",
    "\n",
    "❌ Округление тоже давай уберем, данный шаг влияет на итоговую величину объема выручки)) Я его если что закомментировал, все комментарии можешь смело удалять))\n"
   ]
  },
  {
   "cell_type": "markdown",
   "metadata": {},
   "source": [
    "<div class=\"alert alert-danger\">\n",
    "<b>КОММЕНТАРИЙ РЕВЬЮВЕРА_V4:</b>  \n",
    "    \n",
    "Давай пойдем по порядку :)\n",
    "    \n",
    "Во-первых, решение округлять на этом этапе звонки — верное. У нас округляется каждый отдельный звонок в большую сторону.\n",
    "\n",
    "    \n",
    "Во-вторых, np.ceil отлично с этим справляется в твоем варианте, но, как и все встроенные библиотечные методы, он может это проделать без использования apply вот в таком формате ```np.ceil(df['col'])```.\n",
    "    \n",
    "    \n",
    "В-третьих (что является самым важным поводом для красного цвета комментария), решение округлять мегабайты до подведения итогов месяца принято поспешно. На этом этапе мы не можем округлять мегабайты в большую сторону. Ведь получается, что здесь мы приводим до целых мегабайт каждую сессию, а потом в конце месяца еще раз производим округление до целых гигабайт. Пользователь, пусть и немного, но все же обманут 😿 Ведь наш \"Мегалайн\", как сказано в задании, \"для веб-трафика отдельные сессии не считает\", но \"общую сумму за месяц округляет в бо́льшую сторону\"\n",
    "</div>"
   ]
  },
  {
   "cell_type": "markdown",
   "metadata": {},
   "source": [
    "<div class=\"alert alert-block alert-info\">\n",
    "<b>КОММЕНТАРИЙ СТУДЕНТА_3: Согласен. Удалил.</b>\n",
    "</div>"
   ]
  },
  {
   "cell_type": "markdown",
   "metadata": {},
   "source": [
    "Выше учли условие, что время звонка округляется до минуты и трафик до Гб. И изменили значение"
   ]
  },
  {
   "cell_type": "markdown",
   "metadata": {},
   "source": [
    "#### Поиск ошибок"
   ]
  },
  {
   "cell_type": "code",
   "execution_count": 117,
   "metadata": {},
   "outputs": [
    {
     "data": {
      "text/plain": [
       "(500, 8)"
      ]
     },
     "execution_count": 117,
     "metadata": {},
     "output_type": "execute_result"
    }
   ],
   "source": [
    "df_users.shape"
   ]
  },
  {
   "cell_type": "code",
   "execution_count": 118,
   "metadata": {},
   "outputs": [
    {
     "data": {
      "text/plain": [
       "(462, 8)"
      ]
     },
     "execution_count": 118,
     "metadata": {},
     "output_type": "execute_result"
    }
   ],
   "source": [
    "df_users[df_users['churn_date'].isna()].shape"
   ]
  },
  {
   "cell_type": "code",
   "execution_count": 119,
   "metadata": {},
   "outputs": [
    {
     "data": {
      "text/html": [
       "<div>\n",
       "<style scoped>\n",
       "    .dataframe tbody tr th:only-of-type {\n",
       "        vertical-align: middle;\n",
       "    }\n",
       "\n",
       "    .dataframe tbody tr th {\n",
       "        vertical-align: top;\n",
       "    }\n",
       "\n",
       "    .dataframe thead th {\n",
       "        text-align: right;\n",
       "    }\n",
       "</style>\n",
       "<table border=\"1\" class=\"dataframe\">\n",
       "  <thead>\n",
       "    <tr style=\"text-align: right;\">\n",
       "      <th></th>\n",
       "      <th>user_id</th>\n",
       "      <th>age</th>\n",
       "      <th>churn_date</th>\n",
       "      <th>city</th>\n",
       "      <th>first_name</th>\n",
       "      <th>last_name</th>\n",
       "      <th>reg_date</th>\n",
       "      <th>tariff</th>\n",
       "    </tr>\n",
       "  </thead>\n",
       "  <tbody>\n",
       "    <tr>\n",
       "      <th>19</th>\n",
       "      <td>1019</td>\n",
       "      <td>63</td>\n",
       "      <td>2018-10-05</td>\n",
       "      <td>Томск</td>\n",
       "      <td>Игнатий</td>\n",
       "      <td>Круглов</td>\n",
       "      <td>2018-05-16</td>\n",
       "      <td>ultra</td>\n",
       "    </tr>\n",
       "    <tr>\n",
       "      <th>20</th>\n",
       "      <td>1020</td>\n",
       "      <td>59</td>\n",
       "      <td>2018-12-18</td>\n",
       "      <td>Чита</td>\n",
       "      <td>Тала</td>\n",
       "      <td>Костина</td>\n",
       "      <td>2018-10-22</td>\n",
       "      <td>smart</td>\n",
       "    </tr>\n",
       "    <tr>\n",
       "      <th>34</th>\n",
       "      <td>1034</td>\n",
       "      <td>66</td>\n",
       "      <td>2018-11-21</td>\n",
       "      <td>Вологда</td>\n",
       "      <td>Святослав</td>\n",
       "      <td>Бондарев</td>\n",
       "      <td>2018-08-26</td>\n",
       "      <td>smart</td>\n",
       "    </tr>\n",
       "    <tr>\n",
       "      <th>50</th>\n",
       "      <td>1050</td>\n",
       "      <td>44</td>\n",
       "      <td>2018-10-03</td>\n",
       "      <td>Тюмень</td>\n",
       "      <td>Рузана</td>\n",
       "      <td>Аничкина</td>\n",
       "      <td>2018-06-16</td>\n",
       "      <td>ultra</td>\n",
       "    </tr>\n",
       "    <tr>\n",
       "      <th>51</th>\n",
       "      <td>1051</td>\n",
       "      <td>37</td>\n",
       "      <td>2018-10-14</td>\n",
       "      <td>Москва</td>\n",
       "      <td>Кристина</td>\n",
       "      <td>Сомова</td>\n",
       "      <td>2018-05-28</td>\n",
       "      <td>smart</td>\n",
       "    </tr>\n",
       "  </tbody>\n",
       "</table>\n",
       "</div>"
      ],
      "text/plain": [
       "    user_id  age  churn_date     city first_name last_name    reg_date tariff\n",
       "19     1019   63  2018-10-05    Томск    Игнатий   Круглов  2018-05-16  ultra\n",
       "20     1020   59  2018-12-18     Чита       Тала   Костина  2018-10-22  smart\n",
       "34     1034   66  2018-11-21  Вологда  Святослав  Бондарев  2018-08-26  smart\n",
       "50     1050   44  2018-10-03   Тюмень     Рузана  Аничкина  2018-06-16  ultra\n",
       "51     1051   37  2018-10-14   Москва   Кристина    Сомова  2018-05-28  smart"
      ]
     },
     "execution_count": 119,
     "metadata": {},
     "output_type": "execute_result"
    }
   ],
   "source": [
    "df_users[df_users['churn_date'].notna()].head()"
   ]
  },
  {
   "cell_type": "markdown",
   "metadata": {},
   "source": [
    "Есть пропуски в колонке churn_date, но это вяглядит нормальным, если предположить, что клиент активен и не отключился"
   ]
  },
  {
   "cell_type": "markdown",
   "metadata": {},
   "source": [
    "<div class=\"alert alert-block alert-success\">\n",
    "<b>КОММЕНТАРИЙ РЕВЬЮВЕРА_V3:</b> \n",
    "    \n",
    "`churn_rate` не стоит удалять верно))\n",
    "\n",
    "</div>"
   ]
  },
  {
   "cell_type": "markdown",
   "metadata": {},
   "source": [
    "#### для каждого пользователя количество сделанных звонков и израсходованных минут разговора по месяцам;"
   ]
  },
  {
   "cell_type": "markdown",
   "metadata": {},
   "source": [
    "Реализовано в П.7.1 и 7.2"
   ]
  },
  {
   "cell_type": "code",
   "execution_count": 120,
   "metadata": {},
   "outputs": [],
   "source": [
    "#df_calls.head(3)"
   ]
  },
  {
   "cell_type": "code",
   "execution_count": 121,
   "metadata": {},
   "outputs": [],
   "source": [
    "df_calls['month'] = pd.to_datetime(df_calls['call_date']).dt.month"
   ]
  },
  {
   "cell_type": "code",
   "execution_count": 122,
   "metadata": {},
   "outputs": [],
   "source": [
    "#df_calls.pivot_table(index='user_id', columns='month', values='duration', aggfunc = ('count', 'sum')).head()"
   ]
  },
  {
   "cell_type": "markdown",
   "metadata": {},
   "source": [
    "<div class=\"alert alert-block alert-warning\">\n",
    "<b>КОММЕНТАРИЙ РЕВЬЮВЕРА_V3:</b> \n",
    "\n",
    "⚠️ Зачем нам делать лишние таблицы? Мы же потом тоже делаем их сводными)<br>\n"
   ]
  },
  {
   "cell_type": "markdown",
   "metadata": {},
   "source": [
    "<div class=\"alert alert-block alert-info\">\n",
    "<b>КОММЕНТАРИЙ СТУДЕНТА_3: Тут сделал задание \"пользователь-количество минут звонков/количество звонков. Согласен эта информация есть ниже. Удалить? </b>\n",
    "</div>"
   ]
  },
  {
   "cell_type": "markdown",
   "metadata": {},
   "source": [
    "<div class=\"alert alert-block alert-warning\">\n",
    "<b>КОММЕНТАРИЙ РЕВЬЮВЕРА_V4:</b> \n",
    "\n",
    "⚠️ По такой таблице тяжело что-то анализировать, поэтому можно смело удалять) <br>"
   ]
  },
  {
   "cell_type": "markdown",
   "metadata": {},
   "source": [
    "<div class=\"alert alert-block alert-info\">\n",
    "<b>КОММЕНТАРИЙ СТУДЕНТА_4: Закоментил, надеюсь это приемлимо</b>\n",
    "</div>"
   ]
  },
  {
   "cell_type": "markdown",
   "metadata": {},
   "source": [
    "#### для каждого пользователя количество отправленных сообщений по месяцам;"
   ]
  },
  {
   "cell_type": "code",
   "execution_count": 123,
   "metadata": {},
   "outputs": [
    {
     "data": {
      "text/html": [
       "<div>\n",
       "<style scoped>\n",
       "    .dataframe tbody tr th:only-of-type {\n",
       "        vertical-align: middle;\n",
       "    }\n",
       "\n",
       "    .dataframe tbody tr th {\n",
       "        vertical-align: top;\n",
       "    }\n",
       "\n",
       "    .dataframe thead th {\n",
       "        text-align: right;\n",
       "    }\n",
       "</style>\n",
       "<table border=\"1\" class=\"dataframe\">\n",
       "  <thead>\n",
       "    <tr style=\"text-align: right;\">\n",
       "      <th></th>\n",
       "      <th>id</th>\n",
       "      <th>message_date</th>\n",
       "      <th>user_id</th>\n",
       "    </tr>\n",
       "  </thead>\n",
       "  <tbody>\n",
       "    <tr>\n",
       "      <th>0</th>\n",
       "      <td>1000_0</td>\n",
       "      <td>2018-06-27</td>\n",
       "      <td>1000</td>\n",
       "    </tr>\n",
       "    <tr>\n",
       "      <th>1</th>\n",
       "      <td>1000_1</td>\n",
       "      <td>2018-10-08</td>\n",
       "      <td>1000</td>\n",
       "    </tr>\n",
       "    <tr>\n",
       "      <th>2</th>\n",
       "      <td>1000_2</td>\n",
       "      <td>2018-08-04</td>\n",
       "      <td>1000</td>\n",
       "    </tr>\n",
       "    <tr>\n",
       "      <th>3</th>\n",
       "      <td>1000_3</td>\n",
       "      <td>2018-06-16</td>\n",
       "      <td>1000</td>\n",
       "    </tr>\n",
       "    <tr>\n",
       "      <th>4</th>\n",
       "      <td>1000_4</td>\n",
       "      <td>2018-12-05</td>\n",
       "      <td>1000</td>\n",
       "    </tr>\n",
       "  </tbody>\n",
       "</table>\n",
       "</div>"
      ],
      "text/plain": [
       "       id message_date  user_id\n",
       "0  1000_0   2018-06-27     1000\n",
       "1  1000_1   2018-10-08     1000\n",
       "2  1000_2   2018-08-04     1000\n",
       "3  1000_3   2018-06-16     1000\n",
       "4  1000_4   2018-12-05     1000"
      ]
     },
     "execution_count": 123,
     "metadata": {},
     "output_type": "execute_result"
    }
   ],
   "source": [
    "df_messages.head()"
   ]
  },
  {
   "cell_type": "code",
   "execution_count": 124,
   "metadata": {},
   "outputs": [],
   "source": [
    "df_messages['month'] = pd.to_datetime(df_messages['message_date']).dt.month"
   ]
  },
  {
   "cell_type": "code",
   "execution_count": 125,
   "metadata": {},
   "outputs": [],
   "source": [
    "#df_messages.pivot_table(index='user_id', columns='month', values='id', aggfunc = ('count')).head()"
   ]
  },
  {
   "cell_type": "markdown",
   "metadata": {},
   "source": [
    "<div class=\"alert alert-block alert-warning\">\n",
    "<b>КОММЕНТАРИЙ РЕВЬЮВЕРА_V5:</b> \n",
    "\n",
    "⚠️ Тоже смело удаляем подобные таблицы<br>"
   ]
  },
  {
   "cell_type": "markdown",
   "metadata": {},
   "source": [
    "<div class=\"alert alert-block alert-info\">\n",
    "<b>КОММЕНТАРИЙ СТУДЕНТА_5: Закоментил</b>\n",
    "</div>"
   ]
  },
  {
   "cell_type": "markdown",
   "metadata": {},
   "source": [
    "#### для каждого клиента объем израсходованного интернет-трафика по месяцам;"
   ]
  },
  {
   "cell_type": "code",
   "execution_count": 126,
   "metadata": {},
   "outputs": [
    {
     "data": {
      "text/html": [
       "<div>\n",
       "<style scoped>\n",
       "    .dataframe tbody tr th:only-of-type {\n",
       "        vertical-align: middle;\n",
       "    }\n",
       "\n",
       "    .dataframe tbody tr th {\n",
       "        vertical-align: top;\n",
       "    }\n",
       "\n",
       "    .dataframe thead th {\n",
       "        text-align: right;\n",
       "    }\n",
       "</style>\n",
       "<table border=\"1\" class=\"dataframe\">\n",
       "  <thead>\n",
       "    <tr style=\"text-align: right;\">\n",
       "      <th></th>\n",
       "      <th>Unnamed: 0</th>\n",
       "      <th>id</th>\n",
       "      <th>mb_used</th>\n",
       "      <th>session_date</th>\n",
       "      <th>user_id</th>\n",
       "    </tr>\n",
       "  </thead>\n",
       "  <tbody>\n",
       "    <tr>\n",
       "      <th>0</th>\n",
       "      <td>0</td>\n",
       "      <td>1000_0</td>\n",
       "      <td>112.95</td>\n",
       "      <td>2018-11-25</td>\n",
       "      <td>1000</td>\n",
       "    </tr>\n",
       "    <tr>\n",
       "      <th>1</th>\n",
       "      <td>1</td>\n",
       "      <td>1000_1</td>\n",
       "      <td>1052.81</td>\n",
       "      <td>2018-09-07</td>\n",
       "      <td>1000</td>\n",
       "    </tr>\n",
       "    <tr>\n",
       "      <th>2</th>\n",
       "      <td>2</td>\n",
       "      <td>1000_2</td>\n",
       "      <td>1197.26</td>\n",
       "      <td>2018-06-25</td>\n",
       "      <td>1000</td>\n",
       "    </tr>\n",
       "    <tr>\n",
       "      <th>3</th>\n",
       "      <td>3</td>\n",
       "      <td>1000_3</td>\n",
       "      <td>550.27</td>\n",
       "      <td>2018-08-22</td>\n",
       "      <td>1000</td>\n",
       "    </tr>\n",
       "    <tr>\n",
       "      <th>4</th>\n",
       "      <td>4</td>\n",
       "      <td>1000_4</td>\n",
       "      <td>302.56</td>\n",
       "      <td>2018-09-24</td>\n",
       "      <td>1000</td>\n",
       "    </tr>\n",
       "  </tbody>\n",
       "</table>\n",
       "</div>"
      ],
      "text/plain": [
       "   Unnamed: 0      id  mb_used session_date  user_id\n",
       "0           0  1000_0   112.95   2018-11-25     1000\n",
       "1           1  1000_1  1052.81   2018-09-07     1000\n",
       "2           2  1000_2  1197.26   2018-06-25     1000\n",
       "3           3  1000_3   550.27   2018-08-22     1000\n",
       "4           4  1000_4   302.56   2018-09-24     1000"
      ]
     },
     "execution_count": 126,
     "metadata": {},
     "output_type": "execute_result"
    }
   ],
   "source": [
    "df_internet.head()"
   ]
  },
  {
   "cell_type": "code",
   "execution_count": 127,
   "metadata": {},
   "outputs": [],
   "source": [
    "df_internet['month'] = pd.to_datetime(df_internet['session_date']).dt.month"
   ]
  },
  {
   "cell_type": "code",
   "execution_count": 128,
   "metadata": {},
   "outputs": [],
   "source": [
    "#df_internet.pivot_table(index='user_id', columns='month', values='mb_used', aggfunc = ('sum')).head()"
   ]
  },
  {
   "cell_type": "markdown",
   "metadata": {},
   "source": [
    "<div class=\"alert alert-block alert-warning\">\n",
    "<b>КОММЕНТАРИЙ РЕВЬЮВЕРА_V5:</b> \n",
    "\n",
    "⚠️ Тоже смело удаляем подобные таблицы<br>"
   ]
  },
  {
   "cell_type": "markdown",
   "metadata": {},
   "source": [
    "<div class=\"alert alert-block alert-info\">\n",
    "<b>КОММЕНТАРИЙ СТУДЕНТА_5: Закоментил. Но подобные таблицы отвечали на вопросы ТЗ</b>\n",
    "</div>"
   ]
  },
  {
   "cell_type": "markdown",
   "metadata": {},
   "source": [
    "\n",
    "\n",
    "#### помесячную выручку с каждого пользователя (вычтите бесплатный лимит из суммарного количества звонков, сообщений и интернет-трафика; остаток умножьте на значение из тарифного плана; прибавьте абонентскую плату, соответствующую тарифному плану)."
   ]
  },
  {
   "cell_type": "markdown",
   "metadata": {},
   "source": [
    "Выполнено в п.7 (датафрейм df_total)"
   ]
  },
  {
   "cell_type": "markdown",
   "metadata": {},
   "source": [
    "<div class=\"alert alert-block alert-danger\">\n",
    "<b>Комментарий ревьюера_V3:</b> \n",
    "\n",
    "❌ Не забываем, что нас просят привести данные к нужным типам))\n",
    "</div>"
   ]
  },
  {
   "cell_type": "markdown",
   "metadata": {},
   "source": [
    "<div class=\"alert alert-block alert-info\">\n",
    "<b>КОММЕНТАРИЙ СТУДЕНТА_3: Учел в п.1.</b>\n",
    "</div>"
   ]
  },
  {
   "cell_type": "markdown",
   "metadata": {},
   "source": [
    "# Подготовка данных"
   ]
  },
  {
   "cell_type": "markdown",
   "metadata": {},
   "source": [
    "<div class=\"alert alert-block alert-warning\">\n",
    "<b>КОММЕНТАРИЙ РЕВЬЮВЕРА_V5:</b> \n",
    "    \n",
    "⚠️ В данном случае у нас шаг называется __Подготовка данных__\n",
    "\n",
    "</div>"
   ]
  },
  {
   "cell_type": "markdown",
   "metadata": {},
   "source": [
    "<div class=\"alert alert-block alert-info\">\n",
    "<b>КОММЕНТАРИЙ СТУДЕНТА_5: Переименовал</b>\n",
    "</div>"
   ]
  },
  {
   "cell_type": "markdown",
   "metadata": {},
   "source": [
    "#### Опишите поведение клиентов оператора, исходя из выборки. Сколько минут разговора, сколько сообщений и какой объём интернет-трафика требуется пользователям каждого тарифа в месяц? Посчитайте среднее количество, дисперсию и стандартное отклонение. Постройте гистограммы. Опишите распределения."
   ]
  },
  {
   "cell_type": "markdown",
   "metadata": {},
   "source": [
    "##### Анализ длительности звонков"
   ]
  },
  {
   "cell_type": "markdown",
   "metadata": {},
   "source": [
    "клиент/минуты_разговора/количество сообщений/обьем трафика/тариф"
   ]
  },
  {
   "cell_type": "code",
   "execution_count": 129,
   "metadata": {},
   "outputs": [
    {
     "data": {
      "text/html": [
       "<div>\n",
       "<style scoped>\n",
       "    .dataframe tbody tr th:only-of-type {\n",
       "        vertical-align: middle;\n",
       "    }\n",
       "\n",
       "    .dataframe tbody tr th {\n",
       "        vertical-align: top;\n",
       "    }\n",
       "\n",
       "    .dataframe thead th {\n",
       "        text-align: right;\n",
       "    }\n",
       "</style>\n",
       "<table border=\"1\" class=\"dataframe\">\n",
       "  <thead>\n",
       "    <tr style=\"text-align: right;\">\n",
       "      <th></th>\n",
       "      <th>id</th>\n",
       "      <th>message_date</th>\n",
       "      <th>user_id</th>\n",
       "      <th>month</th>\n",
       "    </tr>\n",
       "  </thead>\n",
       "  <tbody>\n",
       "    <tr>\n",
       "      <th>0</th>\n",
       "      <td>1000_0</td>\n",
       "      <td>2018-06-27</td>\n",
       "      <td>1000</td>\n",
       "      <td>6</td>\n",
       "    </tr>\n",
       "    <tr>\n",
       "      <th>1</th>\n",
       "      <td>1000_1</td>\n",
       "      <td>2018-10-08</td>\n",
       "      <td>1000</td>\n",
       "      <td>10</td>\n",
       "    </tr>\n",
       "    <tr>\n",
       "      <th>2</th>\n",
       "      <td>1000_2</td>\n",
       "      <td>2018-08-04</td>\n",
       "      <td>1000</td>\n",
       "      <td>8</td>\n",
       "    </tr>\n",
       "    <tr>\n",
       "      <th>3</th>\n",
       "      <td>1000_3</td>\n",
       "      <td>2018-06-16</td>\n",
       "      <td>1000</td>\n",
       "      <td>6</td>\n",
       "    </tr>\n",
       "    <tr>\n",
       "      <th>4</th>\n",
       "      <td>1000_4</td>\n",
       "      <td>2018-12-05</td>\n",
       "      <td>1000</td>\n",
       "      <td>12</td>\n",
       "    </tr>\n",
       "  </tbody>\n",
       "</table>\n",
       "</div>"
      ],
      "text/plain": [
       "       id message_date  user_id  month\n",
       "0  1000_0   2018-06-27     1000      6\n",
       "1  1000_1   2018-10-08     1000     10\n",
       "2  1000_2   2018-08-04     1000      8\n",
       "3  1000_3   2018-06-16     1000      6\n",
       "4  1000_4   2018-12-05     1000     12"
      ]
     },
     "execution_count": 129,
     "metadata": {},
     "output_type": "execute_result"
    }
   ],
   "source": [
    "df_internet.head()\n",
    "df_calls\n",
    "df_tariffs\n",
    "df_users.head()\n",
    "df_messages.head()"
   ]
  },
  {
   "cell_type": "code",
   "execution_count": 130,
   "metadata": {},
   "outputs": [
    {
     "data": {
      "text/html": [
       "<div>\n",
       "<style scoped>\n",
       "    .dataframe tbody tr th:only-of-type {\n",
       "        vertical-align: middle;\n",
       "    }\n",
       "\n",
       "    .dataframe tbody tr th {\n",
       "        vertical-align: top;\n",
       "    }\n",
       "\n",
       "    .dataframe thead tr th {\n",
       "        text-align: left;\n",
       "    }\n",
       "\n",
       "    .dataframe thead tr:last-of-type th {\n",
       "        text-align: right;\n",
       "    }\n",
       "</style>\n",
       "<table border=\"1\" class=\"dataframe\">\n",
       "  <thead>\n",
       "    <tr>\n",
       "      <th></th>\n",
       "      <th></th>\n",
       "      <th>count</th>\n",
       "      <th>sum</th>\n",
       "    </tr>\n",
       "    <tr>\n",
       "      <th></th>\n",
       "      <th></th>\n",
       "      <th>duration</th>\n",
       "      <th>duration</th>\n",
       "    </tr>\n",
       "    <tr>\n",
       "      <th>user_id</th>\n",
       "      <th>month</th>\n",
       "      <th></th>\n",
       "      <th></th>\n",
       "    </tr>\n",
       "  </thead>\n",
       "  <tbody>\n",
       "    <tr>\n",
       "      <th rowspan=\"5\" valign=\"top\">1000</th>\n",
       "      <th>5</th>\n",
       "      <td>22</td>\n",
       "      <td>164</td>\n",
       "    </tr>\n",
       "    <tr>\n",
       "      <th>6</th>\n",
       "      <td>43</td>\n",
       "      <td>187</td>\n",
       "    </tr>\n",
       "    <tr>\n",
       "      <th>7</th>\n",
       "      <td>47</td>\n",
       "      <td>346</td>\n",
       "    </tr>\n",
       "    <tr>\n",
       "      <th>8</th>\n",
       "      <td>52</td>\n",
       "      <td>418</td>\n",
       "    </tr>\n",
       "    <tr>\n",
       "      <th>9</th>\n",
       "      <td>58</td>\n",
       "      <td>478</td>\n",
       "    </tr>\n",
       "    <tr>\n",
       "      <th>...</th>\n",
       "      <th>...</th>\n",
       "      <td>...</td>\n",
       "      <td>...</td>\n",
       "    </tr>\n",
       "    <tr>\n",
       "      <th>1498</th>\n",
       "      <th>10</th>\n",
       "      <td>41</td>\n",
       "      <td>258</td>\n",
       "    </tr>\n",
       "    <tr>\n",
       "      <th rowspan=\"4\" valign=\"top\">1499</th>\n",
       "      <th>9</th>\n",
       "      <td>9</td>\n",
       "      <td>71</td>\n",
       "    </tr>\n",
       "    <tr>\n",
       "      <th>10</th>\n",
       "      <td>68</td>\n",
       "      <td>473</td>\n",
       "    </tr>\n",
       "    <tr>\n",
       "      <th>11</th>\n",
       "      <td>74</td>\n",
       "      <td>624</td>\n",
       "    </tr>\n",
       "    <tr>\n",
       "      <th>12</th>\n",
       "      <td>69</td>\n",
       "      <td>505</td>\n",
       "    </tr>\n",
       "  </tbody>\n",
       "</table>\n",
       "<p>3174 rows × 2 columns</p>\n",
       "</div>"
      ],
      "text/plain": [
       "                 count      sum\n",
       "              duration duration\n",
       "user_id month                  \n",
       "1000    5           22      164\n",
       "        6           43      187\n",
       "        7           47      346\n",
       "        8           52      418\n",
       "        9           58      478\n",
       "...                ...      ...\n",
       "1498    10          41      258\n",
       "1499    9            9       71\n",
       "        10          68      473\n",
       "        11          74      624\n",
       "        12          69      505\n",
       "\n",
       "[3174 rows x 2 columns]"
      ]
     },
     "execution_count": 130,
     "metadata": {},
     "output_type": "execute_result"
    }
   ],
   "source": [
    "user_calls=df_calls.pivot_table(index=['user_id', 'month'], values='duration', aggfunc = ['count', 'sum'])\n",
    "user_calls"
   ]
  },
  {
   "cell_type": "markdown",
   "metadata": {},
   "source": [
    "<div class=\"alert alert-block alert-success\">\n",
    "<b>КОММЕНТАРИЙ РЕВЬЮВЕРА_V3:</b> \n",
    "    \n",
    "Молодец, теперь ты правильно сгруппировал))\n",
    "</div>"
   ]
  },
  {
   "cell_type": "markdown",
   "metadata": {},
   "source": [
    "<div class=\"alert alert-block alert-danger\">\n",
    "<b>Комментарий ревьюера_V3:</b> \n",
    "\n",
    "❌ Округление минут нужно делать до того как начнешь группировать данные, потому что потом просто цифры не сойдутся, в задании сказано следующее. __Каждый звонок округляется отдельно: даже если он длился всего 1 секунду, будет засчитан как 1 минута.__ Хорошая статья как округлять: https://pythonworld.ru/osnovy/okruglenie.html\n",
    "</div>"
   ]
  },
  {
   "cell_type": "markdown",
   "metadata": {},
   "source": [
    "<div class=\"alert alert-block alert-info\">\n",
    "<b>КОММЕНТАРИЙ СТУДЕНТА_3: Округление добавил в п.1. Надеюсь так лучше)</b>\n",
    "</div>"
   ]
  },
  {
   "cell_type": "code",
   "execution_count": 131,
   "metadata": {},
   "outputs": [
    {
     "name": "stderr",
     "output_type": "stream",
     "text": [
      "/opt/conda/lib/python3.9/site-packages/pandas/core/reshape/merge.py:648: UserWarning: merging between different levels can give an unintended result (2 levels on the left,1 on the right)\n",
      "  warnings.warn(msg, UserWarning)\n"
     ]
    },
    {
     "data": {
      "text/html": [
       "<div>\n",
       "<style scoped>\n",
       "    .dataframe tbody tr th:only-of-type {\n",
       "        vertical-align: middle;\n",
       "    }\n",
       "\n",
       "    .dataframe tbody tr th {\n",
       "        vertical-align: top;\n",
       "    }\n",
       "\n",
       "    .dataframe thead th {\n",
       "        text-align: right;\n",
       "    }\n",
       "</style>\n",
       "<table border=\"1\" class=\"dataframe\">\n",
       "  <thead>\n",
       "    <tr style=\"text-align: right;\">\n",
       "      <th></th>\n",
       "      <th>user_id</th>\n",
       "      <th>month</th>\n",
       "      <th>count_mb_used</th>\n",
       "      <th>mb_used</th>\n",
       "      <th>(count, duration)</th>\n",
       "      <th>duration</th>\n",
       "      <th>id</th>\n",
       "      <th>tariff</th>\n",
       "    </tr>\n",
       "  </thead>\n",
       "  <tbody>\n",
       "    <tr>\n",
       "      <th>0</th>\n",
       "      <td>1000</td>\n",
       "      <td>5</td>\n",
       "      <td>5.0</td>\n",
       "      <td>2253.49</td>\n",
       "      <td>22.0</td>\n",
       "      <td>164.0</td>\n",
       "      <td>22.0</td>\n",
       "      <td>ultra</td>\n",
       "    </tr>\n",
       "    <tr>\n",
       "      <th>1</th>\n",
       "      <td>1000</td>\n",
       "      <td>6</td>\n",
       "      <td>49.0</td>\n",
       "      <td>23233.77</td>\n",
       "      <td>43.0</td>\n",
       "      <td>187.0</td>\n",
       "      <td>60.0</td>\n",
       "      <td>ultra</td>\n",
       "    </tr>\n",
       "    <tr>\n",
       "      <th>2</th>\n",
       "      <td>1000</td>\n",
       "      <td>7</td>\n",
       "      <td>29.0</td>\n",
       "      <td>14003.64</td>\n",
       "      <td>47.0</td>\n",
       "      <td>346.0</td>\n",
       "      <td>75.0</td>\n",
       "      <td>ultra</td>\n",
       "    </tr>\n",
       "    <tr>\n",
       "      <th>3</th>\n",
       "      <td>1000</td>\n",
       "      <td>8</td>\n",
       "      <td>29.0</td>\n",
       "      <td>14055.93</td>\n",
       "      <td>52.0</td>\n",
       "      <td>418.0</td>\n",
       "      <td>81.0</td>\n",
       "      <td>ultra</td>\n",
       "    </tr>\n",
       "    <tr>\n",
       "      <th>4</th>\n",
       "      <td>1000</td>\n",
       "      <td>9</td>\n",
       "      <td>27.0</td>\n",
       "      <td>14568.91</td>\n",
       "      <td>58.0</td>\n",
       "      <td>478.0</td>\n",
       "      <td>57.0</td>\n",
       "      <td>ultra</td>\n",
       "    </tr>\n",
       "    <tr>\n",
       "      <th>5</th>\n",
       "      <td>1000</td>\n",
       "      <td>10</td>\n",
       "      <td>27.0</td>\n",
       "      <td>14702.49</td>\n",
       "      <td>57.0</td>\n",
       "      <td>363.0</td>\n",
       "      <td>73.0</td>\n",
       "      <td>ultra</td>\n",
       "    </tr>\n",
       "    <tr>\n",
       "      <th>6</th>\n",
       "      <td>1000</td>\n",
       "      <td>11</td>\n",
       "      <td>24.0</td>\n",
       "      <td>14756.47</td>\n",
       "      <td>43.0</td>\n",
       "      <td>344.0</td>\n",
       "      <td>58.0</td>\n",
       "      <td>ultra</td>\n",
       "    </tr>\n",
       "    <tr>\n",
       "      <th>7</th>\n",
       "      <td>1000</td>\n",
       "      <td>12</td>\n",
       "      <td>21.0</td>\n",
       "      <td>9817.61</td>\n",
       "      <td>46.0</td>\n",
       "      <td>341.0</td>\n",
       "      <td>70.0</td>\n",
       "      <td>ultra</td>\n",
       "    </tr>\n",
       "    <tr>\n",
       "      <th>8</th>\n",
       "      <td>1001</td>\n",
       "      <td>11</td>\n",
       "      <td>55.0</td>\n",
       "      <td>18429.34</td>\n",
       "      <td>59.0</td>\n",
       "      <td>444.0</td>\n",
       "      <td>0.0</td>\n",
       "      <td>smart</td>\n",
       "    </tr>\n",
       "    <tr>\n",
       "      <th>9</th>\n",
       "      <td>1001</td>\n",
       "      <td>12</td>\n",
       "      <td>41.0</td>\n",
       "      <td>14036.66</td>\n",
       "      <td>63.0</td>\n",
       "      <td>430.0</td>\n",
       "      <td>0.0</td>\n",
       "      <td>smart</td>\n",
       "    </tr>\n",
       "  </tbody>\n",
       "</table>\n",
       "</div>"
      ],
      "text/plain": [
       "   user_id  month  count_mb_used   mb_used  (count, duration)  duration    id  \\\n",
       "0     1000      5            5.0   2253.49               22.0     164.0  22.0   \n",
       "1     1000      6           49.0  23233.77               43.0     187.0  60.0   \n",
       "2     1000      7           29.0  14003.64               47.0     346.0  75.0   \n",
       "3     1000      8           29.0  14055.93               52.0     418.0  81.0   \n",
       "4     1000      9           27.0  14568.91               58.0     478.0  57.0   \n",
       "5     1000     10           27.0  14702.49               57.0     363.0  73.0   \n",
       "6     1000     11           24.0  14756.47               43.0     344.0  58.0   \n",
       "7     1000     12           21.0   9817.61               46.0     341.0  70.0   \n",
       "8     1001     11           55.0  18429.34               59.0     444.0   0.0   \n",
       "9     1001     12           41.0  14036.66               63.0     430.0   0.0   \n",
       "\n",
       "  tariff  \n",
       "0  ultra  \n",
       "1  ultra  \n",
       "2  ultra  \n",
       "3  ultra  \n",
       "4  ultra  \n",
       "5  ultra  \n",
       "6  ultra  \n",
       "7  ultra  \n",
       "8  smart  \n",
       "9  smart  "
      ]
     },
     "execution_count": 131,
     "metadata": {},
     "output_type": "execute_result"
    }
   ],
   "source": [
    "user_tariff=df_users.drop(['age', 'churn_date', 'city', 'first_name', 'last_name', 'reg_date'], axis=1)\n",
    "user_traffic=df_internet.pivot_table(index=['user_id', 'month'], values='mb_used', aggfunc = ['count', 'sum'])\n",
    "traffic_calls=user_traffic.merge(user_calls, how='outer', on=['user_id', 'month'])\n",
    "user_message = df_messages.pivot_table(index=['user_id', 'month'], values='id', aggfunc = 'count')\n",
    "traffic_calls_message = traffic_calls.merge (user_message, how='outer', on=['user_id', 'month'])\n",
    "\n",
    "traffic_calls_message=traffic_calls_message.reset_index()\n",
    "df_total = traffic_calls_message.merge(user_tariff, how='left', on='user_id')\n",
    "df_total = df_total.rename(columns={('count', 'mb_used'): 'count_mb_used',   ('sum', 'duration'): \"duration\",     ('sum', 'mb_used'): \"mb_used\"   })\n",
    "df_total=df_total.fillna(0)\n",
    "df_total.head(10)\n"
   ]
  },
  {
   "cell_type": "markdown",
   "metadata": {},
   "source": [
    "<div class=\"alert alert-block alert-danger\">\n",
    "<b>Комментарий ревьюера_V6:</b> \n",
    "\n",
    "❌ Никита, несколько раз писал об этом, замени пропуски на 0, для этого используй `fillna()`. \n",
    "</div>"
   ]
  },
  {
   "cell_type": "markdown",
   "metadata": {},
   "source": [
    "<div class=\"alert alert-block alert-info\">\n",
    "<b>КОММЕНТАРИЙ СТУДЕНТА_6: Заменил в df_total</b>\n",
    "</div>"
   ]
  },
  {
   "cell_type": "markdown",
   "metadata": {},
   "source": [
    "<div class=\"alert alert-block alert-danger\">\n",
    "<b>Комментарий ревьюера_V4:</b> \n",
    "\n",
    "❌ Смотри, при создании traffic_calls_message правильно использовал параметр `how`, а вот в traffic_calls почему не использовал данный параметр, из-за этого у тебя некоторые значения выпали просто).\n",
    "Не забудь еще мегабайты для расчета в ГБ с помощью деления на 1024\n",
    "</div>"
   ]
  },
  {
   "cell_type": "markdown",
   "metadata": {},
   "source": [
    "<div class=\"alert alert-block alert-info\">\n",
    "<b>КОММЕНТАРИЙ СТУДЕНТА_4: Добавил</b>\n",
    "</div>"
   ]
  },
  {
   "cell_type": "markdown",
   "metadata": {},
   "source": [
    "<div class=\"alert alert-block alert-danger\">\n",
    "<b>Комментарий ревьюера_V4:</b> \n",
    "\n",
    "Никита, надо в этом блоке нужно `рассчитать помесячную выручку с каждого пользователя (вычтите бесплатный лимит из суммарного количества звонков, сообщений и интернет-трафика; остаток умножьте на значение из тарифного плана; прибавьте абонентскую плату, соответствующую тарифному плану).` Я описывал шаги ниже,  видел внизу ты делаешь с помощью разбивки на тариффы, но легче прям \n",
    "сделать все на сводной таблице.    \n",
    "\"После того как ты соединяешь таблицы можно уже рассчитывать выручку, для этого надо написать функцию, для этого сделаем следующие шаги: \n",
    "1) Соединить полученную тобою таблицу с __data_users__ и затем с __data_tariffs__.  <br>\n",
    "2) Заменяешь пропуски на 0\n",
    "3) создать переменную равную  ежемесячной абонентской плате в рублях __'rub_monthly_fee'__. К примеру пусть это будет var.<br>\n",
    "4) затем с помощью конструкции if находишь где количество минут больше плана, и перезаписываешь в созданную тобою переменную (var +=) разницу между бесплатным лимитом и суммарным количеством звонков умноженную на значение из тарифного плана.<br>\n",
    "5) Так нужно сделать еще по сообщениям и Интернет-траффику.<br>\n",
    "6) Возвращаешь с помощью return созданную тобою переменную.<br>\n",
    "7) Применяешь apply к необходимому столбцу, чтобы найти по каждому столбцу выручку.<br> \n",
    "После того как ты рассчитал выручку начинается шаг анализ данных.\" \n",
    "</div>"
   ]
  },
  {
   "cell_type": "markdown",
   "metadata": {},
   "source": [
    "<div class=\"alert alert-block alert-info\">\n",
    "<b>КОММЕНТАРИЙ СТУДЕНТА_4: Выполнил в п.8 таблицы df_ultra_desc и df_smart_desc. Суть комента в том, что перенести нужно из 8го в 7ой раздел или есть проблемы с расчетом?</b>\n",
    "</div>"
   ]
  },
  {
   "cell_type": "markdown",
   "metadata": {},
   "source": [
    "<div class=\"alert alert-block alert-warning\">\n",
    "<b>КОММЕНТАРИЙ РЕВЬЮВЕРА_V5:</b> \n",
    "    \n",
    "⚠️ После того как соединишь таблицы, не забудь пропуски __заменить 0__. \n",
    "К общей таблице присоедини тогда таблицу с тарифами, чтобы два раза не делать этого при создании таблицы `df_ultra_desc` и `df_smart_desc`, если тебе удобней считать выручку по тариффам раздели дальше таблицу с помощью `query()`.\n",
    "После твоих исправлений, функция работает корректно)) Давай сюда перенесем эти функции, чтобы нам не путаться, будем все таки проект делать согласно ТЗ)) \n",
    "\n",
    "</div>"
   ]
  },
  {
   "cell_type": "markdown",
   "metadata": {},
   "source": [
    "<div class=\"alert alert-block alert-warning\">\n",
    "<b>КОММЕНТАРИЙ РЕВЬЮВЕРА_V5:</b> \n",
    "    \n",
    "⚠️ Вот именно с этого момента начинается __Шаг анализ данных__\n",
    "</div>"
   ]
  },
  {
   "cell_type": "markdown",
   "metadata": {},
   "source": [
    "<div class=\"alert alert-block alert-info\">\n",
    "<b>КОММЕНТАРИЙ СТУДЕНТА_5: Добавил</b>\n",
    "</div>"
   ]
  },
  {
   "cell_type": "markdown",
   "metadata": {},
   "source": [
    "# Анализ данных"
   ]
  },
  {
   "cell_type": "code",
   "execution_count": 132,
   "metadata": {},
   "outputs": [
    {
     "data": {
      "image/png": "[encoded data removed]",
      "text/plain": [
       "<Figure size 720x432 with 1 Axes>"
      ]
     },
     "metadata": {
      "needs_background": "light"
     },
     "output_type": "display_data"
    }
   ],
   "source": [
    "smart = df_total.query('tariff == \"smart\"')['duration']\n",
    "ultra = df_total.query('tariff == \"ultra\"')['duration']\n",
    "\n",
    "plt.figure(figsize=(10,6))\n",
    "plt.hist(smart, bins=50, color='blue', edgecolor='grey', alpha=0.5, label = 'smart', density = False)\n",
    "plt.hist(ultra, bins=50, color='orange', edgecolor='grey', alpha=0.5,label = 'ultra', density = False)\n",
    "plt.legend()\n",
    "plt.title('Среднее количество минут')\n",
    "plt.ylabel('количество абонентов (в месяц)')\n",
    "plt.xlabel('сумма минут в месяц')\n",
    "plt.show()"
   ]
  },
  {
   "cell_type": "markdown",
   "metadata": {},
   "source": [
    "<div class=\"alert alert-block alert-success\">\n",
    "<b>КОММЕНТАРИЙ РЕВЬЮВЕРА_V4:</b> \n",
    "    \n",
    "Большой молодец, теперь на граффики приятно смотреть)\n",
    "</div>"
   ]
  },
  {
   "cell_type": "markdown",
   "metadata": {},
   "source": [
    "Пользователи смарт более активные при более короткой суммарной длительности разговора. Но больше пользователей ультра с длительными разговорами (вероятно это и одна из причин перехода на тариф ультра). Есть выброс у смарт с длительностью чуть менее 1500 - хороший кандидат на переход в более выгодный тариф ультра."
   ]
  },
  {
   "cell_type": "code",
   "execution_count": 133,
   "metadata": {},
   "outputs": [
    {
     "data": {
      "text/html": [
       "<div>\n",
       "<style scoped>\n",
       "    .dataframe tbody tr th:only-of-type {\n",
       "        vertical-align: middle;\n",
       "    }\n",
       "\n",
       "    .dataframe tbody tr th {\n",
       "        vertical-align: top;\n",
       "    }\n",
       "\n",
       "    .dataframe thead th {\n",
       "        text-align: right;\n",
       "    }\n",
       "</style>\n",
       "<table border=\"1\" class=\"dataframe\">\n",
       "  <thead>\n",
       "    <tr style=\"text-align: right;\">\n",
       "      <th></th>\n",
       "      <th>user_id</th>\n",
       "      <th>month</th>\n",
       "      <th>count_mb_used</th>\n",
       "      <th>mb_used</th>\n",
       "      <th>(count, duration)</th>\n",
       "      <th>duration</th>\n",
       "      <th>id</th>\n",
       "      <th>tariff</th>\n",
       "    </tr>\n",
       "  </thead>\n",
       "  <tbody>\n",
       "    <tr>\n",
       "      <th>0</th>\n",
       "      <td>1000</td>\n",
       "      <td>5</td>\n",
       "      <td>5.0</td>\n",
       "      <td>2253.49</td>\n",
       "      <td>22.0</td>\n",
       "      <td>164.0</td>\n",
       "      <td>22.0</td>\n",
       "      <td>ultra</td>\n",
       "    </tr>\n",
       "    <tr>\n",
       "      <th>1</th>\n",
       "      <td>1000</td>\n",
       "      <td>6</td>\n",
       "      <td>49.0</td>\n",
       "      <td>23233.77</td>\n",
       "      <td>43.0</td>\n",
       "      <td>187.0</td>\n",
       "      <td>60.0</td>\n",
       "      <td>ultra</td>\n",
       "    </tr>\n",
       "    <tr>\n",
       "      <th>2</th>\n",
       "      <td>1000</td>\n",
       "      <td>7</td>\n",
       "      <td>29.0</td>\n",
       "      <td>14003.64</td>\n",
       "      <td>47.0</td>\n",
       "      <td>346.0</td>\n",
       "      <td>75.0</td>\n",
       "      <td>ultra</td>\n",
       "    </tr>\n",
       "    <tr>\n",
       "      <th>3</th>\n",
       "      <td>1000</td>\n",
       "      <td>8</td>\n",
       "      <td>29.0</td>\n",
       "      <td>14055.93</td>\n",
       "      <td>52.0</td>\n",
       "      <td>418.0</td>\n",
       "      <td>81.0</td>\n",
       "      <td>ultra</td>\n",
       "    </tr>\n",
       "    <tr>\n",
       "      <th>4</th>\n",
       "      <td>1000</td>\n",
       "      <td>9</td>\n",
       "      <td>27.0</td>\n",
       "      <td>14568.91</td>\n",
       "      <td>58.0</td>\n",
       "      <td>478.0</td>\n",
       "      <td>57.0</td>\n",
       "      <td>ultra</td>\n",
       "    </tr>\n",
       "    <tr>\n",
       "      <th>...</th>\n",
       "      <td>...</td>\n",
       "      <td>...</td>\n",
       "      <td>...</td>\n",
       "      <td>...</td>\n",
       "      <td>...</td>\n",
       "      <td>...</td>\n",
       "      <td>...</td>\n",
       "      <td>...</td>\n",
       "    </tr>\n",
       "    <tr>\n",
       "      <th>3209</th>\n",
       "      <td>1273</td>\n",
       "      <td>11</td>\n",
       "      <td>0.0</td>\n",
       "      <td>0.00</td>\n",
       "      <td>45.0</td>\n",
       "      <td>286.0</td>\n",
       "      <td>29.0</td>\n",
       "      <td>ultra</td>\n",
       "    </tr>\n",
       "    <tr>\n",
       "      <th>3210</th>\n",
       "      <td>1273</td>\n",
       "      <td>12</td>\n",
       "      <td>0.0</td>\n",
       "      <td>0.00</td>\n",
       "      <td>41.0</td>\n",
       "      <td>263.0</td>\n",
       "      <td>39.0</td>\n",
       "      <td>ultra</td>\n",
       "    </tr>\n",
       "    <tr>\n",
       "      <th>3211</th>\n",
       "      <td>1377</td>\n",
       "      <td>2</td>\n",
       "      <td>0.0</td>\n",
       "      <td>0.00</td>\n",
       "      <td>23.0</td>\n",
       "      <td>182.0</td>\n",
       "      <td>2.0</td>\n",
       "      <td>ultra</td>\n",
       "    </tr>\n",
       "    <tr>\n",
       "      <th>3212</th>\n",
       "      <td>1392</td>\n",
       "      <td>2</td>\n",
       "      <td>0.0</td>\n",
       "      <td>0.00</td>\n",
       "      <td>2.0</td>\n",
       "      <td>13.0</td>\n",
       "      <td>3.0</td>\n",
       "      <td>ultra</td>\n",
       "    </tr>\n",
       "    <tr>\n",
       "      <th>3213</th>\n",
       "      <td>1446</td>\n",
       "      <td>8</td>\n",
       "      <td>0.0</td>\n",
       "      <td>0.00</td>\n",
       "      <td>4.0</td>\n",
       "      <td>50.0</td>\n",
       "      <td>1.0</td>\n",
       "      <td>smart</td>\n",
       "    </tr>\n",
       "  </tbody>\n",
       "</table>\n",
       "<p>3214 rows × 8 columns</p>\n",
       "</div>"
      ],
      "text/plain": [
       "      user_id  month  count_mb_used   mb_used  (count, duration)  duration  \\\n",
       "0        1000      5            5.0   2253.49               22.0     164.0   \n",
       "1        1000      6           49.0  23233.77               43.0     187.0   \n",
       "2        1000      7           29.0  14003.64               47.0     346.0   \n",
       "3        1000      8           29.0  14055.93               52.0     418.0   \n",
       "4        1000      9           27.0  14568.91               58.0     478.0   \n",
       "...       ...    ...            ...       ...                ...       ...   \n",
       "3209     1273     11            0.0      0.00               45.0     286.0   \n",
       "3210     1273     12            0.0      0.00               41.0     263.0   \n",
       "3211     1377      2            0.0      0.00               23.0     182.0   \n",
       "3212     1392      2            0.0      0.00                2.0      13.0   \n",
       "3213     1446      8            0.0      0.00                4.0      50.0   \n",
       "\n",
       "        id tariff  \n",
       "0     22.0  ultra  \n",
       "1     60.0  ultra  \n",
       "2     75.0  ultra  \n",
       "3     81.0  ultra  \n",
       "4     57.0  ultra  \n",
       "...    ...    ...  \n",
       "3209  29.0  ultra  \n",
       "3210  39.0  ultra  \n",
       "3211   2.0  ultra  \n",
       "3212   3.0  ultra  \n",
       "3213   1.0  smart  \n",
       "\n",
       "[3214 rows x 8 columns]"
      ]
     },
     "execution_count": 133,
     "metadata": {},
     "output_type": "execute_result"
    }
   ],
   "source": [
    "df_ultra=df_total[df_total['tariff']=='ultra']\n",
    "df_total"
   ]
  },
  {
   "cell_type": "code",
   "execution_count": 134,
   "metadata": {},
   "outputs": [
    {
     "data": {
      "text/plain": [
       "Text(0.5, 1.0, 'Boxplot для длительности звонков тарифа \"Ультра\"')"
      ]
     },
     "execution_count": 134,
     "metadata": {},
     "output_type": "execute_result"
    },
    {
     "data": {
      "image/png": "[encoded data removed]",
      "text/plain": [
       "<Figure size 432x288 with 1 Axes>"
      ]
     },
     "metadata": {
      "needs_background": "light"
     },
     "output_type": "display_data"
    }
   ],
   "source": [
    "df_ultra.boxplot(column='duration');\n",
    "plt.title('Boxplot для длительности звонков тарифа \"Ультра\"')"
   ]
  },
  {
   "cell_type": "markdown",
   "metadata": {},
   "source": [
    "<div class=\"alert alert-block alert-warning\">\n",
    "<b>КОММЕНТАРИЙ РЕВЬЮВЕРА_V5:</b> \n",
    "    \n",
    "⚠️ От <AxesSubplot:> избавимся, если в конце поставим `;`, везде это подправь) И про название графиков не забываем)\n",
    "</div>"
   ]
  },
  {
   "cell_type": "markdown",
   "metadata": {},
   "source": [
    "<div class=\"alert alert-block alert-info\">\n",
    "<b>КОММЕНТАРИЙ СТУДЕНТА_5: Избавился от надписи. Название добавить всмысле строкой с текстом или есть специфический способ внутри boxplot (если есть, то не нашел)</b>\n",
    "</div>"
   ]
  },
  {
   "cell_type": "markdown",
   "metadata": {},
   "source": [
    "<div class=\"alert alert-block alert-warning\">\n",
    "<b>КОММЕНТАРИЙ РЕВЬЮВЕРА_V6:</b> \n",
    "    \n",
    "⚠️ Нужно добавить `plt.title('Название графика')` после того как построишь график))\n",
    "</div>"
   ]
  },
  {
   "cell_type": "markdown",
   "metadata": {},
   "source": [
    "<div class=\"alert alert-block alert-info\">\n",
    "<b>КОММЕНТАРИЙ СТУДЕНТА_6: Добавил</b>\n",
    "</div>"
   ]
  },
  {
   "cell_type": "code",
   "execution_count": 135,
   "metadata": {},
   "outputs": [
    {
     "data": {
      "text/html": [
       "<div>\n",
       "<style scoped>\n",
       "    .dataframe tbody tr th:only-of-type {\n",
       "        vertical-align: middle;\n",
       "    }\n",
       "\n",
       "    .dataframe tbody tr th {\n",
       "        vertical-align: top;\n",
       "    }\n",
       "\n",
       "    .dataframe thead th {\n",
       "        text-align: right;\n",
       "    }\n",
       "</style>\n",
       "<table border=\"1\" class=\"dataframe\">\n",
       "  <thead>\n",
       "    <tr style=\"text-align: right;\">\n",
       "      <th></th>\n",
       "      <th>user_id</th>\n",
       "      <th>month</th>\n",
       "      <th>count_mb_used</th>\n",
       "      <th>mb_used</th>\n",
       "      <th>(count, duration)</th>\n",
       "      <th>duration</th>\n",
       "      <th>id</th>\n",
       "      <th>tariff</th>\n",
       "    </tr>\n",
       "  </thead>\n",
       "  <tbody>\n",
       "    <tr>\n",
       "      <th>8</th>\n",
       "      <td>1001</td>\n",
       "      <td>11</td>\n",
       "      <td>55.0</td>\n",
       "      <td>18429.34</td>\n",
       "      <td>59.0</td>\n",
       "      <td>444.0</td>\n",
       "      <td>0.0</td>\n",
       "      <td>smart</td>\n",
       "    </tr>\n",
       "    <tr>\n",
       "      <th>9</th>\n",
       "      <td>1001</td>\n",
       "      <td>12</td>\n",
       "      <td>41.0</td>\n",
       "      <td>14036.66</td>\n",
       "      <td>63.0</td>\n",
       "      <td>430.0</td>\n",
       "      <td>0.0</td>\n",
       "      <td>smart</td>\n",
       "    </tr>\n",
       "    <tr>\n",
       "      <th>10</th>\n",
       "      <td>1002</td>\n",
       "      <td>6</td>\n",
       "      <td>34.0</td>\n",
       "      <td>10856.82</td>\n",
       "      <td>15.0</td>\n",
       "      <td>118.0</td>\n",
       "      <td>4.0</td>\n",
       "      <td>smart</td>\n",
       "    </tr>\n",
       "    <tr>\n",
       "      <th>11</th>\n",
       "      <td>1002</td>\n",
       "      <td>7</td>\n",
       "      <td>58.0</td>\n",
       "      <td>17580.10</td>\n",
       "      <td>26.0</td>\n",
       "      <td>219.0</td>\n",
       "      <td>11.0</td>\n",
       "      <td>smart</td>\n",
       "    </tr>\n",
       "    <tr>\n",
       "      <th>12</th>\n",
       "      <td>1002</td>\n",
       "      <td>8</td>\n",
       "      <td>60.0</td>\n",
       "      <td>20319.26</td>\n",
       "      <td>42.0</td>\n",
       "      <td>294.0</td>\n",
       "      <td>13.0</td>\n",
       "      <td>smart</td>\n",
       "    </tr>\n",
       "    <tr>\n",
       "      <th>...</th>\n",
       "      <td>...</td>\n",
       "      <td>...</td>\n",
       "      <td>...</td>\n",
       "      <td>...</td>\n",
       "      <td>...</td>\n",
       "      <td>...</td>\n",
       "      <td>...</td>\n",
       "      <td>...</td>\n",
       "    </tr>\n",
       "    <tr>\n",
       "      <th>3199</th>\n",
       "      <td>1499</td>\n",
       "      <td>9</td>\n",
       "      <td>5.0</td>\n",
       "      <td>1845.75</td>\n",
       "      <td>9.0</td>\n",
       "      <td>71.0</td>\n",
       "      <td>11.0</td>\n",
       "      <td>smart</td>\n",
       "    </tr>\n",
       "    <tr>\n",
       "      <th>3200</th>\n",
       "      <td>1499</td>\n",
       "      <td>10</td>\n",
       "      <td>58.0</td>\n",
       "      <td>17788.51</td>\n",
       "      <td>68.0</td>\n",
       "      <td>473.0</td>\n",
       "      <td>48.0</td>\n",
       "      <td>smart</td>\n",
       "    </tr>\n",
       "    <tr>\n",
       "      <th>3201</th>\n",
       "      <td>1499</td>\n",
       "      <td>11</td>\n",
       "      <td>49.0</td>\n",
       "      <td>17963.31</td>\n",
       "      <td>74.0</td>\n",
       "      <td>624.0</td>\n",
       "      <td>59.0</td>\n",
       "      <td>smart</td>\n",
       "    </tr>\n",
       "    <tr>\n",
       "      <th>3202</th>\n",
       "      <td>1499</td>\n",
       "      <td>12</td>\n",
       "      <td>45.0</td>\n",
       "      <td>13055.58</td>\n",
       "      <td>69.0</td>\n",
       "      <td>505.0</td>\n",
       "      <td>66.0</td>\n",
       "      <td>smart</td>\n",
       "    </tr>\n",
       "    <tr>\n",
       "      <th>3213</th>\n",
       "      <td>1446</td>\n",
       "      <td>8</td>\n",
       "      <td>0.0</td>\n",
       "      <td>0.00</td>\n",
       "      <td>4.0</td>\n",
       "      <td>50.0</td>\n",
       "      <td>1.0</td>\n",
       "      <td>smart</td>\n",
       "    </tr>\n",
       "  </tbody>\n",
       "</table>\n",
       "<p>2229 rows × 8 columns</p>\n",
       "</div>"
      ],
      "text/plain": [
       "      user_id  month  count_mb_used   mb_used  (count, duration)  duration  \\\n",
       "8        1001     11           55.0  18429.34               59.0     444.0   \n",
       "9        1001     12           41.0  14036.66               63.0     430.0   \n",
       "10       1002      6           34.0  10856.82               15.0     118.0   \n",
       "11       1002      7           58.0  17580.10               26.0     219.0   \n",
       "12       1002      8           60.0  20319.26               42.0     294.0   \n",
       "...       ...    ...            ...       ...                ...       ...   \n",
       "3199     1499      9            5.0   1845.75                9.0      71.0   \n",
       "3200     1499     10           58.0  17788.51               68.0     473.0   \n",
       "3201     1499     11           49.0  17963.31               74.0     624.0   \n",
       "3202     1499     12           45.0  13055.58               69.0     505.0   \n",
       "3213     1446      8            0.0      0.00                4.0      50.0   \n",
       "\n",
       "        id tariff  \n",
       "8      0.0  smart  \n",
       "9      0.0  smart  \n",
       "10     4.0  smart  \n",
       "11    11.0  smart  \n",
       "12    13.0  smart  \n",
       "...    ...    ...  \n",
       "3199  11.0  smart  \n",
       "3200  48.0  smart  \n",
       "3201  59.0  smart  \n",
       "3202  66.0  smart  \n",
       "3213   1.0  smart  \n",
       "\n",
       "[2229 rows x 8 columns]"
      ]
     },
     "execution_count": 135,
     "metadata": {},
     "output_type": "execute_result"
    }
   ],
   "source": [
    "df_smart=df_total[df_total['tariff']=='smart']\n",
    "df_smart"
   ]
  },
  {
   "cell_type": "code",
   "execution_count": 136,
   "metadata": {},
   "outputs": [
    {
     "data": {
      "text/plain": [
       "Text(0.5, 1.0, 'Boxplot для длительности звонков тарифа \"Смарт\"')"
      ]
     },
     "execution_count": 136,
     "metadata": {},
     "output_type": "execute_result"
    },
    {
     "data": {
      "image/png": "[encoded data removed]",
      "text/plain": [
       "<Figure size 432x288 with 1 Axes>"
      ]
     },
     "metadata": {
      "needs_background": "light"
     },
     "output_type": "display_data"
    }
   ],
   "source": [
    "df_smart.boxplot(column='duration')  ;\n",
    "plt.title('Boxplot для длительности звонков тарифа \"Смарт\"')"
   ]
  },
  {
   "cell_type": "markdown",
   "metadata": {},
   "source": [
    "Медиана у смарта ниже. Разброс 1го и 3го квантиля больше у ультры"
   ]
  },
  {
   "cell_type": "code",
   "execution_count": 137,
   "metadata": {},
   "outputs": [
    {
     "data": {
      "text/plain": [
       "count     985.000000\n",
       "mean      540.779695\n",
       "std       325.738740\n",
       "min         0.000000\n",
       "25%       292.000000\n",
       "50%       532.000000\n",
       "75%       773.000000\n",
       "max      1727.000000\n",
       "Name: duration, dtype: float64"
      ]
     },
     "execution_count": 137,
     "metadata": {},
     "output_type": "execute_result"
    }
   ],
   "source": [
    "df_ultra['duration'].describe()"
   ]
  },
  {
   "cell_type": "code",
   "execution_count": 138,
   "metadata": {},
   "outputs": [
    {
     "data": {
      "text/plain": [
       "count    2229.000000\n",
       "mean      429.450875\n",
       "std       194.871174\n",
       "min         0.000000\n",
       "25%       291.000000\n",
       "50%       435.000000\n",
       "75%       560.000000\n",
       "max      1471.000000\n",
       "Name: duration, dtype: float64"
      ]
     },
     "execution_count": 138,
     "metadata": {},
     "output_type": "execute_result"
    }
   ],
   "source": [
    "df_smart['duration'].describe()"
   ]
  },
  {
   "cell_type": "markdown",
   "metadata": {},
   "source": [
    "##### Анализ использования сообщений"
   ]
  },
  {
   "cell_type": "code",
   "execution_count": 139,
   "metadata": {},
   "outputs": [
    {
     "data": {
      "image/png": "[encoded data removed]",
      "text/plain": [
       "<Figure size 720x432 with 1 Axes>"
      ]
     },
     "metadata": {
      "needs_background": "light"
     },
     "output_type": "display_data"
    }
   ],
   "source": [
    "smart = df_total.query('tariff == \"smart\"')['id']\n",
    "ultra = df_total.query('tariff == \"ultra\"')['id']\n",
    "\n",
    "plt.figure(figsize=(10,6))\n",
    "plt.hist(smart, bins=50, color='blue', edgecolor='grey', alpha=0.5, label = 'smart', density = False)\n",
    "plt.hist(ultra, bins=50, color='orange', edgecolor='grey', alpha=0.5,label = 'ultra', density = False)\n",
    "plt.legend()\n",
    "plt.title('Среднее количество сообщений')\n",
    "plt.ylabel('количество абонентов (в месяц)')\n",
    "plt.xlabel('сумма сообщений в месяц')\n",
    "plt.show()"
   ]
  },
  {
   "cell_type": "markdown",
   "metadata": {},
   "source": [
    "Вывод аналогичный и наблюдениям по длительности звонков: с малым суммарным количеством сообщений (до 100 примерно) более активны пользователя смарт, но у пользователей ультра больше количество абонентов интенсивно использующих сообщения "
   ]
  },
  {
   "cell_type": "code",
   "execution_count": 140,
   "metadata": {},
   "outputs": [
    {
     "data": {
      "text/plain": [
       "Text(0.5, 1.0, 'Boxplot для количества сообщений тарифа \"Ультра\"')"
      ]
     },
     "execution_count": 140,
     "metadata": {},
     "output_type": "execute_result"
    },
    {
     "data": {
      "image/png": "[encoded data removed]",
      "text/plain": [
       "<Figure size 432x288 with 1 Axes>"
      ]
     },
     "metadata": {
      "needs_background": "light"
     },
     "output_type": "display_data"
    }
   ],
   "source": [
    "df_ultra.boxplot(column='id')  ;\n",
    "plt.title('Boxplot для количества сообщений тарифа \"Ультра\"')"
   ]
  },
  {
   "cell_type": "code",
   "execution_count": 141,
   "metadata": {},
   "outputs": [
    {
     "data": {
      "text/plain": [
       "Text(0.5, 1.0, 'Boxplot для количества сообщений тарифа \"Смарт\"')"
      ]
     },
     "execution_count": 141,
     "metadata": {},
     "output_type": "execute_result"
    },
    {
     "data": {
      "image/png": "[encoded data removed]",
      "text/plain": [
       "<Figure size 432x288 with 1 Axes>"
      ]
     },
     "metadata": {
      "needs_background": "light"
     },
     "output_type": "display_data"
    }
   ],
   "source": [
    "df_smart.boxplot(column='id') ;\n",
    "plt.title('Boxplot для количества сообщений тарифа \"Смарт\"')"
   ]
  },
  {
   "cell_type": "markdown",
   "metadata": {},
   "source": [
    "Медиана меньше у смарт. Разброс значений шире у ультра "
   ]
  },
  {
   "cell_type": "code",
   "execution_count": 142,
   "metadata": {},
   "outputs": [
    {
     "data": {
      "text/plain": [
       "count    985.000000\n",
       "mean      49.363452\n",
       "std       47.804457\n",
       "min        0.000000\n",
       "25%        6.000000\n",
       "50%       38.000000\n",
       "75%       79.000000\n",
       "max      224.000000\n",
       "Name: id, dtype: float64"
      ]
     },
     "execution_count": 142,
     "metadata": {},
     "output_type": "execute_result"
    }
   ],
   "source": [
    "df_ultra['id'].describe()"
   ]
  },
  {
   "cell_type": "code",
   "execution_count": 143,
   "metadata": {},
   "outputs": [
    {
     "data": {
      "text/plain": [
       "count    2229.000000\n",
       "mean       33.384029\n",
       "std        28.227876\n",
       "min         0.000000\n",
       "25%        10.000000\n",
       "50%        28.000000\n",
       "75%        51.000000\n",
       "max       143.000000\n",
       "Name: id, dtype: float64"
      ]
     },
     "execution_count": 143,
     "metadata": {},
     "output_type": "execute_result"
    }
   ],
   "source": [
    "df_smart['id'].describe()"
   ]
  },
  {
   "cell_type": "markdown",
   "metadata": {},
   "source": [
    "##### Анализ использования траффика"
   ]
  },
  {
   "cell_type": "markdown",
   "metadata": {},
   "source": [
    "<div class=\"alert alert-block alert-danger\">\n",
    "<b>Комментарий ревьюера_V3:</b> \n",
    "\n",
    "❌ Здесь не забудь, что надо на каком то шаге перевести МГ в ГБ, для после группировки полученные значения нужно разделить на 1024 и здесь уже можно округлять в большую степень, так как в задании сказано, что __Для веб-трафика отдельные сессии не считаются. Вместо этого общая сумма за месяц округляется в бо́льшую сторону. Если абонент использует 1025 мегабайт в этом месяце, с него возьмут плату за 2 гигабайта. Примите, что неиспользованные за предыдущий месяц звонки, смс, интернет на следующий месяц не переносятся.__\n",
    "</div>"
   ]
  },
  {
   "cell_type": "markdown",
   "metadata": {},
   "source": [
    "<div class=\"alert alert-block alert-info\">\n",
    "<b>КОММЕНТАРИЙ СТУДЕНТА_4: Перевел в колонке gb_used</b>\n",
    "</div>"
   ]
  },
  {
   "cell_type": "code",
   "execution_count": 144,
   "metadata": {},
   "outputs": [
    {
     "data": {
      "text/html": [
       "<div>\n",
       "<style scoped>\n",
       "    .dataframe tbody tr th:only-of-type {\n",
       "        vertical-align: middle;\n",
       "    }\n",
       "\n",
       "    .dataframe tbody tr th {\n",
       "        vertical-align: top;\n",
       "    }\n",
       "\n",
       "    .dataframe thead th {\n",
       "        text-align: right;\n",
       "    }\n",
       "</style>\n",
       "<table border=\"1\" class=\"dataframe\">\n",
       "  <thead>\n",
       "    <tr style=\"text-align: right;\">\n",
       "      <th></th>\n",
       "      <th>user_id</th>\n",
       "      <th>month</th>\n",
       "      <th>count_mb_used</th>\n",
       "      <th>mb_used</th>\n",
       "      <th>(count, duration)</th>\n",
       "      <th>duration</th>\n",
       "      <th>id</th>\n",
       "      <th>tariff</th>\n",
       "      <th>gb_used</th>\n",
       "    </tr>\n",
       "  </thead>\n",
       "  <tbody>\n",
       "    <tr>\n",
       "      <th>0</th>\n",
       "      <td>1000</td>\n",
       "      <td>5</td>\n",
       "      <td>5.0</td>\n",
       "      <td>2253.49</td>\n",
       "      <td>22.0</td>\n",
       "      <td>164.0</td>\n",
       "      <td>22.0</td>\n",
       "      <td>ultra</td>\n",
       "      <td>3.0</td>\n",
       "    </tr>\n",
       "    <tr>\n",
       "      <th>1</th>\n",
       "      <td>1000</td>\n",
       "      <td>6</td>\n",
       "      <td>49.0</td>\n",
       "      <td>23233.77</td>\n",
       "      <td>43.0</td>\n",
       "      <td>187.0</td>\n",
       "      <td>60.0</td>\n",
       "      <td>ultra</td>\n",
       "      <td>23.0</td>\n",
       "    </tr>\n",
       "    <tr>\n",
       "      <th>2</th>\n",
       "      <td>1000</td>\n",
       "      <td>7</td>\n",
       "      <td>29.0</td>\n",
       "      <td>14003.64</td>\n",
       "      <td>47.0</td>\n",
       "      <td>346.0</td>\n",
       "      <td>75.0</td>\n",
       "      <td>ultra</td>\n",
       "      <td>14.0</td>\n",
       "    </tr>\n",
       "    <tr>\n",
       "      <th>3</th>\n",
       "      <td>1000</td>\n",
       "      <td>8</td>\n",
       "      <td>29.0</td>\n",
       "      <td>14055.93</td>\n",
       "      <td>52.0</td>\n",
       "      <td>418.0</td>\n",
       "      <td>81.0</td>\n",
       "      <td>ultra</td>\n",
       "      <td>14.0</td>\n",
       "    </tr>\n",
       "    <tr>\n",
       "      <th>4</th>\n",
       "      <td>1000</td>\n",
       "      <td>9</td>\n",
       "      <td>27.0</td>\n",
       "      <td>14568.91</td>\n",
       "      <td>58.0</td>\n",
       "      <td>478.0</td>\n",
       "      <td>57.0</td>\n",
       "      <td>ultra</td>\n",
       "      <td>15.0</td>\n",
       "    </tr>\n",
       "    <tr>\n",
       "      <th>...</th>\n",
       "      <td>...</td>\n",
       "      <td>...</td>\n",
       "      <td>...</td>\n",
       "      <td>...</td>\n",
       "      <td>...</td>\n",
       "      <td>...</td>\n",
       "      <td>...</td>\n",
       "      <td>...</td>\n",
       "      <td>...</td>\n",
       "    </tr>\n",
       "    <tr>\n",
       "      <th>3209</th>\n",
       "      <td>1273</td>\n",
       "      <td>11</td>\n",
       "      <td>0.0</td>\n",
       "      <td>0.00</td>\n",
       "      <td>45.0</td>\n",
       "      <td>286.0</td>\n",
       "      <td>29.0</td>\n",
       "      <td>ultra</td>\n",
       "      <td>0.0</td>\n",
       "    </tr>\n",
       "    <tr>\n",
       "      <th>3210</th>\n",
       "      <td>1273</td>\n",
       "      <td>12</td>\n",
       "      <td>0.0</td>\n",
       "      <td>0.00</td>\n",
       "      <td>41.0</td>\n",
       "      <td>263.0</td>\n",
       "      <td>39.0</td>\n",
       "      <td>ultra</td>\n",
       "      <td>0.0</td>\n",
       "    </tr>\n",
       "    <tr>\n",
       "      <th>3211</th>\n",
       "      <td>1377</td>\n",
       "      <td>2</td>\n",
       "      <td>0.0</td>\n",
       "      <td>0.00</td>\n",
       "      <td>23.0</td>\n",
       "      <td>182.0</td>\n",
       "      <td>2.0</td>\n",
       "      <td>ultra</td>\n",
       "      <td>0.0</td>\n",
       "    </tr>\n",
       "    <tr>\n",
       "      <th>3212</th>\n",
       "      <td>1392</td>\n",
       "      <td>2</td>\n",
       "      <td>0.0</td>\n",
       "      <td>0.00</td>\n",
       "      <td>2.0</td>\n",
       "      <td>13.0</td>\n",
       "      <td>3.0</td>\n",
       "      <td>ultra</td>\n",
       "      <td>0.0</td>\n",
       "    </tr>\n",
       "    <tr>\n",
       "      <th>3213</th>\n",
       "      <td>1446</td>\n",
       "      <td>8</td>\n",
       "      <td>0.0</td>\n",
       "      <td>0.00</td>\n",
       "      <td>4.0</td>\n",
       "      <td>50.0</td>\n",
       "      <td>1.0</td>\n",
       "      <td>smart</td>\n",
       "      <td>0.0</td>\n",
       "    </tr>\n",
       "  </tbody>\n",
       "</table>\n",
       "<p>3214 rows × 9 columns</p>\n",
       "</div>"
      ],
      "text/plain": [
       "      user_id  month  count_mb_used   mb_used  (count, duration)  duration  \\\n",
       "0        1000      5            5.0   2253.49               22.0     164.0   \n",
       "1        1000      6           49.0  23233.77               43.0     187.0   \n",
       "2        1000      7           29.0  14003.64               47.0     346.0   \n",
       "3        1000      8           29.0  14055.93               52.0     418.0   \n",
       "4        1000      9           27.0  14568.91               58.0     478.0   \n",
       "...       ...    ...            ...       ...                ...       ...   \n",
       "3209     1273     11            0.0      0.00               45.0     286.0   \n",
       "3210     1273     12            0.0      0.00               41.0     263.0   \n",
       "3211     1377      2            0.0      0.00               23.0     182.0   \n",
       "3212     1392      2            0.0      0.00                2.0      13.0   \n",
       "3213     1446      8            0.0      0.00                4.0      50.0   \n",
       "\n",
       "        id tariff  gb_used  \n",
       "0     22.0  ultra      3.0  \n",
       "1     60.0  ultra     23.0  \n",
       "2     75.0  ultra     14.0  \n",
       "3     81.0  ultra     14.0  \n",
       "4     57.0  ultra     15.0  \n",
       "...    ...    ...      ...  \n",
       "3209  29.0  ultra      0.0  \n",
       "3210  39.0  ultra      0.0  \n",
       "3211   2.0  ultra      0.0  \n",
       "3212   3.0  ultra      0.0  \n",
       "3213   1.0  smart      0.0  \n",
       "\n",
       "[3214 rows x 9 columns]"
      ]
     },
     "execution_count": 144,
     "metadata": {},
     "output_type": "execute_result"
    }
   ],
   "source": [
    "df_total['gb_used'] = np.ceil(df_total['mb_used']/1024)\n",
    "df_total"
   ]
  },
  {
   "cell_type": "code",
   "execution_count": 145,
   "metadata": {},
   "outputs": [
    {
     "data": {
      "image/png": "[encoded data removed]",
      "text/plain": [
       "<Figure size 720x432 with 1 Axes>"
      ]
     },
     "metadata": {
      "needs_background": "light"
     },
     "output_type": "display_data"
    }
   ],
   "source": [
    "smart = df_total.query('tariff == \"smart\"')['gb_used']\n",
    "ultra = df_total.query('tariff == \"ultra\"')['gb_used']\n",
    "\n",
    "plt.figure(figsize=(10,6))\n",
    "plt.hist(smart, bins=50, color='blue', edgecolor='grey', alpha=0.5, label = 'smart', density = False)\n",
    "plt.hist(ultra, bins=50, color='orange', edgecolor='grey', alpha=0.5,label = 'ultra', density = False)\n",
    "plt.legend()\n",
    "plt.title('Среднее количество трафика')\n",
    "plt.ylabel('количество абонентов (в месяц)')\n",
    "plt.xlabel('сумма траффика в месяц')\n",
    "plt.show()"
   ]
  },
  {
   "cell_type": "markdown",
   "metadata": {},
   "source": [
    "Аналогично и наблюдениям по длительности звонков и сообщений: с малым суммарным количеством трафика (до 2700 примерно) более активны пользователя смарт, но у пользователей ультра больше количество абонентов интенсивно использующих трафик (более 2700 Мб примерно) "
   ]
  },
  {
   "cell_type": "code",
   "execution_count": 146,
   "metadata": {},
   "outputs": [
    {
     "data": {
      "text/plain": [
       "Text(0.5, 1.0, 'Boxplot для использования трафика тарифа \"Ультра\"')"
      ]
     },
     "execution_count": 146,
     "metadata": {},
     "output_type": "execute_result"
    },
    {
     "data": {
      "image/png": "[encoded data removed]",
      "text/plain": [
       "<Figure size 432x288 with 1 Axes>"
      ]
     },
     "metadata": {
      "needs_background": "light"
     },
     "output_type": "display_data"
    }
   ],
   "source": [
    "df_ultra=df_total[df_total['tariff']=='ultra']\n",
    "df_ultra.boxplot(column='gb_used');\n",
    "plt.title('Boxplot для использования трафика тарифа \"Ультра\"')"
   ]
  },
  {
   "cell_type": "code",
   "execution_count": 147,
   "metadata": {},
   "outputs": [
    {
     "data": {
      "text/plain": [
       "Text(0.5, 1.0, 'Boxplot для использования трафика тарифа \"Смарт\"')"
      ]
     },
     "execution_count": 147,
     "metadata": {},
     "output_type": "execute_result"
    },
    {
     "data": {
      "image/png": "[encoded data removed]",
      "text/plain": [
       "<Figure size 432x288 with 1 Axes>"
      ]
     },
     "metadata": {
      "needs_background": "light"
     },
     "output_type": "display_data"
    }
   ],
   "source": [
    "df_smart=df_total[df_total['tariff']=='smart']\n",
    "df_smart.boxplot(column='gb_used') ;\n",
    "plt.title('Boxplot для использования трафика тарифа \"Смарт\"')"
   ]
  },
  {
   "cell_type": "markdown",
   "metadata": {},
   "source": [
    "Медиана меньше у смарт. Разброс значений шире у ультра "
   ]
  },
  {
   "cell_type": "code",
   "execution_count": 148,
   "metadata": {},
   "outputs": [
    {
     "data": {
      "text/plain": [
       "count    985.000000\n",
       "mean      19.494416\n",
       "std        9.853511\n",
       "min        0.000000\n",
       "25%       12.000000\n",
       "50%       19.000000\n",
       "75%       27.000000\n",
       "max       49.000000\n",
       "Name: gb_used, dtype: float64"
      ]
     },
     "execution_count": 148,
     "metadata": {},
     "output_type": "execute_result"
    }
   ],
   "source": [
    "df_ultra['gb_used'].describe()"
   ]
  },
  {
   "cell_type": "code",
   "execution_count": 149,
   "metadata": {},
   "outputs": [
    {
     "data": {
      "text/plain": [
       "count    2229.000000\n",
       "mean       16.328847\n",
       "std         5.747061\n",
       "min         0.000000\n",
       "25%        13.000000\n",
       "50%        17.000000\n",
       "75%        20.000000\n",
       "max        38.000000\n",
       "Name: gb_used, dtype: float64"
      ]
     },
     "execution_count": 149,
     "metadata": {},
     "output_type": "execute_result"
    }
   ],
   "source": [
    "df_smart['gb_used'].describe()"
   ]
  },
  {
   "cell_type": "markdown",
   "metadata": {},
   "source": [
    "<div class=\"alert alert-block alert-success\">\n",
    "<b>КОММЕНТАРИЙ РЕВЬЮВЕРА_V3:</b> \n",
    "    \n",
    "Этот блок молодец, хорошо прям переделал)\n",
    "</div>"
   ]
  },
  {
   "cell_type": "markdown",
   "metadata": {},
   "source": [
    "<div class=\"alert alert-block alert-danger\">\n",
    "<b>Комментарий ревьюера_V3:</b> \n",
    "\n",
    "❌ Должно получиться в итогой таблице 3214 значений, а у тебя получилось 2667 значений, видимо при соединение таблиц ты кого то потерял) Для исправлении ситуации используй значение параметра how при присоединении таблиц. https://pythonru.com/uroki/osnovy-pandas-3-vazhnye-metody-formatirovanija-dannyh У тебя возникнут при присоединении пропуски, надо подумать, что с ними сделать.\n",
    "После того как ты соединяешь таблицы можно уже рассчитывать выручку, для этого надо написать функцию, для этого сделаем следующие шаги: \n",
    "1) Соединить полученную тобою таблицу с __data_users__ и затем с __data_tariffs__.  <br>\n",
    "2) создать переменную равную  ежемесячной абонентской плате в рублях __'rub_monthly_fee'__. К примеру пусть это будет var.<br>\n",
    "3) затем с помощью конструкции if находишь где количество минут больше плана, и перезаписываешь в созданную тобою переменную (var +=) разницу между бесплатным лимитом и суммарным количеством звонков умноженную на значение из тарифного плана.<br>\n",
    "4) Так нужно сделать еще по сообщениям и Интернет-траффику.<br>\n",
    "5) Возвращаешь с помощью return созданную тобою переменную.<br>\n",
    "6) Применяешь apply к необходимому столбцу, чтобы найти по каждому столбцу выручку.<br> \n",
    "После того как ты рассчитал выручку начинается шаг анализ данных. \n",
    "</div>"
   ]
  },
  {
   "cell_type": "markdown",
   "metadata": {},
   "source": [
    "<div class=\"alert alert-block alert-info\">\n",
    "<b>КОММЕНТАРИЙ СТУДЕНТА_3: Переделал соединение, теперь 3213 строк. <br>\n",
    "1) В названиях таблиц, наверное, опечатка. Пользование услугами с тарифом есть уже df_total или нужно другое представление? <br>\n",
    "По остальным коментам - искренне не понял в чем принципиальное отличие от того, что сделал в п.8. С этим расчетом чтото не так?\n",
    "</b>\n",
    "</div>"
   ]
  },
  {
   "cell_type": "markdown",
   "metadata": {},
   "source": [
    "Сколько минут разговора, сколько сообщений и какой объём интернет-трафика требуется пользователям каждого тарифа в месяц? Посчитайте среднее количество, дисперсию и стандартное отклонение. Постройте гистограммы. "
   ]
  },
  {
   "cell_type": "markdown",
   "metadata": {},
   "source": [
    "среднее количество по месяцам для тарифа ultra"
   ]
  },
  {
   "cell_type": "code",
   "execution_count": 150,
   "metadata": {},
   "outputs": [],
   "source": [
    "df_ultra=df_total[df_total['tariff']=='ultra']\n",
    "df_ultra_mean = df_ultra.pivot_table(index='month', values=['mb_used', 'duration', 'id'], aggfunc = 'mean')"
   ]
  },
  {
   "cell_type": "code",
   "execution_count": 151,
   "metadata": {},
   "outputs": [
    {
     "data": {
      "text/html": [
       "<div>\n",
       "<style scoped>\n",
       "    .dataframe tbody tr th:only-of-type {\n",
       "        vertical-align: middle;\n",
       "    }\n",
       "\n",
       "    .dataframe tbody tr th {\n",
       "        vertical-align: top;\n",
       "    }\n",
       "\n",
       "    .dataframe thead th {\n",
       "        text-align: right;\n",
       "    }\n",
       "</style>\n",
       "<table border=\"1\" class=\"dataframe\">\n",
       "  <thead>\n",
       "    <tr style=\"text-align: right;\">\n",
       "      <th></th>\n",
       "      <th>user_id</th>\n",
       "      <th>month</th>\n",
       "      <th>count_mb_used</th>\n",
       "      <th>mb_used</th>\n",
       "      <th>(count, duration)</th>\n",
       "      <th>duration</th>\n",
       "      <th>id</th>\n",
       "      <th>tariff</th>\n",
       "      <th>gb_used</th>\n",
       "    </tr>\n",
       "  </thead>\n",
       "  <tbody>\n",
       "    <tr>\n",
       "      <th>0</th>\n",
       "      <td>1000</td>\n",
       "      <td>5</td>\n",
       "      <td>5.0</td>\n",
       "      <td>2253.49</td>\n",
       "      <td>22.0</td>\n",
       "      <td>164.0</td>\n",
       "      <td>22.0</td>\n",
       "      <td>ultra</td>\n",
       "      <td>3.0</td>\n",
       "    </tr>\n",
       "    <tr>\n",
       "      <th>1</th>\n",
       "      <td>1000</td>\n",
       "      <td>6</td>\n",
       "      <td>49.0</td>\n",
       "      <td>23233.77</td>\n",
       "      <td>43.0</td>\n",
       "      <td>187.0</td>\n",
       "      <td>60.0</td>\n",
       "      <td>ultra</td>\n",
       "      <td>23.0</td>\n",
       "    </tr>\n",
       "    <tr>\n",
       "      <th>2</th>\n",
       "      <td>1000</td>\n",
       "      <td>7</td>\n",
       "      <td>29.0</td>\n",
       "      <td>14003.64</td>\n",
       "      <td>47.0</td>\n",
       "      <td>346.0</td>\n",
       "      <td>75.0</td>\n",
       "      <td>ultra</td>\n",
       "      <td>14.0</td>\n",
       "    </tr>\n",
       "    <tr>\n",
       "      <th>3</th>\n",
       "      <td>1000</td>\n",
       "      <td>8</td>\n",
       "      <td>29.0</td>\n",
       "      <td>14055.93</td>\n",
       "      <td>52.0</td>\n",
       "      <td>418.0</td>\n",
       "      <td>81.0</td>\n",
       "      <td>ultra</td>\n",
       "      <td>14.0</td>\n",
       "    </tr>\n",
       "    <tr>\n",
       "      <th>4</th>\n",
       "      <td>1000</td>\n",
       "      <td>9</td>\n",
       "      <td>27.0</td>\n",
       "      <td>14568.91</td>\n",
       "      <td>58.0</td>\n",
       "      <td>478.0</td>\n",
       "      <td>57.0</td>\n",
       "      <td>ultra</td>\n",
       "      <td>15.0</td>\n",
       "    </tr>\n",
       "  </tbody>\n",
       "</table>\n",
       "</div>"
      ],
      "text/plain": [
       "   user_id  month  count_mb_used   mb_used  (count, duration)  duration    id  \\\n",
       "0     1000      5            5.0   2253.49               22.0     164.0  22.0   \n",
       "1     1000      6           49.0  23233.77               43.0     187.0  60.0   \n",
       "2     1000      7           29.0  14003.64               47.0     346.0  75.0   \n",
       "3     1000      8           29.0  14055.93               52.0     418.0  81.0   \n",
       "4     1000      9           27.0  14568.91               58.0     478.0  57.0   \n",
       "\n",
       "  tariff  gb_used  \n",
       "0  ultra      3.0  \n",
       "1  ultra     23.0  \n",
       "2  ultra     14.0  \n",
       "3  ultra     14.0  \n",
       "4  ultra     15.0  "
      ]
     },
     "execution_count": 151,
     "metadata": {},
     "output_type": "execute_result"
    }
   ],
   "source": [
    "df_ultra.head()"
   ]
  },
  {
   "cell_type": "code",
   "execution_count": 152,
   "metadata": {},
   "outputs": [
    {
     "data": {
      "text/plain": [
       "user_id              0\n",
       "month                0\n",
       "count_mb_used        0\n",
       "mb_used              0\n",
       "(count, duration)    0\n",
       "duration             0\n",
       "id                   0\n",
       "tariff               0\n",
       "gb_used              0\n",
       "dtype: int64"
      ]
     },
     "execution_count": 152,
     "metadata": {},
     "output_type": "execute_result"
    }
   ],
   "source": [
    "df_ultra.isna().sum()"
   ]
  },
  {
   "cell_type": "markdown",
   "metadata": {},
   "source": [
    "среднее количество по месяцам для тарифа smart"
   ]
  },
  {
   "cell_type": "code",
   "execution_count": 153,
   "metadata": {},
   "outputs": [
    {
     "data": {
      "text/html": [
       "<div>\n",
       "<style scoped>\n",
       "    .dataframe tbody tr th:only-of-type {\n",
       "        vertical-align: middle;\n",
       "    }\n",
       "\n",
       "    .dataframe tbody tr th {\n",
       "        vertical-align: top;\n",
       "    }\n",
       "\n",
       "    .dataframe thead th {\n",
       "        text-align: right;\n",
       "    }\n",
       "</style>\n",
       "<table border=\"1\" class=\"dataframe\">\n",
       "  <thead>\n",
       "    <tr style=\"text-align: right;\">\n",
       "      <th></th>\n",
       "      <th>duration</th>\n",
       "      <th>id</th>\n",
       "      <th>mb_used</th>\n",
       "    </tr>\n",
       "    <tr>\n",
       "      <th>month</th>\n",
       "      <th></th>\n",
       "      <th></th>\n",
       "      <th></th>\n",
       "    </tr>\n",
       "  </thead>\n",
       "  <tbody>\n",
       "    <tr>\n",
       "      <th>1</th>\n",
       "      <td>209.647059</td>\n",
       "      <td>18.235294</td>\n",
       "      <td>8513.717647</td>\n",
       "    </tr>\n",
       "    <tr>\n",
       "      <th>2</th>\n",
       "      <td>306.310345</td>\n",
       "      <td>24.086207</td>\n",
       "      <td>11597.054310</td>\n",
       "    </tr>\n",
       "    <tr>\n",
       "      <th>3</th>\n",
       "      <td>400.532468</td>\n",
       "      <td>31.857143</td>\n",
       "      <td>15104.159091</td>\n",
       "    </tr>\n",
       "    <tr>\n",
       "      <th>4</th>\n",
       "      <td>377.000000</td>\n",
       "      <td>30.741071</td>\n",
       "      <td>13462.180625</td>\n",
       "    </tr>\n",
       "    <tr>\n",
       "      <th>5</th>\n",
       "      <td>398.404255</td>\n",
       "      <td>33.773050</td>\n",
       "      <td>15805.184326</td>\n",
       "    </tr>\n",
       "    <tr>\n",
       "      <th>6</th>\n",
       "      <td>406.701220</td>\n",
       "      <td>33.402439</td>\n",
       "      <td>15794.647988</td>\n",
       "    </tr>\n",
       "    <tr>\n",
       "      <th>7</th>\n",
       "      <td>419.288557</td>\n",
       "      <td>33.751244</td>\n",
       "      <td>15743.150348</td>\n",
       "    </tr>\n",
       "    <tr>\n",
       "      <th>8</th>\n",
       "      <td>433.191489</td>\n",
       "      <td>33.638298</td>\n",
       "      <td>16610.720085</td>\n",
       "    </tr>\n",
       "    <tr>\n",
       "      <th>9</th>\n",
       "      <td>440.080769</td>\n",
       "      <td>33.638462</td>\n",
       "      <td>16303.578808</td>\n",
       "    </tr>\n",
       "    <tr>\n",
       "      <th>10</th>\n",
       "      <td>438.295918</td>\n",
       "      <td>33.765306</td>\n",
       "      <td>16757.122891</td>\n",
       "    </tr>\n",
       "    <tr>\n",
       "      <th>11</th>\n",
       "      <td>447.620253</td>\n",
       "      <td>34.075949</td>\n",
       "      <td>16895.696646</td>\n",
       "    </tr>\n",
       "    <tr>\n",
       "      <th>12</th>\n",
       "      <td>491.418398</td>\n",
       "      <td>35.994065</td>\n",
       "      <td>18113.662047</td>\n",
       "    </tr>\n",
       "  </tbody>\n",
       "</table>\n",
       "</div>"
      ],
      "text/plain": [
       "         duration         id       mb_used\n",
       "month                                     \n",
       "1      209.647059  18.235294   8513.717647\n",
       "2      306.310345  24.086207  11597.054310\n",
       "3      400.532468  31.857143  15104.159091\n",
       "4      377.000000  30.741071  13462.180625\n",
       "5      398.404255  33.773050  15805.184326\n",
       "6      406.701220  33.402439  15794.647988\n",
       "7      419.288557  33.751244  15743.150348\n",
       "8      433.191489  33.638298  16610.720085\n",
       "9      440.080769  33.638462  16303.578808\n",
       "10     438.295918  33.765306  16757.122891\n",
       "11     447.620253  34.075949  16895.696646\n",
       "12     491.418398  35.994065  18113.662047"
      ]
     },
     "execution_count": 153,
     "metadata": {},
     "output_type": "execute_result"
    }
   ],
   "source": [
    "df_smart_mean = df_smart.pivot_table(index='month', values=['mb_used', 'duration', 'id'], aggfunc = 'mean')\n",
    "df_smart_mean.head(12)"
   ]
  },
  {
   "cell_type": "code",
   "execution_count": 154,
   "metadata": {},
   "outputs": [],
   "source": [
    "#df_ultra_mean.hist()"
   ]
  },
  {
   "cell_type": "code",
   "execution_count": 155,
   "metadata": {},
   "outputs": [],
   "source": [
    "#df_smart_mean['duration'].hist()"
   ]
  },
  {
   "cell_type": "markdown",
   "metadata": {},
   "source": [
    "Вывод по медиане длительности: длительность имеет наиболее частое значение около 400 (4 месяца). Три месяца длительность было от 375 до 400 минут."
   ]
  },
  {
   "cell_type": "code",
   "execution_count": 156,
   "metadata": {},
   "outputs": [],
   "source": [
    "#df_smart_mean['mb_used'].hist()"
   ]
  },
  {
   "cell_type": "markdown",
   "metadata": {},
   "source": [
    "Вывод по медиане траффика: Пять месяцев от 16-17 Гб, самое частое значение"
   ]
  },
  {
   "cell_type": "code",
   "execution_count": 157,
   "metadata": {},
   "outputs": [],
   "source": [
    "#df_smart_mean['id'].hist()"
   ]
  },
  {
   "cell_type": "markdown",
   "metadata": {},
   "source": [
    "Вывод: семь месяцев в году это использовани чуть менее 40 смс."
   ]
  },
  {
   "cell_type": "code",
   "execution_count": 158,
   "metadata": {},
   "outputs": [
    {
     "data": {
      "text/html": [
       "<div>\n",
       "<style scoped>\n",
       "    .dataframe tbody tr th:only-of-type {\n",
       "        vertical-align: middle;\n",
       "    }\n",
       "\n",
       "    .dataframe tbody tr th {\n",
       "        vertical-align: top;\n",
       "    }\n",
       "\n",
       "    .dataframe thead th {\n",
       "        text-align: right;\n",
       "    }\n",
       "</style>\n",
       "<table border=\"1\" class=\"dataframe\">\n",
       "  <thead>\n",
       "    <tr style=\"text-align: right;\">\n",
       "      <th></th>\n",
       "      <th>user_id</th>\n",
       "      <th>month</th>\n",
       "      <th>count_mb_used</th>\n",
       "      <th>mb_used</th>\n",
       "      <th>(count, duration)</th>\n",
       "      <th>duration</th>\n",
       "      <th>id</th>\n",
       "      <th>gb_used</th>\n",
       "    </tr>\n",
       "  </thead>\n",
       "  <tbody>\n",
       "    <tr>\n",
       "      <th>count</th>\n",
       "      <td>985.000000</td>\n",
       "      <td>985.000000</td>\n",
       "      <td>985.000000</td>\n",
       "      <td>985.000000</td>\n",
       "      <td>985.000000</td>\n",
       "      <td>985.000000</td>\n",
       "      <td>985.000000</td>\n",
       "      <td>985.000000</td>\n",
       "    </tr>\n",
       "    <tr>\n",
       "      <th>mean</th>\n",
       "      <td>1263.094416</td>\n",
       "      <td>8.250761</td>\n",
       "      <td>38.433503</td>\n",
       "      <td>19468.805208</td>\n",
       "      <td>73.392893</td>\n",
       "      <td>540.779695</td>\n",
       "      <td>49.363452</td>\n",
       "      <td>19.494416</td>\n",
       "    </tr>\n",
       "    <tr>\n",
       "      <th>std</th>\n",
       "      <td>140.694908</td>\n",
       "      <td>2.871762</td>\n",
       "      <td>19.623227</td>\n",
       "      <td>10087.170752</td>\n",
       "      <td>43.916853</td>\n",
       "      <td>325.738740</td>\n",
       "      <td>47.804457</td>\n",
       "      <td>9.853511</td>\n",
       "    </tr>\n",
       "    <tr>\n",
       "      <th>min</th>\n",
       "      <td>1000.000000</td>\n",
       "      <td>1.000000</td>\n",
       "      <td>0.000000</td>\n",
       "      <td>0.000000</td>\n",
       "      <td>0.000000</td>\n",
       "      <td>0.000000</td>\n",
       "      <td>0.000000</td>\n",
       "      <td>0.000000</td>\n",
       "    </tr>\n",
       "    <tr>\n",
       "      <th>25%</th>\n",
       "      <td>1143.000000</td>\n",
       "      <td>6.000000</td>\n",
       "      <td>24.000000</td>\n",
       "      <td>11770.260000</td>\n",
       "      <td>41.000000</td>\n",
       "      <td>292.000000</td>\n",
       "      <td>6.000000</td>\n",
       "      <td>12.000000</td>\n",
       "    </tr>\n",
       "    <tr>\n",
       "      <th>50%</th>\n",
       "      <td>1277.000000</td>\n",
       "      <td>9.000000</td>\n",
       "      <td>38.000000</td>\n",
       "      <td>19308.010000</td>\n",
       "      <td>74.000000</td>\n",
       "      <td>532.000000</td>\n",
       "      <td>38.000000</td>\n",
       "      <td>19.000000</td>\n",
       "    </tr>\n",
       "    <tr>\n",
       "      <th>75%</th>\n",
       "      <td>1381.000000</td>\n",
       "      <td>11.000000</td>\n",
       "      <td>52.000000</td>\n",
       "      <td>26837.690000</td>\n",
       "      <td>104.000000</td>\n",
       "      <td>773.000000</td>\n",
       "      <td>79.000000</td>\n",
       "      <td>27.000000</td>\n",
       "    </tr>\n",
       "    <tr>\n",
       "      <th>max</th>\n",
       "      <td>1495.000000</td>\n",
       "      <td>12.000000</td>\n",
       "      <td>97.000000</td>\n",
       "      <td>49745.690000</td>\n",
       "      <td>244.000000</td>\n",
       "      <td>1727.000000</td>\n",
       "      <td>224.000000</td>\n",
       "      <td>49.000000</td>\n",
       "    </tr>\n",
       "  </tbody>\n",
       "</table>\n",
       "</div>"
      ],
      "text/plain": [
       "           user_id       month  count_mb_used       mb_used  \\\n",
       "count   985.000000  985.000000     985.000000    985.000000   \n",
       "mean   1263.094416    8.250761      38.433503  19468.805208   \n",
       "std     140.694908    2.871762      19.623227  10087.170752   \n",
       "min    1000.000000    1.000000       0.000000      0.000000   \n",
       "25%    1143.000000    6.000000      24.000000  11770.260000   \n",
       "50%    1277.000000    9.000000      38.000000  19308.010000   \n",
       "75%    1381.000000   11.000000      52.000000  26837.690000   \n",
       "max    1495.000000   12.000000      97.000000  49745.690000   \n",
       "\n",
       "       (count, duration)     duration          id     gb_used  \n",
       "count         985.000000   985.000000  985.000000  985.000000  \n",
       "mean           73.392893   540.779695   49.363452   19.494416  \n",
       "std            43.916853   325.738740   47.804457    9.853511  \n",
       "min             0.000000     0.000000    0.000000    0.000000  \n",
       "25%            41.000000   292.000000    6.000000   12.000000  \n",
       "50%            74.000000   532.000000   38.000000   19.000000  \n",
       "75%           104.000000   773.000000   79.000000   27.000000  \n",
       "max           244.000000  1727.000000  224.000000   49.000000  "
      ]
     },
     "execution_count": 158,
     "metadata": {},
     "output_type": "execute_result"
    }
   ],
   "source": [
    "df_ultra.describe()"
   ]
  },
  {
   "cell_type": "markdown",
   "metadata": {},
   "source": [
    "стандартное отклонение"
   ]
  },
  {
   "cell_type": "code",
   "execution_count": 159,
   "metadata": {},
   "outputs": [],
   "source": [
    "#df_smart.describe()"
   ]
  },
  {
   "cell_type": "markdown",
   "metadata": {},
   "source": [
    "гистограмма длительности"
   ]
  },
  {
   "cell_type": "code",
   "execution_count": 160,
   "metadata": {},
   "outputs": [],
   "source": [
    "#data.hist(bins = [0, 10, 40, 100])\n",
    "#df_smart['duration'].hist (bins=12)"
   ]
  },
  {
   "cell_type": "markdown",
   "metadata": {},
   "source": [
    "<div class=\"alert alert-block alert-danger\">\n",
    "<b>Комментарий ревьюера:</b> \n",
    "\n",
    "❌ Давай лучше переструктурируем шаг анализ данных, нужно будет создать три блока:\n",
    "- анализ длительности звонков;\n",
    "- анализ количества сообщений;\n",
    "- анализ объема Интернет-траффика.\n",
    "    \n",
    "В каждом блоке сделаем следующее:<br>\n",
    "1) построим гистограмму по распределению анализируемых показателей в месяц для пользователей разных тарифов (внизу пример нарисовал);<br>\n",
    "2) построим боксплоты для анализа средних значений, нижних и верхних квартилей, минимальных и максимальных значений выборки и выбросов;<br>\n",
    "3) посчитаем среднее количество, дисперсию и стандартное отклонение по анализируемым показателям в месяц. Необходимо эти данные вывести и сравнить по тарифам.<br> \n",
    "4) в конце сделать выводы.<br> \n",
    "</div>"
   ]
  },
  {
   "cell_type": "markdown",
   "metadata": {},
   "source": [
    "<div class=\"alert alert-block alert-info\">\n",
    "<b>КОММЕНТАРИЙ СТУДЕНТА_3: Обновил, отобразил в п.п. 7.1-7.3\n",
    "</b>\n",
    "</div>"
   ]
  },
  {
   "cell_type": "code",
   "execution_count": 161,
   "metadata": {},
   "outputs": [
    {
     "data": {
      "image/png": "[encoded data removed]",
      "text/plain": [
       "<Figure size 720x432 with 1 Axes>"
      ]
     },
     "metadata": {
      "needs_background": "light"
     },
     "output_type": "display_data"
    }
   ],
   "source": [
    "##КОД РЕВЬЮЕРА\n",
    "import matplotlib.pyplot as plt\n",
    "\n",
    "smart = df_total.query('tariff == \"smart\"')['duration']\n",
    "ultra = df_total.query('tariff == \"ultra\"')['duration']\n",
    "\n",
    "plt.figure(figsize=(10,6))\n",
    "plt.hist(smart, bins=50, color='blue', edgecolor='grey', alpha=0.5, label = 'smart', density = False)\n",
    "plt.hist(ultra, bins=50, color='orange', edgecolor='grey', alpha=0.5,label = 'ultra', density = False)\n",
    "plt.legend()\n",
    "plt.title('Среднее количество минут')\n",
    "plt.ylabel('количество абонентов (в месяц)')\n",
    "plt.xlabel('сумма минут в месяц')\n",
    "plt.show()"
   ]
  },
  {
   "cell_type": "markdown",
   "metadata": {},
   "source": [
    "# Проверка гипотез"
   ]
  },
  {
   "cell_type": "markdown",
   "metadata": {},
   "source": [
    "#### средняя выручка пользователей тарифов «Ультра» и «Смарт» различаются;"
   ]
  },
  {
   "cell_type": "code",
   "execution_count": 162,
   "metadata": {},
   "outputs": [],
   "source": [
    "def monthly_payment_ultra(row):\n",
    "    payment=row['rub_monthly_fee']\n",
    "    if row['mb_used']>=row['mb_per_month_included']: payment+= np.ceil((row['mb_used']-row['mb_per_month_included'])/1024)*row['rub_per_gb']\n",
    "    if row['duration']>=row['minutes_included']:  payment+= (row['duration']-row['minutes_included'])*row['rub_per_message']\n",
    "    if row['id']>=row['messages_included']: payment+= (row['id']-row['messages_included'])*row['rub_per_message']\n",
    "    return payment"
   ]
  },
  {
   "cell_type": "markdown",
   "metadata": {},
   "source": [
    "<div class=\"alert alert-block alert-danger\">\n",
    "<b>Комментарий ревьюера_V4:</b> \n",
    "Здесь нужно по другому сделать `payment+= (row['mb_used']-row['mb_per_month_included'])*row['rub_per_gb']/1024`<br>\n",
    "1) Вначале минусуются значения<br>\n",
    "2) Затем эти значения делятся на 1024<br>\n",
    "3) Потом округляются в большую степень<br>\n",
    "4) Умножается на row['rub_per_gb']<br>\n",
    "</div>"
   ]
  },
  {
   "cell_type": "markdown",
   "metadata": {},
   "source": [
    "<div class=\"alert alert-block alert-info\">\n",
    "<b>КОММЕНТАРИЙ СТУДЕНТА_4: Обновил в обоих функциях\n",
    "</b>\n",
    "</div>"
   ]
  },
  {
   "cell_type": "code",
   "execution_count": 163,
   "metadata": {},
   "outputs": [
    {
     "data": {
      "text/html": [
       "<div>\n",
       "<style scoped>\n",
       "    .dataframe tbody tr th:only-of-type {\n",
       "        vertical-align: middle;\n",
       "    }\n",
       "\n",
       "    .dataframe tbody tr th {\n",
       "        vertical-align: top;\n",
       "    }\n",
       "\n",
       "    .dataframe thead th {\n",
       "        text-align: right;\n",
       "    }\n",
       "</style>\n",
       "<table border=\"1\" class=\"dataframe\">\n",
       "  <thead>\n",
       "    <tr style=\"text-align: right;\">\n",
       "      <th></th>\n",
       "      <th>user_id</th>\n",
       "      <th>month</th>\n",
       "      <th>count_mb_used</th>\n",
       "      <th>mb_used</th>\n",
       "      <th>(count, duration)</th>\n",
       "      <th>duration</th>\n",
       "      <th>id</th>\n",
       "      <th>tariff</th>\n",
       "      <th>gb_used</th>\n",
       "      <th>messages_included</th>\n",
       "      <th>mb_per_month_included</th>\n",
       "      <th>minutes_included</th>\n",
       "      <th>rub_monthly_fee</th>\n",
       "      <th>rub_per_gb</th>\n",
       "      <th>rub_per_message</th>\n",
       "      <th>rub_per_minute</th>\n",
       "      <th>tariff_name</th>\n",
       "    </tr>\n",
       "  </thead>\n",
       "  <tbody>\n",
       "    <tr>\n",
       "      <th>0</th>\n",
       "      <td>1000</td>\n",
       "      <td>5</td>\n",
       "      <td>5.0</td>\n",
       "      <td>2253.49</td>\n",
       "      <td>22.0</td>\n",
       "      <td>164.0</td>\n",
       "      <td>22.0</td>\n",
       "      <td>ultra</td>\n",
       "      <td>3.0</td>\n",
       "      <td>1000</td>\n",
       "      <td>30720</td>\n",
       "      <td>3000</td>\n",
       "      <td>1950</td>\n",
       "      <td>150</td>\n",
       "      <td>1</td>\n",
       "      <td>1</td>\n",
       "      <td>ultra</td>\n",
       "    </tr>\n",
       "    <tr>\n",
       "      <th>1</th>\n",
       "      <td>1000</td>\n",
       "      <td>6</td>\n",
       "      <td>49.0</td>\n",
       "      <td>23233.77</td>\n",
       "      <td>43.0</td>\n",
       "      <td>187.0</td>\n",
       "      <td>60.0</td>\n",
       "      <td>ultra</td>\n",
       "      <td>23.0</td>\n",
       "      <td>1000</td>\n",
       "      <td>30720</td>\n",
       "      <td>3000</td>\n",
       "      <td>1950</td>\n",
       "      <td>150</td>\n",
       "      <td>1</td>\n",
       "      <td>1</td>\n",
       "      <td>ultra</td>\n",
       "    </tr>\n",
       "    <tr>\n",
       "      <th>2</th>\n",
       "      <td>1000</td>\n",
       "      <td>7</td>\n",
       "      <td>29.0</td>\n",
       "      <td>14003.64</td>\n",
       "      <td>47.0</td>\n",
       "      <td>346.0</td>\n",
       "      <td>75.0</td>\n",
       "      <td>ultra</td>\n",
       "      <td>14.0</td>\n",
       "      <td>1000</td>\n",
       "      <td>30720</td>\n",
       "      <td>3000</td>\n",
       "      <td>1950</td>\n",
       "      <td>150</td>\n",
       "      <td>1</td>\n",
       "      <td>1</td>\n",
       "      <td>ultra</td>\n",
       "    </tr>\n",
       "    <tr>\n",
       "      <th>3</th>\n",
       "      <td>1000</td>\n",
       "      <td>8</td>\n",
       "      <td>29.0</td>\n",
       "      <td>14055.93</td>\n",
       "      <td>52.0</td>\n",
       "      <td>418.0</td>\n",
       "      <td>81.0</td>\n",
       "      <td>ultra</td>\n",
       "      <td>14.0</td>\n",
       "      <td>1000</td>\n",
       "      <td>30720</td>\n",
       "      <td>3000</td>\n",
       "      <td>1950</td>\n",
       "      <td>150</td>\n",
       "      <td>1</td>\n",
       "      <td>1</td>\n",
       "      <td>ultra</td>\n",
       "    </tr>\n",
       "    <tr>\n",
       "      <th>4</th>\n",
       "      <td>1000</td>\n",
       "      <td>9</td>\n",
       "      <td>27.0</td>\n",
       "      <td>14568.91</td>\n",
       "      <td>58.0</td>\n",
       "      <td>478.0</td>\n",
       "      <td>57.0</td>\n",
       "      <td>ultra</td>\n",
       "      <td>15.0</td>\n",
       "      <td>1000</td>\n",
       "      <td>30720</td>\n",
       "      <td>3000</td>\n",
       "      <td>1950</td>\n",
       "      <td>150</td>\n",
       "      <td>1</td>\n",
       "      <td>1</td>\n",
       "      <td>ultra</td>\n",
       "    </tr>\n",
       "    <tr>\n",
       "      <th>...</th>\n",
       "      <td>...</td>\n",
       "      <td>...</td>\n",
       "      <td>...</td>\n",
       "      <td>...</td>\n",
       "      <td>...</td>\n",
       "      <td>...</td>\n",
       "      <td>...</td>\n",
       "      <td>...</td>\n",
       "      <td>...</td>\n",
       "      <td>...</td>\n",
       "      <td>...</td>\n",
       "      <td>...</td>\n",
       "      <td>...</td>\n",
       "      <td>...</td>\n",
       "      <td>...</td>\n",
       "      <td>...</td>\n",
       "      <td>...</td>\n",
       "    </tr>\n",
       "    <tr>\n",
       "      <th>980</th>\n",
       "      <td>1273</td>\n",
       "      <td>10</td>\n",
       "      <td>0.0</td>\n",
       "      <td>0.00</td>\n",
       "      <td>40.0</td>\n",
       "      <td>320.0</td>\n",
       "      <td>35.0</td>\n",
       "      <td>ultra</td>\n",
       "      <td>0.0</td>\n",
       "      <td>1000</td>\n",
       "      <td>30720</td>\n",
       "      <td>3000</td>\n",
       "      <td>1950</td>\n",
       "      <td>150</td>\n",
       "      <td>1</td>\n",
       "      <td>1</td>\n",
       "      <td>ultra</td>\n",
       "    </tr>\n",
       "    <tr>\n",
       "      <th>981</th>\n",
       "      <td>1273</td>\n",
       "      <td>11</td>\n",
       "      <td>0.0</td>\n",
       "      <td>0.00</td>\n",
       "      <td>45.0</td>\n",
       "      <td>286.0</td>\n",
       "      <td>29.0</td>\n",
       "      <td>ultra</td>\n",
       "      <td>0.0</td>\n",
       "      <td>1000</td>\n",
       "      <td>30720</td>\n",
       "      <td>3000</td>\n",
       "      <td>1950</td>\n",
       "      <td>150</td>\n",
       "      <td>1</td>\n",
       "      <td>1</td>\n",
       "      <td>ultra</td>\n",
       "    </tr>\n",
       "    <tr>\n",
       "      <th>982</th>\n",
       "      <td>1273</td>\n",
       "      <td>12</td>\n",
       "      <td>0.0</td>\n",
       "      <td>0.00</td>\n",
       "      <td>41.0</td>\n",
       "      <td>263.0</td>\n",
       "      <td>39.0</td>\n",
       "      <td>ultra</td>\n",
       "      <td>0.0</td>\n",
       "      <td>1000</td>\n",
       "      <td>30720</td>\n",
       "      <td>3000</td>\n",
       "      <td>1950</td>\n",
       "      <td>150</td>\n",
       "      <td>1</td>\n",
       "      <td>1</td>\n",
       "      <td>ultra</td>\n",
       "    </tr>\n",
       "    <tr>\n",
       "      <th>983</th>\n",
       "      <td>1377</td>\n",
       "      <td>2</td>\n",
       "      <td>0.0</td>\n",
       "      <td>0.00</td>\n",
       "      <td>23.0</td>\n",
       "      <td>182.0</td>\n",
       "      <td>2.0</td>\n",
       "      <td>ultra</td>\n",
       "      <td>0.0</td>\n",
       "      <td>1000</td>\n",
       "      <td>30720</td>\n",
       "      <td>3000</td>\n",
       "      <td>1950</td>\n",
       "      <td>150</td>\n",
       "      <td>1</td>\n",
       "      <td>1</td>\n",
       "      <td>ultra</td>\n",
       "    </tr>\n",
       "    <tr>\n",
       "      <th>984</th>\n",
       "      <td>1392</td>\n",
       "      <td>2</td>\n",
       "      <td>0.0</td>\n",
       "      <td>0.00</td>\n",
       "      <td>2.0</td>\n",
       "      <td>13.0</td>\n",
       "      <td>3.0</td>\n",
       "      <td>ultra</td>\n",
       "      <td>0.0</td>\n",
       "      <td>1000</td>\n",
       "      <td>30720</td>\n",
       "      <td>3000</td>\n",
       "      <td>1950</td>\n",
       "      <td>150</td>\n",
       "      <td>1</td>\n",
       "      <td>1</td>\n",
       "      <td>ultra</td>\n",
       "    </tr>\n",
       "  </tbody>\n",
       "</table>\n",
       "<p>985 rows × 17 columns</p>\n",
       "</div>"
      ],
      "text/plain": [
       "     user_id  month  count_mb_used   mb_used  (count, duration)  duration  \\\n",
       "0       1000      5            5.0   2253.49               22.0     164.0   \n",
       "1       1000      6           49.0  23233.77               43.0     187.0   \n",
       "2       1000      7           29.0  14003.64               47.0     346.0   \n",
       "3       1000      8           29.0  14055.93               52.0     418.0   \n",
       "4       1000      9           27.0  14568.91               58.0     478.0   \n",
       "..       ...    ...            ...       ...                ...       ...   \n",
       "980     1273     10            0.0      0.00               40.0     320.0   \n",
       "981     1273     11            0.0      0.00               45.0     286.0   \n",
       "982     1273     12            0.0      0.00               41.0     263.0   \n",
       "983     1377      2            0.0      0.00               23.0     182.0   \n",
       "984     1392      2            0.0      0.00                2.0      13.0   \n",
       "\n",
       "       id tariff  gb_used  messages_included  mb_per_month_included  \\\n",
       "0    22.0  ultra      3.0               1000                  30720   \n",
       "1    60.0  ultra     23.0               1000                  30720   \n",
       "2    75.0  ultra     14.0               1000                  30720   \n",
       "3    81.0  ultra     14.0               1000                  30720   \n",
       "4    57.0  ultra     15.0               1000                  30720   \n",
       "..    ...    ...      ...                ...                    ...   \n",
       "980  35.0  ultra      0.0               1000                  30720   \n",
       "981  29.0  ultra      0.0               1000                  30720   \n",
       "982  39.0  ultra      0.0               1000                  30720   \n",
       "983   2.0  ultra      0.0               1000                  30720   \n",
       "984   3.0  ultra      0.0               1000                  30720   \n",
       "\n",
       "     minutes_included  rub_monthly_fee  rub_per_gb  rub_per_message  \\\n",
       "0                3000             1950         150                1   \n",
       "1                3000             1950         150                1   \n",
       "2                3000             1950         150                1   \n",
       "3                3000             1950         150                1   \n",
       "4                3000             1950         150                1   \n",
       "..                ...              ...         ...              ...   \n",
       "980              3000             1950         150                1   \n",
       "981              3000             1950         150                1   \n",
       "982              3000             1950         150                1   \n",
       "983              3000             1950         150                1   \n",
       "984              3000             1950         150                1   \n",
       "\n",
       "     rub_per_minute tariff_name  \n",
       "0                 1       ultra  \n",
       "1                 1       ultra  \n",
       "2                 1       ultra  \n",
       "3                 1       ultra  \n",
       "4                 1       ultra  \n",
       "..              ...         ...  \n",
       "980               1       ultra  \n",
       "981               1       ultra  \n",
       "982               1       ultra  \n",
       "983               1       ultra  \n",
       "984               1       ultra  \n",
       "\n",
       "[985 rows x 17 columns]"
      ]
     },
     "execution_count": 163,
     "metadata": {},
     "output_type": "execute_result"
    }
   ],
   "source": [
    "df_ultra_desc = df_ultra.merge(df_tariffs, left_on = 'tariff', right_on='tariff_name', how = 'left')\n",
    "df_ultra_desc"
   ]
  },
  {
   "cell_type": "markdown",
   "metadata": {},
   "source": [
    "<div class=\"alert alert-block alert-warning\">\n",
    "<b>КОММЕНТАРИЙ РЕВЬЮВЕРА_V3:</b> \n",
    "\n",
    "⚠️ По поводу функции как делается написал наверху, не стоит использовать цифры, так как вдруг значения могут поменяться<br>"
   ]
  },
  {
   "cell_type": "markdown",
   "metadata": {},
   "source": [
    "<div class=\"alert alert-block alert-info\">\n",
    "<b>КОММЕНТАРИЙ СТУДЕНТА_3: Обновил\n",
    "</b>\n",
    "</div>"
   ]
  },
  {
   "cell_type": "code",
   "execution_count": 164,
   "metadata": {},
   "outputs": [],
   "source": [
    "df_ultra_desc['monthly_payment'] = df_ultra_desc.apply(monthly_payment_ultra, axis=1)"
   ]
  },
  {
   "cell_type": "code",
   "execution_count": 165,
   "metadata": {},
   "outputs": [
    {
     "data": {
      "text/plain": [
       "mb_used            19468.805208\n",
       "duration             540.779695\n",
       "id                    49.363452\n",
       "monthly_payment     2070.152284\n",
       "dtype: float64"
      ]
     },
     "execution_count": 165,
     "metadata": {},
     "output_type": "execute_result"
    }
   ],
   "source": [
    "df_ultra_desc[['mb_used', 'duration', 'id', 'monthly_payment']].mean()"
   ]
  },
  {
   "cell_type": "markdown",
   "metadata": {},
   "source": [
    "  Вышы среднее потребление по услугам и выручка по тарифу ультра. Повторим для смарт"
   ]
  },
  {
   "cell_type": "code",
   "execution_count": 166,
   "metadata": {},
   "outputs": [],
   "source": [
    "def monthly_payment_smart(row):\n",
    "    payment=row['rub_monthly_fee']\n",
    "    if row['mb_used']>=row['mb_per_month_included']: payment+= np.ceil((row['mb_used']-row['mb_per_month_included'])/1024)*row['rub_per_gb']\n",
    "    if row['duration']>=row['minutes_included']:  payment+= (row['duration']-row['minutes_included'])*row['rub_per_message']\n",
    "    if row['id']>=row['messages_included']: payment+= (row['id']-row['messages_included'])*row['rub_per_message']\n",
    "    return payment"
   ]
  },
  {
   "cell_type": "code",
   "execution_count": 167,
   "metadata": {},
   "outputs": [
    {
     "data": {
      "text/html": [
       "<div>\n",
       "<style scoped>\n",
       "    .dataframe tbody tr th:only-of-type {\n",
       "        vertical-align: middle;\n",
       "    }\n",
       "\n",
       "    .dataframe tbody tr th {\n",
       "        vertical-align: top;\n",
       "    }\n",
       "\n",
       "    .dataframe thead th {\n",
       "        text-align: right;\n",
       "    }\n",
       "</style>\n",
       "<table border=\"1\" class=\"dataframe\">\n",
       "  <thead>\n",
       "    <tr style=\"text-align: right;\">\n",
       "      <th></th>\n",
       "      <th>user_id</th>\n",
       "      <th>month</th>\n",
       "      <th>count_mb_used</th>\n",
       "      <th>mb_used</th>\n",
       "      <th>(count, duration)</th>\n",
       "      <th>duration</th>\n",
       "      <th>id</th>\n",
       "      <th>tariff</th>\n",
       "      <th>gb_used</th>\n",
       "      <th>messages_included</th>\n",
       "      <th>mb_per_month_included</th>\n",
       "      <th>minutes_included</th>\n",
       "      <th>rub_monthly_fee</th>\n",
       "      <th>rub_per_gb</th>\n",
       "      <th>rub_per_message</th>\n",
       "      <th>rub_per_minute</th>\n",
       "      <th>tariff_name</th>\n",
       "    </tr>\n",
       "  </thead>\n",
       "  <tbody>\n",
       "    <tr>\n",
       "      <th>0</th>\n",
       "      <td>1001</td>\n",
       "      <td>11</td>\n",
       "      <td>55.0</td>\n",
       "      <td>18429.34</td>\n",
       "      <td>59.0</td>\n",
       "      <td>444.0</td>\n",
       "      <td>0.0</td>\n",
       "      <td>smart</td>\n",
       "      <td>18.0</td>\n",
       "      <td>50</td>\n",
       "      <td>15360</td>\n",
       "      <td>500</td>\n",
       "      <td>550</td>\n",
       "      <td>200</td>\n",
       "      <td>3</td>\n",
       "      <td>3</td>\n",
       "      <td>smart</td>\n",
       "    </tr>\n",
       "    <tr>\n",
       "      <th>1</th>\n",
       "      <td>1001</td>\n",
       "      <td>12</td>\n",
       "      <td>41.0</td>\n",
       "      <td>14036.66</td>\n",
       "      <td>63.0</td>\n",
       "      <td>430.0</td>\n",
       "      <td>0.0</td>\n",
       "      <td>smart</td>\n",
       "      <td>14.0</td>\n",
       "      <td>50</td>\n",
       "      <td>15360</td>\n",
       "      <td>500</td>\n",
       "      <td>550</td>\n",
       "      <td>200</td>\n",
       "      <td>3</td>\n",
       "      <td>3</td>\n",
       "      <td>smart</td>\n",
       "    </tr>\n",
       "    <tr>\n",
       "      <th>2</th>\n",
       "      <td>1002</td>\n",
       "      <td>6</td>\n",
       "      <td>34.0</td>\n",
       "      <td>10856.82</td>\n",
       "      <td>15.0</td>\n",
       "      <td>118.0</td>\n",
       "      <td>4.0</td>\n",
       "      <td>smart</td>\n",
       "      <td>11.0</td>\n",
       "      <td>50</td>\n",
       "      <td>15360</td>\n",
       "      <td>500</td>\n",
       "      <td>550</td>\n",
       "      <td>200</td>\n",
       "      <td>3</td>\n",
       "      <td>3</td>\n",
       "      <td>smart</td>\n",
       "    </tr>\n",
       "    <tr>\n",
       "      <th>3</th>\n",
       "      <td>1002</td>\n",
       "      <td>7</td>\n",
       "      <td>58.0</td>\n",
       "      <td>17580.10</td>\n",
       "      <td>26.0</td>\n",
       "      <td>219.0</td>\n",
       "      <td>11.0</td>\n",
       "      <td>smart</td>\n",
       "      <td>18.0</td>\n",
       "      <td>50</td>\n",
       "      <td>15360</td>\n",
       "      <td>500</td>\n",
       "      <td>550</td>\n",
       "      <td>200</td>\n",
       "      <td>3</td>\n",
       "      <td>3</td>\n",
       "      <td>smart</td>\n",
       "    </tr>\n",
       "    <tr>\n",
       "      <th>4</th>\n",
       "      <td>1002</td>\n",
       "      <td>8</td>\n",
       "      <td>60.0</td>\n",
       "      <td>20319.26</td>\n",
       "      <td>42.0</td>\n",
       "      <td>294.0</td>\n",
       "      <td>13.0</td>\n",
       "      <td>smart</td>\n",
       "      <td>20.0</td>\n",
       "      <td>50</td>\n",
       "      <td>15360</td>\n",
       "      <td>500</td>\n",
       "      <td>550</td>\n",
       "      <td>200</td>\n",
       "      <td>3</td>\n",
       "      <td>3</td>\n",
       "      <td>smart</td>\n",
       "    </tr>\n",
       "    <tr>\n",
       "      <th>...</th>\n",
       "      <td>...</td>\n",
       "      <td>...</td>\n",
       "      <td>...</td>\n",
       "      <td>...</td>\n",
       "      <td>...</td>\n",
       "      <td>...</td>\n",
       "      <td>...</td>\n",
       "      <td>...</td>\n",
       "      <td>...</td>\n",
       "      <td>...</td>\n",
       "      <td>...</td>\n",
       "      <td>...</td>\n",
       "      <td>...</td>\n",
       "      <td>...</td>\n",
       "      <td>...</td>\n",
       "      <td>...</td>\n",
       "      <td>...</td>\n",
       "    </tr>\n",
       "    <tr>\n",
       "      <th>2224</th>\n",
       "      <td>1499</td>\n",
       "      <td>9</td>\n",
       "      <td>5.0</td>\n",
       "      <td>1845.75</td>\n",
       "      <td>9.0</td>\n",
       "      <td>71.0</td>\n",
       "      <td>11.0</td>\n",
       "      <td>smart</td>\n",
       "      <td>2.0</td>\n",
       "      <td>50</td>\n",
       "      <td>15360</td>\n",
       "      <td>500</td>\n",
       "      <td>550</td>\n",
       "      <td>200</td>\n",
       "      <td>3</td>\n",
       "      <td>3</td>\n",
       "      <td>smart</td>\n",
       "    </tr>\n",
       "    <tr>\n",
       "      <th>2225</th>\n",
       "      <td>1499</td>\n",
       "      <td>10</td>\n",
       "      <td>58.0</td>\n",
       "      <td>17788.51</td>\n",
       "      <td>68.0</td>\n",
       "      <td>473.0</td>\n",
       "      <td>48.0</td>\n",
       "      <td>smart</td>\n",
       "      <td>18.0</td>\n",
       "      <td>50</td>\n",
       "      <td>15360</td>\n",
       "      <td>500</td>\n",
       "      <td>550</td>\n",
       "      <td>200</td>\n",
       "      <td>3</td>\n",
       "      <td>3</td>\n",
       "      <td>smart</td>\n",
       "    </tr>\n",
       "    <tr>\n",
       "      <th>2226</th>\n",
       "      <td>1499</td>\n",
       "      <td>11</td>\n",
       "      <td>49.0</td>\n",
       "      <td>17963.31</td>\n",
       "      <td>74.0</td>\n",
       "      <td>624.0</td>\n",
       "      <td>59.0</td>\n",
       "      <td>smart</td>\n",
       "      <td>18.0</td>\n",
       "      <td>50</td>\n",
       "      <td>15360</td>\n",
       "      <td>500</td>\n",
       "      <td>550</td>\n",
       "      <td>200</td>\n",
       "      <td>3</td>\n",
       "      <td>3</td>\n",
       "      <td>smart</td>\n",
       "    </tr>\n",
       "    <tr>\n",
       "      <th>2227</th>\n",
       "      <td>1499</td>\n",
       "      <td>12</td>\n",
       "      <td>45.0</td>\n",
       "      <td>13055.58</td>\n",
       "      <td>69.0</td>\n",
       "      <td>505.0</td>\n",
       "      <td>66.0</td>\n",
       "      <td>smart</td>\n",
       "      <td>13.0</td>\n",
       "      <td>50</td>\n",
       "      <td>15360</td>\n",
       "      <td>500</td>\n",
       "      <td>550</td>\n",
       "      <td>200</td>\n",
       "      <td>3</td>\n",
       "      <td>3</td>\n",
       "      <td>smart</td>\n",
       "    </tr>\n",
       "    <tr>\n",
       "      <th>2228</th>\n",
       "      <td>1446</td>\n",
       "      <td>8</td>\n",
       "      <td>0.0</td>\n",
       "      <td>0.00</td>\n",
       "      <td>4.0</td>\n",
       "      <td>50.0</td>\n",
       "      <td>1.0</td>\n",
       "      <td>smart</td>\n",
       "      <td>0.0</td>\n",
       "      <td>50</td>\n",
       "      <td>15360</td>\n",
       "      <td>500</td>\n",
       "      <td>550</td>\n",
       "      <td>200</td>\n",
       "      <td>3</td>\n",
       "      <td>3</td>\n",
       "      <td>smart</td>\n",
       "    </tr>\n",
       "  </tbody>\n",
       "</table>\n",
       "<p>2229 rows × 17 columns</p>\n",
       "</div>"
      ],
      "text/plain": [
       "      user_id  month  count_mb_used   mb_used  (count, duration)  duration  \\\n",
       "0        1001     11           55.0  18429.34               59.0     444.0   \n",
       "1        1001     12           41.0  14036.66               63.0     430.0   \n",
       "2        1002      6           34.0  10856.82               15.0     118.0   \n",
       "3        1002      7           58.0  17580.10               26.0     219.0   \n",
       "4        1002      8           60.0  20319.26               42.0     294.0   \n",
       "...       ...    ...            ...       ...                ...       ...   \n",
       "2224     1499      9            5.0   1845.75                9.0      71.0   \n",
       "2225     1499     10           58.0  17788.51               68.0     473.0   \n",
       "2226     1499     11           49.0  17963.31               74.0     624.0   \n",
       "2227     1499     12           45.0  13055.58               69.0     505.0   \n",
       "2228     1446      8            0.0      0.00                4.0      50.0   \n",
       "\n",
       "        id tariff  gb_used  messages_included  mb_per_month_included  \\\n",
       "0      0.0  smart     18.0                 50                  15360   \n",
       "1      0.0  smart     14.0                 50                  15360   \n",
       "2      4.0  smart     11.0                 50                  15360   \n",
       "3     11.0  smart     18.0                 50                  15360   \n",
       "4     13.0  smart     20.0                 50                  15360   \n",
       "...    ...    ...      ...                ...                    ...   \n",
       "2224  11.0  smart      2.0                 50                  15360   \n",
       "2225  48.0  smart     18.0                 50                  15360   \n",
       "2226  59.0  smart     18.0                 50                  15360   \n",
       "2227  66.0  smart     13.0                 50                  15360   \n",
       "2228   1.0  smart      0.0                 50                  15360   \n",
       "\n",
       "      minutes_included  rub_monthly_fee  rub_per_gb  rub_per_message  \\\n",
       "0                  500              550         200                3   \n",
       "1                  500              550         200                3   \n",
       "2                  500              550         200                3   \n",
       "3                  500              550         200                3   \n",
       "4                  500              550         200                3   \n",
       "...                ...              ...         ...              ...   \n",
       "2224               500              550         200                3   \n",
       "2225               500              550         200                3   \n",
       "2226               500              550         200                3   \n",
       "2227               500              550         200                3   \n",
       "2228               500              550         200                3   \n",
       "\n",
       "      rub_per_minute tariff_name  \n",
       "0                  3       smart  \n",
       "1                  3       smart  \n",
       "2                  3       smart  \n",
       "3                  3       smart  \n",
       "4                  3       smart  \n",
       "...              ...         ...  \n",
       "2224               3       smart  \n",
       "2225               3       smart  \n",
       "2226               3       smart  \n",
       "2227               3       smart  \n",
       "2228               3       smart  \n",
       "\n",
       "[2229 rows x 17 columns]"
      ]
     },
     "execution_count": 167,
     "metadata": {},
     "output_type": "execute_result"
    }
   ],
   "source": [
    "df_smart_desc = df_smart.merge(df_tariffs, left_on = 'tariff', right_on='tariff_name', how = 'left')\n",
    "df_smart_desc"
   ]
  },
  {
   "cell_type": "code",
   "execution_count": 168,
   "metadata": {},
   "outputs": [],
   "source": [
    "df_smart_desc['monthly_payment'] = df_smart_desc.apply(monthly_payment_smart, axis=1)"
   ]
  },
  {
   "cell_type": "code",
   "execution_count": 169,
   "metadata": {},
   "outputs": [
    {
     "data": {
      "text/plain": [
       "mb_used            16208.386990\n",
       "duration             429.450875\n",
       "id                    33.384029\n",
       "monthly_payment     1306.949305\n",
       "dtype: float64"
      ]
     },
     "execution_count": 169,
     "metadata": {},
     "output_type": "execute_result"
    }
   ],
   "source": [
    "df_smart_desc[['mb_used', 'duration', 'id', 'monthly_payment']].mean()"
   ]
  },
  {
   "cell_type": "markdown",
   "metadata": {},
   "source": [
    " Выше среднее потребление и выручка по смарт. \n",
    " Итого абоненты ультра более активны и более доходны."
   ]
  },
  {
   "cell_type": "markdown",
   "metadata": {},
   "source": [
    "Сформулируем гипотезы:\n",
    "\n",
    "- Нулевая гипотеза H₀: Средняя выручка пользователей тарифов ultra и smart не различается\n",
    "- Альтернативная гипотеза H₁: Средняя выручка пользователей тарифов ultra и smart различается"
   ]
  },
  {
   "cell_type": "markdown",
   "metadata": {},
   "source": [
    "<div class=\"alert alert-block alert-success\">\n",
    "<b>КОММЕНТАРИЙ РЕВЬЮВЕРА:</b> \n",
    "    \n",
    "✔️  Нулевую и альтернативную гипотезу правильно сформулировал)\n",
    "\n",
    "\n",
    "</div>"
   ]
  },
  {
   "cell_type": "code",
   "execution_count": 170,
   "metadata": {},
   "outputs": [
    {
     "data": {
      "text/plain": [
       "0       1150.0\n",
       "1        550.0\n",
       "2        550.0\n",
       "3       1150.0\n",
       "4       1550.0\n",
       "         ...  \n",
       "2224     550.0\n",
       "2225    1150.0\n",
       "2226    1549.0\n",
       "2227     613.0\n",
       "2228     550.0\n",
       "Name: monthly_payment, Length: 2229, dtype: float64"
      ]
     },
     "execution_count": 170,
     "metadata": {},
     "output_type": "execute_result"
    }
   ],
   "source": [
    "df_smart_desc['monthly_payment']"
   ]
  },
  {
   "cell_type": "code",
   "execution_count": 171,
   "metadata": {},
   "outputs": [
    {
     "name": "stdout",
     "output_type": "stream",
     "text": [
      "p-значение: 1.1153514054806892e-151\n",
      "Отвергаем нулевую гипотезу\n"
     ]
    }
   ],
   "source": [
    "alpha = .01\n",
    "\n",
    "results = st.ttest_ind(\n",
    "    df_smart_desc['monthly_payment'], \n",
    "    df_ultra_desc['monthly_payment'])\n",
    "\n",
    "print('p-значение:', results.pvalue)\n",
    "\n",
    "if (results.pvalue < alpha):\n",
    "    print(\"Отвергаем нулевую гипотезу\")\n",
    "else:\n",
    "    print(\"Не получилось отвергнуть нулевую гипотезу\")"
   ]
  },
  {
   "cell_type": "markdown",
   "metadata": {},
   "source": [
    "Вывод: крайне низкая вероятность достоверности нулевой гипотезы, принимается альтернативная гипотеза о различии выручки ультра и смарт"
   ]
  },
  {
   "cell_type": "markdown",
   "metadata": {},
   "source": [
    "<div class=\"alert alert-block alert-warning\">\n",
    "<b>КОММЕНТАРИЙ РЕВЬЮВЕРА_V3:</b> \n",
    "\n",
    "⚠️ На подумать, скажем так, почему решил использовать alpha = .01.\n",
    "    После проверки гипотезы делаем выводы<br>"
   ]
  },
  {
   "cell_type": "markdown",
   "metadata": {},
   "source": [
    "<div class=\"alert alert-block alert-info\">\n",
    "<b>КОММЕНТАРИЙ СТУДЕНТА_3: Добавил вывод. <br>\n",
    "    Альфа - уровень значимости. 0.01 обозначает, что мы рассматриваем вероятность (p value) 99% попадания в выборку.\n",
    "Обычно используется либо 5% либо 1%, какой именно уровень значимости выбрать наверное зависит от риск-аппетита.\n",
    "    </b>\n",
    "</div>"
   ]
  },
  {
   "cell_type": "markdown",
   "metadata": {},
   "source": [
    "<div class=\"alert alert-block alert-success\">\n",
    "<b>КОММЕНТАРИЙ РЕВЬЮВЕРА:</b> \n",
    "    \n",
    "✔️  Ответ принимаются)\n",
    "\n",
    "\n",
    "</div>"
   ]
  },
  {
   "cell_type": "markdown",
   "metadata": {},
   "source": [
    "#### средняя выручка пользователей из Москвы отличается от выручки пользователей из других регионов."
   ]
  },
  {
   "cell_type": "code",
   "execution_count": 172,
   "metadata": {},
   "outputs": [
    {
     "data": {
      "text/html": [
       "<div>\n",
       "<style scoped>\n",
       "    .dataframe tbody tr th:only-of-type {\n",
       "        vertical-align: middle;\n",
       "    }\n",
       "\n",
       "    .dataframe tbody tr th {\n",
       "        vertical-align: top;\n",
       "    }\n",
       "\n",
       "    .dataframe thead th {\n",
       "        text-align: right;\n",
       "    }\n",
       "</style>\n",
       "<table border=\"1\" class=\"dataframe\">\n",
       "  <thead>\n",
       "    <tr style=\"text-align: right;\">\n",
       "      <th></th>\n",
       "      <th>user_id</th>\n",
       "      <th>month</th>\n",
       "      <th>gb_used</th>\n",
       "      <th>messages_included</th>\n",
       "      <th>mb_per_month_included</th>\n",
       "      <th>minutes_included</th>\n",
       "      <th>rub_monthly_fee</th>\n",
       "      <th>rub_per_gb</th>\n",
       "      <th>rub_per_message</th>\n",
       "      <th>rub_per_minute</th>\n",
       "      <th>tariff_name</th>\n",
       "      <th>monthly_payment</th>\n",
       "    </tr>\n",
       "  </thead>\n",
       "  <tbody>\n",
       "    <tr>\n",
       "      <th>0</th>\n",
       "      <td>1000</td>\n",
       "      <td>5</td>\n",
       "      <td>3.0</td>\n",
       "      <td>1000</td>\n",
       "      <td>30720</td>\n",
       "      <td>3000</td>\n",
       "      <td>1950</td>\n",
       "      <td>150</td>\n",
       "      <td>1</td>\n",
       "      <td>1</td>\n",
       "      <td>ultra</td>\n",
       "      <td>1950.0</td>\n",
       "    </tr>\n",
       "    <tr>\n",
       "      <th>1</th>\n",
       "      <td>1000</td>\n",
       "      <td>6</td>\n",
       "      <td>23.0</td>\n",
       "      <td>1000</td>\n",
       "      <td>30720</td>\n",
       "      <td>3000</td>\n",
       "      <td>1950</td>\n",
       "      <td>150</td>\n",
       "      <td>1</td>\n",
       "      <td>1</td>\n",
       "      <td>ultra</td>\n",
       "      <td>1950.0</td>\n",
       "    </tr>\n",
       "    <tr>\n",
       "      <th>2</th>\n",
       "      <td>1000</td>\n",
       "      <td>7</td>\n",
       "      <td>14.0</td>\n",
       "      <td>1000</td>\n",
       "      <td>30720</td>\n",
       "      <td>3000</td>\n",
       "      <td>1950</td>\n",
       "      <td>150</td>\n",
       "      <td>1</td>\n",
       "      <td>1</td>\n",
       "      <td>ultra</td>\n",
       "      <td>1950.0</td>\n",
       "    </tr>\n",
       "    <tr>\n",
       "      <th>3</th>\n",
       "      <td>1000</td>\n",
       "      <td>8</td>\n",
       "      <td>14.0</td>\n",
       "      <td>1000</td>\n",
       "      <td>30720</td>\n",
       "      <td>3000</td>\n",
       "      <td>1950</td>\n",
       "      <td>150</td>\n",
       "      <td>1</td>\n",
       "      <td>1</td>\n",
       "      <td>ultra</td>\n",
       "      <td>1950.0</td>\n",
       "    </tr>\n",
       "    <tr>\n",
       "      <th>4</th>\n",
       "      <td>1000</td>\n",
       "      <td>9</td>\n",
       "      <td>15.0</td>\n",
       "      <td>1000</td>\n",
       "      <td>30720</td>\n",
       "      <td>3000</td>\n",
       "      <td>1950</td>\n",
       "      <td>150</td>\n",
       "      <td>1</td>\n",
       "      <td>1</td>\n",
       "      <td>ultra</td>\n",
       "      <td>1950.0</td>\n",
       "    </tr>\n",
       "  </tbody>\n",
       "</table>\n",
       "</div>"
      ],
      "text/plain": [
       "   user_id  month  gb_used  messages_included  mb_per_month_included  \\\n",
       "0     1000      5      3.0               1000                  30720   \n",
       "1     1000      6     23.0               1000                  30720   \n",
       "2     1000      7     14.0               1000                  30720   \n",
       "3     1000      8     14.0               1000                  30720   \n",
       "4     1000      9     15.0               1000                  30720   \n",
       "\n",
       "   minutes_included  rub_monthly_fee  rub_per_gb  rub_per_message  \\\n",
       "0              3000             1950         150                1   \n",
       "1              3000             1950         150                1   \n",
       "2              3000             1950         150                1   \n",
       "3              3000             1950         150                1   \n",
       "4              3000             1950         150                1   \n",
       "\n",
       "   rub_per_minute tariff_name  monthly_payment  \n",
       "0               1       ultra           1950.0  \n",
       "1               1       ultra           1950.0  \n",
       "2               1       ultra           1950.0  \n",
       "3               1       ultra           1950.0  \n",
       "4               1       ultra           1950.0  "
      ]
     },
     "execution_count": 172,
     "metadata": {},
     "output_type": "execute_result"
    }
   ],
   "source": [
    "df_smart_monthly=df_smart_desc.drop(['count_mb_used', 'mb_used', 'duration', 'id', 'tariff', ('count', 'duration')], axis=1)\n",
    "df_smart_monthly.head()\n",
    "df_ultra_monthly=df_ultra_desc.drop(['count_mb_used', 'mb_used', 'duration', 'id', 'tariff', ('count', 'duration')], axis=1)\n",
    "df_ultra_monthly.head()"
   ]
  },
  {
   "cell_type": "code",
   "execution_count": 173,
   "metadata": {},
   "outputs": [
    {
     "data": {
      "text/html": [
       "<div>\n",
       "<style scoped>\n",
       "    .dataframe tbody tr th:only-of-type {\n",
       "        vertical-align: middle;\n",
       "    }\n",
       "\n",
       "    .dataframe tbody tr th {\n",
       "        vertical-align: top;\n",
       "    }\n",
       "\n",
       "    .dataframe thead th {\n",
       "        text-align: right;\n",
       "    }\n",
       "</style>\n",
       "<table border=\"1\" class=\"dataframe\">\n",
       "  <thead>\n",
       "    <tr style=\"text-align: right;\">\n",
       "      <th></th>\n",
       "      <th>user_id</th>\n",
       "      <th>city</th>\n",
       "    </tr>\n",
       "  </thead>\n",
       "  <tbody>\n",
       "    <tr>\n",
       "      <th>0</th>\n",
       "      <td>1000</td>\n",
       "      <td>Краснодар</td>\n",
       "    </tr>\n",
       "    <tr>\n",
       "      <th>1</th>\n",
       "      <td>1001</td>\n",
       "      <td>Москва</td>\n",
       "    </tr>\n",
       "    <tr>\n",
       "      <th>2</th>\n",
       "      <td>1002</td>\n",
       "      <td>Стерлитамак</td>\n",
       "    </tr>\n",
       "    <tr>\n",
       "      <th>3</th>\n",
       "      <td>1003</td>\n",
       "      <td>Москва</td>\n",
       "    </tr>\n",
       "    <tr>\n",
       "      <th>4</th>\n",
       "      <td>1004</td>\n",
       "      <td>Новокузнецк</td>\n",
       "    </tr>\n",
       "    <tr>\n",
       "      <th>...</th>\n",
       "      <td>...</td>\n",
       "      <td>...</td>\n",
       "    </tr>\n",
       "    <tr>\n",
       "      <th>495</th>\n",
       "      <td>1495</td>\n",
       "      <td>Иркутск</td>\n",
       "    </tr>\n",
       "    <tr>\n",
       "      <th>496</th>\n",
       "      <td>1496</td>\n",
       "      <td>Вологда</td>\n",
       "    </tr>\n",
       "    <tr>\n",
       "      <th>497</th>\n",
       "      <td>1497</td>\n",
       "      <td>Челябинск</td>\n",
       "    </tr>\n",
       "    <tr>\n",
       "      <th>498</th>\n",
       "      <td>1498</td>\n",
       "      <td>Владикавказ</td>\n",
       "    </tr>\n",
       "    <tr>\n",
       "      <th>499</th>\n",
       "      <td>1499</td>\n",
       "      <td>Пермь</td>\n",
       "    </tr>\n",
       "  </tbody>\n",
       "</table>\n",
       "<p>500 rows × 2 columns</p>\n",
       "</div>"
      ],
      "text/plain": [
       "     user_id         city\n",
       "0       1000    Краснодар\n",
       "1       1001       Москва\n",
       "2       1002  Стерлитамак\n",
       "3       1003       Москва\n",
       "4       1004  Новокузнецк\n",
       "..       ...          ...\n",
       "495     1495      Иркутск\n",
       "496     1496      Вологда\n",
       "497     1497    Челябинск\n",
       "498     1498  Владикавказ\n",
       "499     1499        Пермь\n",
       "\n",
       "[500 rows x 2 columns]"
      ]
     },
     "execution_count": 173,
     "metadata": {},
     "output_type": "execute_result"
    }
   ],
   "source": [
    "df_users.head()\n",
    "#df.drop(['B', 'C'], axis=1)\n",
    "df_users_city=df_users.drop(['age', 'churn_date', 'first_name', 'last_name', 'reg_date', 'tariff'], axis=1)\n",
    "df_users_city"
   ]
  },
  {
   "cell_type": "code",
   "execution_count": 174,
   "metadata": {},
   "outputs": [
    {
     "data": {
      "text/html": [
       "<div>\n",
       "<style scoped>\n",
       "    .dataframe tbody tr th:only-of-type {\n",
       "        vertical-align: middle;\n",
       "    }\n",
       "\n",
       "    .dataframe tbody tr th {\n",
       "        vertical-align: top;\n",
       "    }\n",
       "\n",
       "    .dataframe thead th {\n",
       "        text-align: right;\n",
       "    }\n",
       "</style>\n",
       "<table border=\"1\" class=\"dataframe\">\n",
       "  <thead>\n",
       "    <tr style=\"text-align: right;\">\n",
       "      <th></th>\n",
       "      <th>user_id</th>\n",
       "      <th>month</th>\n",
       "      <th>count_mb_used</th>\n",
       "      <th>mb_used</th>\n",
       "      <th>(count, duration)</th>\n",
       "      <th>duration</th>\n",
       "      <th>id</th>\n",
       "      <th>tariff</th>\n",
       "      <th>gb_used</th>\n",
       "      <th>city</th>\n",
       "    </tr>\n",
       "  </thead>\n",
       "  <tbody>\n",
       "    <tr>\n",
       "      <th>0</th>\n",
       "      <td>1000</td>\n",
       "      <td>5</td>\n",
       "      <td>5.0</td>\n",
       "      <td>2253.49</td>\n",
       "      <td>22.0</td>\n",
       "      <td>164.0</td>\n",
       "      <td>22.0</td>\n",
       "      <td>ultra</td>\n",
       "      <td>3.0</td>\n",
       "      <td>Краснодар</td>\n",
       "    </tr>\n",
       "    <tr>\n",
       "      <th>1</th>\n",
       "      <td>1000</td>\n",
       "      <td>6</td>\n",
       "      <td>49.0</td>\n",
       "      <td>23233.77</td>\n",
       "      <td>43.0</td>\n",
       "      <td>187.0</td>\n",
       "      <td>60.0</td>\n",
       "      <td>ultra</td>\n",
       "      <td>23.0</td>\n",
       "      <td>Краснодар</td>\n",
       "    </tr>\n",
       "    <tr>\n",
       "      <th>2</th>\n",
       "      <td>1000</td>\n",
       "      <td>7</td>\n",
       "      <td>29.0</td>\n",
       "      <td>14003.64</td>\n",
       "      <td>47.0</td>\n",
       "      <td>346.0</td>\n",
       "      <td>75.0</td>\n",
       "      <td>ultra</td>\n",
       "      <td>14.0</td>\n",
       "      <td>Краснодар</td>\n",
       "    </tr>\n",
       "    <tr>\n",
       "      <th>3</th>\n",
       "      <td>1000</td>\n",
       "      <td>8</td>\n",
       "      <td>29.0</td>\n",
       "      <td>14055.93</td>\n",
       "      <td>52.0</td>\n",
       "      <td>418.0</td>\n",
       "      <td>81.0</td>\n",
       "      <td>ultra</td>\n",
       "      <td>14.0</td>\n",
       "      <td>Краснодар</td>\n",
       "    </tr>\n",
       "    <tr>\n",
       "      <th>4</th>\n",
       "      <td>1000</td>\n",
       "      <td>9</td>\n",
       "      <td>27.0</td>\n",
       "      <td>14568.91</td>\n",
       "      <td>58.0</td>\n",
       "      <td>478.0</td>\n",
       "      <td>57.0</td>\n",
       "      <td>ultra</td>\n",
       "      <td>15.0</td>\n",
       "      <td>Краснодар</td>\n",
       "    </tr>\n",
       "    <tr>\n",
       "      <th>5</th>\n",
       "      <td>1000</td>\n",
       "      <td>10</td>\n",
       "      <td>27.0</td>\n",
       "      <td>14702.49</td>\n",
       "      <td>57.0</td>\n",
       "      <td>363.0</td>\n",
       "      <td>73.0</td>\n",
       "      <td>ultra</td>\n",
       "      <td>15.0</td>\n",
       "      <td>Краснодар</td>\n",
       "    </tr>\n",
       "    <tr>\n",
       "      <th>6</th>\n",
       "      <td>1000</td>\n",
       "      <td>11</td>\n",
       "      <td>24.0</td>\n",
       "      <td>14756.47</td>\n",
       "      <td>43.0</td>\n",
       "      <td>344.0</td>\n",
       "      <td>58.0</td>\n",
       "      <td>ultra</td>\n",
       "      <td>15.0</td>\n",
       "      <td>Краснодар</td>\n",
       "    </tr>\n",
       "    <tr>\n",
       "      <th>7</th>\n",
       "      <td>1000</td>\n",
       "      <td>12</td>\n",
       "      <td>21.0</td>\n",
       "      <td>9817.61</td>\n",
       "      <td>46.0</td>\n",
       "      <td>341.0</td>\n",
       "      <td>70.0</td>\n",
       "      <td>ultra</td>\n",
       "      <td>10.0</td>\n",
       "      <td>Краснодар</td>\n",
       "    </tr>\n",
       "    <tr>\n",
       "      <th>8</th>\n",
       "      <td>1001</td>\n",
       "      <td>11</td>\n",
       "      <td>55.0</td>\n",
       "      <td>18429.34</td>\n",
       "      <td>59.0</td>\n",
       "      <td>444.0</td>\n",
       "      <td>0.0</td>\n",
       "      <td>smart</td>\n",
       "      <td>18.0</td>\n",
       "      <td>Москва</td>\n",
       "    </tr>\n",
       "    <tr>\n",
       "      <th>9</th>\n",
       "      <td>1001</td>\n",
       "      <td>12</td>\n",
       "      <td>41.0</td>\n",
       "      <td>14036.66</td>\n",
       "      <td>63.0</td>\n",
       "      <td>430.0</td>\n",
       "      <td>0.0</td>\n",
       "      <td>smart</td>\n",
       "      <td>14.0</td>\n",
       "      <td>Москва</td>\n",
       "    </tr>\n",
       "  </tbody>\n",
       "</table>\n",
       "</div>"
      ],
      "text/plain": [
       "   user_id  month  count_mb_used   mb_used  (count, duration)  duration    id  \\\n",
       "0     1000      5            5.0   2253.49               22.0     164.0  22.0   \n",
       "1     1000      6           49.0  23233.77               43.0     187.0  60.0   \n",
       "2     1000      7           29.0  14003.64               47.0     346.0  75.0   \n",
       "3     1000      8           29.0  14055.93               52.0     418.0  81.0   \n",
       "4     1000      9           27.0  14568.91               58.0     478.0  57.0   \n",
       "5     1000     10           27.0  14702.49               57.0     363.0  73.0   \n",
       "6     1000     11           24.0  14756.47               43.0     344.0  58.0   \n",
       "7     1000     12           21.0   9817.61               46.0     341.0  70.0   \n",
       "8     1001     11           55.0  18429.34               59.0     444.0   0.0   \n",
       "9     1001     12           41.0  14036.66               63.0     430.0   0.0   \n",
       "\n",
       "  tariff  gb_used       city  \n",
       "0  ultra      3.0  Краснодар  \n",
       "1  ultra     23.0  Краснодар  \n",
       "2  ultra     14.0  Краснодар  \n",
       "3  ultra     14.0  Краснодар  \n",
       "4  ultra     15.0  Краснодар  \n",
       "5  ultra     15.0  Краснодар  \n",
       "6  ultra     15.0  Краснодар  \n",
       "7  ultra     10.0  Краснодар  \n",
       "8  smart     18.0     Москва  \n",
       "9  smart     14.0     Москва  "
      ]
     },
     "execution_count": 174,
     "metadata": {},
     "output_type": "execute_result"
    }
   ],
   "source": [
    "df_total.head()\n",
    "df_total_city = df_total.merge(df_users_city, on='user_id')\n",
    "df_total_city.head(10)"
   ]
  },
  {
   "cell_type": "code",
   "execution_count": 175,
   "metadata": {},
   "outputs": [],
   "source": [
    "def moscow_other(row):\n",
    "    if row['city'] == 'Москва': return 'Москва'\n",
    "    else: return 'другой регион'"
   ]
  },
  {
   "cell_type": "code",
   "execution_count": 176,
   "metadata": {},
   "outputs": [],
   "source": [
    "df_total_city['moscow_other']=df_total_city.apply(moscow_other, axis=1)"
   ]
  },
  {
   "cell_type": "code",
   "execution_count": 177,
   "metadata": {},
   "outputs": [
    {
     "data": {
      "text/html": [
       "<div>\n",
       "<style scoped>\n",
       "    .dataframe tbody tr th:only-of-type {\n",
       "        vertical-align: middle;\n",
       "    }\n",
       "\n",
       "    .dataframe tbody tr th {\n",
       "        vertical-align: top;\n",
       "    }\n",
       "\n",
       "    .dataframe thead th {\n",
       "        text-align: right;\n",
       "    }\n",
       "</style>\n",
       "<table border=\"1\" class=\"dataframe\">\n",
       "  <thead>\n",
       "    <tr style=\"text-align: right;\">\n",
       "      <th></th>\n",
       "      <th>user_id</th>\n",
       "      <th>month</th>\n",
       "      <th>gb_used</th>\n",
       "      <th>messages_included</th>\n",
       "      <th>mb_per_month_included</th>\n",
       "      <th>minutes_included</th>\n",
       "      <th>rub_monthly_fee</th>\n",
       "      <th>rub_per_gb</th>\n",
       "      <th>rub_per_message</th>\n",
       "      <th>rub_per_minute</th>\n",
       "      <th>tariff_name</th>\n",
       "      <th>monthly_payment</th>\n",
       "    </tr>\n",
       "  </thead>\n",
       "  <tbody>\n",
       "    <tr>\n",
       "      <th>0</th>\n",
       "      <td>1000</td>\n",
       "      <td>5</td>\n",
       "      <td>3.0</td>\n",
       "      <td>1000</td>\n",
       "      <td>30720</td>\n",
       "      <td>3000</td>\n",
       "      <td>1950</td>\n",
       "      <td>150</td>\n",
       "      <td>1</td>\n",
       "      <td>1</td>\n",
       "      <td>ultra</td>\n",
       "      <td>1950.0</td>\n",
       "    </tr>\n",
       "    <tr>\n",
       "      <th>1</th>\n",
       "      <td>1000</td>\n",
       "      <td>6</td>\n",
       "      <td>23.0</td>\n",
       "      <td>1000</td>\n",
       "      <td>30720</td>\n",
       "      <td>3000</td>\n",
       "      <td>1950</td>\n",
       "      <td>150</td>\n",
       "      <td>1</td>\n",
       "      <td>1</td>\n",
       "      <td>ultra</td>\n",
       "      <td>1950.0</td>\n",
       "    </tr>\n",
       "    <tr>\n",
       "      <th>2</th>\n",
       "      <td>1000</td>\n",
       "      <td>7</td>\n",
       "      <td>14.0</td>\n",
       "      <td>1000</td>\n",
       "      <td>30720</td>\n",
       "      <td>3000</td>\n",
       "      <td>1950</td>\n",
       "      <td>150</td>\n",
       "      <td>1</td>\n",
       "      <td>1</td>\n",
       "      <td>ultra</td>\n",
       "      <td>1950.0</td>\n",
       "    </tr>\n",
       "    <tr>\n",
       "      <th>3</th>\n",
       "      <td>1000</td>\n",
       "      <td>8</td>\n",
       "      <td>14.0</td>\n",
       "      <td>1000</td>\n",
       "      <td>30720</td>\n",
       "      <td>3000</td>\n",
       "      <td>1950</td>\n",
       "      <td>150</td>\n",
       "      <td>1</td>\n",
       "      <td>1</td>\n",
       "      <td>ultra</td>\n",
       "      <td>1950.0</td>\n",
       "    </tr>\n",
       "    <tr>\n",
       "      <th>4</th>\n",
       "      <td>1000</td>\n",
       "      <td>9</td>\n",
       "      <td>15.0</td>\n",
       "      <td>1000</td>\n",
       "      <td>30720</td>\n",
       "      <td>3000</td>\n",
       "      <td>1950</td>\n",
       "      <td>150</td>\n",
       "      <td>1</td>\n",
       "      <td>1</td>\n",
       "      <td>ultra</td>\n",
       "      <td>1950.0</td>\n",
       "    </tr>\n",
       "    <tr>\n",
       "      <th>...</th>\n",
       "      <td>...</td>\n",
       "      <td>...</td>\n",
       "      <td>...</td>\n",
       "      <td>...</td>\n",
       "      <td>...</td>\n",
       "      <td>...</td>\n",
       "      <td>...</td>\n",
       "      <td>...</td>\n",
       "      <td>...</td>\n",
       "      <td>...</td>\n",
       "      <td>...</td>\n",
       "      <td>...</td>\n",
       "    </tr>\n",
       "    <tr>\n",
       "      <th>980</th>\n",
       "      <td>1273</td>\n",
       "      <td>10</td>\n",
       "      <td>0.0</td>\n",
       "      <td>1000</td>\n",
       "      <td>30720</td>\n",
       "      <td>3000</td>\n",
       "      <td>1950</td>\n",
       "      <td>150</td>\n",
       "      <td>1</td>\n",
       "      <td>1</td>\n",
       "      <td>ultra</td>\n",
       "      <td>1950.0</td>\n",
       "    </tr>\n",
       "    <tr>\n",
       "      <th>981</th>\n",
       "      <td>1273</td>\n",
       "      <td>11</td>\n",
       "      <td>0.0</td>\n",
       "      <td>1000</td>\n",
       "      <td>30720</td>\n",
       "      <td>3000</td>\n",
       "      <td>1950</td>\n",
       "      <td>150</td>\n",
       "      <td>1</td>\n",
       "      <td>1</td>\n",
       "      <td>ultra</td>\n",
       "      <td>1950.0</td>\n",
       "    </tr>\n",
       "    <tr>\n",
       "      <th>982</th>\n",
       "      <td>1273</td>\n",
       "      <td>12</td>\n",
       "      <td>0.0</td>\n",
       "      <td>1000</td>\n",
       "      <td>30720</td>\n",
       "      <td>3000</td>\n",
       "      <td>1950</td>\n",
       "      <td>150</td>\n",
       "      <td>1</td>\n",
       "      <td>1</td>\n",
       "      <td>ultra</td>\n",
       "      <td>1950.0</td>\n",
       "    </tr>\n",
       "    <tr>\n",
       "      <th>983</th>\n",
       "      <td>1377</td>\n",
       "      <td>2</td>\n",
       "      <td>0.0</td>\n",
       "      <td>1000</td>\n",
       "      <td>30720</td>\n",
       "      <td>3000</td>\n",
       "      <td>1950</td>\n",
       "      <td>150</td>\n",
       "      <td>1</td>\n",
       "      <td>1</td>\n",
       "      <td>ultra</td>\n",
       "      <td>1950.0</td>\n",
       "    </tr>\n",
       "    <tr>\n",
       "      <th>984</th>\n",
       "      <td>1392</td>\n",
       "      <td>2</td>\n",
       "      <td>0.0</td>\n",
       "      <td>1000</td>\n",
       "      <td>30720</td>\n",
       "      <td>3000</td>\n",
       "      <td>1950</td>\n",
       "      <td>150</td>\n",
       "      <td>1</td>\n",
       "      <td>1</td>\n",
       "      <td>ultra</td>\n",
       "      <td>1950.0</td>\n",
       "    </tr>\n",
       "  </tbody>\n",
       "</table>\n",
       "<p>985 rows × 12 columns</p>\n",
       "</div>"
      ],
      "text/plain": [
       "     user_id  month  gb_used  messages_included  mb_per_month_included  \\\n",
       "0       1000      5      3.0               1000                  30720   \n",
       "1       1000      6     23.0               1000                  30720   \n",
       "2       1000      7     14.0               1000                  30720   \n",
       "3       1000      8     14.0               1000                  30720   \n",
       "4       1000      9     15.0               1000                  30720   \n",
       "..       ...    ...      ...                ...                    ...   \n",
       "980     1273     10      0.0               1000                  30720   \n",
       "981     1273     11      0.0               1000                  30720   \n",
       "982     1273     12      0.0               1000                  30720   \n",
       "983     1377      2      0.0               1000                  30720   \n",
       "984     1392      2      0.0               1000                  30720   \n",
       "\n",
       "     minutes_included  rub_monthly_fee  rub_per_gb  rub_per_message  \\\n",
       "0                3000             1950         150                1   \n",
       "1                3000             1950         150                1   \n",
       "2                3000             1950         150                1   \n",
       "3                3000             1950         150                1   \n",
       "4                3000             1950         150                1   \n",
       "..                ...              ...         ...              ...   \n",
       "980              3000             1950         150                1   \n",
       "981              3000             1950         150                1   \n",
       "982              3000             1950         150                1   \n",
       "983              3000             1950         150                1   \n",
       "984              3000             1950         150                1   \n",
       "\n",
       "     rub_per_minute tariff_name  monthly_payment  \n",
       "0                 1       ultra           1950.0  \n",
       "1                 1       ultra           1950.0  \n",
       "2                 1       ultra           1950.0  \n",
       "3                 1       ultra           1950.0  \n",
       "4                 1       ultra           1950.0  \n",
       "..              ...         ...              ...  \n",
       "980               1       ultra           1950.0  \n",
       "981               1       ultra           1950.0  \n",
       "982               1       ultra           1950.0  \n",
       "983               1       ultra           1950.0  \n",
       "984               1       ultra           1950.0  \n",
       "\n",
       "[985 rows x 12 columns]"
      ]
     },
     "execution_count": 177,
     "metadata": {},
     "output_type": "execute_result"
    }
   ],
   "source": [
    "#df_total_temp\n",
    "\n",
    "#df_total_temp\n",
    "df_total_city.head(20)\n",
    "df_ultra_monthly"
   ]
  },
  {
   "cell_type": "code",
   "execution_count": 178,
   "metadata": {},
   "outputs": [
    {
     "data": {
      "text/html": [
       "<div>\n",
       "<style scoped>\n",
       "    .dataframe tbody tr th:only-of-type {\n",
       "        vertical-align: middle;\n",
       "    }\n",
       "\n",
       "    .dataframe tbody tr th {\n",
       "        vertical-align: top;\n",
       "    }\n",
       "\n",
       "    .dataframe thead th {\n",
       "        text-align: right;\n",
       "    }\n",
       "</style>\n",
       "<table border=\"1\" class=\"dataframe\">\n",
       "  <thead>\n",
       "    <tr style=\"text-align: right;\">\n",
       "      <th></th>\n",
       "      <th>user_id</th>\n",
       "      <th>month</th>\n",
       "      <th>count_mb_used</th>\n",
       "      <th>mb_used</th>\n",
       "      <th>(count, duration)</th>\n",
       "      <th>duration</th>\n",
       "      <th>id</th>\n",
       "      <th>tariff</th>\n",
       "      <th>gb_used_x</th>\n",
       "      <th>city</th>\n",
       "      <th>...</th>\n",
       "      <th>gb_used_y</th>\n",
       "      <th>messages_included</th>\n",
       "      <th>mb_per_month_included</th>\n",
       "      <th>minutes_included</th>\n",
       "      <th>rub_monthly_fee</th>\n",
       "      <th>rub_per_gb</th>\n",
       "      <th>rub_per_message</th>\n",
       "      <th>rub_per_minute</th>\n",
       "      <th>tariff_name</th>\n",
       "      <th>monthly_payment</th>\n",
       "    </tr>\n",
       "  </thead>\n",
       "  <tbody>\n",
       "    <tr>\n",
       "      <th>0</th>\n",
       "      <td>1000</td>\n",
       "      <td>5</td>\n",
       "      <td>5.0</td>\n",
       "      <td>2253.49</td>\n",
       "      <td>22.0</td>\n",
       "      <td>164.0</td>\n",
       "      <td>22.0</td>\n",
       "      <td>ultra</td>\n",
       "      <td>3.0</td>\n",
       "      <td>Краснодар</td>\n",
       "      <td>...</td>\n",
       "      <td>3.0</td>\n",
       "      <td>1000</td>\n",
       "      <td>30720</td>\n",
       "      <td>3000</td>\n",
       "      <td>1950</td>\n",
       "      <td>150</td>\n",
       "      <td>1</td>\n",
       "      <td>1</td>\n",
       "      <td>ultra</td>\n",
       "      <td>1950.0</td>\n",
       "    </tr>\n",
       "    <tr>\n",
       "      <th>1</th>\n",
       "      <td>1000</td>\n",
       "      <td>6</td>\n",
       "      <td>49.0</td>\n",
       "      <td>23233.77</td>\n",
       "      <td>43.0</td>\n",
       "      <td>187.0</td>\n",
       "      <td>60.0</td>\n",
       "      <td>ultra</td>\n",
       "      <td>23.0</td>\n",
       "      <td>Краснодар</td>\n",
       "      <td>...</td>\n",
       "      <td>23.0</td>\n",
       "      <td>1000</td>\n",
       "      <td>30720</td>\n",
       "      <td>3000</td>\n",
       "      <td>1950</td>\n",
       "      <td>150</td>\n",
       "      <td>1</td>\n",
       "      <td>1</td>\n",
       "      <td>ultra</td>\n",
       "      <td>1950.0</td>\n",
       "    </tr>\n",
       "    <tr>\n",
       "      <th>2</th>\n",
       "      <td>1000</td>\n",
       "      <td>7</td>\n",
       "      <td>29.0</td>\n",
       "      <td>14003.64</td>\n",
       "      <td>47.0</td>\n",
       "      <td>346.0</td>\n",
       "      <td>75.0</td>\n",
       "      <td>ultra</td>\n",
       "      <td>14.0</td>\n",
       "      <td>Краснодар</td>\n",
       "      <td>...</td>\n",
       "      <td>14.0</td>\n",
       "      <td>1000</td>\n",
       "      <td>30720</td>\n",
       "      <td>3000</td>\n",
       "      <td>1950</td>\n",
       "      <td>150</td>\n",
       "      <td>1</td>\n",
       "      <td>1</td>\n",
       "      <td>ultra</td>\n",
       "      <td>1950.0</td>\n",
       "    </tr>\n",
       "    <tr>\n",
       "      <th>3</th>\n",
       "      <td>1000</td>\n",
       "      <td>8</td>\n",
       "      <td>29.0</td>\n",
       "      <td>14055.93</td>\n",
       "      <td>52.0</td>\n",
       "      <td>418.0</td>\n",
       "      <td>81.0</td>\n",
       "      <td>ultra</td>\n",
       "      <td>14.0</td>\n",
       "      <td>Краснодар</td>\n",
       "      <td>...</td>\n",
       "      <td>14.0</td>\n",
       "      <td>1000</td>\n",
       "      <td>30720</td>\n",
       "      <td>3000</td>\n",
       "      <td>1950</td>\n",
       "      <td>150</td>\n",
       "      <td>1</td>\n",
       "      <td>1</td>\n",
       "      <td>ultra</td>\n",
       "      <td>1950.0</td>\n",
       "    </tr>\n",
       "    <tr>\n",
       "      <th>4</th>\n",
       "      <td>1000</td>\n",
       "      <td>9</td>\n",
       "      <td>27.0</td>\n",
       "      <td>14568.91</td>\n",
       "      <td>58.0</td>\n",
       "      <td>478.0</td>\n",
       "      <td>57.0</td>\n",
       "      <td>ultra</td>\n",
       "      <td>15.0</td>\n",
       "      <td>Краснодар</td>\n",
       "      <td>...</td>\n",
       "      <td>15.0</td>\n",
       "      <td>1000</td>\n",
       "      <td>30720</td>\n",
       "      <td>3000</td>\n",
       "      <td>1950</td>\n",
       "      <td>150</td>\n",
       "      <td>1</td>\n",
       "      <td>1</td>\n",
       "      <td>ultra</td>\n",
       "      <td>1950.0</td>\n",
       "    </tr>\n",
       "    <tr>\n",
       "      <th>...</th>\n",
       "      <td>...</td>\n",
       "      <td>...</td>\n",
       "      <td>...</td>\n",
       "      <td>...</td>\n",
       "      <td>...</td>\n",
       "      <td>...</td>\n",
       "      <td>...</td>\n",
       "      <td>...</td>\n",
       "      <td>...</td>\n",
       "      <td>...</td>\n",
       "      <td>...</td>\n",
       "      <td>...</td>\n",
       "      <td>...</td>\n",
       "      <td>...</td>\n",
       "      <td>...</td>\n",
       "      <td>...</td>\n",
       "      <td>...</td>\n",
       "      <td>...</td>\n",
       "      <td>...</td>\n",
       "      <td>...</td>\n",
       "      <td>...</td>\n",
       "    </tr>\n",
       "    <tr>\n",
       "      <th>3209</th>\n",
       "      <td>1273</td>\n",
       "      <td>8</td>\n",
       "      <td>0.0</td>\n",
       "      <td>0.00</td>\n",
       "      <td>53.0</td>\n",
       "      <td>267.0</td>\n",
       "      <td>41.0</td>\n",
       "      <td>ultra</td>\n",
       "      <td>0.0</td>\n",
       "      <td>Курган</td>\n",
       "      <td>...</td>\n",
       "      <td>0.0</td>\n",
       "      <td>1000</td>\n",
       "      <td>30720</td>\n",
       "      <td>3000</td>\n",
       "      <td>1950</td>\n",
       "      <td>150</td>\n",
       "      <td>1</td>\n",
       "      <td>1</td>\n",
       "      <td>ultra</td>\n",
       "      <td>1950.0</td>\n",
       "    </tr>\n",
       "    <tr>\n",
       "      <th>3210</th>\n",
       "      <td>1273</td>\n",
       "      <td>9</td>\n",
       "      <td>0.0</td>\n",
       "      <td>0.00</td>\n",
       "      <td>33.0</td>\n",
       "      <td>228.0</td>\n",
       "      <td>32.0</td>\n",
       "      <td>ultra</td>\n",
       "      <td>0.0</td>\n",
       "      <td>Курган</td>\n",
       "      <td>...</td>\n",
       "      <td>0.0</td>\n",
       "      <td>1000</td>\n",
       "      <td>30720</td>\n",
       "      <td>3000</td>\n",
       "      <td>1950</td>\n",
       "      <td>150</td>\n",
       "      <td>1</td>\n",
       "      <td>1</td>\n",
       "      <td>ultra</td>\n",
       "      <td>1950.0</td>\n",
       "    </tr>\n",
       "    <tr>\n",
       "      <th>3211</th>\n",
       "      <td>1273</td>\n",
       "      <td>10</td>\n",
       "      <td>0.0</td>\n",
       "      <td>0.00</td>\n",
       "      <td>40.0</td>\n",
       "      <td>320.0</td>\n",
       "      <td>35.0</td>\n",
       "      <td>ultra</td>\n",
       "      <td>0.0</td>\n",
       "      <td>Курган</td>\n",
       "      <td>...</td>\n",
       "      <td>0.0</td>\n",
       "      <td>1000</td>\n",
       "      <td>30720</td>\n",
       "      <td>3000</td>\n",
       "      <td>1950</td>\n",
       "      <td>150</td>\n",
       "      <td>1</td>\n",
       "      <td>1</td>\n",
       "      <td>ultra</td>\n",
       "      <td>1950.0</td>\n",
       "    </tr>\n",
       "    <tr>\n",
       "      <th>3212</th>\n",
       "      <td>1273</td>\n",
       "      <td>11</td>\n",
       "      <td>0.0</td>\n",
       "      <td>0.00</td>\n",
       "      <td>45.0</td>\n",
       "      <td>286.0</td>\n",
       "      <td>29.0</td>\n",
       "      <td>ultra</td>\n",
       "      <td>0.0</td>\n",
       "      <td>Курган</td>\n",
       "      <td>...</td>\n",
       "      <td>0.0</td>\n",
       "      <td>1000</td>\n",
       "      <td>30720</td>\n",
       "      <td>3000</td>\n",
       "      <td>1950</td>\n",
       "      <td>150</td>\n",
       "      <td>1</td>\n",
       "      <td>1</td>\n",
       "      <td>ultra</td>\n",
       "      <td>1950.0</td>\n",
       "    </tr>\n",
       "    <tr>\n",
       "      <th>3213</th>\n",
       "      <td>1273</td>\n",
       "      <td>12</td>\n",
       "      <td>0.0</td>\n",
       "      <td>0.00</td>\n",
       "      <td>41.0</td>\n",
       "      <td>263.0</td>\n",
       "      <td>39.0</td>\n",
       "      <td>ultra</td>\n",
       "      <td>0.0</td>\n",
       "      <td>Курган</td>\n",
       "      <td>...</td>\n",
       "      <td>0.0</td>\n",
       "      <td>1000</td>\n",
       "      <td>30720</td>\n",
       "      <td>3000</td>\n",
       "      <td>1950</td>\n",
       "      <td>150</td>\n",
       "      <td>1</td>\n",
       "      <td>1</td>\n",
       "      <td>ultra</td>\n",
       "      <td>1950.0</td>\n",
       "    </tr>\n",
       "  </tbody>\n",
       "</table>\n",
       "<p>3214 rows × 21 columns</p>\n",
       "</div>"
      ],
      "text/plain": [
       "      user_id  month  count_mb_used   mb_used  (count, duration)  duration  \\\n",
       "0        1000      5            5.0   2253.49               22.0     164.0   \n",
       "1        1000      6           49.0  23233.77               43.0     187.0   \n",
       "2        1000      7           29.0  14003.64               47.0     346.0   \n",
       "3        1000      8           29.0  14055.93               52.0     418.0   \n",
       "4        1000      9           27.0  14568.91               58.0     478.0   \n",
       "...       ...    ...            ...       ...                ...       ...   \n",
       "3209     1273      8            0.0      0.00               53.0     267.0   \n",
       "3210     1273      9            0.0      0.00               33.0     228.0   \n",
       "3211     1273     10            0.0      0.00               40.0     320.0   \n",
       "3212     1273     11            0.0      0.00               45.0     286.0   \n",
       "3213     1273     12            0.0      0.00               41.0     263.0   \n",
       "\n",
       "        id tariff  gb_used_x       city  ... gb_used_y  messages_included  \\\n",
       "0     22.0  ultra        3.0  Краснодар  ...       3.0               1000   \n",
       "1     60.0  ultra       23.0  Краснодар  ...      23.0               1000   \n",
       "2     75.0  ultra       14.0  Краснодар  ...      14.0               1000   \n",
       "3     81.0  ultra       14.0  Краснодар  ...      14.0               1000   \n",
       "4     57.0  ultra       15.0  Краснодар  ...      15.0               1000   \n",
       "...    ...    ...        ...        ...  ...       ...                ...   \n",
       "3209  41.0  ultra        0.0     Курган  ...       0.0               1000   \n",
       "3210  32.0  ultra        0.0     Курган  ...       0.0               1000   \n",
       "3211  35.0  ultra        0.0     Курган  ...       0.0               1000   \n",
       "3212  29.0  ultra        0.0     Курган  ...       0.0               1000   \n",
       "3213  39.0  ultra        0.0     Курган  ...       0.0               1000   \n",
       "\n",
       "      mb_per_month_included  minutes_included  rub_monthly_fee  rub_per_gb  \\\n",
       "0                     30720              3000             1950         150   \n",
       "1                     30720              3000             1950         150   \n",
       "2                     30720              3000             1950         150   \n",
       "3                     30720              3000             1950         150   \n",
       "4                     30720              3000             1950         150   \n",
       "...                     ...               ...              ...         ...   \n",
       "3209                  30720              3000             1950         150   \n",
       "3210                  30720              3000             1950         150   \n",
       "3211                  30720              3000             1950         150   \n",
       "3212                  30720              3000             1950         150   \n",
       "3213                  30720              3000             1950         150   \n",
       "\n",
       "      rub_per_message  rub_per_minute  tariff_name monthly_payment  \n",
       "0                   1               1        ultra          1950.0  \n",
       "1                   1               1        ultra          1950.0  \n",
       "2                   1               1        ultra          1950.0  \n",
       "3                   1               1        ultra          1950.0  \n",
       "4                   1               1        ultra          1950.0  \n",
       "...               ...             ...          ...             ...  \n",
       "3209                1               1        ultra          1950.0  \n",
       "3210                1               1        ultra          1950.0  \n",
       "3211                1               1        ultra          1950.0  \n",
       "3212                1               1        ultra          1950.0  \n",
       "3213                1               1        ultra          1950.0  \n",
       "\n",
       "[3214 rows x 21 columns]"
      ]
     },
     "execution_count": 178,
     "metadata": {},
     "output_type": "execute_result"
    }
   ],
   "source": [
    "df_total_temp=pd.concat([df_ultra_monthly, df_smart_monthly])\n",
    "df_total_monthly = df_total_city.merge(df_total_temp, on = ['user_id', 'month'])\n",
    "df_total_monthly"
   ]
  },
  {
   "cell_type": "markdown",
   "metadata": {},
   "source": [
    "<div class=\"alert alert-block alert-danger\">\n",
    "<b>Комментарий ревьюера_V5:</b> \n",
    "    \n",
    "Здесь у тебя получилось уже 8119 строчек, хотя было изначально 3214) Здесь надо использовать метод `pd.concat` https://pandas.pydata.org/pandas-docs/stable/reference/api/pandas.concat.html\n",
    "</div>"
   ]
  },
  {
   "cell_type": "markdown",
   "metadata": {},
   "source": [
    "<div class=\"alert alert-block alert-info\">\n",
    "<b>КОММЕНТАРИЙ СТУДЕНТА_5: Обновил <br>\n",
    "</div>"
   ]
  },
  {
   "cell_type": "code",
   "execution_count": 179,
   "metadata": {},
   "outputs": [
    {
     "data": {
      "text/html": [
       "<div>\n",
       "<style scoped>\n",
       "    .dataframe tbody tr th:only-of-type {\n",
       "        vertical-align: middle;\n",
       "    }\n",
       "\n",
       "    .dataframe tbody tr th {\n",
       "        vertical-align: top;\n",
       "    }\n",
       "\n",
       "    .dataframe thead th {\n",
       "        text-align: right;\n",
       "    }\n",
       "</style>\n",
       "<table border=\"1\" class=\"dataframe\">\n",
       "  <thead>\n",
       "    <tr style=\"text-align: right;\">\n",
       "      <th></th>\n",
       "      <th>duration</th>\n",
       "      <th>id</th>\n",
       "      <th>mb_used</th>\n",
       "      <th>monthly_payment</th>\n",
       "    </tr>\n",
       "    <tr>\n",
       "      <th>moscow_other</th>\n",
       "      <th></th>\n",
       "      <th></th>\n",
       "      <th></th>\n",
       "      <th></th>\n",
       "    </tr>\n",
       "  </thead>\n",
       "  <tbody>\n",
       "    <tr>\n",
       "      <th>Москва</th>\n",
       "      <td>481.741408</td>\n",
       "      <td>37.877250</td>\n",
       "      <td>17963.873584</td>\n",
       "      <td>1556.474632</td>\n",
       "    </tr>\n",
       "    <tr>\n",
       "      <th>другой регион</th>\n",
       "      <td>459.304648</td>\n",
       "      <td>38.376104</td>\n",
       "      <td>17030.096416</td>\n",
       "      <td>1537.181713</td>\n",
       "    </tr>\n",
       "  </tbody>\n",
       "</table>\n",
       "</div>"
      ],
      "text/plain": [
       "                 duration         id       mb_used  monthly_payment\n",
       "moscow_other                                                       \n",
       "Москва         481.741408  37.877250  17963.873584      1556.474632\n",
       "другой регион  459.304648  38.376104  17030.096416      1537.181713"
      ]
     },
     "execution_count": 179,
     "metadata": {},
     "output_type": "execute_result"
    }
   ],
   "source": [
    "df_total_monthly.pivot_table(\n",
    "    index='moscow_other', \n",
    "    values=['mb_used', 'duration', 'id', 'monthly_payment'])"
   ]
  },
  {
   "cell_type": "markdown",
   "metadata": {},
   "source": [
    "Выводы: пользователи из Москвы в среднем больше платят, больше пользуются интернетом, чуть больше отправляют смс, но меньше разговаривают."
   ]
  },
  {
   "cell_type": "markdown",
   "metadata": {},
   "source": [
    "Сформулируем гипотезы:\n",
    "- Нулевая гипотеза H₀: Средняя выручка пользователей из Москвы не отличается от выручки пользователей из других регионов\n",
    "- Альтернативная гипотеза H₁: Средняя выручка пользователей из Москвы отличается от выручки пользователей из других регионов"
   ]
  },
  {
   "cell_type": "code",
   "execution_count": 180,
   "metadata": {},
   "outputs": [
    {
     "name": "stdout",
     "output_type": "stream",
     "text": [
      "p-значение: 0.5923119600753928\n",
      "Не получилось отвергнуть нулевую гипотезу\n"
     ]
    }
   ],
   "source": [
    "moscow_revenue = df_total_monthly.query(\"moscow_other == 'Москва'\")['monthly_payment']\n",
    "other_cities_revenue = df_total_monthly.query(\"moscow_other == 'другой регион'\")['monthly_payment']\n",
    "\n",
    "alpha = .01\n",
    "\n",
    "results = st.ttest_ind(moscow_revenue, other_cities_revenue)\n",
    "\n",
    "print('p-значение:', results.pvalue)\n",
    "\n",
    "if (results.pvalue < alpha):\n",
    "    print(\"Отвергаем нулевую гипотезу\")\n",
    "else:\n",
    "    print(\"Не получилось отвергнуть нулевую гипотезу\")"
   ]
  },
  {
   "cell_type": "markdown",
   "metadata": {},
   "source": [
    "Данный результат возможен возможен в 0.7%, что можно считать не достоверным, таким образом принимается гипотеза отличия средней выручки Мск и регионов"
   ]
  },
  {
   "cell_type": "markdown",
   "metadata": {},
   "source": [
    "<div class=\"alert alert-block alert-warning\">\n",
    "<b>КОММЕНТАРИЙ РЕВЬЮВЕРА_V3:</b> \n",
    "\n",
    "⚠️ Здесь тоже выводы делаем<br>"
   ]
  },
  {
   "cell_type": "markdown",
   "metadata": {},
   "source": [
    "<div class=\"alert alert-block alert-info\">\n",
    "<b>КОММЕНТАРИЙ СТУДЕНТА_3: Добавил\n",
    "</b>\n",
    "</div>"
   ]
  },
  {
   "cell_type": "markdown",
   "metadata": {},
   "source": [
    "# Общий вывод"
   ]
  },
  {
   "cell_type": "markdown",
   "metadata": {},
   "source": [
    "- Тариф ultra приносит больше дохода, клиенты более активны в потребление сервисов:<br>\n",
    "<table>\n",
    "<tr><th>параметры</th><th>ультра</th><th>смарт</th></tr>\n",
    "<tr><td>доходность среднемесячная медианная</td><td>2070.152284</td><td>1306.949305</td></tr>  \n",
    "<tr><td>обьем трафика</td><td>19689.385760</td><td>16245.468047</td></tr>\n",
    "<tr><td>длительность звонков</td><td>563.629118</td><td>430.781278</td></tr>\n",
    "<tr><td>количество сообщений</td><td>61.161006</td><td>38.716441</td></tr>\n",
    "</table>\n",
    "- Клиенты из Москвы в среднем больше пользуюся интернетом, меньше общаются по телефону и больше приносят дохода.<br>\n",
    "\t    duration\tid\tmb_used\tmonthly_payment\n",
    "moscow_other\t\t\t\t\n",
    "Москва\t562.080994\t59.481258\t22075.877970\t2071.053754\n",
    "другой регион\t569.185685\t58.469659\t19032.607698\t2045.002430\n",
    "- Средняя выручка Москвы отличается от других регионов<br>"
   ]
  },
  {
   "cell_type": "code",
   "execution_count": null,
   "metadata": {},
   "outputs": [],
   "source": [
    "`какой тариф выгоден для сотового оператора, так как это цель нашего исследования.`"
   ]
  },
  {
   "cell_type": "markdown",
   "metadata": {},
   "source": [
    "<div class=\"alert alert-block alert-danger\">\n",
    "<b>Комментарий ревьюера:</b> \n",
    "\n",
    "❌ Выводы нужно более детальными сделать. Общий вывод - резюме этой работы. Большинство заказчиков посмотрят сначала его (а некоторые только его). Чтобы выводы не огорошивали заказчика своей очевидностью, стоит добавить в них цифр, процентов итд :) Сделай так, чтобы вся найденная в данных информация была отражена в выводе \n",
    "</div>"
   ]
  },
  {
   "cell_type": "markdown",
   "metadata": {},
   "source": [
    "<div class=\"alert alert-block alert-info\">\n",
    "<b>КОММЕНТАРИЙ СТУДЕНТА_3: Добавил, извиняюсь за оформление. Если критично переделаю)\n",
    "</b>\n",
    "</div>"
   ]
  },
  {
   "cell_type": "markdown",
   "metadata": {},
   "source": [
    "<div class=\"alert alert-block alert-warning\">\n",
    "<b>КОММЕНТАРИЙ РЕВЬЮВЕРА_V4:</b> \n",
    "\n",
    "⚠️ Здесь лучше блоками делать:\n",
    "1) На первом шаге выполено то-то<br>\n",
    "2) На втором шаге выполнено то-то<br>\n",
    "3) На третьем шаге выполнено то-то<br>\n",
    "Если есть цифры, то используй их по максимуму. Нужно в выводах написать какой тариф выгоден для сотового оператора, так как это цель нашего исследования.    \n",
    "    <br>"
   ]
  },
  {
   "cell_type": "markdown",
   "metadata": {},
   "source": [
    "<div class=\"alert alert-block alert-warning\">\n",
    "<b>КОММЕНТАРИЙ РЕВЬЮВЕРА_V5:</b> \n",
    "\n",
    "⚠️ Если хочешь оформить красиво и сделать таблицу, то можно сделать это с помощью html  https://html5book.ru/html-table/\n",
    "    Так и не написал  `какой тариф выгоден для сотового оператора, так как это цель нашего исследования.`    \n",
    "    <br>"
   ]
  },
  {
   "cell_type": "markdown",
   "metadata": {},
   "source": [
    "<div class=\"alert alert-block alert-info\">\n",
    "<b>КОММЕНТАРИЙ СТУДЕНТА_5: Комент увидел. За замечание спасибо. Сильное отставание не позволяет исправлять не критические замечания.\n",
    "</b>\n",
    "</div>"
   ]
  },
  {
   "cell_type": "markdown",
   "metadata": {},
   "source": [
    "<div class=\"alert alert-block alert-success\">\n",
    "<b>КОММЕНТАРИЙ РЕВЬЮВЕРА:</b> \n",
    "\n",
    "Никита, ты большой молодец, проделал большую работу, но нужно некоторые шаги исправить:\n",
    "- правильно соединить таблицы;\n",
    "- написать функцию для подсчета выручки и применить ее при создании нового столбца;\n",
    "- переработать шаг Анализ данных, построив гистограммы, боксплоты и посчитать среднее количество, дисперсию и стандартное отклонение;\n",
    "- сделать выводы по проекту.<br>\n",
    "\n",
    "Жду исправленного варианта )\n",
    "</div>"
   ]
  }
 ],
 "metadata": {
  "ExecuteTimeLog": [
   {
    "duration": 531,
    "start_time": "2022-04-21T06:11:00.293Z"
   },
   {
    "duration": 203,
    "start_time": "2022-04-21T06:11:03.934Z"
   },
   {
    "duration": 217,
    "start_time": "2022-04-21T06:11:17.118Z"
   },
   {
    "duration": 356,
    "start_time": "2022-04-21T06:11:58.731Z"
   },
   {
    "duration": 533,
    "start_time": "2022-04-21T06:13:37.428Z"
   },
   {
    "duration": 17,
    "start_time": "2022-04-21T06:14:01.923Z"
   },
   {
    "duration": 34,
    "start_time": "2022-04-21T06:14:37.949Z"
   },
   {
    "duration": 519,
    "start_time": "2022-04-21T06:18:05.596Z"
   },
   {
    "duration": 510,
    "start_time": "2022-04-21T06:18:36.022Z"
   },
   {
    "duration": 30,
    "start_time": "2022-04-21T06:18:38.696Z"
   },
   {
    "duration": 502,
    "start_time": "2022-04-21T06:19:56.384Z"
   },
   {
    "duration": 512,
    "start_time": "2022-04-21T06:20:02.196Z"
   },
   {
    "duration": 517,
    "start_time": "2022-04-21T06:21:09.793Z"
   },
   {
    "duration": 25,
    "start_time": "2022-04-21T06:21:13.957Z"
   },
   {
    "duration": 516,
    "start_time": "2022-04-21T06:21:29.570Z"
   },
   {
    "duration": 14,
    "start_time": "2022-04-21T06:21:32.225Z"
   },
   {
    "duration": 528,
    "start_time": "2022-04-21T06:21:51.974Z"
   },
   {
    "duration": 15,
    "start_time": "2022-04-21T06:21:54.578Z"
   },
   {
    "duration": 22,
    "start_time": "2022-04-21T06:24:47.838Z"
   },
   {
    "duration": 527,
    "start_time": "2022-04-21T06:24:59.786Z"
   },
   {
    "duration": 17,
    "start_time": "2022-04-21T08:49:42.077Z"
   },
   {
    "duration": 32,
    "start_time": "2022-04-21T08:51:54.589Z"
   },
   {
    "duration": 16,
    "start_time": "2022-04-21T08:53:26.656Z"
   },
   {
    "duration": 15,
    "start_time": "2022-04-21T08:53:35.754Z"
   },
   {
    "duration": 28,
    "start_time": "2022-04-21T08:56:54.465Z"
   },
   {
    "duration": 12,
    "start_time": "2022-04-21T08:57:18.722Z"
   },
   {
    "duration": 9,
    "start_time": "2022-04-21T08:57:42.051Z"
   },
   {
    "duration": 10,
    "start_time": "2022-04-21T08:57:46.469Z"
   },
   {
    "duration": 19,
    "start_time": "2022-04-21T08:57:51.060Z"
   },
   {
    "duration": 12,
    "start_time": "2022-04-21T08:58:02.274Z"
   },
   {
    "duration": 57,
    "start_time": "2022-04-21T08:58:13.207Z"
   },
   {
    "duration": 11,
    "start_time": "2022-04-21T08:59:00.032Z"
   },
   {
    "duration": 16,
    "start_time": "2022-04-21T08:59:07.643Z"
   },
   {
    "duration": 12,
    "start_time": "2022-04-21T08:59:12.217Z"
   },
   {
    "duration": 14,
    "start_time": "2022-04-21T08:59:14.354Z"
   },
   {
    "duration": 12,
    "start_time": "2022-04-21T09:05:22.758Z"
   },
   {
    "duration": 2873,
    "start_time": "2022-04-21T09:05:29.968Z"
   },
   {
    "duration": 15,
    "start_time": "2022-04-21T09:05:44.281Z"
   },
   {
    "duration": 11,
    "start_time": "2022-04-21T09:05:49.285Z"
   },
   {
    "duration": 13,
    "start_time": "2022-04-21T09:05:58.697Z"
   },
   {
    "duration": 16,
    "start_time": "2022-04-21T09:06:15.974Z"
   },
   {
    "duration": 11,
    "start_time": "2022-04-21T09:06:28.131Z"
   },
   {
    "duration": 16,
    "start_time": "2022-04-21T09:06:32.507Z"
   },
   {
    "duration": 11,
    "start_time": "2022-04-21T09:06:49.251Z"
   },
   {
    "duration": 10,
    "start_time": "2022-04-21T09:06:53.497Z"
   },
   {
    "duration": 10,
    "start_time": "2022-04-21T09:06:57.719Z"
   },
   {
    "duration": 11,
    "start_time": "2022-04-21T09:07:02.037Z"
   },
   {
    "duration": 11,
    "start_time": "2022-04-21T09:07:06.454Z"
   },
   {
    "duration": 17,
    "start_time": "2022-04-21T09:07:34.867Z"
   },
   {
    "duration": 16,
    "start_time": "2022-04-21T09:07:52.733Z"
   },
   {
    "duration": 7,
    "start_time": "2022-04-21T09:07:59.320Z"
   },
   {
    "duration": 6,
    "start_time": "2022-04-21T09:08:05.472Z"
   },
   {
    "duration": 17,
    "start_time": "2022-04-21T09:08:42.492Z"
   },
   {
    "duration": 17,
    "start_time": "2022-04-21T09:09:03.091Z"
   },
   {
    "duration": 4,
    "start_time": "2022-04-21T11:02:16.016Z"
   },
   {
    "duration": 523,
    "start_time": "2022-04-21T11:02:16.023Z"
   },
   {
    "duration": 16,
    "start_time": "2022-04-21T11:02:16.548Z"
   },
   {
    "duration": 28,
    "start_time": "2022-04-21T11:02:16.566Z"
   },
   {
    "duration": 5,
    "start_time": "2022-04-21T11:02:16.597Z"
   },
   {
    "duration": 13,
    "start_time": "2022-04-21T11:02:16.605Z"
   },
   {
    "duration": 19,
    "start_time": "2022-04-21T11:02:16.620Z"
   },
   {
    "duration": 13,
    "start_time": "2022-04-21T11:02:16.641Z"
   },
   {
    "duration": 15,
    "start_time": "2022-04-21T11:11:46.118Z"
   },
   {
    "duration": 74,
    "start_time": "2022-04-21T11:19:19.516Z"
   },
   {
    "duration": 13,
    "start_time": "2022-04-21T11:19:33.223Z"
   },
   {
    "duration": 78,
    "start_time": "2022-04-21T11:20:06.691Z"
   },
   {
    "duration": 75,
    "start_time": "2022-04-21T11:20:10.630Z"
   },
   {
    "duration": 12,
    "start_time": "2022-04-21T11:20:17.776Z"
   },
   {
    "duration": 39,
    "start_time": "2022-04-21T11:23:40.494Z"
   },
   {
    "duration": 37,
    "start_time": "2022-04-21T11:24:21.220Z"
   },
   {
    "duration": 10,
    "start_time": "2022-04-21T11:25:20.445Z"
   },
   {
    "duration": 34,
    "start_time": "2022-04-21T12:57:56.195Z"
   },
   {
    "duration": 90,
    "start_time": "2022-04-21T13:01:42.650Z"
   },
   {
    "duration": 101,
    "start_time": "2022-04-21T13:01:59.771Z"
   },
   {
    "duration": 81,
    "start_time": "2022-04-21T13:02:20.862Z"
   },
   {
    "duration": 11,
    "start_time": "2022-04-21T13:04:18.774Z"
   },
   {
    "duration": 43,
    "start_time": "2022-04-21T13:04:58.260Z"
   },
   {
    "duration": 12,
    "start_time": "2022-04-21T13:05:01.457Z"
   },
   {
    "duration": 58,
    "start_time": "2022-04-21T13:06:19.455Z"
   },
   {
    "duration": 12,
    "start_time": "2022-04-21T13:08:17.668Z"
   },
   {
    "duration": 2842,
    "start_time": "2022-04-21T13:10:53.783Z"
   },
   {
    "duration": 66,
    "start_time": "2022-04-21T13:11:08.878Z"
   },
   {
    "duration": 19,
    "start_time": "2022-04-21T13:11:12.138Z"
   },
   {
    "duration": 70,
    "start_time": "2022-04-21T13:12:00.993Z"
   },
   {
    "duration": 24,
    "start_time": "2022-04-21T13:13:01.286Z"
   },
   {
    "duration": 15,
    "start_time": "2022-04-21T15:16:55.485Z"
   },
   {
    "duration": 12,
    "start_time": "2022-04-22T06:23:45.197Z"
   },
   {
    "duration": 47,
    "start_time": "2022-04-22T06:25:23.296Z"
   },
   {
    "duration": 14,
    "start_time": "2022-04-22T06:26:14.833Z"
   },
   {
    "duration": 34,
    "start_time": "2022-04-22T06:26:34.641Z"
   },
   {
    "duration": 57,
    "start_time": "2022-04-22T06:26:41.758Z"
   },
   {
    "duration": 17,
    "start_time": "2022-04-22T06:26:53.321Z"
   },
   {
    "duration": 30,
    "start_time": "2022-04-22T06:28:15.203Z"
   },
   {
    "duration": 43,
    "start_time": "2022-04-22T08:12:55.606Z"
   },
   {
    "duration": 64,
    "start_time": "2022-04-22T08:13:24.553Z"
   },
   {
    "duration": 53,
    "start_time": "2022-04-22T08:13:33.476Z"
   },
   {
    "duration": 132,
    "start_time": "2022-04-22T08:14:33.490Z"
   },
   {
    "duration": 132,
    "start_time": "2022-04-22T08:14:54.230Z"
   },
   {
    "duration": 147,
    "start_time": "2022-04-22T08:17:34.943Z"
   },
   {
    "duration": 137,
    "start_time": "2022-04-22T08:18:04.479Z"
   },
   {
    "duration": 131,
    "start_time": "2022-04-22T08:18:58.246Z"
   },
   {
    "duration": 32,
    "start_time": "2022-04-22T08:22:05.395Z"
   },
   {
    "duration": 29,
    "start_time": "2022-04-22T08:22:08.827Z"
   },
   {
    "duration": 20,
    "start_time": "2022-04-22T08:22:37.550Z"
   },
   {
    "duration": 15,
    "start_time": "2022-04-22T08:22:45.416Z"
   },
   {
    "duration": 12,
    "start_time": "2022-04-22T08:23:11.309Z"
   },
   {
    "duration": 41,
    "start_time": "2022-04-22T08:23:53.595Z"
   },
   {
    "duration": 48,
    "start_time": "2022-04-22T08:24:05.706Z"
   },
   {
    "duration": 15,
    "start_time": "2022-04-22T08:27:19.159Z"
   },
   {
    "duration": 2970,
    "start_time": "2022-04-22T08:27:41.006Z"
   },
   {
    "duration": 520,
    "start_time": "2022-04-22T10:46:06.699Z"
   },
   {
    "duration": 568,
    "start_time": "2022-04-22T10:46:07.222Z"
   },
   {
    "duration": 23,
    "start_time": "2022-04-22T10:46:07.792Z"
   },
   {
    "duration": 49,
    "start_time": "2022-04-22T10:46:07.819Z"
   },
   {
    "duration": 7,
    "start_time": "2022-04-22T10:46:07.870Z"
   },
   {
    "duration": 20,
    "start_time": "2022-04-22T10:46:07.879Z"
   },
   {
    "duration": 23,
    "start_time": "2022-04-22T10:46:07.902Z"
   },
   {
    "duration": 15,
    "start_time": "2022-04-22T10:46:07.927Z"
   },
   {
    "duration": 141,
    "start_time": "2022-04-22T10:46:07.944Z"
   },
   {
    "duration": 105,
    "start_time": "2022-04-22T10:46:08.089Z"
   },
   {
    "duration": 10,
    "start_time": "2022-04-22T10:46:08.196Z"
   },
   {
    "duration": 47,
    "start_time": "2022-04-22T10:46:08.208Z"
   },
   {
    "duration": 83,
    "start_time": "2022-04-22T10:46:08.257Z"
   },
   {
    "duration": 11,
    "start_time": "2022-04-22T10:46:08.342Z"
   },
   {
    "duration": 71,
    "start_time": "2022-04-22T10:46:08.355Z"
   },
   {
    "duration": 53,
    "start_time": "2022-04-22T10:46:08.428Z"
   },
   {
    "duration": 11,
    "start_time": "2022-04-22T10:46:08.493Z"
   },
   {
    "duration": 6,
    "start_time": "2022-04-22T10:46:08.506Z"
   },
   {
    "duration": 19,
    "start_time": "2022-04-22T10:46:08.514Z"
   },
   {
    "duration": 122,
    "start_time": "2022-04-22T10:46:08.535Z"
   },
   {
    "duration": 0,
    "start_time": "2022-04-22T10:46:08.659Z"
   },
   {
    "duration": 0,
    "start_time": "2022-04-22T10:46:08.660Z"
   },
   {
    "duration": 0,
    "start_time": "2022-04-22T10:46:08.662Z"
   },
   {
    "duration": 0,
    "start_time": "2022-04-22T10:46:08.664Z"
   },
   {
    "duration": 0,
    "start_time": "2022-04-22T10:46:08.665Z"
   },
   {
    "duration": 14,
    "start_time": "2022-04-22T10:46:41.890Z"
   },
   {
    "duration": 22,
    "start_time": "2022-04-22T10:49:50.346Z"
   },
   {
    "duration": 118,
    "start_time": "2022-04-22T10:53:11.891Z"
   },
   {
    "duration": 102,
    "start_time": "2022-04-22T10:53:17.992Z"
   },
   {
    "duration": 19,
    "start_time": "2022-04-22T10:53:42.919Z"
   },
   {
    "duration": 3314,
    "start_time": "2022-04-22T10:53:56.891Z"
   },
   {
    "duration": 148,
    "start_time": "2022-04-22T10:54:08.248Z"
   },
   {
    "duration": 84,
    "start_time": "2022-04-22T10:54:39.082Z"
   },
   {
    "duration": 81,
    "start_time": "2022-04-22T10:54:45.621Z"
   },
   {
    "duration": 156,
    "start_time": "2022-04-22T10:55:23.659Z"
   },
   {
    "duration": 67,
    "start_time": "2022-04-22T10:55:35.821Z"
   },
   {
    "duration": 148,
    "start_time": "2022-04-22T10:55:45.240Z"
   },
   {
    "duration": 129,
    "start_time": "2022-04-22T10:55:54.641Z"
   },
   {
    "duration": 132,
    "start_time": "2022-04-22T10:56:03.814Z"
   },
   {
    "duration": 128,
    "start_time": "2022-04-22T10:56:12.513Z"
   },
   {
    "duration": 192,
    "start_time": "2022-04-22T10:56:32.470Z"
   },
   {
    "duration": 187,
    "start_time": "2022-04-22T10:57:09.726Z"
   },
   {
    "duration": 16,
    "start_time": "2022-04-22T12:59:11.270Z"
   },
   {
    "duration": 16,
    "start_time": "2022-04-22T13:00:12.852Z"
   },
   {
    "duration": 84,
    "start_time": "2022-04-22T13:01:00.005Z"
   },
   {
    "duration": 509,
    "start_time": "2022-04-22T13:01:11.685Z"
   },
   {
    "duration": 2995,
    "start_time": "2022-04-22T13:01:12.197Z"
   },
   {
    "duration": 18,
    "start_time": "2022-04-22T13:01:15.194Z"
   },
   {
    "duration": 36,
    "start_time": "2022-04-22T13:01:15.215Z"
   },
   {
    "duration": 6,
    "start_time": "2022-04-22T13:01:15.253Z"
   },
   {
    "duration": 22,
    "start_time": "2022-04-22T13:01:15.292Z"
   },
   {
    "duration": 18,
    "start_time": "2022-04-22T13:01:15.317Z"
   },
   {
    "duration": 18,
    "start_time": "2022-04-22T13:01:15.337Z"
   },
   {
    "duration": 91,
    "start_time": "2022-04-22T13:01:15.358Z"
   },
   {
    "duration": 106,
    "start_time": "2022-04-22T13:01:15.453Z"
   },
   {
    "duration": 11,
    "start_time": "2022-04-22T13:01:15.561Z"
   },
   {
    "duration": 61,
    "start_time": "2022-04-22T13:01:15.575Z"
   },
   {
    "duration": 74,
    "start_time": "2022-04-22T13:01:15.638Z"
   },
   {
    "duration": 12,
    "start_time": "2022-04-22T13:01:15.714Z"
   },
   {
    "duration": 76,
    "start_time": "2022-04-22T13:01:15.728Z"
   },
   {
    "duration": 55,
    "start_time": "2022-04-22T13:01:15.806Z"
   },
   {
    "duration": 12,
    "start_time": "2022-04-22T13:01:15.863Z"
   },
   {
    "duration": 4,
    "start_time": "2022-04-22T13:01:15.893Z"
   },
   {
    "duration": 19,
    "start_time": "2022-04-22T13:01:15.900Z"
   },
   {
    "duration": 538,
    "start_time": "2022-04-22T13:01:33.849Z"
   },
   {
    "duration": 2014,
    "start_time": "2022-04-22T13:01:34.391Z"
   },
   {
    "duration": 21,
    "start_time": "2022-04-22T13:01:36.408Z"
   },
   {
    "duration": 46,
    "start_time": "2022-04-22T13:01:36.432Z"
   },
   {
    "duration": 6,
    "start_time": "2022-04-22T13:01:36.482Z"
   },
   {
    "duration": 8,
    "start_time": "2022-04-22T13:01:36.492Z"
   },
   {
    "duration": 16,
    "start_time": "2022-04-22T13:01:36.503Z"
   },
   {
    "duration": 15,
    "start_time": "2022-04-22T13:01:36.522Z"
   },
   {
    "duration": 82,
    "start_time": "2022-04-22T13:01:36.539Z"
   },
   {
    "duration": 97,
    "start_time": "2022-04-22T13:01:36.623Z"
   },
   {
    "duration": 10,
    "start_time": "2022-04-22T13:01:36.723Z"
   },
   {
    "duration": 50,
    "start_time": "2022-04-22T13:01:36.735Z"
   },
   {
    "duration": 64,
    "start_time": "2022-04-22T13:01:36.788Z"
   },
   {
    "duration": 14,
    "start_time": "2022-04-22T13:01:36.856Z"
   },
   {
    "duration": 68,
    "start_time": "2022-04-22T13:01:36.872Z"
   },
   {
    "duration": 63,
    "start_time": "2022-04-22T13:01:36.943Z"
   },
   {
    "duration": 11,
    "start_time": "2022-04-22T13:01:37.008Z"
   },
   {
    "duration": 7,
    "start_time": "2022-04-22T13:01:37.021Z"
   },
   {
    "duration": 22,
    "start_time": "2022-04-22T13:01:37.030Z"
   },
   {
    "duration": 514,
    "start_time": "2022-04-22T13:02:01.735Z"
   },
   {
    "duration": 3795,
    "start_time": "2022-04-22T13:02:02.252Z"
   },
   {
    "duration": 18,
    "start_time": "2022-04-22T13:02:06.049Z"
   },
   {
    "duration": 39,
    "start_time": "2022-04-22T13:02:06.069Z"
   },
   {
    "duration": 6,
    "start_time": "2022-04-22T13:02:06.111Z"
   },
   {
    "duration": 14,
    "start_time": "2022-04-22T13:02:06.119Z"
   },
   {
    "duration": 25,
    "start_time": "2022-04-22T13:02:06.135Z"
   },
   {
    "duration": 39,
    "start_time": "2022-04-22T13:02:06.162Z"
   },
   {
    "duration": 75,
    "start_time": "2022-04-22T13:02:06.203Z"
   },
   {
    "duration": 103,
    "start_time": "2022-04-22T13:02:06.293Z"
   },
   {
    "duration": 10,
    "start_time": "2022-04-22T13:02:06.398Z"
   },
   {
    "duration": 47,
    "start_time": "2022-04-22T13:02:06.410Z"
   },
   {
    "duration": 85,
    "start_time": "2022-04-22T13:02:06.460Z"
   },
   {
    "duration": 13,
    "start_time": "2022-04-22T13:02:06.549Z"
   },
   {
    "duration": 76,
    "start_time": "2022-04-22T13:02:06.564Z"
   },
   {
    "duration": 75,
    "start_time": "2022-04-22T13:02:06.643Z"
   },
   {
    "duration": 13,
    "start_time": "2022-04-22T13:02:06.720Z"
   },
   {
    "duration": 14,
    "start_time": "2022-04-22T13:02:06.735Z"
   },
   {
    "duration": 26,
    "start_time": "2022-04-22T13:02:06.751Z"
   },
   {
    "duration": 500,
    "start_time": "2022-04-22T13:02:31.465Z"
   },
   {
    "duration": 1933,
    "start_time": "2022-04-22T13:02:31.968Z"
   },
   {
    "duration": 22,
    "start_time": "2022-04-22T13:02:33.904Z"
   },
   {
    "duration": 38,
    "start_time": "2022-04-22T13:02:33.929Z"
   },
   {
    "duration": 24,
    "start_time": "2022-04-22T13:02:33.971Z"
   },
   {
    "duration": 11,
    "start_time": "2022-04-22T13:02:33.998Z"
   },
   {
    "duration": 23,
    "start_time": "2022-04-22T13:02:34.012Z"
   },
   {
    "duration": 18,
    "start_time": "2022-04-22T13:02:34.038Z"
   },
   {
    "duration": 140,
    "start_time": "2022-04-22T13:02:34.058Z"
   },
   {
    "duration": 138,
    "start_time": "2022-04-22T13:02:34.200Z"
   },
   {
    "duration": 12,
    "start_time": "2022-04-22T13:02:34.341Z"
   },
   {
    "duration": 62,
    "start_time": "2022-04-22T13:02:34.355Z"
   },
   {
    "duration": 73,
    "start_time": "2022-04-22T13:02:34.420Z"
   },
   {
    "duration": 12,
    "start_time": "2022-04-22T13:02:34.497Z"
   },
   {
    "duration": 56,
    "start_time": "2022-04-22T13:02:34.511Z"
   },
   {
    "duration": 77,
    "start_time": "2022-04-22T13:02:34.569Z"
   },
   {
    "duration": 11,
    "start_time": "2022-04-22T13:02:34.649Z"
   },
   {
    "duration": 5,
    "start_time": "2022-04-22T13:02:34.663Z"
   },
   {
    "duration": 19,
    "start_time": "2022-04-22T13:02:34.694Z"
   },
   {
    "duration": 663,
    "start_time": "2022-04-22T13:03:59.322Z"
   },
   {
    "duration": 3961,
    "start_time": "2022-04-22T13:03:59.993Z"
   },
   {
    "duration": 21,
    "start_time": "2022-04-22T13:04:03.958Z"
   },
   {
    "duration": 43,
    "start_time": "2022-04-22T13:04:03.982Z"
   },
   {
    "duration": 6,
    "start_time": "2022-04-22T13:04:04.028Z"
   },
   {
    "duration": 9,
    "start_time": "2022-04-22T13:04:04.036Z"
   },
   {
    "duration": 46,
    "start_time": "2022-04-22T13:04:04.047Z"
   },
   {
    "duration": 12,
    "start_time": "2022-04-22T13:04:04.096Z"
   },
   {
    "duration": 98,
    "start_time": "2022-04-22T13:04:04.110Z"
   },
   {
    "duration": 103,
    "start_time": "2022-04-22T13:04:04.213Z"
   },
   {
    "duration": 12,
    "start_time": "2022-04-22T13:04:04.319Z"
   },
   {
    "duration": 68,
    "start_time": "2022-04-22T13:04:04.333Z"
   },
   {
    "duration": 59,
    "start_time": "2022-04-22T13:04:04.403Z"
   },
   {
    "duration": 32,
    "start_time": "2022-04-22T13:04:04.465Z"
   },
   {
    "duration": 96,
    "start_time": "2022-04-22T13:04:04.501Z"
   },
   {
    "duration": 75,
    "start_time": "2022-04-22T13:04:04.600Z"
   },
   {
    "duration": 12,
    "start_time": "2022-04-22T13:04:04.694Z"
   },
   {
    "duration": 9,
    "start_time": "2022-04-22T13:04:04.708Z"
   },
   {
    "duration": 19,
    "start_time": "2022-04-22T13:04:04.721Z"
   },
   {
    "duration": 439,
    "start_time": "2022-04-25T06:13:35.859Z"
   },
   {
    "duration": 385,
    "start_time": "2022-04-25T06:13:36.300Z"
   },
   {
    "duration": 12,
    "start_time": "2022-04-25T06:13:36.687Z"
   },
   {
    "duration": 28,
    "start_time": "2022-04-25T06:13:36.700Z"
   },
   {
    "duration": 4,
    "start_time": "2022-04-25T06:13:36.730Z"
   },
   {
    "duration": 9,
    "start_time": "2022-04-25T06:13:36.736Z"
   },
   {
    "duration": 15,
    "start_time": "2022-04-25T06:13:36.746Z"
   },
   {
    "duration": 10,
    "start_time": "2022-04-25T06:13:36.774Z"
   },
   {
    "duration": 60,
    "start_time": "2022-04-25T06:13:36.785Z"
   },
   {
    "duration": 74,
    "start_time": "2022-04-25T06:13:36.847Z"
   },
   {
    "duration": 7,
    "start_time": "2022-04-25T06:13:36.923Z"
   },
   {
    "duration": 46,
    "start_time": "2022-04-25T06:13:36.931Z"
   },
   {
    "duration": 43,
    "start_time": "2022-04-25T06:13:36.978Z"
   },
   {
    "duration": 9,
    "start_time": "2022-04-25T06:13:37.024Z"
   },
   {
    "duration": 56,
    "start_time": "2022-04-25T06:13:37.035Z"
   },
   {
    "duration": 41,
    "start_time": "2022-04-25T06:13:37.093Z"
   },
   {
    "duration": 7,
    "start_time": "2022-04-25T06:13:37.136Z"
   },
   {
    "duration": 7,
    "start_time": "2022-04-25T06:13:37.145Z"
   },
   {
    "duration": 30,
    "start_time": "2022-04-25T06:13:37.153Z"
   },
   {
    "duration": 444,
    "start_time": "2022-04-25T06:14:23.697Z"
   },
   {
    "duration": 387,
    "start_time": "2022-04-25T06:14:26.754Z"
   },
   {
    "duration": 23,
    "start_time": "2022-04-25T06:14:34.874Z"
   },
   {
    "duration": 13,
    "start_time": "2022-04-25T06:14:56.450Z"
   },
   {
    "duration": 6,
    "start_time": "2022-04-25T06:15:04.273Z"
   },
   {
    "duration": 49,
    "start_time": "2022-04-25T06:16:16.297Z"
   },
   {
    "duration": 8,
    "start_time": "2022-04-25T06:16:35.843Z"
   },
   {
    "duration": 8,
    "start_time": "2022-04-25T06:16:42.697Z"
   },
   {
    "duration": 397,
    "start_time": "2022-04-25T06:16:45.704Z"
   },
   {
    "duration": 402,
    "start_time": "2022-04-25T06:16:47.434Z"
   },
   {
    "duration": 17,
    "start_time": "2022-04-25T06:16:52.246Z"
   },
   {
    "duration": 50,
    "start_time": "2022-04-25T06:17:10.892Z"
   },
   {
    "duration": 7,
    "start_time": "2022-04-25T06:17:19.598Z"
   },
   {
    "duration": 401,
    "start_time": "2022-04-25T06:17:21.992Z"
   },
   {
    "duration": 375,
    "start_time": "2022-04-25T06:17:24.878Z"
   },
   {
    "duration": 388,
    "start_time": "2022-04-25T06:26:06.610Z"
   },
   {
    "duration": 408,
    "start_time": "2022-04-25T06:26:07.000Z"
   },
   {
    "duration": 7,
    "start_time": "2022-04-25T06:26:07.410Z"
   },
   {
    "duration": 39,
    "start_time": "2022-04-25T06:26:07.419Z"
   },
   {
    "duration": 5,
    "start_time": "2022-04-25T06:26:07.460Z"
   },
   {
    "duration": 10,
    "start_time": "2022-04-25T06:26:07.466Z"
   },
   {
    "duration": 19,
    "start_time": "2022-04-25T06:26:07.477Z"
   },
   {
    "duration": 18,
    "start_time": "2022-04-25T06:26:07.498Z"
   },
   {
    "duration": 64,
    "start_time": "2022-04-25T06:26:07.518Z"
   },
   {
    "duration": 66,
    "start_time": "2022-04-25T06:26:07.584Z"
   },
   {
    "duration": 7,
    "start_time": "2022-04-25T06:26:07.651Z"
   },
   {
    "duration": 34,
    "start_time": "2022-04-25T06:26:07.672Z"
   },
   {
    "duration": 67,
    "start_time": "2022-04-25T06:26:07.707Z"
   },
   {
    "duration": 9,
    "start_time": "2022-04-25T06:26:07.777Z"
   },
   {
    "duration": 43,
    "start_time": "2022-04-25T06:26:07.787Z"
   },
   {
    "duration": 59,
    "start_time": "2022-04-25T06:26:07.831Z"
   },
   {
    "duration": 8,
    "start_time": "2022-04-25T06:26:07.892Z"
   },
   {
    "duration": 5,
    "start_time": "2022-04-25T06:26:07.901Z"
   },
   {
    "duration": 12,
    "start_time": "2022-04-25T06:26:07.908Z"
   },
   {
    "duration": 399,
    "start_time": "2022-04-25T06:26:35.209Z"
   },
   {
    "duration": 379,
    "start_time": "2022-04-25T06:26:38.576Z"
   },
   {
    "duration": 7,
    "start_time": "2022-04-25T06:26:41.619Z"
   },
   {
    "duration": 23,
    "start_time": "2022-04-25T06:26:44.769Z"
   },
   {
    "duration": 3,
    "start_time": "2022-04-25T06:26:48.927Z"
   },
   {
    "duration": 6,
    "start_time": "2022-04-25T06:26:52.087Z"
   },
   {
    "duration": 11,
    "start_time": "2022-04-25T06:26:54.331Z"
   },
   {
    "duration": 8,
    "start_time": "2022-04-25T06:26:57.481Z"
   },
   {
    "duration": 8,
    "start_time": "2022-04-25T06:27:00.697Z"
   },
   {
    "duration": 52,
    "start_time": "2022-04-25T06:27:03.722Z"
   },
   {
    "duration": 68,
    "start_time": "2022-04-25T06:27:05.417Z"
   },
   {
    "duration": 8,
    "start_time": "2022-04-25T06:27:11.711Z"
   },
   {
    "duration": 31,
    "start_time": "2022-04-25T06:27:14.370Z"
   },
   {
    "duration": 43,
    "start_time": "2022-04-25T06:27:15.814Z"
   },
   {
    "duration": 9,
    "start_time": "2022-04-25T06:27:19.079Z"
   },
   {
    "duration": 40,
    "start_time": "2022-04-25T06:27:20.774Z"
   },
   {
    "duration": 44,
    "start_time": "2022-04-25T06:27:22.194Z"
   },
   {
    "duration": 9,
    "start_time": "2022-04-25T06:27:25.578Z"
   },
   {
    "duration": 11,
    "start_time": "2022-04-25T06:27:34.551Z"
   },
   {
    "duration": 448,
    "start_time": "2022-04-25T06:30:48.354Z"
   },
   {
    "duration": 398,
    "start_time": "2022-04-25T06:30:48.804Z"
   },
   {
    "duration": 6,
    "start_time": "2022-04-25T06:30:49.204Z"
   },
   {
    "duration": 25,
    "start_time": "2022-04-25T06:30:49.212Z"
   },
   {
    "duration": 4,
    "start_time": "2022-04-25T06:30:49.239Z"
   },
   {
    "duration": 8,
    "start_time": "2022-04-25T06:30:49.244Z"
   },
   {
    "duration": 26,
    "start_time": "2022-04-25T06:30:49.253Z"
   },
   {
    "duration": 10,
    "start_time": "2022-04-25T06:30:49.280Z"
   },
   {
    "duration": 51,
    "start_time": "2022-04-25T06:30:49.292Z"
   },
   {
    "duration": 92,
    "start_time": "2022-04-25T06:30:49.345Z"
   },
   {
    "duration": 7,
    "start_time": "2022-04-25T06:30:49.439Z"
   },
   {
    "duration": 60,
    "start_time": "2022-04-25T06:30:49.448Z"
   },
   {
    "duration": 45,
    "start_time": "2022-04-25T06:30:49.510Z"
   },
   {
    "duration": 23,
    "start_time": "2022-04-25T06:30:49.558Z"
   },
   {
    "duration": 39,
    "start_time": "2022-04-25T06:30:49.582Z"
   },
   {
    "duration": 81,
    "start_time": "2022-04-25T06:30:49.623Z"
   },
   {
    "duration": 8,
    "start_time": "2022-04-25T06:30:49.706Z"
   },
   {
    "duration": 7,
    "start_time": "2022-04-25T06:30:49.716Z"
   },
   {
    "duration": 13,
    "start_time": "2022-04-25T06:30:49.725Z"
   },
   {
    "duration": 3,
    "start_time": "2022-04-25T06:30:49.773Z"
   },
   {
    "duration": 7,
    "start_time": "2022-04-25T06:30:49.778Z"
   },
   {
    "duration": 10,
    "start_time": "2022-04-25T06:30:49.787Z"
   },
   {
    "duration": 12,
    "start_time": "2022-04-25T06:30:49.799Z"
   },
   {
    "duration": 13,
    "start_time": "2022-04-25T06:30:49.813Z"
   },
   {
    "duration": 9,
    "start_time": "2022-04-25T06:30:49.828Z"
   },
   {
    "duration": 14,
    "start_time": "2022-04-25T06:30:49.838Z"
   },
   {
    "duration": 8,
    "start_time": "2022-04-25T08:26:41.763Z"
   },
   {
    "duration": 9,
    "start_time": "2022-04-25T08:28:15.088Z"
   },
   {
    "duration": 10,
    "start_time": "2022-04-25T08:28:32.230Z"
   },
   {
    "duration": 10,
    "start_time": "2022-04-25T08:29:00.309Z"
   },
   {
    "duration": 65,
    "start_time": "2022-04-25T08:30:09.890Z"
   },
   {
    "duration": 12,
    "start_time": "2022-04-25T08:36:58.437Z"
   },
   {
    "duration": 32,
    "start_time": "2022-04-25T08:38:21.260Z"
   },
   {
    "duration": 44,
    "start_time": "2022-04-25T08:38:40.410Z"
   },
   {
    "duration": 43,
    "start_time": "2022-04-25T08:39:24.842Z"
   },
   {
    "duration": 47,
    "start_time": "2022-04-25T08:39:39.268Z"
   },
   {
    "duration": 47,
    "start_time": "2022-04-25T08:39:41.312Z"
   },
   {
    "duration": 51,
    "start_time": "2022-04-25T08:39:42.033Z"
   },
   {
    "duration": 41,
    "start_time": "2022-04-25T08:40:08.719Z"
   },
   {
    "duration": 47,
    "start_time": "2022-04-25T08:40:20.610Z"
   },
   {
    "duration": 48,
    "start_time": "2022-04-25T08:40:27.895Z"
   },
   {
    "duration": 354,
    "start_time": "2022-05-04T05:49:49.206Z"
   },
   {
    "duration": 373,
    "start_time": "2022-05-04T05:49:49.562Z"
   },
   {
    "duration": 6,
    "start_time": "2022-05-04T05:49:49.937Z"
   },
   {
    "duration": 26,
    "start_time": "2022-05-04T05:49:49.945Z"
   },
   {
    "duration": 3,
    "start_time": "2022-05-04T05:49:49.973Z"
   },
   {
    "duration": 5,
    "start_time": "2022-05-04T05:49:49.978Z"
   },
   {
    "duration": 11,
    "start_time": "2022-05-04T05:49:49.985Z"
   },
   {
    "duration": 8,
    "start_time": "2022-05-04T05:49:49.998Z"
   },
   {
    "duration": 81,
    "start_time": "2022-05-04T05:49:50.007Z"
   },
   {
    "duration": 75,
    "start_time": "2022-05-04T05:49:50.090Z"
   },
   {
    "duration": 7,
    "start_time": "2022-05-04T05:49:50.166Z"
   },
   {
    "duration": 33,
    "start_time": "2022-05-04T05:49:50.174Z"
   },
   {
    "duration": 61,
    "start_time": "2022-05-04T05:49:50.208Z"
   },
   {
    "duration": 7,
    "start_time": "2022-05-04T05:49:50.272Z"
   },
   {
    "duration": 34,
    "start_time": "2022-05-04T05:49:50.281Z"
   },
   {
    "duration": 53,
    "start_time": "2022-05-04T05:49:50.316Z"
   },
   {
    "duration": 7,
    "start_time": "2022-05-04T05:49:50.371Z"
   },
   {
    "duration": 6,
    "start_time": "2022-05-04T05:49:50.379Z"
   },
   {
    "duration": 12,
    "start_time": "2022-05-04T05:49:50.387Z"
   },
   {
    "duration": 6,
    "start_time": "2022-05-04T05:49:50.401Z"
   },
   {
    "duration": 6,
    "start_time": "2022-05-04T05:49:50.409Z"
   },
   {
    "duration": 6,
    "start_time": "2022-05-04T05:49:50.416Z"
   },
   {
    "duration": 5,
    "start_time": "2022-05-04T05:49:50.423Z"
   },
   {
    "duration": 5,
    "start_time": "2022-05-04T05:49:50.429Z"
   },
   {
    "duration": 3,
    "start_time": "2022-05-04T05:49:50.449Z"
   },
   {
    "duration": 9,
    "start_time": "2022-05-04T05:49:50.453Z"
   },
   {
    "duration": 50,
    "start_time": "2022-05-04T05:49:50.464Z"
   },
   {
    "duration": 7,
    "start_time": "2022-05-04T05:49:50.516Z"
   },
   {
    "duration": 369,
    "start_time": "2022-05-04T05:50:57.498Z"
   },
   {
    "duration": 402,
    "start_time": "2022-05-04T05:50:57.870Z"
   },
   {
    "duration": 7,
    "start_time": "2022-05-04T05:50:58.274Z"
   },
   {
    "duration": 29,
    "start_time": "2022-05-04T05:50:58.282Z"
   },
   {
    "duration": 8,
    "start_time": "2022-05-04T05:50:58.314Z"
   },
   {
    "duration": 7,
    "start_time": "2022-05-04T05:50:58.323Z"
   },
   {
    "duration": 11,
    "start_time": "2022-05-04T05:50:58.332Z"
   },
   {
    "duration": 11,
    "start_time": "2022-05-04T05:50:58.345Z"
   },
   {
    "duration": 59,
    "start_time": "2022-05-04T05:50:58.360Z"
   },
   {
    "duration": 69,
    "start_time": "2022-05-04T05:50:58.420Z"
   },
   {
    "duration": 6,
    "start_time": "2022-05-04T05:50:58.491Z"
   },
   {
    "duration": 29,
    "start_time": "2022-05-04T05:50:58.499Z"
   },
   {
    "duration": 43,
    "start_time": "2022-05-04T05:50:58.546Z"
   },
   {
    "duration": 8,
    "start_time": "2022-05-04T05:50:58.592Z"
   },
   {
    "duration": 63,
    "start_time": "2022-05-04T05:50:58.601Z"
   },
   {
    "duration": 42,
    "start_time": "2022-05-04T05:50:58.665Z"
   },
   {
    "duration": 7,
    "start_time": "2022-05-04T05:50:58.708Z"
   },
   {
    "duration": 4,
    "start_time": "2022-05-04T05:50:58.717Z"
   },
   {
    "duration": 34,
    "start_time": "2022-05-04T05:50:58.723Z"
   },
   {
    "duration": 421,
    "start_time": "2022-05-04T05:51:37.945Z"
   },
   {
    "duration": 369,
    "start_time": "2022-05-04T05:51:38.368Z"
   },
   {
    "duration": 6,
    "start_time": "2022-05-04T05:51:38.738Z"
   },
   {
    "duration": 26,
    "start_time": "2022-05-04T05:51:38.745Z"
   },
   {
    "duration": 3,
    "start_time": "2022-05-04T05:51:38.773Z"
   },
   {
    "duration": 8,
    "start_time": "2022-05-04T05:51:38.777Z"
   },
   {
    "duration": 11,
    "start_time": "2022-05-04T05:51:38.787Z"
   },
   {
    "duration": 7,
    "start_time": "2022-05-04T05:51:38.800Z"
   },
   {
    "duration": 52,
    "start_time": "2022-05-04T05:51:38.808Z"
   },
   {
    "duration": 63,
    "start_time": "2022-05-04T05:51:38.862Z"
   },
   {
    "duration": 7,
    "start_time": "2022-05-04T05:51:38.927Z"
   },
   {
    "duration": 43,
    "start_time": "2022-05-04T05:51:38.935Z"
   },
   {
    "duration": 41,
    "start_time": "2022-05-04T05:51:38.979Z"
   },
   {
    "duration": 8,
    "start_time": "2022-05-04T05:51:39.023Z"
   },
   {
    "duration": 56,
    "start_time": "2022-05-04T05:51:39.032Z"
   },
   {
    "duration": 38,
    "start_time": "2022-05-04T05:51:39.090Z"
   },
   {
    "duration": 9,
    "start_time": "2022-05-04T05:51:39.147Z"
   },
   {
    "duration": 13,
    "start_time": "2022-05-04T05:51:39.158Z"
   },
   {
    "duration": 14,
    "start_time": "2022-05-04T05:51:39.173Z"
   },
   {
    "duration": 463,
    "start_time": "2022-05-04T05:53:30.340Z"
   },
   {
    "duration": 395,
    "start_time": "2022-05-04T05:53:30.805Z"
   },
   {
    "duration": 7,
    "start_time": "2022-05-04T05:53:31.201Z"
   },
   {
    "duration": 22,
    "start_time": "2022-05-04T05:53:31.210Z"
   },
   {
    "duration": 4,
    "start_time": "2022-05-04T05:53:31.235Z"
   },
   {
    "duration": 13,
    "start_time": "2022-05-04T05:53:31.241Z"
   },
   {
    "duration": 22,
    "start_time": "2022-05-04T05:53:31.256Z"
   },
   {
    "duration": 8,
    "start_time": "2022-05-04T05:53:31.280Z"
   },
   {
    "duration": 61,
    "start_time": "2022-05-04T05:53:31.290Z"
   },
   {
    "duration": 67,
    "start_time": "2022-05-04T05:53:31.353Z"
   },
   {
    "duration": 7,
    "start_time": "2022-05-04T05:53:31.422Z"
   },
   {
    "duration": 52,
    "start_time": "2022-05-04T05:53:31.430Z"
   },
   {
    "duration": 38,
    "start_time": "2022-05-04T05:53:31.484Z"
   },
   {
    "duration": 37,
    "start_time": "2022-05-04T05:53:31.525Z"
   },
   {
    "duration": 39,
    "start_time": "2022-05-04T05:53:31.564Z"
   },
   {
    "duration": 46,
    "start_time": "2022-05-04T05:53:31.605Z"
   },
   {
    "duration": 12,
    "start_time": "2022-05-04T05:53:31.653Z"
   },
   {
    "duration": 7,
    "start_time": "2022-05-04T05:53:31.667Z"
   },
   {
    "duration": 15,
    "start_time": "2022-05-04T05:53:31.676Z"
   },
   {
    "duration": 46,
    "start_time": "2022-05-04T05:55:16.391Z"
   },
   {
    "duration": 431,
    "start_time": "2022-05-04T05:55:29.707Z"
   },
   {
    "duration": 524,
    "start_time": "2022-05-04T05:55:30.141Z"
   },
   {
    "duration": 7,
    "start_time": "2022-05-04T05:55:30.667Z"
   },
   {
    "duration": 27,
    "start_time": "2022-05-04T05:55:30.676Z"
   },
   {
    "duration": 17,
    "start_time": "2022-05-04T05:55:30.705Z"
   },
   {
    "duration": 9,
    "start_time": "2022-05-04T05:55:30.723Z"
   },
   {
    "duration": 31,
    "start_time": "2022-05-04T05:55:30.733Z"
   },
   {
    "duration": 16,
    "start_time": "2022-05-04T05:55:30.771Z"
   },
   {
    "duration": 53,
    "start_time": "2022-05-04T05:55:30.789Z"
   },
   {
    "duration": 65,
    "start_time": "2022-05-04T05:55:30.844Z"
   },
   {
    "duration": 6,
    "start_time": "2022-05-04T05:55:30.911Z"
   },
   {
    "duration": 50,
    "start_time": "2022-05-04T05:55:30.919Z"
   },
   {
    "duration": 37,
    "start_time": "2022-05-04T05:55:30.971Z"
   },
   {
    "duration": 8,
    "start_time": "2022-05-04T05:55:31.012Z"
   },
   {
    "duration": 61,
    "start_time": "2022-05-04T05:55:31.021Z"
   },
   {
    "duration": 39,
    "start_time": "2022-05-04T05:55:31.084Z"
   },
   {
    "duration": 25,
    "start_time": "2022-05-04T05:55:31.124Z"
   },
   {
    "duration": 3,
    "start_time": "2022-05-04T05:55:31.151Z"
   },
   {
    "duration": 22,
    "start_time": "2022-05-04T05:55:31.155Z"
   },
   {
    "duration": 418,
    "start_time": "2022-05-04T05:58:19.545Z"
   },
   {
    "duration": 408,
    "start_time": "2022-05-04T05:58:19.965Z"
   },
   {
    "duration": 9,
    "start_time": "2022-05-04T05:58:20.375Z"
   },
   {
    "duration": 34,
    "start_time": "2022-05-04T05:58:20.387Z"
   },
   {
    "duration": 4,
    "start_time": "2022-05-04T05:58:20.423Z"
   },
   {
    "duration": 6,
    "start_time": "2022-05-04T05:58:20.429Z"
   },
   {
    "duration": 18,
    "start_time": "2022-05-04T05:58:20.437Z"
   },
   {
    "duration": 20,
    "start_time": "2022-05-04T05:58:20.457Z"
   },
   {
    "duration": 50,
    "start_time": "2022-05-04T05:58:20.478Z"
   },
   {
    "duration": 77,
    "start_time": "2022-05-04T05:58:20.531Z"
   },
   {
    "duration": 7,
    "start_time": "2022-05-04T05:58:20.610Z"
   },
   {
    "duration": 57,
    "start_time": "2022-05-04T05:58:20.618Z"
   },
   {
    "duration": 60,
    "start_time": "2022-05-04T05:58:20.677Z"
   },
   {
    "duration": 16,
    "start_time": "2022-05-04T05:58:20.739Z"
   },
   {
    "duration": 45,
    "start_time": "2022-05-04T05:58:20.759Z"
   },
   {
    "duration": 42,
    "start_time": "2022-05-04T05:58:20.806Z"
   },
   {
    "duration": 14,
    "start_time": "2022-05-04T05:58:20.853Z"
   },
   {
    "duration": 6,
    "start_time": "2022-05-04T05:58:20.868Z"
   },
   {
    "duration": 12,
    "start_time": "2022-05-04T05:58:20.875Z"
   },
   {
    "duration": 7,
    "start_time": "2022-05-04T05:58:20.888Z"
   },
   {
    "duration": 5,
    "start_time": "2022-05-04T05:58:20.896Z"
   },
   {
    "duration": 5,
    "start_time": "2022-05-04T05:58:20.902Z"
   },
   {
    "duration": 5,
    "start_time": "2022-05-04T05:58:20.909Z"
   },
   {
    "duration": 9,
    "start_time": "2022-05-04T05:58:20.915Z"
   },
   {
    "duration": 7,
    "start_time": "2022-05-04T05:58:20.926Z"
   },
   {
    "duration": 5,
    "start_time": "2022-05-04T05:58:20.935Z"
   },
   {
    "duration": 62,
    "start_time": "2022-05-04T05:58:20.947Z"
   },
   {
    "duration": 12,
    "start_time": "2022-05-04T05:58:21.013Z"
   },
   {
    "duration": 5,
    "start_time": "2022-05-04T08:38:52.971Z"
   },
   {
    "duration": 769,
    "start_time": "2022-05-04T21:03:23.033Z"
   },
   {
    "duration": 733,
    "start_time": "2022-05-04T21:03:23.806Z"
   },
   {
    "duration": 11,
    "start_time": "2022-05-04T21:03:24.542Z"
   },
   {
    "duration": 38,
    "start_time": "2022-05-04T21:03:24.557Z"
   },
   {
    "duration": 27,
    "start_time": "2022-05-04T21:03:24.597Z"
   },
   {
    "duration": 8,
    "start_time": "2022-05-04T21:03:24.628Z"
   },
   {
    "duration": 25,
    "start_time": "2022-05-04T21:03:24.639Z"
   },
   {
    "duration": 18,
    "start_time": "2022-05-04T21:03:24.666Z"
   },
   {
    "duration": 107,
    "start_time": "2022-05-04T21:03:24.687Z"
   },
   {
    "duration": 114,
    "start_time": "2022-05-04T21:03:24.798Z"
   },
   {
    "duration": 23,
    "start_time": "2022-05-04T21:03:24.915Z"
   },
   {
    "duration": 65,
    "start_time": "2022-05-04T21:03:24.941Z"
   },
   {
    "duration": 100,
    "start_time": "2022-05-04T21:03:25.009Z"
   },
   {
    "duration": 16,
    "start_time": "2022-05-04T21:03:25.125Z"
   },
   {
    "duration": 97,
    "start_time": "2022-05-04T21:03:25.143Z"
   },
   {
    "duration": 93,
    "start_time": "2022-05-04T21:03:25.243Z"
   },
   {
    "duration": 17,
    "start_time": "2022-05-04T21:03:25.338Z"
   },
   {
    "duration": 20,
    "start_time": "2022-05-04T21:03:25.358Z"
   },
   {
    "duration": 29,
    "start_time": "2022-05-04T21:03:25.380Z"
   },
   {
    "duration": 18,
    "start_time": "2022-05-04T21:03:25.424Z"
   },
   {
    "duration": 41,
    "start_time": "2022-05-04T21:03:25.444Z"
   },
   {
    "duration": 16,
    "start_time": "2022-05-04T21:03:25.487Z"
   },
   {
    "duration": 10,
    "start_time": "2022-05-04T21:03:25.506Z"
   },
   {
    "duration": 21,
    "start_time": "2022-05-04T21:03:25.519Z"
   },
   {
    "duration": 16,
    "start_time": "2022-05-04T21:03:25.543Z"
   },
   {
    "duration": 19,
    "start_time": "2022-05-04T21:03:25.561Z"
   },
   {
    "duration": 88,
    "start_time": "2022-05-04T21:03:25.582Z"
   },
   {
    "duration": 16,
    "start_time": "2022-05-04T21:03:25.676Z"
   },
   {
    "duration": 511,
    "start_time": "2022-05-04T21:18:38.255Z"
   },
   {
    "duration": 582,
    "start_time": "2022-05-04T21:18:38.769Z"
   },
   {
    "duration": 10,
    "start_time": "2022-05-04T21:18:39.354Z"
   },
   {
    "duration": 35,
    "start_time": "2022-05-04T21:18:39.366Z"
   },
   {
    "duration": 6,
    "start_time": "2022-05-04T21:18:39.404Z"
   },
   {
    "duration": 8,
    "start_time": "2022-05-04T21:18:39.424Z"
   },
   {
    "duration": 26,
    "start_time": "2022-05-04T21:18:39.435Z"
   },
   {
    "duration": 22,
    "start_time": "2022-05-04T21:18:39.464Z"
   },
   {
    "duration": 107,
    "start_time": "2022-05-04T21:18:39.489Z"
   },
   {
    "duration": 117,
    "start_time": "2022-05-04T21:18:39.598Z"
   },
   {
    "duration": 10,
    "start_time": "2022-05-04T21:18:39.724Z"
   },
   {
    "duration": 50,
    "start_time": "2022-05-04T21:18:39.736Z"
   },
   {
    "duration": 85,
    "start_time": "2022-05-04T21:18:39.788Z"
   },
   {
    "duration": 12,
    "start_time": "2022-05-04T21:18:39.880Z"
   },
   {
    "duration": 79,
    "start_time": "2022-05-04T21:18:39.895Z"
   },
   {
    "duration": 78,
    "start_time": "2022-05-04T21:18:39.976Z"
   },
   {
    "duration": 13,
    "start_time": "2022-05-04T21:18:40.056Z"
   },
   {
    "duration": 6,
    "start_time": "2022-05-04T21:18:40.071Z"
   },
   {
    "duration": 30,
    "start_time": "2022-05-04T21:18:40.080Z"
   },
   {
    "duration": 49,
    "start_time": "2022-05-05T14:50:36.932Z"
   },
   {
    "duration": 409,
    "start_time": "2022-05-05T14:50:44.705Z"
   },
   {
    "duration": 363,
    "start_time": "2022-05-05T14:50:45.116Z"
   },
   {
    "duration": 8,
    "start_time": "2022-05-05T14:50:45.480Z"
   },
   {
    "duration": 26,
    "start_time": "2022-05-05T14:50:45.491Z"
   },
   {
    "duration": 9,
    "start_time": "2022-05-05T14:50:45.519Z"
   },
   {
    "duration": 7,
    "start_time": "2022-05-05T14:50:45.529Z"
   },
   {
    "duration": 11,
    "start_time": "2022-05-05T14:50:45.538Z"
   },
   {
    "duration": 10,
    "start_time": "2022-05-05T14:50:45.551Z"
   },
   {
    "duration": 66,
    "start_time": "2022-05-05T14:50:45.562Z"
   },
   {
    "duration": 75,
    "start_time": "2022-05-05T14:50:45.631Z"
   },
   {
    "duration": 6,
    "start_time": "2022-05-05T14:50:45.708Z"
   },
   {
    "duration": 33,
    "start_time": "2022-05-05T14:50:45.716Z"
   },
   {
    "duration": 60,
    "start_time": "2022-05-05T14:50:45.751Z"
   },
   {
    "duration": 8,
    "start_time": "2022-05-05T14:50:45.812Z"
   },
   {
    "duration": 39,
    "start_time": "2022-05-05T14:50:45.822Z"
   },
   {
    "duration": 61,
    "start_time": "2022-05-05T14:50:45.863Z"
   },
   {
    "duration": 8,
    "start_time": "2022-05-05T14:50:45.925Z"
   },
   {
    "duration": 4,
    "start_time": "2022-05-05T14:50:45.935Z"
   },
   {
    "duration": 12,
    "start_time": "2022-05-05T14:50:45.940Z"
   },
   {
    "duration": 9,
    "start_time": "2022-05-05T14:50:45.954Z"
   },
   {
    "duration": 4,
    "start_time": "2022-05-05T14:50:45.964Z"
   },
   {
    "duration": 5,
    "start_time": "2022-05-05T14:50:45.969Z"
   },
   {
    "duration": 4,
    "start_time": "2022-05-05T14:50:45.993Z"
   },
   {
    "duration": 7,
    "start_time": "2022-05-05T14:50:45.998Z"
   },
   {
    "duration": 12,
    "start_time": "2022-05-05T14:50:46.006Z"
   },
   {
    "duration": 9,
    "start_time": "2022-05-05T14:50:46.019Z"
   },
   {
    "duration": 53,
    "start_time": "2022-05-05T14:50:46.029Z"
   },
   {
    "duration": 12,
    "start_time": "2022-05-05T14:50:46.085Z"
   },
   {
    "duration": 4,
    "start_time": "2022-05-05T14:51:03.572Z"
   },
   {
    "duration": 15,
    "start_time": "2022-05-05T14:51:23.804Z"
   },
   {
    "duration": 13,
    "start_time": "2022-05-05T14:52:40.104Z"
   },
   {
    "duration": 128,
    "start_time": "2022-05-05T14:53:46.670Z"
   },
   {
    "duration": 350,
    "start_time": "2022-05-06T07:55:52.493Z"
   },
   {
    "duration": 331,
    "start_time": "2022-05-06T07:55:52.845Z"
   },
   {
    "duration": 7,
    "start_time": "2022-05-06T07:55:53.177Z"
   },
   {
    "duration": 22,
    "start_time": "2022-05-06T07:55:53.187Z"
   },
   {
    "duration": 3,
    "start_time": "2022-05-06T07:55:53.211Z"
   },
   {
    "duration": 8,
    "start_time": "2022-05-06T07:55:53.216Z"
   },
   {
    "duration": 23,
    "start_time": "2022-05-06T07:55:53.226Z"
   },
   {
    "duration": 8,
    "start_time": "2022-05-06T07:55:53.251Z"
   },
   {
    "duration": 49,
    "start_time": "2022-05-06T07:55:53.261Z"
   },
   {
    "duration": 83,
    "start_time": "2022-05-06T07:55:53.313Z"
   },
   {
    "duration": 6,
    "start_time": "2022-05-06T07:55:53.398Z"
   },
   {
    "duration": 44,
    "start_time": "2022-05-06T07:55:53.405Z"
   },
   {
    "duration": 39,
    "start_time": "2022-05-06T07:55:53.450Z"
   },
   {
    "duration": 7,
    "start_time": "2022-05-06T07:55:53.491Z"
   },
   {
    "duration": 53,
    "start_time": "2022-05-06T07:55:53.500Z"
   },
   {
    "duration": 35,
    "start_time": "2022-05-06T07:55:53.555Z"
   },
   {
    "duration": 7,
    "start_time": "2022-05-06T07:55:53.591Z"
   },
   {
    "duration": 4,
    "start_time": "2022-05-06T07:55:53.599Z"
   },
   {
    "duration": 10,
    "start_time": "2022-05-06T07:55:53.605Z"
   },
   {
    "duration": 88,
    "start_time": "2022-05-06T07:55:53.616Z"
   },
   {
    "duration": 0,
    "start_time": "2022-05-06T07:55:53.706Z"
   },
   {
    "duration": 0,
    "start_time": "2022-05-06T07:55:53.706Z"
   },
   {
    "duration": 0,
    "start_time": "2022-05-06T07:55:53.708Z"
   },
   {
    "duration": 0,
    "start_time": "2022-05-06T07:55:53.709Z"
   },
   {
    "duration": 0,
    "start_time": "2022-05-06T07:55:53.710Z"
   },
   {
    "duration": 0,
    "start_time": "2022-05-06T07:55:53.711Z"
   },
   {
    "duration": 0,
    "start_time": "2022-05-06T07:55:53.712Z"
   },
   {
    "duration": 0,
    "start_time": "2022-05-06T07:55:53.713Z"
   },
   {
    "duration": 50,
    "start_time": "2022-05-06T07:56:11.214Z"
   },
   {
    "duration": 44,
    "start_time": "2022-05-06T07:56:21.263Z"
   },
   {
    "duration": 379,
    "start_time": "2022-05-06T07:57:28.057Z"
   },
   {
    "duration": 339,
    "start_time": "2022-05-06T07:57:28.438Z"
   },
   {
    "duration": 6,
    "start_time": "2022-05-06T07:57:28.779Z"
   },
   {
    "duration": 23,
    "start_time": "2022-05-06T07:57:28.787Z"
   },
   {
    "duration": 4,
    "start_time": "2022-05-06T07:57:28.811Z"
   },
   {
    "duration": 6,
    "start_time": "2022-05-06T07:57:28.816Z"
   },
   {
    "duration": 15,
    "start_time": "2022-05-06T07:57:28.824Z"
   },
   {
    "duration": 13,
    "start_time": "2022-05-06T07:57:28.840Z"
   },
   {
    "duration": 48,
    "start_time": "2022-05-06T07:57:28.855Z"
   },
   {
    "duration": 77,
    "start_time": "2022-05-06T07:57:28.906Z"
   },
   {
    "duration": 7,
    "start_time": "2022-05-06T07:57:28.984Z"
   },
   {
    "duration": 31,
    "start_time": "2022-05-06T07:57:28.992Z"
   },
   {
    "duration": 49,
    "start_time": "2022-05-06T07:57:29.025Z"
   },
   {
    "duration": 8,
    "start_time": "2022-05-06T07:57:29.076Z"
   },
   {
    "duration": 36,
    "start_time": "2022-05-06T07:57:29.085Z"
   },
   {
    "duration": 53,
    "start_time": "2022-05-06T07:57:29.122Z"
   },
   {
    "duration": 7,
    "start_time": "2022-05-06T07:57:29.177Z"
   },
   {
    "duration": 4,
    "start_time": "2022-05-06T07:57:29.185Z"
   },
   {
    "duration": 10,
    "start_time": "2022-05-06T07:57:29.191Z"
   },
   {
    "duration": 82,
    "start_time": "2022-05-06T07:57:29.203Z"
   },
   {
    "duration": 0,
    "start_time": "2022-05-06T07:57:29.287Z"
   },
   {
    "duration": 0,
    "start_time": "2022-05-06T07:57:29.288Z"
   },
   {
    "duration": 0,
    "start_time": "2022-05-06T07:57:29.289Z"
   },
   {
    "duration": 0,
    "start_time": "2022-05-06T07:57:29.290Z"
   },
   {
    "duration": 0,
    "start_time": "2022-05-06T07:57:29.291Z"
   },
   {
    "duration": 0,
    "start_time": "2022-05-06T07:57:29.292Z"
   },
   {
    "duration": 0,
    "start_time": "2022-05-06T07:57:29.293Z"
   },
   {
    "duration": 0,
    "start_time": "2022-05-06T07:57:29.293Z"
   },
   {
    "duration": 109,
    "start_time": "2022-05-06T08:06:24.369Z"
   },
   {
    "duration": 7,
    "start_time": "2022-05-06T08:09:25.824Z"
   },
   {
    "duration": 16,
    "start_time": "2022-05-06T08:09:42.487Z"
   },
   {
    "duration": 51,
    "start_time": "2022-05-06T08:10:06.037Z"
   },
   {
    "duration": 63,
    "start_time": "2022-05-06T08:10:09.488Z"
   },
   {
    "duration": 6,
    "start_time": "2022-05-06T11:35:59.952Z"
   },
   {
    "duration": 76,
    "start_time": "2022-05-06T11:37:51.263Z"
   },
   {
    "duration": 483,
    "start_time": "2022-05-06T11:37:59.420Z"
   },
   {
    "duration": 592,
    "start_time": "2022-05-06T11:38:01.621Z"
   },
   {
    "duration": 74,
    "start_time": "2022-05-06T11:38:15.471Z"
   },
   {
    "duration": 102,
    "start_time": "2022-05-06T11:38:17.998Z"
   },
   {
    "duration": 14,
    "start_time": "2022-05-06T11:38:29.977Z"
   },
   {
    "duration": 66,
    "start_time": "2022-05-06T11:38:32.811Z"
   },
   {
    "duration": 58,
    "start_time": "2022-05-06T11:38:35.052Z"
   },
   {
    "duration": 13,
    "start_time": "2022-05-06T11:38:37.997Z"
   },
   {
    "duration": 51,
    "start_time": "2022-05-06T11:38:40.894Z"
   },
   {
    "duration": 52,
    "start_time": "2022-05-06T11:38:43.942Z"
   },
   {
    "duration": 12,
    "start_time": "2022-05-06T11:38:46.848Z"
   },
   {
    "duration": 13,
    "start_time": "2022-05-06T11:38:55.267Z"
   },
   {
    "duration": 64,
    "start_time": "2022-05-06T11:40:48.442Z"
   },
   {
    "duration": 4,
    "start_time": "2022-05-06T11:41:00.727Z"
   },
   {
    "duration": 23,
    "start_time": "2022-05-06T11:41:18.967Z"
   },
   {
    "duration": 73,
    "start_time": "2022-05-06T11:41:41.149Z"
   },
   {
    "duration": 53,
    "start_time": "2022-05-07T09:56:56.873Z"
   },
   {
    "duration": 456,
    "start_time": "2022-05-07T09:57:03.426Z"
   },
   {
    "duration": 487,
    "start_time": "2022-05-07T09:57:05.174Z"
   },
   {
    "duration": 22,
    "start_time": "2022-05-07T09:57:11.103Z"
   },
   {
    "duration": 9,
    "start_time": "2022-05-07T09:57:25.473Z"
   },
   {
    "duration": 8,
    "start_time": "2022-05-07T09:57:48.473Z"
   },
   {
    "duration": 13,
    "start_time": "2022-05-07T09:58:11.894Z"
   },
   {
    "duration": 55,
    "start_time": "2022-05-07T09:59:08.644Z"
   },
   {
    "duration": 88,
    "start_time": "2022-05-07T10:03:28.464Z"
   },
   {
    "duration": 13,
    "start_time": "2022-05-07T10:03:34.611Z"
   },
   {
    "duration": 88,
    "start_time": "2022-05-07T10:04:00.054Z"
   },
   {
    "duration": 23,
    "start_time": "2022-05-07T10:04:32.325Z"
   },
   {
    "duration": 55,
    "start_time": "2022-05-07T10:04:46.875Z"
   },
   {
    "duration": 54,
    "start_time": "2022-05-07T10:04:51.605Z"
   },
   {
    "duration": 69,
    "start_time": "2022-05-07T10:05:04.735Z"
   },
   {
    "duration": 15,
    "start_time": "2022-05-07T10:05:51.373Z"
   },
   {
    "duration": 23,
    "start_time": "2022-05-07T10:06:01.883Z"
   },
   {
    "duration": 9,
    "start_time": "2022-05-07T10:07:05.291Z"
   },
   {
    "duration": 36,
    "start_time": "2022-05-07T10:07:21.604Z"
   },
   {
    "duration": 9,
    "start_time": "2022-05-07T10:07:27.647Z"
   },
   {
    "duration": 358,
    "start_time": "2022-05-07T10:12:47.428Z"
   },
   {
    "duration": 332,
    "start_time": "2022-05-07T10:13:10.303Z"
   },
   {
    "duration": 19,
    "start_time": "2022-05-07T10:14:18.363Z"
   },
   {
    "duration": 56,
    "start_time": "2022-05-07T10:14:46.983Z"
   },
   {
    "duration": 73,
    "start_time": "2022-05-07T10:14:55.813Z"
   },
   {
    "duration": 48,
    "start_time": "2022-05-07T10:15:21.655Z"
   },
   {
    "duration": 13,
    "start_time": "2022-05-07T10:15:53.362Z"
   },
   {
    "duration": 12,
    "start_time": "2022-05-07T10:26:28.324Z"
   },
   {
    "duration": 18,
    "start_time": "2022-05-07T10:28:21.062Z"
   },
   {
    "duration": 15,
    "start_time": "2022-05-07T10:29:26.394Z"
   },
   {
    "duration": 16,
    "start_time": "2022-05-07T10:29:42.203Z"
   },
   {
    "duration": 9,
    "start_time": "2022-05-07T10:29:56.472Z"
   },
   {
    "duration": 15,
    "start_time": "2022-05-07T10:30:07.809Z"
   },
   {
    "duration": 16,
    "start_time": "2022-05-07T10:30:19.647Z"
   },
   {
    "duration": 18,
    "start_time": "2022-05-07T10:30:26.524Z"
   },
   {
    "duration": 13,
    "start_time": "2022-05-07T10:30:37.811Z"
   },
   {
    "duration": 11,
    "start_time": "2022-05-07T10:30:47.113Z"
   },
   {
    "duration": 6,
    "start_time": "2022-05-07T10:31:15.942Z"
   },
   {
    "duration": 4,
    "start_time": "2022-05-07T10:32:03.052Z"
   },
   {
    "duration": 88,
    "start_time": "2022-05-07T10:32:18.771Z"
   },
   {
    "duration": 12,
    "start_time": "2022-05-07T10:33:09.654Z"
   },
   {
    "duration": 14,
    "start_time": "2022-05-07T10:33:19.247Z"
   },
   {
    "duration": 15,
    "start_time": "2022-05-07T10:33:26.628Z"
   },
   {
    "duration": 5,
    "start_time": "2022-05-07T10:33:47.600Z"
   },
   {
    "duration": 68,
    "start_time": "2022-05-11T06:05:02.125Z"
   },
   {
    "duration": 495,
    "start_time": "2022-05-11T06:05:16.880Z"
   },
   {
    "duration": 496,
    "start_time": "2022-05-11T06:05:17.378Z"
   },
   {
    "duration": 9,
    "start_time": "2022-05-11T06:05:17.876Z"
   },
   {
    "duration": 31,
    "start_time": "2022-05-11T06:05:17.888Z"
   },
   {
    "duration": 4,
    "start_time": "2022-05-11T06:05:17.923Z"
   },
   {
    "duration": 9,
    "start_time": "2022-05-11T06:05:17.929Z"
   },
   {
    "duration": 16,
    "start_time": "2022-05-11T06:05:17.940Z"
   },
   {
    "duration": 12,
    "start_time": "2022-05-11T06:05:17.993Z"
   },
   {
    "duration": 68,
    "start_time": "2022-05-11T06:05:18.007Z"
   },
   {
    "duration": 90,
    "start_time": "2022-05-11T06:05:18.093Z"
   },
   {
    "duration": 9,
    "start_time": "2022-05-11T06:05:18.193Z"
   },
   {
    "duration": 43,
    "start_time": "2022-05-11T06:05:18.204Z"
   },
   {
    "duration": 81,
    "start_time": "2022-05-11T06:05:18.249Z"
   },
   {
    "duration": 11,
    "start_time": "2022-05-11T06:05:18.335Z"
   },
   {
    "duration": 72,
    "start_time": "2022-05-11T06:05:18.349Z"
   },
   {
    "duration": 54,
    "start_time": "2022-05-11T06:05:18.424Z"
   },
   {
    "duration": 19,
    "start_time": "2022-05-11T06:05:18.480Z"
   },
   {
    "duration": 4,
    "start_time": "2022-05-11T06:05:18.502Z"
   },
   {
    "duration": 19,
    "start_time": "2022-05-11T06:05:18.508Z"
   },
   {
    "duration": 96,
    "start_time": "2022-05-11T06:05:18.530Z"
   },
   {
    "duration": 492,
    "start_time": "2022-05-11T06:05:18.628Z"
   },
   {
    "duration": 47,
    "start_time": "2022-05-11T06:05:19.122Z"
   },
   {
    "duration": 22,
    "start_time": "2022-05-11T06:05:19.171Z"
   },
   {
    "duration": 121,
    "start_time": "2022-05-11T06:05:19.195Z"
   },
   {
    "duration": 4,
    "start_time": "2022-05-11T06:05:19.318Z"
   },
   {
    "duration": 6,
    "start_time": "2022-05-11T06:05:19.324Z"
   },
   {
    "duration": 7,
    "start_time": "2022-05-11T06:05:19.333Z"
   },
   {
    "duration": 6,
    "start_time": "2022-05-11T06:05:19.342Z"
   },
   {
    "duration": 5,
    "start_time": "2022-05-11T06:05:19.350Z"
   },
   {
    "duration": 86,
    "start_time": "2022-05-11T06:05:19.358Z"
   },
   {
    "duration": 11,
    "start_time": "2022-05-11T06:05:19.446Z"
   },
   {
    "duration": 122,
    "start_time": "2022-05-11T06:05:33.259Z"
   },
   {
    "duration": 40,
    "start_time": "2022-05-11T06:06:14.972Z"
   },
   {
    "duration": 16,
    "start_time": "2022-05-11T06:06:35.913Z"
   },
   {
    "duration": 53,
    "start_time": "2022-05-11T06:06:54.317Z"
   },
   {
    "duration": 24,
    "start_time": "2022-05-11T06:07:06.976Z"
   },
   {
    "duration": 54,
    "start_time": "2022-05-11T08:39:09.696Z"
   },
   {
    "duration": 58,
    "start_time": "2022-05-11T08:40:07.624Z"
   },
   {
    "duration": 50,
    "start_time": "2022-05-11T08:40:22.283Z"
   },
   {
    "duration": 54,
    "start_time": "2022-05-11T08:40:43.764Z"
   },
   {
    "duration": 58,
    "start_time": "2022-05-11T08:41:00.519Z"
   },
   {
    "duration": 51,
    "start_time": "2022-05-11T08:41:12.616Z"
   },
   {
    "duration": 55,
    "start_time": "2022-05-11T08:41:38.826Z"
   },
   {
    "duration": 13,
    "start_time": "2022-05-11T08:42:00.491Z"
   },
   {
    "duration": 14,
    "start_time": "2022-05-11T08:42:15.719Z"
   },
   {
    "duration": 45,
    "start_time": "2022-05-11T08:48:04.010Z"
   },
   {
    "duration": 12,
    "start_time": "2022-05-11T08:49:39.501Z"
   },
   {
    "duration": 13,
    "start_time": "2022-05-11T08:49:51.156Z"
   },
   {
    "duration": 14,
    "start_time": "2022-05-11T08:50:06.305Z"
   },
   {
    "duration": 65,
    "start_time": "2022-05-11T08:50:45.948Z"
   },
   {
    "duration": 40,
    "start_time": "2022-05-11T08:50:53.239Z"
   },
   {
    "duration": 50,
    "start_time": "2022-05-11T08:51:00.434Z"
   },
   {
    "duration": 19,
    "start_time": "2022-05-11T08:51:13.541Z"
   },
   {
    "duration": 53,
    "start_time": "2022-05-11T08:51:18.086Z"
   },
   {
    "duration": 445,
    "start_time": "2022-05-11T08:51:20.091Z"
   },
   {
    "duration": 43,
    "start_time": "2022-05-11T08:51:25.343Z"
   },
   {
    "duration": 5,
    "start_time": "2022-05-11T08:51:27.512Z"
   },
   {
    "duration": 12,
    "start_time": "2022-05-11T08:51:29.221Z"
   },
   {
    "duration": 13,
    "start_time": "2022-05-11T08:51:36.194Z"
   },
   {
    "duration": 491,
    "start_time": "2022-05-11T08:51:45.685Z"
   },
   {
    "duration": 501,
    "start_time": "2022-05-11T08:51:46.179Z"
   },
   {
    "duration": 9,
    "start_time": "2022-05-11T08:51:46.682Z"
   },
   {
    "duration": 33,
    "start_time": "2022-05-11T08:51:46.693Z"
   },
   {
    "duration": 5,
    "start_time": "2022-05-11T08:51:46.729Z"
   },
   {
    "duration": 11,
    "start_time": "2022-05-11T08:51:46.736Z"
   },
   {
    "duration": 55,
    "start_time": "2022-05-11T08:51:46.749Z"
   },
   {
    "duration": 14,
    "start_time": "2022-05-11T08:51:46.807Z"
   },
   {
    "duration": 86,
    "start_time": "2022-05-11T08:51:46.823Z"
   },
   {
    "duration": 116,
    "start_time": "2022-05-11T08:51:46.911Z"
   },
   {
    "duration": 0,
    "start_time": "2022-05-11T08:51:47.030Z"
   },
   {
    "duration": 0,
    "start_time": "2022-05-11T08:51:47.032Z"
   },
   {
    "duration": 0,
    "start_time": "2022-05-11T08:51:47.034Z"
   },
   {
    "duration": 0,
    "start_time": "2022-05-11T08:51:47.035Z"
   },
   {
    "duration": 0,
    "start_time": "2022-05-11T08:51:47.037Z"
   },
   {
    "duration": 0,
    "start_time": "2022-05-11T08:51:47.038Z"
   },
   {
    "duration": 0,
    "start_time": "2022-05-11T08:51:47.040Z"
   },
   {
    "duration": 0,
    "start_time": "2022-05-11T08:51:47.041Z"
   },
   {
    "duration": 0,
    "start_time": "2022-05-11T08:51:47.042Z"
   },
   {
    "duration": 0,
    "start_time": "2022-05-11T08:51:47.044Z"
   },
   {
    "duration": 0,
    "start_time": "2022-05-11T08:51:47.045Z"
   },
   {
    "duration": 0,
    "start_time": "2022-05-11T08:51:47.047Z"
   },
   {
    "duration": 0,
    "start_time": "2022-05-11T08:51:47.048Z"
   },
   {
    "duration": 0,
    "start_time": "2022-05-11T08:51:47.049Z"
   },
   {
    "duration": 0,
    "start_time": "2022-05-11T08:51:47.051Z"
   },
   {
    "duration": 0,
    "start_time": "2022-05-11T08:51:47.052Z"
   },
   {
    "duration": 0,
    "start_time": "2022-05-11T08:51:47.093Z"
   },
   {
    "duration": 0,
    "start_time": "2022-05-11T08:51:47.095Z"
   },
   {
    "duration": 0,
    "start_time": "2022-05-11T08:51:47.096Z"
   },
   {
    "duration": 0,
    "start_time": "2022-05-11T08:51:47.098Z"
   },
   {
    "duration": 0,
    "start_time": "2022-05-11T08:51:47.100Z"
   },
   {
    "duration": 0,
    "start_time": "2022-05-11T08:51:47.101Z"
   },
   {
    "duration": 1,
    "start_time": "2022-05-11T08:51:47.102Z"
   },
   {
    "duration": 0,
    "start_time": "2022-05-11T08:51:47.104Z"
   },
   {
    "duration": 0,
    "start_time": "2022-05-11T08:51:47.106Z"
   },
   {
    "duration": 10,
    "start_time": "2022-05-11T08:51:56.579Z"
   },
   {
    "duration": 24,
    "start_time": "2022-05-11T08:52:03.307Z"
   },
   {
    "duration": 89,
    "start_time": "2022-05-11T08:52:22.395Z"
   },
   {
    "duration": 484,
    "start_time": "2022-05-11T08:52:34.989Z"
   },
   {
    "duration": 510,
    "start_time": "2022-05-11T08:52:35.476Z"
   },
   {
    "duration": 9,
    "start_time": "2022-05-11T08:52:35.988Z"
   },
   {
    "duration": 35,
    "start_time": "2022-05-11T08:52:35.999Z"
   },
   {
    "duration": 5,
    "start_time": "2022-05-11T08:52:36.038Z"
   },
   {
    "duration": 11,
    "start_time": "2022-05-11T08:52:36.045Z"
   },
   {
    "duration": 45,
    "start_time": "2022-05-11T08:52:36.058Z"
   },
   {
    "duration": 11,
    "start_time": "2022-05-11T08:52:36.105Z"
   },
   {
    "duration": 90,
    "start_time": "2022-05-11T08:52:36.118Z"
   },
   {
    "duration": 95,
    "start_time": "2022-05-11T08:52:36.211Z"
   },
   {
    "duration": 10,
    "start_time": "2022-05-11T08:52:36.308Z"
   },
   {
    "duration": 47,
    "start_time": "2022-05-11T08:52:36.319Z"
   },
   {
    "duration": 135,
    "start_time": "2022-05-11T08:52:36.368Z"
   },
   {
    "duration": 0,
    "start_time": "2022-05-11T08:52:36.506Z"
   },
   {
    "duration": 0,
    "start_time": "2022-05-11T08:52:36.508Z"
   },
   {
    "duration": 0,
    "start_time": "2022-05-11T08:52:36.509Z"
   },
   {
    "duration": 0,
    "start_time": "2022-05-11T08:52:36.510Z"
   },
   {
    "duration": 0,
    "start_time": "2022-05-11T08:52:36.511Z"
   },
   {
    "duration": 0,
    "start_time": "2022-05-11T08:52:36.513Z"
   },
   {
    "duration": 0,
    "start_time": "2022-05-11T08:52:36.514Z"
   },
   {
    "duration": 0,
    "start_time": "2022-05-11T08:52:36.516Z"
   },
   {
    "duration": 0,
    "start_time": "2022-05-11T08:52:36.517Z"
   },
   {
    "duration": 0,
    "start_time": "2022-05-11T08:52:36.518Z"
   },
   {
    "duration": 0,
    "start_time": "2022-05-11T08:52:36.520Z"
   },
   {
    "duration": 0,
    "start_time": "2022-05-11T08:52:36.521Z"
   },
   {
    "duration": 0,
    "start_time": "2022-05-11T08:52:36.522Z"
   },
   {
    "duration": 0,
    "start_time": "2022-05-11T08:52:36.524Z"
   },
   {
    "duration": 0,
    "start_time": "2022-05-11T08:52:36.525Z"
   },
   {
    "duration": 0,
    "start_time": "2022-05-11T08:52:36.527Z"
   },
   {
    "duration": 0,
    "start_time": "2022-05-11T08:52:36.528Z"
   },
   {
    "duration": 0,
    "start_time": "2022-05-11T08:52:36.530Z"
   },
   {
    "duration": 0,
    "start_time": "2022-05-11T08:52:36.531Z"
   },
   {
    "duration": 0,
    "start_time": "2022-05-11T08:52:36.532Z"
   },
   {
    "duration": 0,
    "start_time": "2022-05-11T08:52:36.534Z"
   },
   {
    "duration": 0,
    "start_time": "2022-05-11T08:52:36.535Z"
   },
   {
    "duration": 55,
    "start_time": "2022-05-11T08:52:48.335Z"
   },
   {
    "duration": 520,
    "start_time": "2022-05-11T08:52:59.439Z"
   },
   {
    "duration": 544,
    "start_time": "2022-05-11T08:52:59.961Z"
   },
   {
    "duration": 10,
    "start_time": "2022-05-11T08:53:00.507Z"
   },
   {
    "duration": 52,
    "start_time": "2022-05-11T08:53:00.519Z"
   },
   {
    "duration": 6,
    "start_time": "2022-05-11T08:53:00.574Z"
   },
   {
    "duration": 38,
    "start_time": "2022-05-11T08:53:00.582Z"
   },
   {
    "duration": 28,
    "start_time": "2022-05-11T08:53:00.622Z"
   },
   {
    "duration": 41,
    "start_time": "2022-05-11T08:53:00.652Z"
   },
   {
    "duration": 95,
    "start_time": "2022-05-11T08:53:00.696Z"
   },
   {
    "duration": 102,
    "start_time": "2022-05-11T08:53:00.793Z"
   },
   {
    "duration": 11,
    "start_time": "2022-05-11T08:53:00.897Z"
   },
   {
    "duration": 86,
    "start_time": "2022-05-11T08:53:00.910Z"
   },
   {
    "duration": 59,
    "start_time": "2022-05-11T08:53:00.998Z"
   },
   {
    "duration": 12,
    "start_time": "2022-05-11T08:53:01.061Z"
   },
   {
    "duration": 55,
    "start_time": "2022-05-11T08:53:01.094Z"
   },
   {
    "duration": 144,
    "start_time": "2022-05-11T08:53:01.151Z"
   },
   {
    "duration": 0,
    "start_time": "2022-05-11T08:53:01.297Z"
   },
   {
    "duration": 0,
    "start_time": "2022-05-11T08:53:01.299Z"
   },
   {
    "duration": 0,
    "start_time": "2022-05-11T08:53:01.300Z"
   },
   {
    "duration": 0,
    "start_time": "2022-05-11T08:53:01.302Z"
   },
   {
    "duration": 0,
    "start_time": "2022-05-11T08:53:01.304Z"
   },
   {
    "duration": 0,
    "start_time": "2022-05-11T08:53:01.305Z"
   },
   {
    "duration": 0,
    "start_time": "2022-05-11T08:53:01.306Z"
   },
   {
    "duration": 0,
    "start_time": "2022-05-11T08:53:01.307Z"
   },
   {
    "duration": 0,
    "start_time": "2022-05-11T08:53:01.309Z"
   },
   {
    "duration": 0,
    "start_time": "2022-05-11T08:53:01.310Z"
   },
   {
    "duration": 0,
    "start_time": "2022-05-11T08:53:01.311Z"
   },
   {
    "duration": 0,
    "start_time": "2022-05-11T08:53:01.313Z"
   },
   {
    "duration": 0,
    "start_time": "2022-05-11T08:53:01.314Z"
   },
   {
    "duration": 0,
    "start_time": "2022-05-11T08:53:01.316Z"
   },
   {
    "duration": 0,
    "start_time": "2022-05-11T08:53:01.317Z"
   },
   {
    "duration": 0,
    "start_time": "2022-05-11T08:53:01.319Z"
   },
   {
    "duration": 0,
    "start_time": "2022-05-11T08:53:01.320Z"
   },
   {
    "duration": 0,
    "start_time": "2022-05-11T08:53:01.322Z"
   },
   {
    "duration": 0,
    "start_time": "2022-05-11T08:53:01.323Z"
   },
   {
    "duration": 52,
    "start_time": "2022-05-11T08:53:10.434Z"
   },
   {
    "duration": 464,
    "start_time": "2022-05-11T08:53:18.114Z"
   },
   {
    "duration": 487,
    "start_time": "2022-05-11T08:53:18.580Z"
   },
   {
    "duration": 10,
    "start_time": "2022-05-11T08:53:19.069Z"
   },
   {
    "duration": 33,
    "start_time": "2022-05-11T08:53:19.082Z"
   },
   {
    "duration": 6,
    "start_time": "2022-05-11T08:53:19.117Z"
   },
   {
    "duration": 10,
    "start_time": "2022-05-11T08:53:19.125Z"
   },
   {
    "duration": 20,
    "start_time": "2022-05-11T08:53:19.137Z"
   },
   {
    "duration": 45,
    "start_time": "2022-05-11T08:53:19.159Z"
   },
   {
    "duration": 88,
    "start_time": "2022-05-11T08:53:19.206Z"
   },
   {
    "duration": 104,
    "start_time": "2022-05-11T08:53:19.298Z"
   },
   {
    "duration": 10,
    "start_time": "2022-05-11T08:53:19.404Z"
   },
   {
    "duration": 43,
    "start_time": "2022-05-11T08:53:19.417Z"
   },
   {
    "duration": 84,
    "start_time": "2022-05-11T08:53:19.463Z"
   },
   {
    "duration": 12,
    "start_time": "2022-05-11T08:53:19.549Z"
   },
   {
    "duration": 73,
    "start_time": "2022-05-11T08:53:19.563Z"
   },
   {
    "duration": 67,
    "start_time": "2022-05-11T08:53:19.639Z"
   },
   {
    "duration": 11,
    "start_time": "2022-05-11T08:53:19.709Z"
   },
   {
    "duration": 6,
    "start_time": "2022-05-11T08:53:19.723Z"
   },
   {
    "duration": 17,
    "start_time": "2022-05-11T08:53:19.731Z"
   },
   {
    "duration": 135,
    "start_time": "2022-05-11T08:53:19.750Z"
   },
   {
    "duration": 0,
    "start_time": "2022-05-11T08:53:19.888Z"
   },
   {
    "duration": 0,
    "start_time": "2022-05-11T08:53:19.889Z"
   },
   {
    "duration": 0,
    "start_time": "2022-05-11T08:53:19.893Z"
   },
   {
    "duration": 0,
    "start_time": "2022-05-11T08:53:19.894Z"
   },
   {
    "duration": 0,
    "start_time": "2022-05-11T08:53:19.895Z"
   },
   {
    "duration": 0,
    "start_time": "2022-05-11T08:53:19.896Z"
   },
   {
    "duration": 0,
    "start_time": "2022-05-11T08:53:19.898Z"
   },
   {
    "duration": 0,
    "start_time": "2022-05-11T08:53:19.899Z"
   },
   {
    "duration": 0,
    "start_time": "2022-05-11T08:53:19.901Z"
   },
   {
    "duration": 0,
    "start_time": "2022-05-11T08:53:19.902Z"
   },
   {
    "duration": 0,
    "start_time": "2022-05-11T08:53:19.904Z"
   },
   {
    "duration": 0,
    "start_time": "2022-05-11T08:53:19.905Z"
   },
   {
    "duration": 0,
    "start_time": "2022-05-11T08:53:19.906Z"
   },
   {
    "duration": 0,
    "start_time": "2022-05-11T08:53:19.908Z"
   },
   {
    "duration": 0,
    "start_time": "2022-05-11T08:53:19.909Z"
   },
   {
    "duration": 71,
    "start_time": "2022-05-11T08:53:30.382Z"
   },
   {
    "duration": 507,
    "start_time": "2022-05-11T08:53:36.896Z"
   },
   {
    "duration": 533,
    "start_time": "2022-05-11T08:53:37.405Z"
   },
   {
    "duration": 9,
    "start_time": "2022-05-11T08:53:37.940Z"
   },
   {
    "duration": 35,
    "start_time": "2022-05-11T08:53:37.951Z"
   },
   {
    "duration": 5,
    "start_time": "2022-05-11T08:53:37.990Z"
   },
   {
    "duration": 9,
    "start_time": "2022-05-11T08:53:37.997Z"
   },
   {
    "duration": 18,
    "start_time": "2022-05-11T08:53:38.008Z"
   },
   {
    "duration": 16,
    "start_time": "2022-05-11T08:53:38.029Z"
   },
   {
    "duration": 102,
    "start_time": "2022-05-11T08:53:38.046Z"
   },
   {
    "duration": 108,
    "start_time": "2022-05-11T08:53:38.150Z"
   },
   {
    "duration": 12,
    "start_time": "2022-05-11T08:53:38.261Z"
   },
   {
    "duration": 63,
    "start_time": "2022-05-11T08:53:38.275Z"
   },
   {
    "duration": 80,
    "start_time": "2022-05-11T08:53:38.340Z"
   },
   {
    "duration": 12,
    "start_time": "2022-05-11T08:53:38.424Z"
   },
   {
    "duration": 90,
    "start_time": "2022-05-11T08:53:38.437Z"
   },
   {
    "duration": 87,
    "start_time": "2022-05-11T08:53:38.530Z"
   },
   {
    "duration": 14,
    "start_time": "2022-05-11T08:53:38.620Z"
   },
   {
    "duration": 7,
    "start_time": "2022-05-11T08:53:38.637Z"
   },
   {
    "duration": 24,
    "start_time": "2022-05-11T08:53:38.647Z"
   },
   {
    "duration": 101,
    "start_time": "2022-05-11T08:53:38.692Z"
   },
   {
    "duration": 177,
    "start_time": "2022-05-11T08:53:38.795Z"
   },
   {
    "duration": 0,
    "start_time": "2022-05-11T08:53:38.974Z"
   },
   {
    "duration": 0,
    "start_time": "2022-05-11T08:53:38.977Z"
   },
   {
    "duration": 0,
    "start_time": "2022-05-11T08:53:38.979Z"
   },
   {
    "duration": 0,
    "start_time": "2022-05-11T08:53:38.980Z"
   },
   {
    "duration": 0,
    "start_time": "2022-05-11T08:53:38.993Z"
   },
   {
    "duration": 0,
    "start_time": "2022-05-11T08:53:38.995Z"
   },
   {
    "duration": 0,
    "start_time": "2022-05-11T08:53:38.997Z"
   },
   {
    "duration": 0,
    "start_time": "2022-05-11T08:53:38.999Z"
   },
   {
    "duration": 0,
    "start_time": "2022-05-11T08:53:39.000Z"
   },
   {
    "duration": 0,
    "start_time": "2022-05-11T08:53:39.001Z"
   },
   {
    "duration": 0,
    "start_time": "2022-05-11T08:53:39.003Z"
   },
   {
    "duration": 0,
    "start_time": "2022-05-11T08:53:39.004Z"
   },
   {
    "duration": 0,
    "start_time": "2022-05-11T08:53:39.005Z"
   },
   {
    "duration": 0,
    "start_time": "2022-05-11T08:53:39.007Z"
   },
   {
    "duration": 477,
    "start_time": "2022-05-11T08:54:00.529Z"
   },
   {
    "duration": 525,
    "start_time": "2022-05-11T08:54:01.009Z"
   },
   {
    "duration": 9,
    "start_time": "2022-05-11T08:54:01.536Z"
   },
   {
    "duration": 48,
    "start_time": "2022-05-11T08:54:01.547Z"
   },
   {
    "duration": 32,
    "start_time": "2022-05-11T08:54:01.599Z"
   },
   {
    "duration": 12,
    "start_time": "2022-05-11T08:54:01.633Z"
   },
   {
    "duration": 23,
    "start_time": "2022-05-11T08:54:01.647Z"
   },
   {
    "duration": 13,
    "start_time": "2022-05-11T08:54:01.672Z"
   },
   {
    "duration": 79,
    "start_time": "2022-05-11T08:54:01.687Z"
   },
   {
    "duration": 98,
    "start_time": "2022-05-11T08:54:01.768Z"
   },
   {
    "duration": 10,
    "start_time": "2022-05-11T08:54:01.868Z"
   },
   {
    "duration": 56,
    "start_time": "2022-05-11T08:54:01.880Z"
   },
   {
    "duration": 78,
    "start_time": "2022-05-11T08:54:01.938Z"
   },
   {
    "duration": 12,
    "start_time": "2022-05-11T08:54:02.020Z"
   },
   {
    "duration": 68,
    "start_time": "2022-05-11T08:54:02.034Z"
   },
   {
    "duration": 56,
    "start_time": "2022-05-11T08:54:02.104Z"
   },
   {
    "duration": 32,
    "start_time": "2022-05-11T08:54:02.163Z"
   },
   {
    "duration": 8,
    "start_time": "2022-05-11T08:54:02.198Z"
   },
   {
    "duration": 22,
    "start_time": "2022-05-11T08:54:02.208Z"
   },
   {
    "duration": 85,
    "start_time": "2022-05-11T08:54:02.232Z"
   },
   {
    "duration": 504,
    "start_time": "2022-05-11T08:54:02.319Z"
   },
   {
    "duration": 42,
    "start_time": "2022-05-11T08:54:02.825Z"
   },
   {
    "duration": 5,
    "start_time": "2022-05-11T08:54:02.869Z"
   },
   {
    "duration": 13,
    "start_time": "2022-05-11T08:54:02.893Z"
   },
   {
    "duration": 14,
    "start_time": "2022-05-11T08:54:02.909Z"
   },
   {
    "duration": 135,
    "start_time": "2022-05-11T08:54:02.926Z"
   },
   {
    "duration": 0,
    "start_time": "2022-05-11T08:54:03.063Z"
   },
   {
    "duration": 0,
    "start_time": "2022-05-11T08:54:03.066Z"
   },
   {
    "duration": 0,
    "start_time": "2022-05-11T08:54:03.068Z"
   },
   {
    "duration": 0,
    "start_time": "2022-05-11T08:54:03.070Z"
   },
   {
    "duration": 0,
    "start_time": "2022-05-11T08:54:03.073Z"
   },
   {
    "duration": 1,
    "start_time": "2022-05-11T08:54:03.092Z"
   },
   {
    "duration": 0,
    "start_time": "2022-05-11T08:54:03.094Z"
   },
   {
    "duration": 0,
    "start_time": "2022-05-11T08:54:03.096Z"
   },
   {
    "duration": 0,
    "start_time": "2022-05-11T08:54:03.097Z"
   },
   {
    "duration": 181,
    "start_time": "2022-05-11T08:55:20.411Z"
   },
   {
    "duration": 21,
    "start_time": "2022-05-11T08:55:31.981Z"
   },
   {
    "duration": 31,
    "start_time": "2022-05-11T08:55:39.775Z"
   },
   {
    "duration": 62,
    "start_time": "2022-05-11T11:06:27.433Z"
   },
   {
    "duration": 11,
    "start_time": "2022-05-11T11:07:06.104Z"
   },
   {
    "duration": 9,
    "start_time": "2022-05-11T11:07:18.450Z"
   },
   {
    "duration": 66,
    "start_time": "2022-05-11T11:07:41.387Z"
   },
   {
    "duration": 40,
    "start_time": "2022-05-11T11:08:02.605Z"
   },
   {
    "duration": 57,
    "start_time": "2022-05-11T11:08:25.075Z"
   },
   {
    "duration": 64,
    "start_time": "2022-05-11T11:10:46.348Z"
   },
   {
    "duration": 49,
    "start_time": "2022-05-11T11:11:04.772Z"
   },
   {
    "duration": 10,
    "start_time": "2022-05-11T11:12:08.082Z"
   },
   {
    "duration": 70,
    "start_time": "2022-05-11T11:12:31.861Z"
   },
   {
    "duration": 50,
    "start_time": "2022-05-11T11:12:52.329Z"
   },
   {
    "duration": 65,
    "start_time": "2022-05-11T11:20:05.212Z"
   },
   {
    "duration": 52,
    "start_time": "2022-05-11T12:23:07.387Z"
   },
   {
    "duration": 59,
    "start_time": "2022-05-11T12:23:19.115Z"
   },
   {
    "duration": 114,
    "start_time": "2022-05-11T12:23:28.002Z"
   },
   {
    "duration": 13,
    "start_time": "2022-05-11T12:23:50.260Z"
   },
   {
    "duration": 24,
    "start_time": "2022-05-11T12:24:14.283Z"
   },
   {
    "duration": 12,
    "start_time": "2022-05-11T12:24:21.816Z"
   },
   {
    "duration": 62,
    "start_time": "2022-05-11T12:24:32.055Z"
   },
   {
    "duration": 12,
    "start_time": "2022-05-11T12:24:51.084Z"
   },
   {
    "duration": 72,
    "start_time": "2022-05-11T12:25:01.454Z"
   },
   {
    "duration": 55,
    "start_time": "2022-05-11T12:25:14.846Z"
   },
   {
    "duration": 50,
    "start_time": "2022-05-11T12:25:20.522Z"
   },
   {
    "duration": 65,
    "start_time": "2022-05-11T12:25:26.093Z"
   },
   {
    "duration": 12,
    "start_time": "2022-05-11T12:27:23.037Z"
   },
   {
    "duration": 488,
    "start_time": "2022-05-11T12:27:49.611Z"
   },
   {
    "duration": 34,
    "start_time": "2022-05-11T12:31:19.844Z"
   },
   {
    "duration": 57,
    "start_time": "2022-05-11T12:31:25.242Z"
   },
   {
    "duration": 40,
    "start_time": "2022-05-11T12:31:43.545Z"
   },
   {
    "duration": 31,
    "start_time": "2022-05-11T12:31:58.614Z"
   },
   {
    "duration": 56,
    "start_time": "2022-05-11T12:32:03.312Z"
   },
   {
    "duration": 35,
    "start_time": "2022-05-11T12:32:41.498Z"
   },
   {
    "duration": 45,
    "start_time": "2022-05-11T12:32:51.317Z"
   },
   {
    "duration": 6,
    "start_time": "2022-05-11T12:40:31.884Z"
   },
   {
    "duration": 18,
    "start_time": "2022-05-11T12:41:19.296Z"
   },
   {
    "duration": 6,
    "start_time": "2022-05-11T12:44:50.187Z"
   },
   {
    "duration": 17,
    "start_time": "2022-05-11T12:45:36.601Z"
   },
   {
    "duration": 18,
    "start_time": "2022-05-11T12:46:08.512Z"
   },
   {
    "duration": 43,
    "start_time": "2022-05-11T14:05:49.930Z"
   },
   {
    "duration": 50,
    "start_time": "2022-05-11T14:05:59.207Z"
   },
   {
    "duration": 78,
    "start_time": "2022-05-11T14:06:21.089Z"
   },
   {
    "duration": 51,
    "start_time": "2022-05-11T14:07:16.210Z"
   },
   {
    "duration": 7,
    "start_time": "2022-05-11T14:07:49.123Z"
   },
   {
    "duration": 723,
    "start_time": "2022-05-11T14:13:29.238Z"
   },
   {
    "duration": 16,
    "start_time": "2022-05-11T14:13:50.078Z"
   },
   {
    "duration": 19,
    "start_time": "2022-05-11T14:14:09.754Z"
   },
   {
    "duration": 16,
    "start_time": "2022-05-11T14:17:28.177Z"
   },
   {
    "duration": 113,
    "start_time": "2022-05-12T05:51:30.215Z"
   },
   {
    "duration": 122,
    "start_time": "2022-05-12T05:52:20.746Z"
   },
   {
    "duration": 385,
    "start_time": "2022-05-12T05:52:45.199Z"
   },
   {
    "duration": 377,
    "start_time": "2022-05-12T05:52:45.586Z"
   },
   {
    "duration": 7,
    "start_time": "2022-05-12T05:52:45.965Z"
   },
   {
    "duration": 73,
    "start_time": "2022-05-12T05:52:45.973Z"
   },
   {
    "duration": 24,
    "start_time": "2022-05-12T05:52:46.049Z"
   },
   {
    "duration": 23,
    "start_time": "2022-05-12T05:52:46.074Z"
   },
   {
    "duration": 34,
    "start_time": "2022-05-12T05:52:46.098Z"
   },
   {
    "duration": 16,
    "start_time": "2022-05-12T05:52:46.133Z"
   },
   {
    "duration": 72,
    "start_time": "2022-05-12T05:52:46.151Z"
   },
   {
    "duration": 68,
    "start_time": "2022-05-12T05:52:46.225Z"
   },
   {
    "duration": 7,
    "start_time": "2022-05-12T05:52:46.295Z"
   },
   {
    "duration": 53,
    "start_time": "2022-05-12T05:52:46.304Z"
   },
   {
    "duration": 43,
    "start_time": "2022-05-12T05:52:46.359Z"
   },
   {
    "duration": 8,
    "start_time": "2022-05-12T05:52:46.405Z"
   },
   {
    "duration": 61,
    "start_time": "2022-05-12T05:52:46.414Z"
   },
   {
    "duration": 42,
    "start_time": "2022-05-12T05:52:46.477Z"
   },
   {
    "duration": 23,
    "start_time": "2022-05-12T05:52:46.520Z"
   },
   {
    "duration": 15,
    "start_time": "2022-05-12T05:52:46.545Z"
   },
   {
    "duration": 28,
    "start_time": "2022-05-12T05:52:46.562Z"
   },
   {
    "duration": 53,
    "start_time": "2022-05-12T05:52:46.592Z"
   },
   {
    "duration": 27,
    "start_time": "2022-05-12T05:52:46.647Z"
   },
   {
    "duration": 39,
    "start_time": "2022-05-12T05:52:46.676Z"
   },
   {
    "duration": 4,
    "start_time": "2022-05-12T05:52:46.717Z"
   },
   {
    "duration": 69,
    "start_time": "2022-05-12T05:52:46.742Z"
   },
   {
    "duration": 13,
    "start_time": "2022-05-12T05:52:46.813Z"
   },
   {
    "duration": 154,
    "start_time": "2022-05-12T05:52:46.828Z"
   },
   {
    "duration": 0,
    "start_time": "2022-05-12T05:52:46.984Z"
   },
   {
    "duration": 0,
    "start_time": "2022-05-12T05:52:46.985Z"
   },
   {
    "duration": 0,
    "start_time": "2022-05-12T05:52:46.987Z"
   },
   {
    "duration": 0,
    "start_time": "2022-05-12T05:52:46.988Z"
   },
   {
    "duration": 0,
    "start_time": "2022-05-12T05:52:46.990Z"
   },
   {
    "duration": 0,
    "start_time": "2022-05-12T05:52:46.991Z"
   },
   {
    "duration": 5,
    "start_time": "2022-05-12T05:52:57.012Z"
   },
   {
    "duration": 34,
    "start_time": "2022-05-12T05:54:14.791Z"
   },
   {
    "duration": 67,
    "start_time": "2022-05-12T05:55:22.773Z"
   },
   {
    "duration": 12,
    "start_time": "2022-05-12T05:55:31.940Z"
   },
   {
    "duration": 11,
    "start_time": "2022-05-12T05:56:01.761Z"
   },
   {
    "duration": 11,
    "start_time": "2022-05-12T05:56:31.531Z"
   },
   {
    "duration": 33,
    "start_time": "2022-05-12T05:57:01.252Z"
   },
   {
    "duration": 5,
    "start_time": "2022-05-12T05:57:03.928Z"
   },
   {
    "duration": 11,
    "start_time": "2022-05-12T05:57:06.227Z"
   },
   {
    "duration": 12,
    "start_time": "2022-05-12T06:01:59.265Z"
   },
   {
    "duration": 17,
    "start_time": "2022-05-12T06:02:13.442Z"
   },
   {
    "duration": 12,
    "start_time": "2022-05-12T06:02:22.105Z"
   },
   {
    "duration": 1947,
    "start_time": "2022-05-12T06:02:37.630Z"
   },
   {
    "duration": 34,
    "start_time": "2022-05-12T06:04:33.407Z"
   },
   {
    "duration": 41,
    "start_time": "2022-05-12T06:04:49.432Z"
   },
   {
    "duration": 41,
    "start_time": "2022-05-12T06:05:24.665Z"
   },
   {
    "duration": 33,
    "start_time": "2022-05-12T06:07:34.184Z"
   },
   {
    "duration": 18,
    "start_time": "2022-05-12T06:09:13.517Z"
   },
   {
    "duration": 35,
    "start_time": "2022-05-12T06:12:57.205Z"
   },
   {
    "duration": 17,
    "start_time": "2022-05-12T06:13:16.066Z"
   },
   {
    "duration": 16,
    "start_time": "2022-05-12T06:13:41.276Z"
   },
   {
    "duration": 75,
    "start_time": "2022-05-12T12:09:48.812Z"
   },
   {
    "duration": 99,
    "start_time": "2022-05-12T12:10:34.009Z"
   },
   {
    "duration": 11,
    "start_time": "2022-05-12T12:13:04.268Z"
   },
   {
    "duration": 11,
    "start_time": "2022-05-12T12:13:11.042Z"
   },
   {
    "duration": 30,
    "start_time": "2022-05-12T12:13:34.995Z"
   },
   {
    "duration": 27,
    "start_time": "2022-05-12T12:17:22.005Z"
   },
   {
    "duration": 28,
    "start_time": "2022-05-12T12:17:25.869Z"
   },
   {
    "duration": 29,
    "start_time": "2022-05-12T12:17:50.869Z"
   },
   {
    "duration": 1790,
    "start_time": "2022-05-12T12:18:31.848Z"
   },
   {
    "duration": 29,
    "start_time": "2022-05-12T12:18:44.438Z"
   },
   {
    "duration": 27,
    "start_time": "2022-05-12T12:19:00.109Z"
   },
   {
    "duration": 1165,
    "start_time": "2022-05-12T12:20:08.930Z"
   },
   {
    "duration": 126,
    "start_time": "2022-05-12T12:20:27.080Z"
   },
   {
    "duration": 11,
    "start_time": "2022-05-12T12:22:45.333Z"
   },
   {
    "duration": 20,
    "start_time": "2022-05-12T12:26:33.901Z"
   },
   {
    "duration": 484,
    "start_time": "2022-05-12T12:26:37.518Z"
   },
   {
    "duration": 20,
    "start_time": "2022-05-12T12:26:49.207Z"
   },
   {
    "duration": 200,
    "start_time": "2022-05-12T12:27:17.708Z"
   },
   {
    "duration": 203,
    "start_time": "2022-05-12T12:27:30.990Z"
   },
   {
    "duration": 342,
    "start_time": "2022-05-12T14:21:13.791Z"
   },
   {
    "duration": 15,
    "start_time": "2022-05-12T14:30:19.196Z"
   },
   {
    "duration": 9,
    "start_time": "2022-05-12T14:31:19.186Z"
   },
   {
    "duration": 8,
    "start_time": "2022-05-12T14:31:53.395Z"
   },
   {
    "duration": 13,
    "start_time": "2022-05-12T14:31:59.722Z"
   },
   {
    "duration": 8,
    "start_time": "2022-05-12T14:33:40.918Z"
   },
   {
    "duration": 6,
    "start_time": "2022-05-12T14:34:15.379Z"
   },
   {
    "duration": 6,
    "start_time": "2022-05-12T14:34:22.802Z"
   },
   {
    "duration": 7,
    "start_time": "2022-05-12T14:35:04.159Z"
   },
   {
    "duration": 6,
    "start_time": "2022-05-12T14:35:19.211Z"
   },
   {
    "duration": 5,
    "start_time": "2022-05-12T14:38:14.582Z"
   },
   {
    "duration": 16,
    "start_time": "2022-05-12T14:38:30.014Z"
   },
   {
    "duration": 523,
    "start_time": "2022-05-13T05:53:55.590Z"
   },
   {
    "duration": 531,
    "start_time": "2022-05-13T05:53:56.117Z"
   },
   {
    "duration": 26,
    "start_time": "2022-05-13T05:53:56.651Z"
   },
   {
    "duration": 42,
    "start_time": "2022-05-13T05:53:56.680Z"
   },
   {
    "duration": 6,
    "start_time": "2022-05-13T05:53:56.727Z"
   },
   {
    "duration": 18,
    "start_time": "2022-05-13T05:53:56.735Z"
   },
   {
    "duration": 40,
    "start_time": "2022-05-13T05:53:56.755Z"
   },
   {
    "duration": 19,
    "start_time": "2022-05-13T05:53:56.797Z"
   },
   {
    "duration": 95,
    "start_time": "2022-05-13T05:53:56.818Z"
   },
   {
    "duration": 107,
    "start_time": "2022-05-13T05:53:56.915Z"
   },
   {
    "duration": 11,
    "start_time": "2022-05-13T05:53:57.024Z"
   },
   {
    "duration": 71,
    "start_time": "2022-05-13T05:53:57.037Z"
   },
   {
    "duration": 57,
    "start_time": "2022-05-13T05:53:57.111Z"
   },
   {
    "duration": 15,
    "start_time": "2022-05-13T05:53:57.185Z"
   },
   {
    "duration": 98,
    "start_time": "2022-05-13T05:53:57.204Z"
   },
   {
    "duration": 58,
    "start_time": "2022-05-13T05:53:57.307Z"
   },
   {
    "duration": 32,
    "start_time": "2022-05-13T05:53:57.367Z"
   },
   {
    "duration": 4,
    "start_time": "2022-05-13T05:53:57.402Z"
   },
   {
    "duration": 17,
    "start_time": "2022-05-13T05:53:57.409Z"
   },
   {
    "duration": 117,
    "start_time": "2022-05-13T05:53:57.428Z"
   },
   {
    "duration": 30,
    "start_time": "2022-05-13T05:53:57.547Z"
   },
   {
    "duration": 57,
    "start_time": "2022-05-13T05:53:57.580Z"
   },
   {
    "duration": 5,
    "start_time": "2022-05-13T05:53:57.640Z"
   },
   {
    "duration": 83,
    "start_time": "2022-05-13T05:53:57.647Z"
   },
   {
    "duration": 7,
    "start_time": "2022-05-13T05:53:57.732Z"
   },
   {
    "duration": 45,
    "start_time": "2022-05-13T05:53:57.741Z"
   },
   {
    "duration": 60,
    "start_time": "2022-05-13T05:53:57.789Z"
   },
   {
    "duration": 26,
    "start_time": "2022-05-13T05:53:57.851Z"
   },
   {
    "duration": 1121,
    "start_time": "2022-05-13T05:53:57.879Z"
   },
   {
    "duration": 44,
    "start_time": "2022-05-13T05:53:59.003Z"
   },
   {
    "duration": 67,
    "start_time": "2022-05-13T05:53:59.049Z"
   },
   {
    "duration": 235,
    "start_time": "2022-05-13T05:53:59.119Z"
   },
   {
    "duration": 16,
    "start_time": "2022-05-13T05:53:59.356Z"
   },
   {
    "duration": 28,
    "start_time": "2022-05-13T05:53:59.374Z"
   },
   {
    "duration": 15,
    "start_time": "2022-05-13T05:53:59.405Z"
   },
   {
    "duration": 228,
    "start_time": "2022-05-13T05:54:30.773Z"
   },
   {
    "duration": 38,
    "start_time": "2022-05-13T05:56:47.237Z"
   },
   {
    "duration": 280,
    "start_time": "2022-05-13T06:04:19.796Z"
   },
   {
    "duration": 29,
    "start_time": "2022-05-13T06:06:42.515Z"
   },
   {
    "duration": 199,
    "start_time": "2022-05-13T06:07:20.928Z"
   },
   {
    "duration": 19,
    "start_time": "2022-05-13T06:09:35.640Z"
   },
   {
    "duration": 464,
    "start_time": "2022-05-13T06:09:49.917Z"
   },
   {
    "duration": 460,
    "start_time": "2022-05-13T06:09:59.027Z"
   },
   {
    "duration": 4,
    "start_time": "2022-05-13T10:21:22.971Z"
   },
   {
    "duration": 5,
    "start_time": "2022-05-13T10:21:27.602Z"
   },
   {
    "duration": 5,
    "start_time": "2022-05-13T12:57:55.403Z"
   },
   {
    "duration": 3065,
    "start_time": "2022-05-13T12:57:59.208Z"
   },
   {
    "duration": 7,
    "start_time": "2022-05-14T09:51:33.833Z"
   },
   {
    "duration": 41,
    "start_time": "2022-05-14T09:51:35.547Z"
   },
   {
    "duration": 364,
    "start_time": "2022-05-14T09:51:44.310Z"
   },
   {
    "duration": 346,
    "start_time": "2022-05-14T09:51:44.676Z"
   },
   {
    "duration": 15,
    "start_time": "2022-05-14T09:51:45.023Z"
   },
   {
    "duration": 16,
    "start_time": "2022-05-14T09:51:45.039Z"
   },
   {
    "duration": 9,
    "start_time": "2022-05-14T09:51:45.057Z"
   },
   {
    "duration": 10,
    "start_time": "2022-05-14T09:51:45.067Z"
   },
   {
    "duration": 13,
    "start_time": "2022-05-14T09:51:45.079Z"
   },
   {
    "duration": 9,
    "start_time": "2022-05-14T09:51:45.093Z"
   },
   {
    "duration": 48,
    "start_time": "2022-05-14T09:51:45.104Z"
   },
   {
    "duration": 70,
    "start_time": "2022-05-14T09:51:45.153Z"
   },
   {
    "duration": 6,
    "start_time": "2022-05-14T09:51:45.225Z"
   },
   {
    "duration": 44,
    "start_time": "2022-05-14T09:51:45.232Z"
   },
   {
    "duration": 38,
    "start_time": "2022-05-14T09:51:45.278Z"
   },
   {
    "duration": 7,
    "start_time": "2022-05-14T09:51:45.319Z"
   },
   {
    "duration": 54,
    "start_time": "2022-05-14T09:51:45.328Z"
   },
   {
    "duration": 33,
    "start_time": "2022-05-14T09:51:45.384Z"
   },
   {
    "duration": 7,
    "start_time": "2022-05-14T09:51:45.419Z"
   },
   {
    "duration": 4,
    "start_time": "2022-05-14T09:51:45.427Z"
   },
   {
    "duration": 10,
    "start_time": "2022-05-14T09:51:45.432Z"
   },
   {
    "duration": 67,
    "start_time": "2022-05-14T09:51:45.444Z"
   },
   {
    "duration": 19,
    "start_time": "2022-05-14T09:51:45.512Z"
   },
   {
    "duration": 47,
    "start_time": "2022-05-14T09:51:45.533Z"
   },
   {
    "duration": 3,
    "start_time": "2022-05-14T09:51:45.581Z"
   },
   {
    "duration": 33,
    "start_time": "2022-05-14T09:51:45.585Z"
   },
   {
    "duration": 3,
    "start_time": "2022-05-14T09:51:45.620Z"
   },
   {
    "duration": 13,
    "start_time": "2022-05-14T09:51:45.624Z"
   },
   {
    "duration": 8,
    "start_time": "2022-05-14T09:51:45.639Z"
   },
   {
    "duration": 16,
    "start_time": "2022-05-14T09:51:45.671Z"
   },
   {
    "duration": 619,
    "start_time": "2022-05-14T09:51:45.689Z"
   },
   {
    "duration": 128,
    "start_time": "2022-05-14T09:51:46.310Z"
   },
   {
    "duration": 108,
    "start_time": "2022-05-14T09:51:46.440Z"
   },
   {
    "duration": 183,
    "start_time": "2022-05-14T09:51:46.550Z"
   },
   {
    "duration": 26,
    "start_time": "2022-05-14T09:51:46.734Z"
   },
   {
    "duration": 25,
    "start_time": "2022-05-14T09:51:46.771Z"
   },
   {
    "duration": 127,
    "start_time": "2022-05-14T09:51:46.798Z"
   },
   {
    "duration": 10,
    "start_time": "2022-05-14T09:51:46.926Z"
   },
   {
    "duration": 4,
    "start_time": "2022-05-14T09:51:46.938Z"
   },
   {
    "duration": 1016,
    "start_time": "2022-05-14T09:51:46.943Z"
   },
   {
    "duration": 0,
    "start_time": "2022-05-14T09:51:47.961Z"
   },
   {
    "duration": 8,
    "start_time": "2022-05-14T09:52:31.579Z"
   },
   {
    "duration": 3,
    "start_time": "2022-05-14T10:30:35.012Z"
   },
   {
    "duration": 934,
    "start_time": "2022-05-14T10:30:57.372Z"
   },
   {
    "duration": 74,
    "start_time": "2022-05-14T20:37:05.084Z"
   },
   {
    "duration": 493,
    "start_time": "2022-05-14T20:37:21.848Z"
   },
   {
    "duration": 499,
    "start_time": "2022-05-14T20:37:22.344Z"
   },
   {
    "duration": 22,
    "start_time": "2022-05-14T20:37:22.845Z"
   },
   {
    "duration": 28,
    "start_time": "2022-05-14T20:37:22.870Z"
   },
   {
    "duration": 8,
    "start_time": "2022-05-14T20:37:22.900Z"
   },
   {
    "duration": 19,
    "start_time": "2022-05-14T20:37:22.910Z"
   },
   {
    "duration": 19,
    "start_time": "2022-05-14T20:37:22.931Z"
   },
   {
    "duration": 15,
    "start_time": "2022-05-14T20:37:22.952Z"
   },
   {
    "duration": 100,
    "start_time": "2022-05-14T20:37:22.970Z"
   },
   {
    "duration": 112,
    "start_time": "2022-05-14T20:37:23.073Z"
   },
   {
    "duration": 10,
    "start_time": "2022-05-14T20:37:23.573Z"
   },
   {
    "duration": 51,
    "start_time": "2022-05-14T20:37:23.586Z"
   },
   {
    "duration": 59,
    "start_time": "2022-05-14T20:37:23.639Z"
   },
   {
    "duration": 27,
    "start_time": "2022-05-14T20:37:23.700Z"
   },
   {
    "duration": 57,
    "start_time": "2022-05-14T20:37:23.729Z"
   },
   {
    "duration": 81,
    "start_time": "2022-05-14T20:37:23.788Z"
   },
   {
    "duration": 11,
    "start_time": "2022-05-14T20:37:23.871Z"
   },
   {
    "duration": 6,
    "start_time": "2022-05-14T20:37:23.885Z"
   },
   {
    "duration": 34,
    "start_time": "2022-05-14T20:37:23.893Z"
   },
   {
    "duration": 74,
    "start_time": "2022-05-14T20:37:23.929Z"
   },
   {
    "duration": 42,
    "start_time": "2022-05-14T20:37:24.005Z"
   },
   {
    "duration": 54,
    "start_time": "2022-05-14T20:37:24.049Z"
   },
   {
    "duration": 22,
    "start_time": "2022-05-14T20:37:24.105Z"
   },
   {
    "duration": 66,
    "start_time": "2022-05-14T20:37:24.129Z"
   },
   {
    "duration": 6,
    "start_time": "2022-05-14T20:37:24.528Z"
   },
   {
    "duration": 21,
    "start_time": "2022-05-14T20:37:24.537Z"
   },
   {
    "duration": 15,
    "start_time": "2022-05-14T20:37:24.560Z"
   },
   {
    "duration": 54,
    "start_time": "2022-05-14T20:37:24.577Z"
   },
   {
    "duration": 1100,
    "start_time": "2022-05-14T20:37:24.633Z"
   },
   {
    "duration": 230,
    "start_time": "2022-05-14T20:37:25.735Z"
   },
   {
    "duration": 207,
    "start_time": "2022-05-14T20:37:25.968Z"
   },
   {
    "duration": 294,
    "start_time": "2022-05-14T20:37:26.177Z"
   },
   {
    "duration": 62,
    "start_time": "2022-05-14T20:37:26.474Z"
   },
   {
    "duration": 43,
    "start_time": "2022-05-14T20:37:26.539Z"
   },
   {
    "duration": 245,
    "start_time": "2022-05-14T20:37:26.584Z"
   },
   {
    "duration": 18,
    "start_time": "2022-05-14T20:37:26.832Z"
   },
   {
    "duration": 6,
    "start_time": "2022-05-14T20:37:26.853Z"
   },
   {
    "duration": 2074,
    "start_time": "2022-05-14T20:37:26.862Z"
   },
   {
    "duration": 0,
    "start_time": "2022-05-14T20:37:28.939Z"
   },
   {
    "duration": 6,
    "start_time": "2022-05-14T20:38:04.457Z"
   },
   {
    "duration": 2244,
    "start_time": "2022-05-14T20:38:07.479Z"
   },
   {
    "duration": 6,
    "start_time": "2022-05-14T20:38:22.836Z"
   },
   {
    "duration": 22,
    "start_time": "2022-05-14T20:38:26.361Z"
   },
   {
    "duration": 543,
    "start_time": "2022-05-14T20:38:57.950Z"
   },
   {
    "duration": 504,
    "start_time": "2022-05-14T20:38:58.496Z"
   },
   {
    "duration": 21,
    "start_time": "2022-05-14T20:38:59.002Z"
   },
   {
    "duration": 25,
    "start_time": "2022-05-14T20:38:59.026Z"
   },
   {
    "duration": 10,
    "start_time": "2022-05-14T20:38:59.053Z"
   },
   {
    "duration": 9,
    "start_time": "2022-05-14T20:38:59.065Z"
   },
   {
    "duration": 47,
    "start_time": "2022-05-14T20:38:59.077Z"
   },
   {
    "duration": 11,
    "start_time": "2022-05-14T20:38:59.127Z"
   },
   {
    "duration": 90,
    "start_time": "2022-05-14T20:38:59.140Z"
   },
   {
    "duration": 107,
    "start_time": "2022-05-14T20:38:59.234Z"
   },
   {
    "duration": 12,
    "start_time": "2022-05-14T20:38:59.344Z"
   },
   {
    "duration": 48,
    "start_time": "2022-05-14T20:38:59.358Z"
   },
   {
    "duration": 73,
    "start_time": "2022-05-14T20:38:59.408Z"
   },
   {
    "duration": 12,
    "start_time": "2022-05-14T20:38:59.483Z"
   },
   {
    "duration": 84,
    "start_time": "2022-05-14T20:38:59.497Z"
   },
   {
    "duration": 81,
    "start_time": "2022-05-14T20:38:59.584Z"
   },
   {
    "duration": 13,
    "start_time": "2022-05-14T20:38:59.668Z"
   },
   {
    "duration": 5,
    "start_time": "2022-05-14T20:38:59.683Z"
   },
   {
    "duration": 40,
    "start_time": "2022-05-14T20:38:59.690Z"
   },
   {
    "duration": 70,
    "start_time": "2022-05-14T20:38:59.732Z"
   },
   {
    "duration": 46,
    "start_time": "2022-05-14T20:38:59.805Z"
   },
   {
    "duration": 70,
    "start_time": "2022-05-14T20:38:59.854Z"
   },
   {
    "duration": 5,
    "start_time": "2022-05-14T20:38:59.927Z"
   },
   {
    "duration": 55,
    "start_time": "2022-05-14T20:38:59.935Z"
   },
   {
    "duration": 6,
    "start_time": "2022-05-14T20:38:59.993Z"
   },
   {
    "duration": 18,
    "start_time": "2022-05-14T20:39:00.026Z"
   },
   {
    "duration": 16,
    "start_time": "2022-05-14T20:39:00.046Z"
   },
   {
    "duration": 61,
    "start_time": "2022-05-14T20:39:00.066Z"
   },
   {
    "duration": 948,
    "start_time": "2022-05-14T20:39:00.130Z"
   },
   {
    "duration": 311,
    "start_time": "2022-05-14T20:39:01.081Z"
   },
   {
    "duration": 218,
    "start_time": "2022-05-14T20:39:01.394Z"
   },
   {
    "duration": 284,
    "start_time": "2022-05-14T20:39:01.614Z"
   },
   {
    "duration": 54,
    "start_time": "2022-05-14T20:39:01.900Z"
   },
   {
    "duration": 43,
    "start_time": "2022-05-14T20:39:01.957Z"
   },
   {
    "duration": 251,
    "start_time": "2022-05-14T20:39:02.002Z"
   },
   {
    "duration": 18,
    "start_time": "2022-05-14T20:39:02.256Z"
   },
   {
    "duration": 20,
    "start_time": "2022-05-14T20:39:02.276Z"
   },
   {
    "duration": 136,
    "start_time": "2022-05-14T20:39:02.298Z"
   },
   {
    "duration": 0,
    "start_time": "2022-05-14T20:39:02.436Z"
   },
   {
    "duration": 15,
    "start_time": "2022-05-14T20:40:39.550Z"
   },
   {
    "duration": 6,
    "start_time": "2022-05-14T20:40:50.003Z"
   },
   {
    "duration": 21,
    "start_time": "2022-05-14T20:40:58.153Z"
   },
   {
    "duration": 14,
    "start_time": "2022-05-14T20:44:17.612Z"
   },
   {
    "duration": 1922,
    "start_time": "2022-05-14T20:44:58.203Z"
   },
   {
    "duration": 15,
    "start_time": "2022-05-14T20:45:20.760Z"
   },
   {
    "duration": 4,
    "start_time": "2022-05-14T20:47:22.031Z"
   },
   {
    "duration": 24,
    "start_time": "2022-05-14T20:47:24.225Z"
   },
   {
    "duration": 32,
    "start_time": "2022-05-14T20:47:37.690Z"
   },
   {
    "duration": 35,
    "start_time": "2022-05-14T20:47:44.550Z"
   },
   {
    "duration": 40,
    "start_time": "2022-05-14T20:48:51.792Z"
   },
   {
    "duration": 54,
    "start_time": "2022-05-14T20:49:07.847Z"
   },
   {
    "duration": 24,
    "start_time": "2022-05-14T20:50:38.176Z"
   },
   {
    "duration": 6,
    "start_time": "2022-05-14T20:50:44.390Z"
   },
   {
    "duration": 552,
    "start_time": "2022-05-14T21:03:38.474Z"
   },
   {
    "duration": 516,
    "start_time": "2022-05-14T21:03:39.028Z"
   },
   {
    "duration": 21,
    "start_time": "2022-05-14T21:03:39.546Z"
   },
   {
    "duration": 28,
    "start_time": "2022-05-14T21:03:39.569Z"
   },
   {
    "duration": 6,
    "start_time": "2022-05-14T21:03:39.600Z"
   },
   {
    "duration": 22,
    "start_time": "2022-05-14T21:03:39.608Z"
   },
   {
    "duration": 19,
    "start_time": "2022-05-14T21:03:39.632Z"
   },
   {
    "duration": 15,
    "start_time": "2022-05-14T21:03:39.653Z"
   },
   {
    "duration": 103,
    "start_time": "2022-05-14T21:03:39.670Z"
   },
   {
    "duration": 103,
    "start_time": "2022-05-14T21:03:39.776Z"
   },
   {
    "duration": 10,
    "start_time": "2022-05-14T21:03:39.882Z"
   },
   {
    "duration": 63,
    "start_time": "2022-05-14T21:03:39.894Z"
   },
   {
    "duration": 70,
    "start_time": "2022-05-14T21:03:39.960Z"
   },
   {
    "duration": 12,
    "start_time": "2022-05-14T21:03:40.035Z"
   },
   {
    "duration": 76,
    "start_time": "2022-05-14T21:03:40.049Z"
   },
   {
    "duration": 55,
    "start_time": "2022-05-14T21:03:40.127Z"
   },
   {
    "duration": 39,
    "start_time": "2022-05-14T21:03:40.185Z"
   },
   {
    "duration": 4,
    "start_time": "2022-05-14T21:03:40.227Z"
   },
   {
    "duration": 16,
    "start_time": "2022-05-14T21:03:40.233Z"
   },
   {
    "duration": 116,
    "start_time": "2022-05-14T21:03:40.251Z"
   },
   {
    "duration": 41,
    "start_time": "2022-05-14T21:03:40.370Z"
   },
   {
    "duration": 85,
    "start_time": "2022-05-14T21:03:40.414Z"
   },
   {
    "duration": 6,
    "start_time": "2022-05-14T21:03:40.502Z"
   },
   {
    "duration": 73,
    "start_time": "2022-05-14T21:03:40.525Z"
   },
   {
    "duration": 27,
    "start_time": "2022-05-14T21:03:40.600Z"
   },
   {
    "duration": 23,
    "start_time": "2022-05-14T21:03:40.629Z"
   },
   {
    "duration": 15,
    "start_time": "2022-05-14T21:03:40.654Z"
   },
   {
    "duration": 55,
    "start_time": "2022-05-14T21:03:40.671Z"
   },
   {
    "duration": 814,
    "start_time": "2022-05-14T21:03:40.728Z"
   },
   {
    "duration": 231,
    "start_time": "2022-05-14T21:03:41.544Z"
   },
   {
    "duration": 204,
    "start_time": "2022-05-14T21:03:41.777Z"
   },
   {
    "duration": 287,
    "start_time": "2022-05-14T21:03:41.984Z"
   },
   {
    "duration": 66,
    "start_time": "2022-05-14T21:03:42.273Z"
   },
   {
    "duration": 43,
    "start_time": "2022-05-14T21:03:42.341Z"
   },
   {
    "duration": 250,
    "start_time": "2022-05-14T21:03:42.387Z"
   },
   {
    "duration": 16,
    "start_time": "2022-05-14T21:03:42.639Z"
   },
   {
    "duration": 5,
    "start_time": "2022-05-14T21:03:42.658Z"
   },
   {
    "duration": 28,
    "start_time": "2022-05-14T21:03:42.665Z"
   },
   {
    "duration": 33,
    "start_time": "2022-05-14T21:03:42.695Z"
   },
   {
    "duration": 12,
    "start_time": "2022-05-14T21:03:42.731Z"
   },
   {
    "duration": 413,
    "start_time": "2022-05-15T09:44:24.395Z"
   },
   {
    "duration": 408,
    "start_time": "2022-05-15T09:44:24.810Z"
   },
   {
    "duration": 16,
    "start_time": "2022-05-15T09:44:25.220Z"
   },
   {
    "duration": 18,
    "start_time": "2022-05-15T09:44:25.238Z"
   },
   {
    "duration": 4,
    "start_time": "2022-05-15T09:44:25.258Z"
   },
   {
    "duration": 8,
    "start_time": "2022-05-15T09:44:25.263Z"
   },
   {
    "duration": 34,
    "start_time": "2022-05-15T09:44:25.273Z"
   },
   {
    "duration": 10,
    "start_time": "2022-05-15T09:44:25.309Z"
   },
   {
    "duration": 92,
    "start_time": "2022-05-15T09:44:25.321Z"
   },
   {
    "duration": 87,
    "start_time": "2022-05-15T09:44:25.416Z"
   },
   {
    "duration": 11,
    "start_time": "2022-05-15T09:44:25.504Z"
   },
   {
    "duration": 51,
    "start_time": "2022-05-15T09:44:25.518Z"
   },
   {
    "duration": 64,
    "start_time": "2022-05-15T09:44:25.571Z"
   },
   {
    "duration": 8,
    "start_time": "2022-05-15T09:44:25.637Z"
   },
   {
    "duration": 66,
    "start_time": "2022-05-15T09:44:25.647Z"
   },
   {
    "duration": 37,
    "start_time": "2022-05-15T09:44:25.715Z"
   },
   {
    "duration": 7,
    "start_time": "2022-05-15T09:44:25.753Z"
   },
   {
    "duration": 4,
    "start_time": "2022-05-15T09:44:25.761Z"
   },
   {
    "duration": 34,
    "start_time": "2022-05-15T09:44:25.767Z"
   },
   {
    "duration": 64,
    "start_time": "2022-05-15T09:44:25.803Z"
   },
   {
    "duration": 23,
    "start_time": "2022-05-15T09:44:25.869Z"
   },
   {
    "duration": 42,
    "start_time": "2022-05-15T09:44:25.893Z"
   },
   {
    "duration": 5,
    "start_time": "2022-05-15T09:44:25.936Z"
   },
   {
    "duration": 61,
    "start_time": "2022-05-15T09:44:25.943Z"
   },
   {
    "duration": 7,
    "start_time": "2022-05-15T09:44:26.006Z"
   },
   {
    "duration": 26,
    "start_time": "2022-05-15T09:44:26.015Z"
   },
   {
    "duration": 12,
    "start_time": "2022-05-15T09:44:26.043Z"
   },
   {
    "duration": 21,
    "start_time": "2022-05-15T09:44:26.057Z"
   },
   {
    "duration": 1027,
    "start_time": "2022-05-15T09:44:26.100Z"
   },
   {
    "duration": 193,
    "start_time": "2022-05-15T09:44:27.129Z"
   },
   {
    "duration": 182,
    "start_time": "2022-05-15T09:44:27.324Z"
   },
   {
    "duration": 176,
    "start_time": "2022-05-15T09:44:27.507Z"
   },
   {
    "duration": 44,
    "start_time": "2022-05-15T09:44:27.684Z"
   },
   {
    "duration": 25,
    "start_time": "2022-05-15T09:44:27.730Z"
   },
   {
    "duration": 142,
    "start_time": "2022-05-15T09:44:27.756Z"
   },
   {
    "duration": 12,
    "start_time": "2022-05-15T09:44:27.900Z"
   },
   {
    "duration": 13,
    "start_time": "2022-05-15T09:44:27.914Z"
   },
   {
    "duration": 17,
    "start_time": "2022-05-15T09:44:27.929Z"
   },
   {
    "duration": 6,
    "start_time": "2022-05-15T09:44:27.948Z"
   },
   {
    "duration": 12,
    "start_time": "2022-05-15T09:44:27.955Z"
   },
   {
    "duration": 28,
    "start_time": "2022-05-15T09:44:42.805Z"
   },
   {
    "duration": 15,
    "start_time": "2022-05-15T09:45:16.127Z"
   },
   {
    "duration": 13,
    "start_time": "2022-05-15T09:45:26.845Z"
   },
   {
    "duration": 7,
    "start_time": "2022-05-15T09:53:00.234Z"
   },
   {
    "duration": 3658,
    "start_time": "2022-05-15T09:54:01.328Z"
   },
   {
    "duration": 10,
    "start_time": "2022-05-15T09:55:30.768Z"
   },
   {
    "duration": 5,
    "start_time": "2022-05-15T09:56:59.188Z"
   },
   {
    "duration": 6,
    "start_time": "2022-05-15T09:57:14.046Z"
   },
   {
    "duration": 5,
    "start_time": "2022-05-15T09:57:39.262Z"
   },
   {
    "duration": 6,
    "start_time": "2022-05-15T09:57:50.142Z"
   },
   {
    "duration": 8,
    "start_time": "2022-05-15T09:58:00.014Z"
   },
   {
    "duration": 8,
    "start_time": "2022-05-15T09:59:07.649Z"
   },
   {
    "duration": 8,
    "start_time": "2022-05-15T10:00:14.887Z"
   },
   {
    "duration": 4,
    "start_time": "2022-05-15T10:02:17.183Z"
   },
   {
    "duration": 20,
    "start_time": "2022-05-15T10:02:19.522Z"
   },
   {
    "duration": 16,
    "start_time": "2022-05-15T10:02:33.638Z"
   },
   {
    "duration": 22,
    "start_time": "2022-05-15T10:02:43.096Z"
   },
   {
    "duration": 15,
    "start_time": "2022-05-15T10:03:15.826Z"
   },
   {
    "duration": 7,
    "start_time": "2022-05-15T10:03:36.409Z"
   },
   {
    "duration": 390,
    "start_time": "2022-05-15T10:06:10.327Z"
   },
   {
    "duration": 440,
    "start_time": "2022-05-15T10:06:10.721Z"
   },
   {
    "duration": 17,
    "start_time": "2022-05-15T10:06:11.162Z"
   },
   {
    "duration": 23,
    "start_time": "2022-05-15T10:06:11.181Z"
   },
   {
    "duration": 6,
    "start_time": "2022-05-15T10:06:11.207Z"
   },
   {
    "duration": 28,
    "start_time": "2022-05-15T10:06:11.215Z"
   },
   {
    "duration": 12,
    "start_time": "2022-05-15T10:06:11.244Z"
   },
   {
    "duration": 8,
    "start_time": "2022-05-15T10:06:11.258Z"
   },
   {
    "duration": 82,
    "start_time": "2022-05-15T10:06:11.268Z"
   },
   {
    "duration": 75,
    "start_time": "2022-05-15T10:06:11.352Z"
   },
   {
    "duration": 8,
    "start_time": "2022-05-15T10:06:11.431Z"
   },
   {
    "duration": 33,
    "start_time": "2022-05-15T10:06:11.440Z"
   },
   {
    "duration": 67,
    "start_time": "2022-05-15T10:06:11.474Z"
   },
   {
    "duration": 8,
    "start_time": "2022-05-15T10:06:11.544Z"
   },
   {
    "duration": 80,
    "start_time": "2022-05-15T10:06:11.554Z"
   },
   {
    "duration": 36,
    "start_time": "2022-05-15T10:06:11.635Z"
   },
   {
    "duration": 7,
    "start_time": "2022-05-15T10:06:11.673Z"
   },
   {
    "duration": 5,
    "start_time": "2022-05-15T10:06:11.682Z"
   },
   {
    "duration": 22,
    "start_time": "2022-05-15T10:06:11.689Z"
   },
   {
    "duration": 68,
    "start_time": "2022-05-15T10:06:11.713Z"
   },
   {
    "duration": 40,
    "start_time": "2022-05-15T10:06:11.783Z"
   },
   {
    "duration": 40,
    "start_time": "2022-05-15T10:06:11.825Z"
   },
   {
    "duration": 4,
    "start_time": "2022-05-15T10:06:11.866Z"
   },
   {
    "duration": 66,
    "start_time": "2022-05-15T10:06:11.871Z"
   },
   {
    "duration": 5,
    "start_time": "2022-05-15T10:06:11.939Z"
   },
   {
    "duration": 19,
    "start_time": "2022-05-15T10:06:11.946Z"
   },
   {
    "duration": 12,
    "start_time": "2022-05-15T10:06:11.966Z"
   },
   {
    "duration": 46,
    "start_time": "2022-05-15T10:06:11.980Z"
   },
   {
    "duration": 657,
    "start_time": "2022-05-15T10:06:12.030Z"
   },
   {
    "duration": 149,
    "start_time": "2022-05-15T10:06:12.689Z"
   },
   {
    "duration": 126,
    "start_time": "2022-05-15T10:06:12.839Z"
   },
   {
    "duration": 186,
    "start_time": "2022-05-15T10:06:12.967Z"
   },
   {
    "duration": 26,
    "start_time": "2022-05-15T10:06:13.155Z"
   },
   {
    "duration": 46,
    "start_time": "2022-05-15T10:06:13.183Z"
   },
   {
    "duration": 146,
    "start_time": "2022-05-15T10:06:13.231Z"
   },
   {
    "duration": 8,
    "start_time": "2022-05-15T10:06:13.379Z"
   },
   {
    "duration": 19,
    "start_time": "2022-05-15T10:06:13.389Z"
   },
   {
    "duration": 39,
    "start_time": "2022-05-15T10:06:13.410Z"
   },
   {
    "duration": 13,
    "start_time": "2022-05-15T10:06:13.451Z"
   },
   {
    "duration": 8,
    "start_time": "2022-05-15T10:06:13.466Z"
   },
   {
    "duration": 7,
    "start_time": "2022-05-15T10:06:13.478Z"
   },
   {
    "duration": 7,
    "start_time": "2022-05-15T10:08:17.348Z"
   },
   {
    "duration": 8,
    "start_time": "2022-05-15T10:08:20.390Z"
   },
   {
    "duration": 4,
    "start_time": "2022-05-15T10:09:25.891Z"
   },
   {
    "duration": 4,
    "start_time": "2022-05-15T10:09:39.277Z"
   },
   {
    "duration": 3726,
    "start_time": "2022-05-15T10:10:25.421Z"
   },
   {
    "duration": 38,
    "start_time": "2022-05-15T10:10:30.655Z"
   },
   {
    "duration": 23,
    "start_time": "2022-05-15T10:10:32.837Z"
   },
   {
    "duration": 8,
    "start_time": "2022-05-15T10:10:55.100Z"
   },
   {
    "duration": 182,
    "start_time": "2022-05-15T10:38:31.112Z"
   },
   {
    "duration": 44,
    "start_time": "2022-05-15T19:10:09.367Z"
   },
   {
    "duration": 427,
    "start_time": "2022-05-15T19:10:16.044Z"
   },
   {
    "duration": 378,
    "start_time": "2022-05-15T19:10:16.473Z"
   },
   {
    "duration": 15,
    "start_time": "2022-05-15T19:10:16.853Z"
   },
   {
    "duration": 18,
    "start_time": "2022-05-15T19:10:16.869Z"
   },
   {
    "duration": 6,
    "start_time": "2022-05-15T19:10:16.889Z"
   },
   {
    "duration": 7,
    "start_time": "2022-05-15T19:10:16.896Z"
   },
   {
    "duration": 14,
    "start_time": "2022-05-15T19:10:16.905Z"
   },
   {
    "duration": 16,
    "start_time": "2022-05-15T19:10:16.921Z"
   },
   {
    "duration": 68,
    "start_time": "2022-05-15T19:10:16.939Z"
   },
   {
    "duration": 76,
    "start_time": "2022-05-15T19:10:17.009Z"
   },
   {
    "duration": 7,
    "start_time": "2022-05-15T19:10:17.087Z"
   },
   {
    "duration": 32,
    "start_time": "2022-05-15T19:10:17.096Z"
   },
   {
    "duration": 61,
    "start_time": "2022-05-15T19:10:17.130Z"
   },
   {
    "duration": 9,
    "start_time": "2022-05-15T19:10:17.194Z"
   },
   {
    "duration": 41,
    "start_time": "2022-05-15T19:10:17.204Z"
   },
   {
    "duration": 53,
    "start_time": "2022-05-15T19:10:17.247Z"
   },
   {
    "duration": 8,
    "start_time": "2022-05-15T19:10:17.301Z"
   },
   {
    "duration": 6,
    "start_time": "2022-05-15T19:10:17.311Z"
   },
   {
    "duration": 15,
    "start_time": "2022-05-15T19:10:17.319Z"
   },
   {
    "duration": 95,
    "start_time": "2022-05-15T19:10:17.336Z"
   },
   {
    "duration": 38,
    "start_time": "2022-05-15T19:10:17.433Z"
   },
   {
    "duration": 58,
    "start_time": "2022-05-15T19:10:17.473Z"
   },
   {
    "duration": 4,
    "start_time": "2022-05-15T19:10:17.533Z"
   },
   {
    "duration": 73,
    "start_time": "2022-05-15T19:10:17.539Z"
   },
   {
    "duration": 5,
    "start_time": "2022-05-15T19:10:17.614Z"
   },
   {
    "duration": 22,
    "start_time": "2022-05-15T19:10:17.621Z"
   },
   {
    "duration": 27,
    "start_time": "2022-05-15T19:10:17.645Z"
   },
   {
    "duration": 27,
    "start_time": "2022-05-15T19:10:17.674Z"
   },
   {
    "duration": 1057,
    "start_time": "2022-05-15T19:10:17.703Z"
   },
   {
    "duration": 218,
    "start_time": "2022-05-15T19:10:18.763Z"
   },
   {
    "duration": 187,
    "start_time": "2022-05-15T19:10:18.984Z"
   },
   {
    "duration": 291,
    "start_time": "2022-05-15T19:10:19.173Z"
   },
   {
    "duration": 44,
    "start_time": "2022-05-15T19:10:19.471Z"
   },
   {
    "duration": 58,
    "start_time": "2022-05-15T19:10:19.518Z"
   },
   {
    "duration": 134,
    "start_time": "2022-05-15T19:10:19.578Z"
   },
   {
    "duration": 4,
    "start_time": "2022-05-15T19:10:19.714Z"
   },
   {
    "duration": 18,
    "start_time": "2022-05-15T19:10:19.719Z"
   },
   {
    "duration": 8,
    "start_time": "2022-05-15T19:10:19.739Z"
   },
   {
    "duration": 4,
    "start_time": "2022-05-15T19:10:19.771Z"
   },
   {
    "duration": 37,
    "start_time": "2022-05-15T19:10:19.777Z"
   },
   {
    "duration": 12,
    "start_time": "2022-05-15T19:10:19.818Z"
   },
   {
    "duration": 9,
    "start_time": "2022-05-15T19:10:19.833Z"
   },
   {
    "duration": 9,
    "start_time": "2022-05-15T19:10:36.167Z"
   },
   {
    "duration": 10,
    "start_time": "2022-05-15T19:10:41.538Z"
   },
   {
    "duration": 11,
    "start_time": "2022-05-15T19:15:20.179Z"
   },
   {
    "duration": 11,
    "start_time": "2022-05-15T19:17:56.197Z"
   },
   {
    "duration": 12,
    "start_time": "2022-05-15T19:18:52.156Z"
   },
   {
    "duration": 30,
    "start_time": "2022-05-15T19:19:29.877Z"
   },
   {
    "duration": 16,
    "start_time": "2022-05-15T19:24:03.927Z"
   },
   {
    "duration": 2,
    "start_time": "2022-05-15T19:25:12.585Z"
   },
   {
    "duration": 2818,
    "start_time": "2022-05-15T19:25:15.985Z"
   },
   {
    "duration": 1501,
    "start_time": "2022-05-15T19:26:13.741Z"
   },
   {
    "duration": 32,
    "start_time": "2022-05-15T19:28:06.099Z"
   },
   {
    "duration": 49,
    "start_time": "2022-05-15T19:28:16.745Z"
   },
   {
    "duration": 43,
    "start_time": "2022-05-15T19:28:47.832Z"
   },
   {
    "duration": 13,
    "start_time": "2022-05-15T19:32:22.484Z"
   },
   {
    "duration": 10,
    "start_time": "2022-05-15T19:33:45.754Z"
   },
   {
    "duration": 39,
    "start_time": "2022-05-15T19:34:43.456Z"
   },
   {
    "duration": 4,
    "start_time": "2022-05-15T19:38:19.664Z"
   },
   {
    "duration": 8,
    "start_time": "2022-05-15T19:38:27.844Z"
   },
   {
    "duration": 84,
    "start_time": "2022-05-15T19:39:05.826Z"
   },
   {
    "duration": 14,
    "start_time": "2022-05-15T19:39:12.273Z"
   },
   {
    "duration": 8,
    "start_time": "2022-05-15T19:39:36.314Z"
   },
   {
    "duration": 23,
    "start_time": "2022-05-15T19:40:46.023Z"
   },
   {
    "duration": 14,
    "start_time": "2022-05-15T19:41:44.473Z"
   },
   {
    "duration": 28,
    "start_time": "2022-05-15T19:42:19.113Z"
   },
   {
    "duration": 18,
    "start_time": "2022-05-15T20:02:32.030Z"
   },
   {
    "duration": 34,
    "start_time": "2022-05-15T20:02:38.520Z"
   },
   {
    "duration": 9,
    "start_time": "2022-05-15T20:03:13.390Z"
   },
   {
    "duration": 17,
    "start_time": "2022-05-15T20:03:57.980Z"
   },
   {
    "duration": 17,
    "start_time": "2022-05-15T20:05:22.028Z"
   },
   {
    "duration": 27,
    "start_time": "2022-05-15T20:06:01.148Z"
   },
   {
    "duration": 14,
    "start_time": "2022-05-15T20:11:50.872Z"
   },
   {
    "duration": 7,
    "start_time": "2022-05-15T20:12:10.936Z"
   },
   {
    "duration": 15,
    "start_time": "2022-05-15T20:12:28.223Z"
   },
   {
    "duration": 487,
    "start_time": "2022-05-15T20:14:13.021Z"
   },
   {
    "duration": 12,
    "start_time": "2022-05-15T20:14:19.265Z"
   },
   {
    "duration": 93,
    "start_time": "2022-05-15T20:26:45.096Z"
   },
   {
    "duration": 7,
    "start_time": "2022-05-15T20:27:55.301Z"
   },
   {
    "duration": 5,
    "start_time": "2022-05-15T20:28:15.306Z"
   },
   {
    "duration": 5,
    "start_time": "2022-05-15T20:28:42.787Z"
   },
   {
    "duration": 102,
    "start_time": "2022-05-16T18:18:22.630Z"
   },
   {
    "duration": 1114,
    "start_time": "2022-05-16T18:18:30.646Z"
   },
   {
    "duration": 768,
    "start_time": "2022-05-16T18:18:31.764Z"
   },
   {
    "duration": 35,
    "start_time": "2022-05-16T18:18:32.535Z"
   },
   {
    "duration": 38,
    "start_time": "2022-05-16T18:18:32.573Z"
   },
   {
    "duration": 19,
    "start_time": "2022-05-16T18:18:32.614Z"
   },
   {
    "duration": 32,
    "start_time": "2022-05-16T18:18:32.636Z"
   },
   {
    "duration": 42,
    "start_time": "2022-05-16T18:18:32.670Z"
   },
   {
    "duration": 26,
    "start_time": "2022-05-16T18:18:32.714Z"
   },
   {
    "duration": 90,
    "start_time": "2022-05-16T18:18:32.742Z"
   },
   {
    "duration": 115,
    "start_time": "2022-05-16T18:18:32.835Z"
   },
   {
    "duration": 22,
    "start_time": "2022-05-16T18:18:32.956Z"
   },
   {
    "duration": 55,
    "start_time": "2022-05-16T18:18:32.981Z"
   },
   {
    "duration": 79,
    "start_time": "2022-05-16T18:18:33.038Z"
   },
   {
    "duration": 36,
    "start_time": "2022-05-16T18:18:33.124Z"
   },
   {
    "duration": 80,
    "start_time": "2022-05-16T18:18:33.164Z"
   },
   {
    "duration": 94,
    "start_time": "2022-05-16T18:18:33.248Z"
   },
   {
    "duration": 27,
    "start_time": "2022-05-16T18:18:33.344Z"
   },
   {
    "duration": 117,
    "start_time": "2022-05-16T18:18:33.375Z"
   },
   {
    "duration": 41,
    "start_time": "2022-05-16T18:18:33.495Z"
   },
   {
    "duration": 82,
    "start_time": "2022-05-16T18:18:33.558Z"
   },
   {
    "duration": 14,
    "start_time": "2022-05-16T18:18:33.643Z"
   },
   {
    "duration": 96,
    "start_time": "2022-05-16T18:18:33.659Z"
   },
   {
    "duration": 12,
    "start_time": "2022-05-16T18:18:33.760Z"
   },
   {
    "duration": 36,
    "start_time": "2022-05-16T18:18:33.775Z"
   },
   {
    "duration": 17,
    "start_time": "2022-05-16T18:18:33.814Z"
   },
   {
    "duration": 50,
    "start_time": "2022-05-16T18:18:33.834Z"
   },
   {
    "duration": 926,
    "start_time": "2022-05-16T18:18:33.887Z"
   },
   {
    "duration": 266,
    "start_time": "2022-05-16T18:18:34.816Z"
   },
   {
    "duration": 236,
    "start_time": "2022-05-16T18:18:35.085Z"
   },
   {
    "duration": 220,
    "start_time": "2022-05-16T18:18:35.323Z"
   },
   {
    "duration": 65,
    "start_time": "2022-05-16T18:18:35.546Z"
   },
   {
    "duration": 83,
    "start_time": "2022-05-16T18:18:35.613Z"
   },
   {
    "duration": 235,
    "start_time": "2022-05-16T18:18:35.699Z"
   },
   {
    "duration": 5,
    "start_time": "2022-05-16T18:18:35.936Z"
   },
   {
    "duration": 47,
    "start_time": "2022-05-16T18:18:35.943Z"
   },
   {
    "duration": 13,
    "start_time": "2022-05-16T18:18:35.993Z"
   },
   {
    "duration": 7,
    "start_time": "2022-05-16T18:18:36.009Z"
   },
   {
    "duration": 95,
    "start_time": "2022-05-16T18:18:36.019Z"
   },
   {
    "duration": 45,
    "start_time": "2022-05-16T18:18:36.116Z"
   },
   {
    "duration": 18,
    "start_time": "2022-05-16T18:18:36.165Z"
   },
   {
    "duration": 16,
    "start_time": "2022-05-16T18:18:36.189Z"
   },
   {
    "duration": 47,
    "start_time": "2022-05-16T18:18:36.208Z"
   },
   {
    "duration": 20,
    "start_time": "2022-05-16T18:18:36.261Z"
   },
   {
    "duration": 38,
    "start_time": "2022-05-16T18:18:36.285Z"
   },
   {
    "duration": 4,
    "start_time": "2022-05-16T18:18:36.326Z"
   },
   {
    "duration": 57,
    "start_time": "2022-05-16T18:18:36.361Z"
   },
   {
    "duration": 69,
    "start_time": "2022-05-16T18:18:36.420Z"
   },
   {
    "duration": 39,
    "start_time": "2022-05-16T18:18:36.492Z"
   },
   {
    "duration": 34,
    "start_time": "2022-05-16T18:18:36.534Z"
   },
   {
    "duration": 46,
    "start_time": "2022-05-16T18:19:23.452Z"
   },
   {
    "duration": 32,
    "start_time": "2022-05-16T18:21:19.440Z"
   },
   {
    "duration": 25,
    "start_time": "2022-05-16T18:32:01.570Z"
   },
   {
    "duration": 175,
    "start_time": "2022-05-16T18:44:34.689Z"
   },
   {
    "duration": 23,
    "start_time": "2022-05-16T18:45:14.576Z"
   },
   {
    "duration": 526,
    "start_time": "2022-05-16T18:45:33.141Z"
   },
   {
    "duration": 8,
    "start_time": "2022-05-16T18:51:19.034Z"
   },
   {
    "duration": 1160,
    "start_time": "2022-05-16T18:58:02.115Z"
   },
   {
    "duration": 490,
    "start_time": "2022-05-16T18:58:03.278Z"
   },
   {
    "duration": 26,
    "start_time": "2022-05-16T18:58:03.770Z"
   },
   {
    "duration": 30,
    "start_time": "2022-05-16T18:58:03.799Z"
   },
   {
    "duration": 25,
    "start_time": "2022-05-16T18:58:03.832Z"
   },
   {
    "duration": 11,
    "start_time": "2022-05-16T18:58:03.860Z"
   },
   {
    "duration": 19,
    "start_time": "2022-05-16T18:58:03.873Z"
   },
   {
    "duration": 13,
    "start_time": "2022-05-16T18:58:03.895Z"
   },
   {
    "duration": 103,
    "start_time": "2022-05-16T18:58:03.911Z"
   },
   {
    "duration": 108,
    "start_time": "2022-05-16T18:58:04.019Z"
   },
   {
    "duration": 12,
    "start_time": "2022-05-16T18:58:04.129Z"
   },
   {
    "duration": 56,
    "start_time": "2022-05-16T18:58:04.143Z"
   },
   {
    "duration": 74,
    "start_time": "2022-05-16T18:58:04.201Z"
   },
   {
    "duration": 14,
    "start_time": "2022-05-16T18:58:04.277Z"
   },
   {
    "duration": 75,
    "start_time": "2022-05-16T18:58:04.293Z"
   },
   {
    "duration": 52,
    "start_time": "2022-05-16T18:58:04.371Z"
   },
   {
    "duration": 33,
    "start_time": "2022-05-16T18:58:04.427Z"
   },
   {
    "duration": 75,
    "start_time": "2022-05-16T18:58:04.462Z"
   },
   {
    "duration": 45,
    "start_time": "2022-05-16T18:58:04.540Z"
   },
   {
    "duration": 71,
    "start_time": "2022-05-16T18:58:04.587Z"
   },
   {
    "duration": 5,
    "start_time": "2022-05-16T18:58:04.661Z"
   },
   {
    "duration": 55,
    "start_time": "2022-05-16T18:58:04.668Z"
   },
   {
    "duration": 6,
    "start_time": "2022-05-16T18:58:04.725Z"
   },
   {
    "duration": 22,
    "start_time": "2022-05-16T18:58:04.758Z"
   },
   {
    "duration": 17,
    "start_time": "2022-05-16T18:58:04.782Z"
   },
   {
    "duration": 65,
    "start_time": "2022-05-16T18:58:04.801Z"
   },
   {
    "duration": 824,
    "start_time": "2022-05-16T18:58:04.869Z"
   },
   {
    "duration": 243,
    "start_time": "2022-05-16T18:58:05.698Z"
   },
   {
    "duration": 206,
    "start_time": "2022-05-16T18:58:05.943Z"
   },
   {
    "duration": 225,
    "start_time": "2022-05-16T18:58:06.156Z"
   },
   {
    "duration": 43,
    "start_time": "2022-05-16T18:58:06.384Z"
   },
   {
    "duration": 65,
    "start_time": "2022-05-16T18:58:06.429Z"
   },
   {
    "duration": 227,
    "start_time": "2022-05-16T18:58:06.496Z"
   },
   {
    "duration": 535,
    "start_time": "2022-05-16T18:58:06.725Z"
   },
   {
    "duration": 5,
    "start_time": "2022-05-16T18:58:07.262Z"
   },
   {
    "duration": 32,
    "start_time": "2022-05-16T18:58:07.269Z"
   },
   {
    "duration": 12,
    "start_time": "2022-05-16T18:58:07.303Z"
   },
   {
    "duration": 8,
    "start_time": "2022-05-16T18:58:07.317Z"
   },
   {
    "duration": 56,
    "start_time": "2022-05-16T18:58:07.356Z"
   },
   {
    "duration": 43,
    "start_time": "2022-05-16T18:58:07.415Z"
   },
   {
    "duration": 29,
    "start_time": "2022-05-16T18:58:07.461Z"
   },
   {
    "duration": 13,
    "start_time": "2022-05-16T18:58:07.493Z"
   },
   {
    "duration": 18,
    "start_time": "2022-05-16T18:58:07.509Z"
   },
   {
    "duration": 37,
    "start_time": "2022-05-16T18:58:07.529Z"
   },
   {
    "duration": 30,
    "start_time": "2022-05-16T18:58:07.568Z"
   },
   {
    "duration": 5,
    "start_time": "2022-05-16T18:58:07.600Z"
   },
   {
    "duration": 61,
    "start_time": "2022-05-16T18:58:07.607Z"
   },
   {
    "duration": 34,
    "start_time": "2022-05-16T18:58:07.671Z"
   },
   {
    "duration": 51,
    "start_time": "2022-05-16T18:58:07.707Z"
   },
   {
    "duration": 22,
    "start_time": "2022-05-16T18:58:07.761Z"
   },
   {
    "duration": 50,
    "start_time": "2022-05-17T05:56:03.466Z"
   },
   {
    "duration": 835,
    "start_time": "2022-05-17T05:56:08.427Z"
   },
   {
    "duration": 385,
    "start_time": "2022-05-17T05:56:09.264Z"
   },
   {
    "duration": 25,
    "start_time": "2022-05-17T05:56:09.652Z"
   },
   {
    "duration": 17,
    "start_time": "2022-05-17T05:56:09.679Z"
   },
   {
    "duration": 10,
    "start_time": "2022-05-17T05:56:09.698Z"
   },
   {
    "duration": 5,
    "start_time": "2022-05-17T05:56:09.709Z"
   },
   {
    "duration": 11,
    "start_time": "2022-05-17T05:56:09.716Z"
   },
   {
    "duration": 10,
    "start_time": "2022-05-17T05:56:09.729Z"
   },
   {
    "duration": 75,
    "start_time": "2022-05-17T05:56:09.740Z"
   },
   {
    "duration": 70,
    "start_time": "2022-05-17T05:56:09.818Z"
   },
   {
    "duration": 17,
    "start_time": "2022-05-17T05:56:09.890Z"
   },
   {
    "duration": 31,
    "start_time": "2022-05-17T05:56:09.909Z"
   },
   {
    "duration": 44,
    "start_time": "2022-05-17T05:56:09.941Z"
   },
   {
    "duration": 27,
    "start_time": "2022-05-17T05:56:09.987Z"
   },
   {
    "duration": 41,
    "start_time": "2022-05-17T05:56:10.015Z"
   },
   {
    "duration": 61,
    "start_time": "2022-05-17T05:56:10.058Z"
   },
   {
    "duration": 7,
    "start_time": "2022-05-17T05:56:10.121Z"
   },
   {
    "duration": 50,
    "start_time": "2022-05-17T05:56:10.130Z"
   },
   {
    "duration": 37,
    "start_time": "2022-05-17T05:56:10.182Z"
   },
   {
    "duration": 39,
    "start_time": "2022-05-17T05:56:10.221Z"
   },
   {
    "duration": 3,
    "start_time": "2022-05-17T05:56:10.262Z"
   },
   {
    "duration": 54,
    "start_time": "2022-05-17T05:56:10.267Z"
   },
   {
    "duration": 4,
    "start_time": "2022-05-17T05:56:10.323Z"
   },
   {
    "duration": 16,
    "start_time": "2022-05-17T05:56:10.328Z"
   },
   {
    "duration": 10,
    "start_time": "2022-05-17T05:56:10.345Z"
   },
   {
    "duration": 18,
    "start_time": "2022-05-17T05:56:10.357Z"
   },
   {
    "duration": 778,
    "start_time": "2022-05-17T05:56:10.377Z"
   },
   {
    "duration": 158,
    "start_time": "2022-05-17T05:56:11.158Z"
   },
   {
    "duration": 137,
    "start_time": "2022-05-17T05:56:11.318Z"
   },
   {
    "duration": 140,
    "start_time": "2022-05-17T05:56:11.457Z"
   },
   {
    "duration": 37,
    "start_time": "2022-05-17T05:56:11.599Z"
   },
   {
    "duration": 29,
    "start_time": "2022-05-17T05:56:11.638Z"
   },
   {
    "duration": 159,
    "start_time": "2022-05-17T05:56:11.669Z"
   },
   {
    "duration": 352,
    "start_time": "2022-05-17T05:56:11.830Z"
   },
   {
    "duration": 3,
    "start_time": "2022-05-17T05:56:12.184Z"
   },
   {
    "duration": 25,
    "start_time": "2022-05-17T05:56:12.189Z"
   },
   {
    "duration": 8,
    "start_time": "2022-05-17T05:56:12.216Z"
   },
   {
    "duration": 7,
    "start_time": "2022-05-17T05:56:12.226Z"
   },
   {
    "duration": 39,
    "start_time": "2022-05-17T05:56:12.235Z"
   },
   {
    "duration": 36,
    "start_time": "2022-05-17T05:56:12.276Z"
   },
   {
    "duration": 9,
    "start_time": "2022-05-17T05:56:12.314Z"
   },
   {
    "duration": 6,
    "start_time": "2022-05-17T05:56:12.325Z"
   },
   {
    "duration": 11,
    "start_time": "2022-05-17T05:56:12.333Z"
   },
   {
    "duration": 12,
    "start_time": "2022-05-17T05:56:12.345Z"
   },
   {
    "duration": 58,
    "start_time": "2022-05-17T05:56:12.360Z"
   },
   {
    "duration": 17,
    "start_time": "2022-05-17T05:56:12.420Z"
   },
   {
    "duration": 28,
    "start_time": "2022-05-17T05:56:12.439Z"
   },
   {
    "duration": 23,
    "start_time": "2022-05-17T05:56:12.469Z"
   },
   {
    "duration": 30,
    "start_time": "2022-05-17T05:56:12.493Z"
   },
   {
    "duration": 11,
    "start_time": "2022-05-17T05:56:12.525Z"
   },
   {
    "duration": 18,
    "start_time": "2022-05-17T06:00:13.587Z"
   },
   {
    "duration": 29,
    "start_time": "2022-05-17T06:00:30.973Z"
   },
   {
    "duration": 32,
    "start_time": "2022-05-17T06:00:43.866Z"
   },
   {
    "duration": 39,
    "start_time": "2022-05-17T06:01:02.272Z"
   },
   {
    "duration": 47,
    "start_time": "2022-05-17T06:02:14.155Z"
   },
   {
    "duration": 3,
    "start_time": "2022-05-17T06:22:27.061Z"
   },
   {
    "duration": 13,
    "start_time": "2022-05-17T06:24:08.211Z"
   },
   {
    "duration": 8,
    "start_time": "2022-05-17T06:24:18.775Z"
   },
   {
    "duration": 9,
    "start_time": "2022-05-17T06:24:29.059Z"
   },
   {
    "duration": 145,
    "start_time": "2022-05-17T06:26:30.804Z"
   },
   {
    "duration": 63,
    "start_time": "2022-05-17T06:27:42.302Z"
   },
   {
    "duration": 90,
    "start_time": "2022-05-17T06:28:15.698Z"
   },
   {
    "duration": 1051,
    "start_time": "2022-05-17T06:29:18.428Z"
   },
   {
    "duration": 462,
    "start_time": "2022-05-17T06:29:19.482Z"
   },
   {
    "duration": 37,
    "start_time": "2022-05-17T06:29:19.945Z"
   },
   {
    "duration": 29,
    "start_time": "2022-05-17T06:29:19.984Z"
   },
   {
    "duration": 24,
    "start_time": "2022-05-17T06:29:20.014Z"
   },
   {
    "duration": 16,
    "start_time": "2022-05-17T06:29:20.040Z"
   },
   {
    "duration": 18,
    "start_time": "2022-05-17T06:29:20.057Z"
   },
   {
    "duration": 46,
    "start_time": "2022-05-17T06:29:20.077Z"
   },
   {
    "duration": 17,
    "start_time": "2022-05-17T06:29:20.124Z"
   },
   {
    "duration": 4,
    "start_time": "2022-05-17T06:29:20.144Z"
   },
   {
    "duration": 7,
    "start_time": "2022-05-17T06:29:20.149Z"
   },
   {
    "duration": 12,
    "start_time": "2022-05-17T06:29:20.157Z"
   },
   {
    "duration": 45,
    "start_time": "2022-05-17T06:29:20.171Z"
   },
   {
    "duration": 55,
    "start_time": "2022-05-17T06:29:20.217Z"
   },
   {
    "duration": 83,
    "start_time": "2022-05-17T06:29:20.274Z"
   },
   {
    "duration": 8,
    "start_time": "2022-05-17T06:29:20.358Z"
   },
   {
    "duration": 42,
    "start_time": "2022-05-17T06:29:20.367Z"
   },
   {
    "duration": 40,
    "start_time": "2022-05-17T06:29:20.411Z"
   },
   {
    "duration": 7,
    "start_time": "2022-05-17T06:29:20.453Z"
   },
   {
    "duration": 60,
    "start_time": "2022-05-17T06:29:20.461Z"
   },
   {
    "duration": 39,
    "start_time": "2022-05-17T06:29:20.523Z"
   },
   {
    "duration": 8,
    "start_time": "2022-05-17T06:29:20.564Z"
   },
   {
    "duration": 65,
    "start_time": "2022-05-17T06:29:20.574Z"
   },
   {
    "duration": 21,
    "start_time": "2022-05-17T06:29:20.641Z"
   },
   {
    "duration": 47,
    "start_time": "2022-05-17T06:29:20.663Z"
   },
   {
    "duration": 3,
    "start_time": "2022-05-17T06:29:20.712Z"
   },
   {
    "duration": 34,
    "start_time": "2022-05-17T06:29:20.717Z"
   },
   {
    "duration": 3,
    "start_time": "2022-05-17T06:29:20.755Z"
   },
   {
    "duration": 14,
    "start_time": "2022-05-17T06:29:20.760Z"
   },
   {
    "duration": 33,
    "start_time": "2022-05-17T06:29:20.775Z"
   },
   {
    "duration": 20,
    "start_time": "2022-05-17T06:29:20.810Z"
   },
   {
    "duration": 320,
    "start_time": "2022-05-17T06:29:20.831Z"
   },
   {
    "duration": 154,
    "start_time": "2022-05-17T06:29:21.153Z"
   },
   {
    "duration": 133,
    "start_time": "2022-05-17T06:29:21.309Z"
   },
   {
    "duration": 140,
    "start_time": "2022-05-17T06:29:21.444Z"
   },
   {
    "duration": 38,
    "start_time": "2022-05-17T06:29:21.585Z"
   },
   {
    "duration": 29,
    "start_time": "2022-05-17T06:29:21.625Z"
   },
   {
    "duration": 157,
    "start_time": "2022-05-17T06:29:21.655Z"
   },
   {
    "duration": 335,
    "start_time": "2022-05-17T06:29:21.814Z"
   },
   {
    "duration": 3,
    "start_time": "2022-05-17T06:29:22.151Z"
   },
   {
    "duration": 17,
    "start_time": "2022-05-17T06:29:22.156Z"
   },
   {
    "duration": 6,
    "start_time": "2022-05-17T06:29:22.175Z"
   },
   {
    "duration": 27,
    "start_time": "2022-05-17T06:29:22.183Z"
   },
   {
    "duration": 36,
    "start_time": "2022-05-17T06:29:22.211Z"
   },
   {
    "duration": 11,
    "start_time": "2022-05-17T06:29:22.249Z"
   },
   {
    "duration": 8,
    "start_time": "2022-05-17T06:29:22.262Z"
   },
   {
    "duration": 6,
    "start_time": "2022-05-17T06:29:22.271Z"
   },
   {
    "duration": 31,
    "start_time": "2022-05-17T06:29:22.278Z"
   },
   {
    "duration": 13,
    "start_time": "2022-05-17T06:29:22.311Z"
   },
   {
    "duration": 13,
    "start_time": "2022-05-17T06:29:22.325Z"
   },
   {
    "duration": 2,
    "start_time": "2022-05-17T06:29:22.340Z"
   },
   {
    "duration": 22,
    "start_time": "2022-05-17T06:29:22.343Z"
   },
   {
    "duration": 52,
    "start_time": "2022-05-17T06:29:22.367Z"
   },
   {
    "duration": 18,
    "start_time": "2022-05-17T06:29:22.420Z"
   },
   {
    "duration": 10,
    "start_time": "2022-05-17T06:29:22.440Z"
   },
   {
    "duration": 35,
    "start_time": "2022-05-17T08:33:53.388Z"
   },
   {
    "duration": 43,
    "start_time": "2022-05-17T10:19:48.078Z"
   },
   {
    "duration": 36,
    "start_time": "2022-05-17T10:20:00.432Z"
   },
   {
    "duration": 11,
    "start_time": "2022-05-17T12:22:17.805Z"
   },
   {
    "duration": 12,
    "start_time": "2022-05-17T12:22:22.746Z"
   },
   {
    "duration": 17,
    "start_time": "2022-05-17T12:22:43.201Z"
   },
   {
    "duration": 14,
    "start_time": "2022-05-17T12:23:19.702Z"
   },
   {
    "duration": 18,
    "start_time": "2022-05-17T12:23:46.328Z"
   },
   {
    "duration": 75,
    "start_time": "2022-05-17T12:29:01.410Z"
   },
   {
    "duration": 56,
    "start_time": "2022-05-17T12:29:06.294Z"
   },
   {
    "duration": 52,
    "start_time": "2022-05-17T12:30:23.997Z"
   },
   {
    "duration": 30,
    "start_time": "2022-05-17T12:30:30.123Z"
   },
   {
    "duration": 30,
    "start_time": "2022-05-17T12:31:08.084Z"
   },
   {
    "duration": 31,
    "start_time": "2022-05-17T12:31:15.078Z"
   },
   {
    "duration": 33,
    "start_time": "2022-05-17T12:31:28.409Z"
   },
   {
    "duration": 23,
    "start_time": "2022-05-17T12:31:35.413Z"
   },
   {
    "duration": 4,
    "start_time": "2022-05-17T12:32:40.756Z"
   },
   {
    "duration": 452,
    "start_time": "2022-05-17T12:32:40.762Z"
   },
   {
    "duration": 36,
    "start_time": "2022-05-17T12:32:41.216Z"
   },
   {
    "duration": 30,
    "start_time": "2022-05-17T12:32:41.254Z"
   },
   {
    "duration": 42,
    "start_time": "2022-05-17T12:32:41.287Z"
   },
   {
    "duration": 18,
    "start_time": "2022-05-17T12:32:41.331Z"
   },
   {
    "duration": 24,
    "start_time": "2022-05-17T12:32:41.351Z"
   },
   {
    "duration": 21,
    "start_time": "2022-05-17T12:32:41.397Z"
   },
   {
    "duration": 13,
    "start_time": "2022-05-17T12:32:41.420Z"
   },
   {
    "duration": 3,
    "start_time": "2022-05-17T12:32:41.436Z"
   },
   {
    "duration": 6,
    "start_time": "2022-05-17T12:32:41.441Z"
   },
   {
    "duration": 50,
    "start_time": "2022-05-17T12:32:41.449Z"
   },
   {
    "duration": 14,
    "start_time": "2022-05-17T12:32:41.501Z"
   },
   {
    "duration": 53,
    "start_time": "2022-05-17T12:32:41.520Z"
   },
   {
    "duration": 82,
    "start_time": "2022-05-17T12:32:41.575Z"
   },
   {
    "duration": 8,
    "start_time": "2022-05-17T12:32:41.658Z"
   },
   {
    "duration": 62,
    "start_time": "2022-05-17T12:32:41.668Z"
   },
   {
    "duration": 42,
    "start_time": "2022-05-17T12:32:41.732Z"
   },
   {
    "duration": 9,
    "start_time": "2022-05-17T12:32:41.776Z"
   },
   {
    "duration": 41,
    "start_time": "2022-05-17T12:32:41.805Z"
   },
   {
    "duration": 63,
    "start_time": "2022-05-17T12:32:41.848Z"
   },
   {
    "duration": 9,
    "start_time": "2022-05-17T12:32:41.913Z"
   },
   {
    "duration": 51,
    "start_time": "2022-05-17T12:32:41.924Z"
   },
   {
    "duration": 36,
    "start_time": "2022-05-17T12:32:41.977Z"
   },
   {
    "duration": 31,
    "start_time": "2022-05-17T12:32:42.015Z"
   },
   {
    "duration": 4,
    "start_time": "2022-05-17T12:32:42.048Z"
   },
   {
    "duration": 12,
    "start_time": "2022-05-17T12:32:42.053Z"
   },
   {
    "duration": 61,
    "start_time": "2022-05-17T12:32:42.067Z"
   },
   {
    "duration": 5,
    "start_time": "2022-05-17T12:32:42.130Z"
   },
   {
    "duration": 153,
    "start_time": "2022-05-17T12:32:42.138Z"
   },
   {
    "duration": 0,
    "start_time": "2022-05-17T12:32:42.293Z"
   },
   {
    "duration": 0,
    "start_time": "2022-05-17T12:32:42.294Z"
   },
   {
    "duration": 0,
    "start_time": "2022-05-17T12:32:42.295Z"
   },
   {
    "duration": 0,
    "start_time": "2022-05-17T12:32:42.297Z"
   },
   {
    "duration": 0,
    "start_time": "2022-05-17T12:32:42.299Z"
   },
   {
    "duration": 0,
    "start_time": "2022-05-17T12:32:42.300Z"
   },
   {
    "duration": 0,
    "start_time": "2022-05-17T12:32:42.302Z"
   },
   {
    "duration": 0,
    "start_time": "2022-05-17T12:32:42.304Z"
   },
   {
    "duration": 0,
    "start_time": "2022-05-17T12:32:42.305Z"
   },
   {
    "duration": 0,
    "start_time": "2022-05-17T12:32:42.307Z"
   },
   {
    "duration": 0,
    "start_time": "2022-05-17T12:32:42.309Z"
   },
   {
    "duration": 0,
    "start_time": "2022-05-17T12:32:42.310Z"
   },
   {
    "duration": 0,
    "start_time": "2022-05-17T12:32:42.312Z"
   },
   {
    "duration": 0,
    "start_time": "2022-05-17T12:32:42.314Z"
   },
   {
    "duration": 0,
    "start_time": "2022-05-17T12:32:42.315Z"
   },
   {
    "duration": 0,
    "start_time": "2022-05-17T12:32:42.317Z"
   },
   {
    "duration": 0,
    "start_time": "2022-05-17T12:32:42.319Z"
   },
   {
    "duration": 0,
    "start_time": "2022-05-17T12:32:42.321Z"
   },
   {
    "duration": 0,
    "start_time": "2022-05-17T12:32:42.322Z"
   },
   {
    "duration": 0,
    "start_time": "2022-05-17T12:32:42.325Z"
   },
   {
    "duration": 0,
    "start_time": "2022-05-17T12:32:42.326Z"
   },
   {
    "duration": 0,
    "start_time": "2022-05-17T12:32:42.327Z"
   },
   {
    "duration": 0,
    "start_time": "2022-05-17T12:32:42.329Z"
   },
   {
    "duration": 0,
    "start_time": "2022-05-17T12:32:42.330Z"
   },
   {
    "duration": 0,
    "start_time": "2022-05-17T12:32:42.331Z"
   },
   {
    "duration": 0,
    "start_time": "2022-05-17T12:32:42.333Z"
   },
   {
    "duration": 41,
    "start_time": "2022-05-17T12:33:09.345Z"
   },
   {
    "duration": 39,
    "start_time": "2022-05-17T12:34:11.090Z"
   },
   {
    "duration": 35,
    "start_time": "2022-05-17T12:35:02.048Z"
   },
   {
    "duration": 12,
    "start_time": "2022-05-17T12:36:09.222Z"
   },
   {
    "duration": 5,
    "start_time": "2022-05-17T12:36:14.999Z"
   },
   {
    "duration": 32,
    "start_time": "2022-05-17T12:36:27.905Z"
   },
   {
    "duration": 24,
    "start_time": "2022-05-17T12:36:32.241Z"
   },
   {
    "duration": 58,
    "start_time": "2022-05-17T12:37:25.489Z"
   },
   {
    "duration": 12,
    "start_time": "2022-05-17T12:38:02.412Z"
   },
   {
    "duration": 9,
    "start_time": "2022-05-17T12:38:07.836Z"
   },
   {
    "duration": 14,
    "start_time": "2022-05-17T12:45:20.875Z"
   },
   {
    "duration": 21,
    "start_time": "2022-05-17T12:45:29.917Z"
   },
   {
    "duration": 34,
    "start_time": "2022-05-17T13:12:42.556Z"
   },
   {
    "duration": 42,
    "start_time": "2022-05-17T13:13:01.848Z"
   },
   {
    "duration": 36,
    "start_time": "2022-05-17T13:13:33.826Z"
   },
   {
    "duration": 42,
    "start_time": "2022-05-17T13:13:47.441Z"
   },
   {
    "duration": 41,
    "start_time": "2022-05-17T13:14:02.992Z"
   },
   {
    "duration": 100,
    "start_time": "2022-05-17T13:14:50.600Z"
   },
   {
    "duration": 1120,
    "start_time": "2022-05-17T14:25:56.742Z"
   },
   {
    "duration": 522,
    "start_time": "2022-05-17T14:25:57.867Z"
   },
   {
    "duration": 51,
    "start_time": "2022-05-17T14:25:58.390Z"
   },
   {
    "duration": 59,
    "start_time": "2022-05-17T14:25:58.443Z"
   },
   {
    "duration": 28,
    "start_time": "2022-05-17T14:25:58.505Z"
   },
   {
    "duration": 18,
    "start_time": "2022-05-17T14:25:58.534Z"
   },
   {
    "duration": 54,
    "start_time": "2022-05-17T14:25:58.555Z"
   },
   {
    "duration": 23,
    "start_time": "2022-05-17T14:25:58.611Z"
   },
   {
    "duration": 19,
    "start_time": "2022-05-17T14:25:58.636Z"
   },
   {
    "duration": 6,
    "start_time": "2022-05-17T14:25:58.657Z"
   },
   {
    "duration": 14,
    "start_time": "2022-05-17T14:25:58.699Z"
   },
   {
    "duration": 13,
    "start_time": "2022-05-17T14:25:58.716Z"
   },
   {
    "duration": 14,
    "start_time": "2022-05-17T14:25:58.731Z"
   },
   {
    "duration": 85,
    "start_time": "2022-05-17T14:25:58.749Z"
   },
   {
    "duration": 80,
    "start_time": "2022-05-17T14:25:58.836Z"
   },
   {
    "duration": 8,
    "start_time": "2022-05-17T14:25:58.918Z"
   },
   {
    "duration": 33,
    "start_time": "2022-05-17T14:25:58.929Z"
   },
   {
    "duration": 69,
    "start_time": "2022-05-17T14:25:58.965Z"
   },
   {
    "duration": 9,
    "start_time": "2022-05-17T14:25:59.036Z"
   },
   {
    "duration": 65,
    "start_time": "2022-05-17T14:25:59.048Z"
   },
   {
    "duration": 64,
    "start_time": "2022-05-17T14:25:59.116Z"
   },
   {
    "duration": 24,
    "start_time": "2022-05-17T14:25:59.182Z"
   },
   {
    "duration": 57,
    "start_time": "2022-05-17T14:25:59.208Z"
   },
   {
    "duration": 52,
    "start_time": "2022-05-17T14:25:59.268Z"
   },
   {
    "duration": 37,
    "start_time": "2022-05-17T14:25:59.322Z"
   },
   {
    "duration": 4,
    "start_time": "2022-05-17T14:25:59.361Z"
   },
   {
    "duration": 97,
    "start_time": "2022-05-17T14:25:59.367Z"
   },
   {
    "duration": 7,
    "start_time": "2022-05-17T14:25:59.466Z"
   },
   {
    "duration": 35,
    "start_time": "2022-05-17T14:25:59.475Z"
   },
   {
    "duration": 16,
    "start_time": "2022-05-17T14:25:59.513Z"
   },
   {
    "duration": 21,
    "start_time": "2022-05-17T14:25:59.532Z"
   },
   {
    "duration": 446,
    "start_time": "2022-05-17T14:25:59.555Z"
   },
   {
    "duration": 208,
    "start_time": "2022-05-17T14:26:00.004Z"
   },
   {
    "duration": 173,
    "start_time": "2022-05-17T14:26:00.215Z"
   },
   {
    "duration": 2712,
    "start_time": "2022-05-17T14:26:00.397Z"
   },
   {
    "duration": 0,
    "start_time": "2022-05-17T14:26:03.112Z"
   },
   {
    "duration": 0,
    "start_time": "2022-05-17T14:26:03.114Z"
   },
   {
    "duration": 0,
    "start_time": "2022-05-17T14:26:03.116Z"
   },
   {
    "duration": 0,
    "start_time": "2022-05-17T14:26:03.118Z"
   },
   {
    "duration": 0,
    "start_time": "2022-05-17T14:26:03.120Z"
   },
   {
    "duration": 1,
    "start_time": "2022-05-17T14:26:03.121Z"
   },
   {
    "duration": 0,
    "start_time": "2022-05-17T14:26:03.123Z"
   },
   {
    "duration": 0,
    "start_time": "2022-05-17T14:26:03.125Z"
   },
   {
    "duration": 0,
    "start_time": "2022-05-17T14:26:03.126Z"
   },
   {
    "duration": 0,
    "start_time": "2022-05-17T14:26:03.128Z"
   },
   {
    "duration": 0,
    "start_time": "2022-05-17T14:26:03.129Z"
   },
   {
    "duration": 0,
    "start_time": "2022-05-17T14:26:03.131Z"
   },
   {
    "duration": 0,
    "start_time": "2022-05-17T14:26:03.132Z"
   },
   {
    "duration": 0,
    "start_time": "2022-05-17T14:26:03.135Z"
   },
   {
    "duration": 0,
    "start_time": "2022-05-17T14:26:03.137Z"
   },
   {
    "duration": 0,
    "start_time": "2022-05-17T14:26:03.138Z"
   },
   {
    "duration": 0,
    "start_time": "2022-05-17T14:26:03.140Z"
   },
   {
    "duration": 0,
    "start_time": "2022-05-17T14:26:03.141Z"
   },
   {
    "duration": 0,
    "start_time": "2022-05-17T14:26:03.143Z"
   },
   {
    "duration": 0,
    "start_time": "2022-05-17T14:26:03.145Z"
   },
   {
    "duration": 163,
    "start_time": "2022-05-17T14:26:21.036Z"
   },
   {
    "duration": 3,
    "start_time": "2022-05-17T14:26:24.646Z"
   },
   {
    "duration": 432,
    "start_time": "2022-05-17T14:26:24.652Z"
   },
   {
    "duration": 34,
    "start_time": "2022-05-17T14:26:25.086Z"
   },
   {
    "duration": 31,
    "start_time": "2022-05-17T14:26:25.122Z"
   },
   {
    "duration": 48,
    "start_time": "2022-05-17T14:26:25.155Z"
   },
   {
    "duration": 17,
    "start_time": "2022-05-17T14:26:25.205Z"
   },
   {
    "duration": 21,
    "start_time": "2022-05-17T14:26:25.224Z"
   },
   {
    "duration": 23,
    "start_time": "2022-05-17T14:26:25.246Z"
   },
   {
    "duration": 39,
    "start_time": "2022-05-17T14:26:25.271Z"
   },
   {
    "duration": 3,
    "start_time": "2022-05-17T14:26:25.312Z"
   },
   {
    "duration": 9,
    "start_time": "2022-05-17T14:26:25.317Z"
   },
   {
    "duration": 14,
    "start_time": "2022-05-17T14:26:25.328Z"
   },
   {
    "duration": 9,
    "start_time": "2022-05-17T14:26:25.346Z"
   },
   {
    "duration": 91,
    "start_time": "2022-05-17T14:26:25.356Z"
   },
   {
    "duration": 79,
    "start_time": "2022-05-17T14:26:25.449Z"
   },
   {
    "duration": 7,
    "start_time": "2022-05-17T14:26:25.530Z"
   },
   {
    "duration": 40,
    "start_time": "2022-05-17T14:26:25.539Z"
   },
   {
    "duration": 48,
    "start_time": "2022-05-17T14:26:25.581Z"
   },
   {
    "duration": 9,
    "start_time": "2022-05-17T14:26:25.631Z"
   },
   {
    "duration": 66,
    "start_time": "2022-05-17T14:26:25.642Z"
   },
   {
    "duration": 39,
    "start_time": "2022-05-17T14:26:25.710Z"
   },
   {
    "duration": 8,
    "start_time": "2022-05-17T14:26:25.751Z"
   },
   {
    "duration": 79,
    "start_time": "2022-05-17T14:26:25.761Z"
   },
   {
    "duration": 23,
    "start_time": "2022-05-17T14:26:25.842Z"
   },
   {
    "duration": 51,
    "start_time": "2022-05-17T14:26:25.866Z"
   },
   {
    "duration": 4,
    "start_time": "2022-05-17T14:26:25.919Z"
   },
   {
    "duration": 40,
    "start_time": "2022-05-17T14:26:25.924Z"
   },
   {
    "duration": 4,
    "start_time": "2022-05-17T14:26:25.966Z"
   },
   {
    "duration": 33,
    "start_time": "2022-05-17T14:26:25.972Z"
   },
   {
    "duration": 12,
    "start_time": "2022-05-17T14:26:26.007Z"
   },
   {
    "duration": 26,
    "start_time": "2022-05-17T14:26:26.022Z"
   },
   {
    "duration": 356,
    "start_time": "2022-05-17T14:26:26.050Z"
   },
   {
    "duration": 165,
    "start_time": "2022-05-17T14:26:26.408Z"
   },
   {
    "duration": 204,
    "start_time": "2022-05-17T14:26:26.575Z"
   },
   {
    "duration": 233,
    "start_time": "2022-05-17T14:26:26.782Z"
   },
   {
    "duration": 32,
    "start_time": "2022-05-17T14:26:27.017Z"
   },
   {
    "duration": 69,
    "start_time": "2022-05-17T14:26:27.053Z"
   },
   {
    "duration": 241,
    "start_time": "2022-05-17T14:26:27.124Z"
   },
   {
    "duration": 365,
    "start_time": "2022-05-17T14:26:27.367Z"
   },
   {
    "duration": 4,
    "start_time": "2022-05-17T14:26:27.734Z"
   },
   {
    "duration": 1728,
    "start_time": "2022-05-17T14:26:27.739Z"
   },
   {
    "duration": 0,
    "start_time": "2022-05-17T14:26:29.469Z"
   },
   {
    "duration": 0,
    "start_time": "2022-05-17T14:26:29.470Z"
   },
   {
    "duration": 0,
    "start_time": "2022-05-17T14:26:29.472Z"
   },
   {
    "duration": 0,
    "start_time": "2022-05-17T14:26:29.473Z"
   },
   {
    "duration": 0,
    "start_time": "2022-05-17T14:26:29.474Z"
   },
   {
    "duration": 0,
    "start_time": "2022-05-17T14:26:29.475Z"
   },
   {
    "duration": 0,
    "start_time": "2022-05-17T14:26:29.477Z"
   },
   {
    "duration": 0,
    "start_time": "2022-05-17T14:26:29.478Z"
   },
   {
    "duration": 0,
    "start_time": "2022-05-17T14:26:29.479Z"
   },
   {
    "duration": 0,
    "start_time": "2022-05-17T14:26:29.480Z"
   },
   {
    "duration": 0,
    "start_time": "2022-05-17T14:26:29.482Z"
   },
   {
    "duration": 0,
    "start_time": "2022-05-17T14:26:29.483Z"
   },
   {
    "duration": 0,
    "start_time": "2022-05-17T14:26:29.484Z"
   },
   {
    "duration": 0,
    "start_time": "2022-05-17T14:26:29.485Z"
   },
   {
    "duration": 5,
    "start_time": "2022-05-17T14:27:53.350Z"
   },
   {
    "duration": 5,
    "start_time": "2022-05-17T14:28:00.225Z"
   },
   {
    "duration": 20,
    "start_time": "2022-05-17T14:28:02.173Z"
   },
   {
    "duration": 4,
    "start_time": "2022-05-17T14:28:07.330Z"
   },
   {
    "duration": 407,
    "start_time": "2022-05-17T14:28:07.337Z"
   },
   {
    "duration": 34,
    "start_time": "2022-05-17T14:28:07.746Z"
   },
   {
    "duration": 30,
    "start_time": "2022-05-17T14:28:07.782Z"
   },
   {
    "duration": 27,
    "start_time": "2022-05-17T14:28:07.814Z"
   },
   {
    "duration": 19,
    "start_time": "2022-05-17T14:28:07.842Z"
   },
   {
    "duration": 48,
    "start_time": "2022-05-17T14:28:07.863Z"
   },
   {
    "duration": 19,
    "start_time": "2022-05-17T14:28:07.913Z"
   },
   {
    "duration": 14,
    "start_time": "2022-05-17T14:28:07.933Z"
   },
   {
    "duration": 4,
    "start_time": "2022-05-17T14:28:07.950Z"
   },
   {
    "duration": 42,
    "start_time": "2022-05-17T14:28:07.956Z"
   },
   {
    "duration": 12,
    "start_time": "2022-05-17T14:28:08.000Z"
   },
   {
    "duration": 15,
    "start_time": "2022-05-17T14:28:08.013Z"
   },
   {
    "duration": 70,
    "start_time": "2022-05-17T14:28:08.030Z"
   },
   {
    "duration": 63,
    "start_time": "2022-05-17T14:28:08.102Z"
   },
   {
    "duration": 9,
    "start_time": "2022-05-17T14:28:08.167Z"
   },
   {
    "duration": 33,
    "start_time": "2022-05-17T14:28:08.198Z"
   },
   {
    "duration": 64,
    "start_time": "2022-05-17T14:28:08.232Z"
   },
   {
    "duration": 9,
    "start_time": "2022-05-17T14:28:08.298Z"
   },
   {
    "duration": 40,
    "start_time": "2022-05-17T14:28:08.310Z"
   },
   {
    "duration": 64,
    "start_time": "2022-05-17T14:28:08.352Z"
   },
   {
    "duration": 8,
    "start_time": "2022-05-17T14:28:08.419Z"
   },
   {
    "duration": 69,
    "start_time": "2022-05-17T14:28:08.429Z"
   },
   {
    "duration": 24,
    "start_time": "2022-05-17T14:28:08.500Z"
   },
   {
    "duration": 32,
    "start_time": "2022-05-17T14:28:08.526Z"
   },
   {
    "duration": 4,
    "start_time": "2022-05-17T14:28:08.560Z"
   },
   {
    "duration": 67,
    "start_time": "2022-05-17T14:28:08.565Z"
   },
   {
    "duration": 5,
    "start_time": "2022-05-17T14:28:08.642Z"
   },
   {
    "duration": 14,
    "start_time": "2022-05-17T14:28:08.648Z"
   },
   {
    "duration": 14,
    "start_time": "2022-05-17T14:28:08.664Z"
   },
   {
    "duration": 18,
    "start_time": "2022-05-17T14:28:08.698Z"
   },
   {
    "duration": 324,
    "start_time": "2022-05-17T14:28:08.718Z"
   },
   {
    "duration": 171,
    "start_time": "2022-05-17T14:28:09.043Z"
   },
   {
    "duration": 154,
    "start_time": "2022-05-17T14:28:09.216Z"
   },
   {
    "duration": 147,
    "start_time": "2022-05-17T14:28:09.372Z"
   },
   {
    "duration": 31,
    "start_time": "2022-05-17T14:28:09.520Z"
   },
   {
    "duration": 52,
    "start_time": "2022-05-17T14:28:09.553Z"
   },
   {
    "duration": 175,
    "start_time": "2022-05-17T14:28:09.606Z"
   },
   {
    "duration": 362,
    "start_time": "2022-05-17T14:28:09.783Z"
   },
   {
    "duration": 4,
    "start_time": "2022-05-17T14:28:10.146Z"
   },
   {
    "duration": 21,
    "start_time": "2022-05-17T14:28:10.152Z"
   },
   {
    "duration": 29,
    "start_time": "2022-05-17T14:28:10.175Z"
   },
   {
    "duration": 0,
    "start_time": "2022-05-17T14:28:10.206Z"
   },
   {
    "duration": 0,
    "start_time": "2022-05-17T14:28:10.208Z"
   },
   {
    "duration": 0,
    "start_time": "2022-05-17T14:28:10.209Z"
   },
   {
    "duration": 0,
    "start_time": "2022-05-17T14:28:10.210Z"
   },
   {
    "duration": 0,
    "start_time": "2022-05-17T14:28:10.211Z"
   },
   {
    "duration": 0,
    "start_time": "2022-05-17T14:28:10.212Z"
   },
   {
    "duration": 0,
    "start_time": "2022-05-17T14:28:10.214Z"
   },
   {
    "duration": 0,
    "start_time": "2022-05-17T14:28:10.215Z"
   },
   {
    "duration": 0,
    "start_time": "2022-05-17T14:28:10.216Z"
   },
   {
    "duration": 0,
    "start_time": "2022-05-17T14:28:10.217Z"
   },
   {
    "duration": 0,
    "start_time": "2022-05-17T14:28:10.218Z"
   },
   {
    "duration": 0,
    "start_time": "2022-05-17T14:28:10.219Z"
   },
   {
    "duration": 0,
    "start_time": "2022-05-17T14:28:10.220Z"
   },
   {
    "duration": 8,
    "start_time": "2022-05-17T14:28:30.306Z"
   },
   {
    "duration": 3,
    "start_time": "2022-05-17T14:28:33.675Z"
   },
   {
    "duration": 410,
    "start_time": "2022-05-17T14:28:33.680Z"
   },
   {
    "duration": 34,
    "start_time": "2022-05-17T14:28:34.092Z"
   },
   {
    "duration": 29,
    "start_time": "2022-05-17T14:28:34.127Z"
   },
   {
    "duration": 45,
    "start_time": "2022-05-17T14:28:34.158Z"
   },
   {
    "duration": 18,
    "start_time": "2022-05-17T14:28:34.204Z"
   },
   {
    "duration": 134,
    "start_time": "2022-05-17T14:28:34.224Z"
   },
   {
    "duration": 17,
    "start_time": "2022-05-17T14:28:34.359Z"
   },
   {
    "duration": 29,
    "start_time": "2022-05-17T14:28:34.377Z"
   },
   {
    "duration": 4,
    "start_time": "2022-05-17T14:28:34.408Z"
   },
   {
    "duration": 6,
    "start_time": "2022-05-17T14:28:34.413Z"
   },
   {
    "duration": 12,
    "start_time": "2022-05-17T14:28:34.421Z"
   },
   {
    "duration": 12,
    "start_time": "2022-05-17T14:28:34.435Z"
   },
   {
    "duration": 81,
    "start_time": "2022-05-17T14:28:34.450Z"
   },
   {
    "duration": 69,
    "start_time": "2022-05-17T14:28:34.533Z"
   },
   {
    "duration": 10,
    "start_time": "2022-05-17T14:28:34.604Z"
   },
   {
    "duration": 746,
    "start_time": "2022-05-17T14:28:34.616Z"
   },
   {
    "duration": 890,
    "start_time": "2022-05-17T14:28:35.364Z"
   },
   {
    "duration": 359,
    "start_time": "2022-05-17T14:28:36.255Z"
   },
   {
    "duration": 49,
    "start_time": "2022-05-17T14:28:36.616Z"
   },
   {
    "duration": 38,
    "start_time": "2022-05-17T14:28:36.667Z"
   },
   {
    "duration": 8,
    "start_time": "2022-05-17T14:28:36.706Z"
   },
   {
    "duration": 53,
    "start_time": "2022-05-17T14:28:36.716Z"
   },
   {
    "duration": 37,
    "start_time": "2022-05-17T14:28:36.771Z"
   },
   {
    "duration": 35,
    "start_time": "2022-05-17T14:28:36.810Z"
   },
   {
    "duration": 4,
    "start_time": "2022-05-17T14:28:36.847Z"
   },
   {
    "duration": 73,
    "start_time": "2022-05-17T14:28:36.854Z"
   },
   {
    "duration": 6,
    "start_time": "2022-05-17T14:28:36.929Z"
   },
   {
    "duration": 20,
    "start_time": "2022-05-17T14:28:36.937Z"
   },
   {
    "duration": 14,
    "start_time": "2022-05-17T14:28:36.959Z"
   },
   {
    "duration": 38,
    "start_time": "2022-05-17T14:28:36.975Z"
   },
   {
    "duration": 310,
    "start_time": "2022-05-17T14:28:37.015Z"
   },
   {
    "duration": 155,
    "start_time": "2022-05-17T14:28:37.327Z"
   },
   {
    "duration": 157,
    "start_time": "2022-05-17T14:28:37.484Z"
   },
   {
    "duration": 141,
    "start_time": "2022-05-17T14:28:37.642Z"
   },
   {
    "duration": 31,
    "start_time": "2022-05-17T14:28:37.797Z"
   },
   {
    "duration": 33,
    "start_time": "2022-05-17T14:28:37.830Z"
   },
   {
    "duration": 175,
    "start_time": "2022-05-17T14:28:37.865Z"
   },
   {
    "duration": 356,
    "start_time": "2022-05-17T14:28:38.041Z"
   },
   {
    "duration": 4,
    "start_time": "2022-05-17T14:28:38.400Z"
   },
   {
    "duration": 20,
    "start_time": "2022-05-17T14:28:38.410Z"
   },
   {
    "duration": 10,
    "start_time": "2022-05-17T14:28:38.432Z"
   },
   {
    "duration": 5,
    "start_time": "2022-05-17T14:28:38.444Z"
   },
   {
    "duration": 77,
    "start_time": "2022-05-17T14:28:38.451Z"
   },
   {
    "duration": 16,
    "start_time": "2022-05-17T14:28:38.530Z"
   },
   {
    "duration": 14,
    "start_time": "2022-05-17T14:28:38.548Z"
   },
   {
    "duration": 0,
    "start_time": "2022-05-17T14:28:38.564Z"
   },
   {
    "duration": 0,
    "start_time": "2022-05-17T14:28:38.565Z"
   },
   {
    "duration": 0,
    "start_time": "2022-05-17T14:28:38.566Z"
   },
   {
    "duration": 0,
    "start_time": "2022-05-17T14:28:38.567Z"
   },
   {
    "duration": 0,
    "start_time": "2022-05-17T14:28:38.597Z"
   },
   {
    "duration": 0,
    "start_time": "2022-05-17T14:28:38.598Z"
   },
   {
    "duration": 0,
    "start_time": "2022-05-17T14:28:38.599Z"
   },
   {
    "duration": 1,
    "start_time": "2022-05-17T14:28:38.600Z"
   },
   {
    "duration": 1,
    "start_time": "2022-05-17T14:28:38.601Z"
   },
   {
    "duration": 7,
    "start_time": "2022-05-17T14:28:45.694Z"
   },
   {
    "duration": 3,
    "start_time": "2022-05-17T14:28:51.230Z"
   },
   {
    "duration": 381,
    "start_time": "2022-05-17T14:28:51.235Z"
   },
   {
    "duration": 33,
    "start_time": "2022-05-17T14:28:51.618Z"
   },
   {
    "duration": 30,
    "start_time": "2022-05-17T14:28:51.653Z"
   },
   {
    "duration": 26,
    "start_time": "2022-05-17T14:28:51.696Z"
   },
   {
    "duration": 17,
    "start_time": "2022-05-17T14:28:51.724Z"
   },
   {
    "duration": 54,
    "start_time": "2022-05-17T14:28:51.742Z"
   },
   {
    "duration": 23,
    "start_time": "2022-05-17T14:28:51.798Z"
   },
   {
    "duration": 13,
    "start_time": "2022-05-17T14:28:51.823Z"
   },
   {
    "duration": 4,
    "start_time": "2022-05-17T14:28:51.838Z"
   },
   {
    "duration": 6,
    "start_time": "2022-05-17T14:28:51.844Z"
   },
   {
    "duration": 12,
    "start_time": "2022-05-17T14:28:51.852Z"
   },
   {
    "duration": 34,
    "start_time": "2022-05-17T14:28:51.867Z"
   },
   {
    "duration": 54,
    "start_time": "2022-05-17T14:28:51.903Z"
   },
   {
    "duration": 77,
    "start_time": "2022-05-17T14:28:51.958Z"
   },
   {
    "duration": 8,
    "start_time": "2022-05-17T14:28:52.037Z"
   },
   {
    "duration": 51,
    "start_time": "2022-05-17T14:28:52.047Z"
   },
   {
    "duration": 41,
    "start_time": "2022-05-17T14:28:52.100Z"
   },
   {
    "duration": 9,
    "start_time": "2022-05-17T14:28:52.143Z"
   },
   {
    "duration": 65,
    "start_time": "2022-05-17T14:28:52.154Z"
   },
   {
    "duration": 40,
    "start_time": "2022-05-17T14:28:52.221Z"
   },
   {
    "duration": 8,
    "start_time": "2022-05-17T14:28:52.263Z"
   },
   {
    "duration": 71,
    "start_time": "2022-05-17T14:28:52.273Z"
   },
   {
    "duration": 26,
    "start_time": "2022-05-17T14:28:52.347Z"
   },
   {
    "duration": 50,
    "start_time": "2022-05-17T14:28:52.375Z"
   },
   {
    "duration": 4,
    "start_time": "2022-05-17T14:28:52.426Z"
   },
   {
    "duration": 59,
    "start_time": "2022-05-17T14:28:52.432Z"
   },
   {
    "duration": 6,
    "start_time": "2022-05-17T14:28:52.493Z"
   },
   {
    "duration": 18,
    "start_time": "2022-05-17T14:28:52.501Z"
   },
   {
    "duration": 14,
    "start_time": "2022-05-17T14:28:52.521Z"
   },
   {
    "duration": 26,
    "start_time": "2022-05-17T14:28:52.537Z"
   },
   {
    "duration": 324,
    "start_time": "2022-05-17T14:28:52.565Z"
   },
   {
    "duration": 166,
    "start_time": "2022-05-17T14:28:52.891Z"
   },
   {
    "duration": 257,
    "start_time": "2022-05-17T14:28:53.059Z"
   },
   {
    "duration": 141,
    "start_time": "2022-05-17T14:28:53.318Z"
   },
   {
    "duration": 44,
    "start_time": "2022-05-17T14:28:53.461Z"
   },
   {
    "duration": 30,
    "start_time": "2022-05-17T14:28:53.509Z"
   },
   {
    "duration": 163,
    "start_time": "2022-05-17T14:28:53.541Z"
   },
   {
    "duration": 349,
    "start_time": "2022-05-17T14:28:53.706Z"
   },
   {
    "duration": 3,
    "start_time": "2022-05-17T14:28:54.057Z"
   },
   {
    "duration": 21,
    "start_time": "2022-05-17T14:28:54.062Z"
   },
   {
    "duration": 8,
    "start_time": "2022-05-17T14:28:54.098Z"
   },
   {
    "duration": 4,
    "start_time": "2022-05-17T14:28:54.107Z"
   },
   {
    "duration": 41,
    "start_time": "2022-05-17T14:28:54.113Z"
   },
   {
    "duration": 41,
    "start_time": "2022-05-17T14:28:54.156Z"
   },
   {
    "duration": 8,
    "start_time": "2022-05-17T14:28:54.199Z"
   },
   {
    "duration": 5,
    "start_time": "2022-05-17T14:28:54.209Z"
   },
   {
    "duration": 19,
    "start_time": "2022-05-17T14:28:54.216Z"
   },
   {
    "duration": 0,
    "start_time": "2022-05-17T14:28:54.237Z"
   },
   {
    "duration": 0,
    "start_time": "2022-05-17T14:28:54.238Z"
   },
   {
    "duration": 0,
    "start_time": "2022-05-17T14:28:54.240Z"
   },
   {
    "duration": 0,
    "start_time": "2022-05-17T14:28:54.241Z"
   },
   {
    "duration": 0,
    "start_time": "2022-05-17T14:28:54.242Z"
   },
   {
    "duration": 0,
    "start_time": "2022-05-17T14:28:54.244Z"
   },
   {
    "duration": 0,
    "start_time": "2022-05-17T14:28:54.245Z"
   },
   {
    "duration": 4,
    "start_time": "2022-05-17T14:29:16.364Z"
   },
   {
    "duration": 382,
    "start_time": "2022-05-17T14:29:16.370Z"
   },
   {
    "duration": 33,
    "start_time": "2022-05-17T14:29:16.754Z"
   },
   {
    "duration": 30,
    "start_time": "2022-05-17T14:29:16.789Z"
   },
   {
    "duration": 26,
    "start_time": "2022-05-17T14:29:16.821Z"
   },
   {
    "duration": 17,
    "start_time": "2022-05-17T14:29:16.848Z"
   },
   {
    "duration": 46,
    "start_time": "2022-05-17T14:29:16.867Z"
   },
   {
    "duration": 18,
    "start_time": "2022-05-17T14:29:16.914Z"
   },
   {
    "duration": 13,
    "start_time": "2022-05-17T14:29:16.934Z"
   },
   {
    "duration": 4,
    "start_time": "2022-05-17T14:29:16.949Z"
   },
   {
    "duration": 6,
    "start_time": "2022-05-17T14:29:16.955Z"
   },
   {
    "duration": 40,
    "start_time": "2022-05-17T14:29:16.963Z"
   },
   {
    "duration": 8,
    "start_time": "2022-05-17T14:29:17.007Z"
   },
   {
    "duration": 54,
    "start_time": "2022-05-17T14:29:17.017Z"
   },
   {
    "duration": 61,
    "start_time": "2022-05-17T14:29:17.097Z"
   },
   {
    "duration": 8,
    "start_time": "2022-05-17T14:29:17.160Z"
   },
   {
    "duration": 52,
    "start_time": "2022-05-17T14:29:17.169Z"
   },
   {
    "duration": 39,
    "start_time": "2022-05-17T14:29:17.222Z"
   },
   {
    "duration": 8,
    "start_time": "2022-05-17T14:29:17.262Z"
   },
   {
    "duration": 60,
    "start_time": "2022-05-17T14:29:17.272Z"
   },
   {
    "duration": 37,
    "start_time": "2022-05-17T14:29:17.335Z"
   },
   {
    "duration": 23,
    "start_time": "2022-05-17T14:29:17.374Z"
   },
   {
    "duration": 58,
    "start_time": "2022-05-17T14:29:17.399Z"
   },
   {
    "duration": 46,
    "start_time": "2022-05-17T14:29:17.459Z"
   },
   {
    "duration": 30,
    "start_time": "2022-05-17T14:29:17.507Z"
   },
   {
    "duration": 4,
    "start_time": "2022-05-17T14:29:17.539Z"
   },
   {
    "duration": 59,
    "start_time": "2022-05-17T14:29:17.544Z"
   },
   {
    "duration": 5,
    "start_time": "2022-05-17T14:29:17.605Z"
   },
   {
    "duration": 13,
    "start_time": "2022-05-17T14:29:17.612Z"
   },
   {
    "duration": 13,
    "start_time": "2022-05-17T14:29:17.626Z"
   },
   {
    "duration": 18,
    "start_time": "2022-05-17T14:29:17.641Z"
   },
   {
    "duration": 348,
    "start_time": "2022-05-17T14:29:17.661Z"
   },
   {
    "duration": 163,
    "start_time": "2022-05-17T14:29:18.011Z"
   },
   {
    "duration": 159,
    "start_time": "2022-05-17T14:29:18.176Z"
   },
   {
    "duration": 146,
    "start_time": "2022-05-17T14:29:18.336Z"
   },
   {
    "duration": 39,
    "start_time": "2022-05-17T14:29:18.485Z"
   },
   {
    "duration": 32,
    "start_time": "2022-05-17T14:29:18.526Z"
   },
   {
    "duration": 173,
    "start_time": "2022-05-17T14:29:18.560Z"
   },
   {
    "duration": 363,
    "start_time": "2022-05-17T14:29:18.735Z"
   },
   {
    "duration": 4,
    "start_time": "2022-05-17T14:29:19.102Z"
   },
   {
    "duration": 20,
    "start_time": "2022-05-17T14:29:19.108Z"
   },
   {
    "duration": 10,
    "start_time": "2022-05-17T14:29:19.130Z"
   },
   {
    "duration": 5,
    "start_time": "2022-05-17T14:29:19.142Z"
   },
   {
    "duration": 68,
    "start_time": "2022-05-17T14:29:19.148Z"
   },
   {
    "duration": 17,
    "start_time": "2022-05-17T14:29:19.218Z"
   },
   {
    "duration": 9,
    "start_time": "2022-05-17T14:29:19.237Z"
   },
   {
    "duration": 7,
    "start_time": "2022-05-17T14:29:19.248Z"
   },
   {
    "duration": 46,
    "start_time": "2022-05-17T14:29:19.257Z"
   },
   {
    "duration": 15,
    "start_time": "2022-05-17T14:29:19.305Z"
   },
   {
    "duration": 161,
    "start_time": "2022-05-17T14:29:19.322Z"
   },
   {
    "duration": 11,
    "start_time": "2022-05-17T14:29:19.486Z"
   },
   {
    "duration": 29,
    "start_time": "2022-05-17T14:29:19.500Z"
   },
   {
    "duration": 26,
    "start_time": "2022-05-17T14:29:19.531Z"
   },
   {
    "duration": 40,
    "start_time": "2022-05-17T14:29:19.559Z"
   },
   {
    "duration": 0,
    "start_time": "2022-05-17T14:29:19.601Z"
   },
   {
    "duration": 17,
    "start_time": "2022-05-17T14:29:29.167Z"
   },
   {
    "duration": 3,
    "start_time": "2022-05-17T14:29:39.188Z"
   },
   {
    "duration": 392,
    "start_time": "2022-05-17T14:29:39.193Z"
   },
   {
    "duration": 33,
    "start_time": "2022-05-17T14:29:39.587Z"
   },
   {
    "duration": 30,
    "start_time": "2022-05-17T14:29:39.622Z"
   },
   {
    "duration": 46,
    "start_time": "2022-05-17T14:29:39.654Z"
   },
   {
    "duration": 17,
    "start_time": "2022-05-17T14:29:39.702Z"
   },
   {
    "duration": 21,
    "start_time": "2022-05-17T14:29:39.721Z"
   },
   {
    "duration": 16,
    "start_time": "2022-05-17T14:29:39.743Z"
   },
   {
    "duration": 46,
    "start_time": "2022-05-17T14:29:39.761Z"
   },
   {
    "duration": 4,
    "start_time": "2022-05-17T14:29:39.809Z"
   },
   {
    "duration": 6,
    "start_time": "2022-05-17T14:29:39.814Z"
   },
   {
    "duration": 14,
    "start_time": "2022-05-17T14:29:39.822Z"
   },
   {
    "duration": 18,
    "start_time": "2022-05-17T14:29:39.838Z"
   },
   {
    "duration": 70,
    "start_time": "2022-05-17T14:29:39.859Z"
   },
   {
    "duration": 68,
    "start_time": "2022-05-17T14:29:39.930Z"
   },
   {
    "duration": 7,
    "start_time": "2022-05-17T14:29:40.000Z"
   },
   {
    "duration": 36,
    "start_time": "2022-05-17T14:29:40.009Z"
   },
   {
    "duration": 51,
    "start_time": "2022-05-17T14:29:40.047Z"
   },
   {
    "duration": 8,
    "start_time": "2022-05-17T14:29:40.100Z"
   },
   {
    "duration": 45,
    "start_time": "2022-05-17T14:29:40.110Z"
   },
   {
    "duration": 54,
    "start_time": "2022-05-17T14:29:40.157Z"
   },
   {
    "duration": 9,
    "start_time": "2022-05-17T14:29:40.213Z"
   },
   {
    "duration": 49,
    "start_time": "2022-05-17T14:29:40.224Z"
   },
   {
    "duration": 42,
    "start_time": "2022-05-17T14:29:40.275Z"
   },
   {
    "duration": 31,
    "start_time": "2022-05-17T14:29:40.319Z"
   },
   {
    "duration": 4,
    "start_time": "2022-05-17T14:29:40.352Z"
   },
   {
    "duration": 67,
    "start_time": "2022-05-17T14:29:40.358Z"
   },
   {
    "duration": 5,
    "start_time": "2022-05-17T14:29:40.427Z"
   },
   {
    "duration": 12,
    "start_time": "2022-05-17T14:29:40.434Z"
   },
   {
    "duration": 13,
    "start_time": "2022-05-17T14:29:40.448Z"
   },
   {
    "duration": 48,
    "start_time": "2022-05-17T14:29:40.462Z"
   },
   {
    "duration": 298,
    "start_time": "2022-05-17T14:29:40.512Z"
   },
   {
    "duration": 158,
    "start_time": "2022-05-17T14:29:40.812Z"
   },
   {
    "duration": 153,
    "start_time": "2022-05-17T14:29:40.972Z"
   },
   {
    "duration": 142,
    "start_time": "2022-05-17T14:29:41.127Z"
   },
   {
    "duration": 38,
    "start_time": "2022-05-17T14:29:41.271Z"
   },
   {
    "duration": 29,
    "start_time": "2022-05-17T14:29:41.311Z"
   },
   {
    "duration": 156,
    "start_time": "2022-05-17T14:29:41.342Z"
   },
   {
    "duration": 345,
    "start_time": "2022-05-17T14:29:41.500Z"
   },
   {
    "duration": 4,
    "start_time": "2022-05-17T14:29:41.847Z"
   },
   {
    "duration": 19,
    "start_time": "2022-05-17T14:29:41.855Z"
   },
   {
    "duration": 29,
    "start_time": "2022-05-17T14:29:41.875Z"
   },
   {
    "duration": 12,
    "start_time": "2022-05-17T14:29:41.905Z"
   },
   {
    "duration": 41,
    "start_time": "2022-05-17T14:29:41.919Z"
   },
   {
    "duration": 15,
    "start_time": "2022-05-17T14:29:41.962Z"
   },
   {
    "duration": 24,
    "start_time": "2022-05-17T14:29:41.979Z"
   },
   {
    "duration": 6,
    "start_time": "2022-05-17T14:29:42.005Z"
   },
   {
    "duration": 10,
    "start_time": "2022-05-17T14:29:42.013Z"
   },
   {
    "duration": 18,
    "start_time": "2022-05-17T14:29:42.025Z"
   },
   {
    "duration": 19,
    "start_time": "2022-05-17T14:29:42.045Z"
   },
   {
    "duration": 32,
    "start_time": "2022-05-17T14:29:42.065Z"
   },
   {
    "duration": 27,
    "start_time": "2022-05-17T14:29:42.099Z"
   },
   {
    "duration": 23,
    "start_time": "2022-05-17T14:29:42.127Z"
   },
   {
    "duration": 16,
    "start_time": "2022-05-17T14:29:42.152Z"
   },
   {
    "duration": 36,
    "start_time": "2022-05-17T14:29:42.170Z"
   },
   {
    "duration": 94,
    "start_time": "2022-05-17T14:39:51.405Z"
   },
   {
    "duration": 1167,
    "start_time": "2022-05-18T04:09:02.317Z"
   },
   {
    "duration": 670,
    "start_time": "2022-05-18T04:09:03.486Z"
   },
   {
    "duration": 32,
    "start_time": "2022-05-18T04:09:04.159Z"
   },
   {
    "duration": 23,
    "start_time": "2022-05-18T04:09:04.192Z"
   },
   {
    "duration": 19,
    "start_time": "2022-05-18T04:09:04.217Z"
   },
   {
    "duration": 13,
    "start_time": "2022-05-18T04:09:04.238Z"
   },
   {
    "duration": 14,
    "start_time": "2022-05-18T04:09:04.252Z"
   },
   {
    "duration": 25,
    "start_time": "2022-05-18T04:09:04.293Z"
   },
   {
    "duration": 15,
    "start_time": "2022-05-18T04:09:04.320Z"
   },
   {
    "duration": 4,
    "start_time": "2022-05-18T04:09:04.336Z"
   },
   {
    "duration": 5,
    "start_time": "2022-05-18T04:09:04.341Z"
   },
   {
    "duration": 12,
    "start_time": "2022-05-18T04:09:04.348Z"
   },
   {
    "duration": 8,
    "start_time": "2022-05-18T04:09:04.361Z"
   },
   {
    "duration": 44,
    "start_time": "2022-05-18T04:09:04.395Z"
   },
   {
    "duration": 65,
    "start_time": "2022-05-18T04:09:04.441Z"
   },
   {
    "duration": 6,
    "start_time": "2022-05-18T04:09:04.507Z"
   },
   {
    "duration": 29,
    "start_time": "2022-05-18T04:09:04.514Z"
   },
   {
    "duration": 35,
    "start_time": "2022-05-18T04:09:04.544Z"
   },
   {
    "duration": 7,
    "start_time": "2022-05-18T04:09:04.593Z"
   },
   {
    "duration": 39,
    "start_time": "2022-05-18T04:09:04.602Z"
   },
   {
    "duration": 35,
    "start_time": "2022-05-18T04:09:04.643Z"
   },
   {
    "duration": 17,
    "start_time": "2022-05-18T04:09:04.679Z"
   },
   {
    "duration": 48,
    "start_time": "2022-05-18T04:09:04.697Z"
   },
   {
    "duration": 21,
    "start_time": "2022-05-18T04:09:04.746Z"
   },
   {
    "duration": 54,
    "start_time": "2022-05-18T04:09:04.768Z"
   },
   {
    "duration": 4,
    "start_time": "2022-05-18T04:09:04.824Z"
   },
   {
    "duration": 41,
    "start_time": "2022-05-18T04:09:04.829Z"
   },
   {
    "duration": 4,
    "start_time": "2022-05-18T04:09:04.871Z"
   },
   {
    "duration": 24,
    "start_time": "2022-05-18T04:09:04.877Z"
   },
   {
    "duration": 13,
    "start_time": "2022-05-18T04:09:04.903Z"
   },
   {
    "duration": 14,
    "start_time": "2022-05-18T04:09:04.919Z"
   },
   {
    "duration": 262,
    "start_time": "2022-05-18T04:09:04.935Z"
   },
   {
    "duration": 190,
    "start_time": "2022-05-18T04:09:05.198Z"
   },
   {
    "duration": 129,
    "start_time": "2022-05-18T04:09:05.394Z"
   },
   {
    "duration": 125,
    "start_time": "2022-05-18T04:09:05.524Z"
   },
   {
    "duration": 28,
    "start_time": "2022-05-18T04:09:05.650Z"
   },
   {
    "duration": 38,
    "start_time": "2022-05-18T04:09:05.680Z"
   },
   {
    "duration": 145,
    "start_time": "2022-05-18T04:09:05.720Z"
   },
   {
    "duration": 343,
    "start_time": "2022-05-18T04:09:05.867Z"
   },
   {
    "duration": 5,
    "start_time": "2022-05-18T04:09:06.212Z"
   },
   {
    "duration": 30,
    "start_time": "2022-05-18T04:09:06.222Z"
   },
   {
    "duration": 11,
    "start_time": "2022-05-18T04:09:06.255Z"
   },
   {
    "duration": 7,
    "start_time": "2022-05-18T04:09:06.268Z"
   },
   {
    "duration": 69,
    "start_time": "2022-05-18T04:09:06.277Z"
   },
   {
    "duration": 18,
    "start_time": "2022-05-18T04:09:06.348Z"
   },
   {
    "duration": 15,
    "start_time": "2022-05-18T04:09:06.368Z"
   },
   {
    "duration": 29,
    "start_time": "2022-05-18T04:09:06.384Z"
   },
   {
    "duration": 15,
    "start_time": "2022-05-18T04:09:06.415Z"
   },
   {
    "duration": 13,
    "start_time": "2022-05-18T04:09:06.432Z"
   },
   {
    "duration": 20,
    "start_time": "2022-05-18T04:09:06.447Z"
   },
   {
    "duration": 6,
    "start_time": "2022-05-18T04:09:06.469Z"
   },
   {
    "duration": 42,
    "start_time": "2022-05-18T04:09:06.477Z"
   },
   {
    "duration": 24,
    "start_time": "2022-05-18T04:09:06.521Z"
   },
   {
    "duration": 13,
    "start_time": "2022-05-18T04:09:06.547Z"
   },
   {
    "duration": 10,
    "start_time": "2022-05-18T04:09:06.561Z"
   },
   {
    "duration": 16,
    "start_time": "2022-05-18T04:09:27.766Z"
   },
   {
    "duration": 93,
    "start_time": "2022-05-18T04:09:42.609Z"
   },
   {
    "duration": 8,
    "start_time": "2022-05-18T04:09:46.237Z"
   },
   {
    "duration": 7,
    "start_time": "2022-05-18T04:10:22.592Z"
   },
   {
    "duration": 15,
    "start_time": "2022-05-18T04:10:46.711Z"
   },
   {
    "duration": 9,
    "start_time": "2022-05-18T04:12:13.776Z"
   },
   {
    "duration": 8,
    "start_time": "2022-05-18T04:12:46.616Z"
   },
   {
    "duration": 9,
    "start_time": "2022-05-18T04:13:45.984Z"
   },
   {
    "duration": 24,
    "start_time": "2022-05-18T04:14:01.100Z"
   },
   {
    "duration": 6,
    "start_time": "2022-05-18T04:14:20.785Z"
   },
   {
    "duration": 22,
    "start_time": "2022-05-18T04:14:34.362Z"
   },
   {
    "duration": 3,
    "start_time": "2022-05-18T04:17:24.276Z"
   },
   {
    "duration": 330,
    "start_time": "2022-05-18T04:17:33.121Z"
   },
   {
    "duration": 23,
    "start_time": "2022-05-18T04:18:23.048Z"
   },
   {
    "duration": 7,
    "start_time": "2022-05-18T04:18:27.916Z"
   },
   {
    "duration": 26,
    "start_time": "2022-05-18T04:19:02.981Z"
   },
   {
    "duration": 7,
    "start_time": "2022-05-18T04:19:27.566Z"
   },
   {
    "duration": 6,
    "start_time": "2022-05-18T04:19:37.437Z"
   },
   {
    "duration": 24,
    "start_time": "2022-05-18T04:19:55.016Z"
   },
   {
    "duration": 4,
    "start_time": "2022-05-18T04:20:16.788Z"
   },
   {
    "duration": 36,
    "start_time": "2022-05-18T04:20:43.408Z"
   },
   {
    "duration": 1012,
    "start_time": "2022-05-18T04:20:54.572Z"
   },
   {
    "duration": 337,
    "start_time": "2022-05-18T04:20:55.586Z"
   },
   {
    "duration": 30,
    "start_time": "2022-05-18T04:20:55.925Z"
   },
   {
    "duration": 22,
    "start_time": "2022-05-18T04:20:55.957Z"
   },
   {
    "duration": 20,
    "start_time": "2022-05-18T04:20:55.981Z"
   },
   {
    "duration": 13,
    "start_time": "2022-05-18T04:20:56.002Z"
   },
   {
    "duration": 15,
    "start_time": "2022-05-18T04:20:56.017Z"
   },
   {
    "duration": 17,
    "start_time": "2022-05-18T04:20:56.033Z"
   },
   {
    "duration": 44,
    "start_time": "2022-05-18T04:20:56.051Z"
   },
   {
    "duration": 4,
    "start_time": "2022-05-18T04:20:56.097Z"
   },
   {
    "duration": 6,
    "start_time": "2022-05-18T04:20:56.102Z"
   },
   {
    "duration": 11,
    "start_time": "2022-05-18T04:20:56.109Z"
   },
   {
    "duration": 7,
    "start_time": "2022-05-18T04:20:56.121Z"
   },
   {
    "duration": 45,
    "start_time": "2022-05-18T04:20:56.130Z"
   },
   {
    "duration": 56,
    "start_time": "2022-05-18T04:20:56.193Z"
   },
   {
    "duration": 6,
    "start_time": "2022-05-18T04:20:56.251Z"
   },
   {
    "duration": 45,
    "start_time": "2022-05-18T04:20:56.258Z"
   },
   {
    "duration": 36,
    "start_time": "2022-05-18T04:20:56.304Z"
   },
   {
    "duration": 7,
    "start_time": "2022-05-18T04:20:56.341Z"
   },
   {
    "duration": 51,
    "start_time": "2022-05-18T04:20:56.349Z"
   },
   {
    "duration": 34,
    "start_time": "2022-05-18T04:20:56.401Z"
   },
   {
    "duration": 6,
    "start_time": "2022-05-18T04:20:56.437Z"
   },
   {
    "duration": 56,
    "start_time": "2022-05-18T04:20:56.445Z"
   },
   {
    "duration": 20,
    "start_time": "2022-05-18T04:20:56.502Z"
   },
   {
    "duration": 30,
    "start_time": "2022-05-18T04:20:56.524Z"
   },
   {
    "duration": 3,
    "start_time": "2022-05-18T04:20:56.555Z"
   },
   {
    "duration": 55,
    "start_time": "2022-05-18T04:20:56.560Z"
   },
   {
    "duration": 3,
    "start_time": "2022-05-18T04:20:56.618Z"
   },
   {
    "duration": 9,
    "start_time": "2022-05-18T04:20:56.623Z"
   },
   {
    "duration": 10,
    "start_time": "2022-05-18T04:20:56.633Z"
   },
   {
    "duration": 15,
    "start_time": "2022-05-18T04:20:56.644Z"
   },
   {
    "duration": 274,
    "start_time": "2022-05-18T04:20:56.660Z"
   },
   {
    "duration": 194,
    "start_time": "2022-05-18T04:20:56.935Z"
   },
   {
    "duration": 123,
    "start_time": "2022-05-18T04:20:57.130Z"
   },
   {
    "duration": 116,
    "start_time": "2022-05-18T04:20:57.255Z"
   },
   {
    "duration": 33,
    "start_time": "2022-05-18T04:20:57.373Z"
   },
   {
    "duration": 24,
    "start_time": "2022-05-18T04:20:57.408Z"
   },
   {
    "duration": 127,
    "start_time": "2022-05-18T04:20:57.433Z"
   },
   {
    "duration": 286,
    "start_time": "2022-05-18T04:20:57.561Z"
   },
   {
    "duration": 4,
    "start_time": "2022-05-18T04:20:57.848Z"
   },
   {
    "duration": 27,
    "start_time": "2022-05-18T04:20:57.853Z"
   },
   {
    "duration": 127,
    "start_time": "2022-05-18T04:20:57.881Z"
   },
   {
    "duration": 0,
    "start_time": "2022-05-18T04:20:58.010Z"
   },
   {
    "duration": 0,
    "start_time": "2022-05-18T04:20:58.010Z"
   },
   {
    "duration": 0,
    "start_time": "2022-05-18T04:20:58.012Z"
   },
   {
    "duration": 0,
    "start_time": "2022-05-18T04:20:58.013Z"
   },
   {
    "duration": 0,
    "start_time": "2022-05-18T04:20:58.014Z"
   },
   {
    "duration": 0,
    "start_time": "2022-05-18T04:20:58.015Z"
   },
   {
    "duration": 0,
    "start_time": "2022-05-18T04:20:58.016Z"
   },
   {
    "duration": 0,
    "start_time": "2022-05-18T04:20:58.016Z"
   },
   {
    "duration": 0,
    "start_time": "2022-05-18T04:20:58.017Z"
   },
   {
    "duration": 0,
    "start_time": "2022-05-18T04:20:58.019Z"
   },
   {
    "duration": 0,
    "start_time": "2022-05-18T04:20:58.020Z"
   },
   {
    "duration": 0,
    "start_time": "2022-05-18T04:20:58.021Z"
   },
   {
    "duration": 0,
    "start_time": "2022-05-18T04:20:58.022Z"
   },
   {
    "duration": 0,
    "start_time": "2022-05-18T04:20:58.023Z"
   },
   {
    "duration": 0,
    "start_time": "2022-05-18T04:20:58.023Z"
   },
   {
    "duration": 943,
    "start_time": "2022-05-18T04:22:56.256Z"
   },
   {
    "duration": 336,
    "start_time": "2022-05-18T04:22:57.201Z"
   },
   {
    "duration": 30,
    "start_time": "2022-05-18T04:22:57.539Z"
   },
   {
    "duration": 23,
    "start_time": "2022-05-18T04:22:57.571Z"
   },
   {
    "duration": 29,
    "start_time": "2022-05-18T04:22:57.596Z"
   },
   {
    "duration": 12,
    "start_time": "2022-05-18T04:22:57.627Z"
   },
   {
    "duration": 18,
    "start_time": "2022-05-18T04:22:57.641Z"
   },
   {
    "duration": 34,
    "start_time": "2022-05-18T04:22:57.661Z"
   },
   {
    "duration": 17,
    "start_time": "2022-05-18T04:22:57.697Z"
   },
   {
    "duration": 4,
    "start_time": "2022-05-18T04:22:57.715Z"
   },
   {
    "duration": 5,
    "start_time": "2022-05-18T04:22:57.721Z"
   },
   {
    "duration": 15,
    "start_time": "2022-05-18T04:22:57.727Z"
   },
   {
    "duration": 8,
    "start_time": "2022-05-18T04:22:57.743Z"
   },
   {
    "duration": 62,
    "start_time": "2022-05-18T04:22:57.754Z"
   },
   {
    "duration": 57,
    "start_time": "2022-05-18T04:22:57.818Z"
   },
   {
    "duration": 20,
    "start_time": "2022-05-18T04:22:57.876Z"
   },
   {
    "duration": 27,
    "start_time": "2022-05-18T04:22:57.898Z"
   },
   {
    "duration": 35,
    "start_time": "2022-05-18T04:22:57.927Z"
   },
   {
    "duration": 7,
    "start_time": "2022-05-18T04:22:57.963Z"
   },
   {
    "duration": 51,
    "start_time": "2022-05-18T04:22:57.971Z"
   },
   {
    "duration": 36,
    "start_time": "2022-05-18T04:22:58.023Z"
   },
   {
    "duration": 8,
    "start_time": "2022-05-18T04:22:58.060Z"
   },
   {
    "duration": 61,
    "start_time": "2022-05-18T04:22:58.069Z"
   },
   {
    "duration": 20,
    "start_time": "2022-05-18T04:22:58.131Z"
   },
   {
    "duration": 42,
    "start_time": "2022-05-18T04:22:58.152Z"
   },
   {
    "duration": 3,
    "start_time": "2022-05-18T04:22:58.196Z"
   },
   {
    "duration": 36,
    "start_time": "2022-05-18T04:22:58.200Z"
   },
   {
    "duration": 4,
    "start_time": "2022-05-18T04:22:58.237Z"
   },
   {
    "duration": 15,
    "start_time": "2022-05-18T04:22:58.242Z"
   },
   {
    "duration": 10,
    "start_time": "2022-05-18T04:22:58.259Z"
   },
   {
    "duration": 37,
    "start_time": "2022-05-18T04:22:58.270Z"
   },
   {
    "duration": 245,
    "start_time": "2022-05-18T04:22:58.309Z"
   },
   {
    "duration": 195,
    "start_time": "2022-05-18T04:22:58.556Z"
   },
   {
    "duration": 132,
    "start_time": "2022-05-18T04:22:58.752Z"
   },
   {
    "duration": 143,
    "start_time": "2022-05-18T04:22:58.885Z"
   },
   {
    "duration": 26,
    "start_time": "2022-05-18T04:22:59.029Z"
   },
   {
    "duration": 38,
    "start_time": "2022-05-18T04:22:59.057Z"
   },
   {
    "duration": 123,
    "start_time": "2022-05-18T04:22:59.097Z"
   },
   {
    "duration": 281,
    "start_time": "2022-05-18T04:22:59.221Z"
   },
   {
    "duration": 3,
    "start_time": "2022-05-18T04:22:59.504Z"
   },
   {
    "duration": 23,
    "start_time": "2022-05-18T04:22:59.510Z"
   },
   {
    "duration": 129,
    "start_time": "2022-05-18T04:22:59.534Z"
   },
   {
    "duration": 0,
    "start_time": "2022-05-18T04:22:59.665Z"
   },
   {
    "duration": 0,
    "start_time": "2022-05-18T04:22:59.666Z"
   },
   {
    "duration": 0,
    "start_time": "2022-05-18T04:22:59.667Z"
   },
   {
    "duration": 0,
    "start_time": "2022-05-18T04:22:59.668Z"
   },
   {
    "duration": 0,
    "start_time": "2022-05-18T04:22:59.668Z"
   },
   {
    "duration": 0,
    "start_time": "2022-05-18T04:22:59.669Z"
   },
   {
    "duration": 0,
    "start_time": "2022-05-18T04:22:59.671Z"
   },
   {
    "duration": 0,
    "start_time": "2022-05-18T04:22:59.671Z"
   },
   {
    "duration": 0,
    "start_time": "2022-05-18T04:22:59.672Z"
   },
   {
    "duration": 0,
    "start_time": "2022-05-18T04:22:59.673Z"
   },
   {
    "duration": 0,
    "start_time": "2022-05-18T04:22:59.674Z"
   },
   {
    "duration": 0,
    "start_time": "2022-05-18T04:22:59.675Z"
   },
   {
    "duration": 0,
    "start_time": "2022-05-18T04:22:59.676Z"
   },
   {
    "duration": 0,
    "start_time": "2022-05-18T04:22:59.677Z"
   },
   {
    "duration": 0,
    "start_time": "2022-05-18T04:22:59.677Z"
   },
   {
    "duration": 4,
    "start_time": "2022-05-18T04:23:52.537Z"
   },
   {
    "duration": 20,
    "start_time": "2022-05-18T04:23:56.117Z"
   },
   {
    "duration": 27,
    "start_time": "2022-05-18T04:24:00.028Z"
   },
   {
    "duration": 3,
    "start_time": "2022-05-18T04:24:03.628Z"
   },
   {
    "duration": 343,
    "start_time": "2022-05-18T04:24:03.633Z"
   },
   {
    "duration": 27,
    "start_time": "2022-05-18T04:24:03.977Z"
   },
   {
    "duration": 22,
    "start_time": "2022-05-18T04:24:04.005Z"
   },
   {
    "duration": 21,
    "start_time": "2022-05-18T04:24:04.029Z"
   },
   {
    "duration": 13,
    "start_time": "2022-05-18T04:24:04.052Z"
   },
   {
    "duration": 38,
    "start_time": "2022-05-18T04:24:04.067Z"
   },
   {
    "duration": 13,
    "start_time": "2022-05-18T04:24:04.106Z"
   },
   {
    "duration": 10,
    "start_time": "2022-05-18T04:24:04.121Z"
   },
   {
    "duration": 3,
    "start_time": "2022-05-18T04:24:04.133Z"
   },
   {
    "duration": 5,
    "start_time": "2022-05-18T04:24:04.137Z"
   },
   {
    "duration": 11,
    "start_time": "2022-05-18T04:24:04.143Z"
   },
   {
    "duration": 39,
    "start_time": "2022-05-18T04:24:04.155Z"
   },
   {
    "duration": 43,
    "start_time": "2022-05-18T04:24:04.197Z"
   },
   {
    "duration": 66,
    "start_time": "2022-05-18T04:24:04.241Z"
   },
   {
    "duration": 6,
    "start_time": "2022-05-18T04:24:04.308Z"
   },
   {
    "duration": 29,
    "start_time": "2022-05-18T04:24:04.315Z"
   },
   {
    "duration": 50,
    "start_time": "2022-05-18T04:24:04.345Z"
   },
   {
    "duration": 7,
    "start_time": "2022-05-18T04:24:04.396Z"
   },
   {
    "duration": 34,
    "start_time": "2022-05-18T04:24:04.404Z"
   },
   {
    "duration": 34,
    "start_time": "2022-05-18T04:24:04.439Z"
   },
   {
    "duration": 22,
    "start_time": "2022-05-18T04:24:04.474Z"
   },
   {
    "duration": 47,
    "start_time": "2022-05-18T04:24:04.497Z"
   },
   {
    "duration": 19,
    "start_time": "2022-05-18T04:24:04.545Z"
   },
   {
    "duration": 47,
    "start_time": "2022-05-18T04:24:04.565Z"
   },
   {
    "duration": 4,
    "start_time": "2022-05-18T04:24:04.614Z"
   },
   {
    "duration": 44,
    "start_time": "2022-05-18T04:24:04.620Z"
   },
   {
    "duration": 4,
    "start_time": "2022-05-18T04:24:04.665Z"
   },
   {
    "duration": 25,
    "start_time": "2022-05-18T04:24:04.671Z"
   },
   {
    "duration": 12,
    "start_time": "2022-05-18T04:24:04.697Z"
   },
   {
    "duration": 18,
    "start_time": "2022-05-18T04:24:04.710Z"
   },
   {
    "duration": 258,
    "start_time": "2022-05-18T04:24:04.729Z"
   },
   {
    "duration": 129,
    "start_time": "2022-05-18T04:24:04.989Z"
   },
   {
    "duration": 113,
    "start_time": "2022-05-18T04:24:05.120Z"
   },
   {
    "duration": 114,
    "start_time": "2022-05-18T04:24:05.235Z"
   },
   {
    "duration": 25,
    "start_time": "2022-05-18T04:24:05.350Z"
   },
   {
    "duration": 39,
    "start_time": "2022-05-18T04:24:05.377Z"
   },
   {
    "duration": 204,
    "start_time": "2022-05-18T04:24:05.417Z"
   },
   {
    "duration": 277,
    "start_time": "2022-05-18T04:24:05.622Z"
   },
   {
    "duration": 4,
    "start_time": "2022-05-18T04:24:05.900Z"
   },
   {
    "duration": 21,
    "start_time": "2022-05-18T04:24:05.908Z"
   },
   {
    "duration": 25,
    "start_time": "2022-05-18T04:24:05.930Z"
   },
   {
    "duration": 5,
    "start_time": "2022-05-18T04:24:05.956Z"
   },
   {
    "duration": 3,
    "start_time": "2022-05-18T04:24:05.963Z"
   },
   {
    "duration": 6,
    "start_time": "2022-05-18T04:24:05.994Z"
   },
   {
    "duration": 313,
    "start_time": "2022-05-18T04:24:06.001Z"
   },
   {
    "duration": 0,
    "start_time": "2022-05-18T04:24:06.316Z"
   },
   {
    "duration": 0,
    "start_time": "2022-05-18T04:24:06.317Z"
   },
   {
    "duration": 0,
    "start_time": "2022-05-18T04:24:06.319Z"
   },
   {
    "duration": 0,
    "start_time": "2022-05-18T04:24:06.320Z"
   },
   {
    "duration": 0,
    "start_time": "2022-05-18T04:24:06.321Z"
   },
   {
    "duration": 0,
    "start_time": "2022-05-18T04:24:06.323Z"
   },
   {
    "duration": 0,
    "start_time": "2022-05-18T04:24:06.324Z"
   },
   {
    "duration": 0,
    "start_time": "2022-05-18T04:24:06.325Z"
   },
   {
    "duration": 0,
    "start_time": "2022-05-18T04:24:06.326Z"
   },
   {
    "duration": 0,
    "start_time": "2022-05-18T04:24:06.328Z"
   },
   {
    "duration": 0,
    "start_time": "2022-05-18T04:24:06.329Z"
   },
   {
    "duration": 23,
    "start_time": "2022-05-18T04:24:20.616Z"
   },
   {
    "duration": 3,
    "start_time": "2022-05-18T04:24:31.156Z"
   },
   {
    "duration": 22,
    "start_time": "2022-05-18T04:24:33.643Z"
   },
   {
    "duration": 3,
    "start_time": "2022-05-18T04:24:36.945Z"
   },
   {
    "duration": 346,
    "start_time": "2022-05-18T04:24:36.950Z"
   },
   {
    "duration": 28,
    "start_time": "2022-05-18T04:24:37.297Z"
   },
   {
    "duration": 23,
    "start_time": "2022-05-18T04:24:37.326Z"
   },
   {
    "duration": 43,
    "start_time": "2022-05-18T04:24:37.351Z"
   },
   {
    "duration": 14,
    "start_time": "2022-05-18T04:24:37.395Z"
   },
   {
    "duration": 15,
    "start_time": "2022-05-18T04:24:37.410Z"
   },
   {
    "duration": 13,
    "start_time": "2022-05-18T04:24:37.427Z"
   },
   {
    "duration": 10,
    "start_time": "2022-05-18T04:24:37.441Z"
   },
   {
    "duration": 4,
    "start_time": "2022-05-18T04:24:37.452Z"
   },
   {
    "duration": 38,
    "start_time": "2022-05-18T04:24:37.457Z"
   },
   {
    "duration": 10,
    "start_time": "2022-05-18T04:24:37.496Z"
   },
   {
    "duration": 8,
    "start_time": "2022-05-18T04:24:37.507Z"
   },
   {
    "duration": 40,
    "start_time": "2022-05-18T04:24:37.517Z"
   },
   {
    "duration": 75,
    "start_time": "2022-05-18T04:24:37.558Z"
   },
   {
    "duration": 6,
    "start_time": "2022-05-18T04:24:37.635Z"
   },
   {
    "duration": 30,
    "start_time": "2022-05-18T04:24:37.642Z"
   },
   {
    "duration": 44,
    "start_time": "2022-05-18T04:24:37.674Z"
   },
   {
    "duration": 7,
    "start_time": "2022-05-18T04:24:37.720Z"
   },
   {
    "duration": 35,
    "start_time": "2022-05-18T04:24:37.728Z"
   },
   {
    "duration": 46,
    "start_time": "2022-05-18T04:24:37.765Z"
   },
   {
    "duration": 7,
    "start_time": "2022-05-18T04:24:37.812Z"
   },
   {
    "duration": 42,
    "start_time": "2022-05-18T04:24:37.820Z"
   },
   {
    "duration": 39,
    "start_time": "2022-05-18T04:24:37.863Z"
   },
   {
    "duration": 25,
    "start_time": "2022-05-18T04:24:37.903Z"
   },
   {
    "duration": 3,
    "start_time": "2022-05-18T04:24:37.930Z"
   },
   {
    "duration": 53,
    "start_time": "2022-05-18T04:24:37.934Z"
   },
   {
    "duration": 3,
    "start_time": "2022-05-18T04:24:37.989Z"
   },
   {
    "duration": 9,
    "start_time": "2022-05-18T04:24:37.994Z"
   },
   {
    "duration": 9,
    "start_time": "2022-05-18T04:24:38.005Z"
   },
   {
    "duration": 15,
    "start_time": "2022-05-18T04:24:38.015Z"
   },
   {
    "duration": 258,
    "start_time": "2022-05-18T04:24:38.031Z"
   },
   {
    "duration": 121,
    "start_time": "2022-05-18T04:24:38.293Z"
   },
   {
    "duration": 123,
    "start_time": "2022-05-18T04:24:38.416Z"
   },
   {
    "duration": 115,
    "start_time": "2022-05-18T04:24:38.540Z"
   },
   {
    "duration": 25,
    "start_time": "2022-05-18T04:24:38.657Z"
   },
   {
    "duration": 31,
    "start_time": "2022-05-18T04:24:38.683Z"
   },
   {
    "duration": 120,
    "start_time": "2022-05-18T04:24:38.716Z"
   },
   {
    "duration": 321,
    "start_time": "2022-05-18T04:24:38.838Z"
   },
   {
    "duration": 3,
    "start_time": "2022-05-18T04:24:39.160Z"
   },
   {
    "duration": 28,
    "start_time": "2022-05-18T04:24:39.167Z"
   },
   {
    "duration": 25,
    "start_time": "2022-05-18T04:24:39.196Z"
   },
   {
    "duration": 6,
    "start_time": "2022-05-18T04:24:39.222Z"
   },
   {
    "duration": 5,
    "start_time": "2022-05-18T04:24:39.229Z"
   },
   {
    "duration": 22,
    "start_time": "2022-05-18T04:24:39.235Z"
   },
   {
    "duration": 88,
    "start_time": "2022-05-18T04:24:39.258Z"
   },
   {
    "duration": 13,
    "start_time": "2022-05-18T04:24:39.349Z"
   },
   {
    "duration": 7,
    "start_time": "2022-05-18T04:24:39.364Z"
   },
   {
    "duration": 22,
    "start_time": "2022-05-18T04:24:39.373Z"
   },
   {
    "duration": 108,
    "start_time": "2022-05-18T04:24:39.397Z"
   },
   {
    "duration": 12,
    "start_time": "2022-05-18T04:24:39.506Z"
   },
   {
    "duration": 17,
    "start_time": "2022-05-18T04:24:39.519Z"
   },
   {
    "duration": 2,
    "start_time": "2022-05-18T04:24:39.538Z"
   },
   {
    "duration": 24,
    "start_time": "2022-05-18T04:24:39.541Z"
   },
   {
    "duration": 33,
    "start_time": "2022-05-18T04:24:39.567Z"
   },
   {
    "duration": 14,
    "start_time": "2022-05-18T04:24:39.601Z"
   },
   {
    "duration": 10,
    "start_time": "2022-05-18T04:24:39.616Z"
   },
   {
    "duration": 6,
    "start_time": "2022-05-18T04:25:48.095Z"
   },
   {
    "duration": 13,
    "start_time": "2022-05-18T04:26:41.852Z"
   },
   {
    "duration": 5,
    "start_time": "2022-05-18T04:26:57.963Z"
   },
   {
    "duration": 2,
    "start_time": "2022-05-18T04:30:51.420Z"
   },
   {
    "duration": 273,
    "start_time": "2022-05-18T04:32:11.642Z"
   },
   {
    "duration": 263,
    "start_time": "2022-05-18T04:33:48.435Z"
   },
   {
    "duration": 271,
    "start_time": "2022-05-18T04:35:18.392Z"
   },
   {
    "duration": 3,
    "start_time": "2022-05-18T04:36:24.436Z"
   },
   {
    "duration": 3,
    "start_time": "2022-05-18T04:36:29.646Z"
   },
   {
    "duration": 2,
    "start_time": "2022-05-18T04:36:38.796Z"
   },
   {
    "duration": 3,
    "start_time": "2022-05-18T04:36:42.206Z"
   },
   {
    "duration": 2,
    "start_time": "2022-05-18T04:36:45.276Z"
   },
   {
    "duration": 29,
    "start_time": "2022-05-18T04:36:52.815Z"
   },
   {
    "duration": 3,
    "start_time": "2022-05-18T04:37:01.006Z"
   },
   {
    "duration": 9,
    "start_time": "2022-05-18T05:01:16.346Z"
   },
   {
    "duration": 551,
    "start_time": "2022-05-18T05:01:27.639Z"
   },
   {
    "duration": 8,
    "start_time": "2022-05-18T05:01:40.265Z"
   },
   {
    "duration": 101,
    "start_time": "2022-05-18T05:03:33.460Z"
   },
   {
    "duration": 103,
    "start_time": "2022-05-18T06:00:52.696Z"
   },
   {
    "duration": 85,
    "start_time": "2022-05-18T06:01:26.159Z"
   },
   {
    "duration": 93,
    "start_time": "2022-05-18T06:01:40.324Z"
   },
   {
    "duration": 115,
    "start_time": "2022-05-18T06:02:12.458Z"
   },
   {
    "duration": 108,
    "start_time": "2022-05-18T06:02:27.648Z"
   },
   {
    "duration": 9,
    "start_time": "2022-05-18T06:03:02.610Z"
   },
   {
    "duration": 9,
    "start_time": "2022-05-18T06:03:12.825Z"
   },
   {
    "duration": 8,
    "start_time": "2022-05-18T06:03:35.926Z"
   },
   {
    "duration": 9,
    "start_time": "2022-05-18T06:03:47.557Z"
   },
   {
    "duration": 74,
    "start_time": "2022-05-18T06:05:02.679Z"
   },
   {
    "duration": 29,
    "start_time": "2022-05-18T06:10:26.326Z"
   },
   {
    "duration": 33,
    "start_time": "2022-05-18T06:19:52.644Z"
   },
   {
    "duration": 5,
    "start_time": "2022-05-18T06:20:33.757Z"
   },
   {
    "duration": 25,
    "start_time": "2022-05-18T06:26:29.860Z"
   },
   {
    "duration": 24,
    "start_time": "2022-05-18T06:26:42.056Z"
   },
   {
    "duration": 40,
    "start_time": "2022-05-18T06:27:00.326Z"
   },
   {
    "duration": 32,
    "start_time": "2022-05-18T06:27:19.925Z"
   },
   {
    "duration": 28,
    "start_time": "2022-05-18T06:27:33.225Z"
   },
   {
    "duration": 12,
    "start_time": "2022-05-18T06:28:08.498Z"
   },
   {
    "duration": 171,
    "start_time": "2022-05-18T06:29:10.605Z"
   },
   {
    "duration": 37,
    "start_time": "2022-05-18T06:29:42.775Z"
   },
   {
    "duration": 58,
    "start_time": "2022-05-18T06:30:02.349Z"
   },
   {
    "duration": 7,
    "start_time": "2022-05-18T06:30:36.108Z"
   },
   {
    "duration": 2,
    "start_time": "2022-05-18T06:31:02.404Z"
   },
   {
    "duration": 2,
    "start_time": "2022-05-18T06:31:07.644Z"
   },
   {
    "duration": 11,
    "start_time": "2022-05-18T06:31:34.466Z"
   },
   {
    "duration": 15,
    "start_time": "2022-05-18T06:32:59.818Z"
   },
   {
    "duration": 25,
    "start_time": "2022-05-18T06:33:20.214Z"
   },
   {
    "duration": 18,
    "start_time": "2022-05-18T06:33:23.641Z"
   },
   {
    "duration": 32,
    "start_time": "2022-05-18T08:32:20.176Z"
   },
   {
    "duration": 24,
    "start_time": "2022-05-18T08:32:29.678Z"
   },
   {
    "duration": 8,
    "start_time": "2022-05-18T08:33:11.512Z"
   },
   {
    "duration": 15,
    "start_time": "2022-05-18T08:33:24.819Z"
   },
   {
    "duration": 42,
    "start_time": "2022-05-18T08:33:44.096Z"
   },
   {
    "duration": 25,
    "start_time": "2022-05-18T08:33:46.217Z"
   },
   {
    "duration": 7,
    "start_time": "2022-05-18T08:33:51.021Z"
   },
   {
    "duration": 1232,
    "start_time": "2022-05-18T08:34:15.680Z"
   },
   {
    "duration": 472,
    "start_time": "2022-05-18T08:34:16.914Z"
   },
   {
    "duration": 65,
    "start_time": "2022-05-18T08:34:17.392Z"
   },
   {
    "duration": 66,
    "start_time": "2022-05-18T08:34:17.458Z"
   },
   {
    "duration": 36,
    "start_time": "2022-05-18T08:34:17.525Z"
   },
   {
    "duration": 43,
    "start_time": "2022-05-18T08:34:17.563Z"
   },
   {
    "duration": 21,
    "start_time": "2022-05-18T08:34:17.612Z"
   },
   {
    "duration": 20,
    "start_time": "2022-05-18T08:34:17.635Z"
   },
   {
    "duration": 16,
    "start_time": "2022-05-18T08:34:17.658Z"
   },
   {
    "duration": 7,
    "start_time": "2022-05-18T08:34:17.694Z"
   },
   {
    "duration": 14,
    "start_time": "2022-05-18T08:34:17.707Z"
   },
   {
    "duration": 12,
    "start_time": "2022-05-18T08:34:17.723Z"
   },
   {
    "duration": 9,
    "start_time": "2022-05-18T08:34:17.737Z"
   },
   {
    "duration": 75,
    "start_time": "2022-05-18T08:34:17.748Z"
   },
   {
    "duration": 68,
    "start_time": "2022-05-18T08:34:17.827Z"
   },
   {
    "duration": 12,
    "start_time": "2022-05-18T08:34:17.897Z"
   },
   {
    "duration": 32,
    "start_time": "2022-05-18T08:34:17.911Z"
   },
   {
    "duration": 69,
    "start_time": "2022-05-18T08:34:17.944Z"
   },
   {
    "duration": 9,
    "start_time": "2022-05-18T08:34:18.016Z"
   },
   {
    "duration": 44,
    "start_time": "2022-05-18T08:34:18.026Z"
   },
   {
    "duration": 60,
    "start_time": "2022-05-18T08:34:18.072Z"
   },
   {
    "duration": 8,
    "start_time": "2022-05-18T08:34:18.134Z"
   },
   {
    "duration": 73,
    "start_time": "2022-05-18T08:34:18.144Z"
   },
   {
    "duration": 127,
    "start_time": "2022-05-18T08:34:18.219Z"
   },
   {
    "duration": 0,
    "start_time": "2022-05-18T08:34:18.349Z"
   },
   {
    "duration": 0,
    "start_time": "2022-05-18T08:34:18.351Z"
   },
   {
    "duration": 0,
    "start_time": "2022-05-18T08:34:18.352Z"
   },
   {
    "duration": 0,
    "start_time": "2022-05-18T08:34:18.353Z"
   },
   {
    "duration": 0,
    "start_time": "2022-05-18T08:34:18.354Z"
   },
   {
    "duration": 0,
    "start_time": "2022-05-18T08:34:18.355Z"
   },
   {
    "duration": 0,
    "start_time": "2022-05-18T08:34:18.357Z"
   },
   {
    "duration": 0,
    "start_time": "2022-05-18T08:34:18.357Z"
   },
   {
    "duration": 0,
    "start_time": "2022-05-18T08:34:18.359Z"
   },
   {
    "duration": 0,
    "start_time": "2022-05-18T08:34:18.360Z"
   },
   {
    "duration": 0,
    "start_time": "2022-05-18T08:34:18.361Z"
   },
   {
    "duration": 0,
    "start_time": "2022-05-18T08:34:18.362Z"
   },
   {
    "duration": 0,
    "start_time": "2022-05-18T08:34:18.364Z"
   },
   {
    "duration": 0,
    "start_time": "2022-05-18T08:34:18.365Z"
   },
   {
    "duration": 0,
    "start_time": "2022-05-18T08:34:18.366Z"
   },
   {
    "duration": 0,
    "start_time": "2022-05-18T08:34:18.367Z"
   },
   {
    "duration": 0,
    "start_time": "2022-05-18T08:34:18.368Z"
   },
   {
    "duration": 0,
    "start_time": "2022-05-18T08:34:18.394Z"
   },
   {
    "duration": 0,
    "start_time": "2022-05-18T08:34:18.397Z"
   },
   {
    "duration": 0,
    "start_time": "2022-05-18T08:34:18.398Z"
   },
   {
    "duration": 0,
    "start_time": "2022-05-18T08:34:18.398Z"
   },
   {
    "duration": 0,
    "start_time": "2022-05-18T08:34:18.402Z"
   },
   {
    "duration": 0,
    "start_time": "2022-05-18T08:34:18.406Z"
   },
   {
    "duration": 0,
    "start_time": "2022-05-18T08:34:18.407Z"
   },
   {
    "duration": 0,
    "start_time": "2022-05-18T08:34:18.412Z"
   },
   {
    "duration": 0,
    "start_time": "2022-05-18T08:34:18.413Z"
   },
   {
    "duration": 0,
    "start_time": "2022-05-18T08:34:18.414Z"
   },
   {
    "duration": 0,
    "start_time": "2022-05-18T08:34:18.415Z"
   },
   {
    "duration": 0,
    "start_time": "2022-05-18T08:34:18.417Z"
   },
   {
    "duration": 0,
    "start_time": "2022-05-18T08:34:18.418Z"
   },
   {
    "duration": 0,
    "start_time": "2022-05-18T08:34:18.419Z"
   },
   {
    "duration": 0,
    "start_time": "2022-05-18T08:34:18.420Z"
   },
   {
    "duration": 0,
    "start_time": "2022-05-18T08:34:18.421Z"
   },
   {
    "duration": 0,
    "start_time": "2022-05-18T08:34:18.422Z"
   },
   {
    "duration": 0,
    "start_time": "2022-05-18T08:34:18.423Z"
   },
   {
    "duration": 0,
    "start_time": "2022-05-18T08:34:18.424Z"
   },
   {
    "duration": 0,
    "start_time": "2022-05-18T08:34:18.425Z"
   },
   {
    "duration": 0,
    "start_time": "2022-05-18T08:34:18.426Z"
   },
   {
    "duration": 0,
    "start_time": "2022-05-18T08:34:18.427Z"
   },
   {
    "duration": 0,
    "start_time": "2022-05-18T08:34:18.428Z"
   },
   {
    "duration": 0,
    "start_time": "2022-05-18T08:34:18.429Z"
   },
   {
    "duration": 0,
    "start_time": "2022-05-18T08:34:18.430Z"
   },
   {
    "duration": 0,
    "start_time": "2022-05-18T08:34:18.431Z"
   },
   {
    "duration": 0,
    "start_time": "2022-05-18T08:34:18.432Z"
   },
   {
    "duration": 0,
    "start_time": "2022-05-18T08:34:18.433Z"
   },
   {
    "duration": 0,
    "start_time": "2022-05-18T08:34:18.434Z"
   },
   {
    "duration": 0,
    "start_time": "2022-05-18T08:34:18.435Z"
   },
   {
    "duration": 0,
    "start_time": "2022-05-18T08:34:18.437Z"
   },
   {
    "duration": 0,
    "start_time": "2022-05-18T08:34:18.438Z"
   },
   {
    "duration": 0,
    "start_time": "2022-05-18T08:34:18.439Z"
   },
   {
    "duration": 0,
    "start_time": "2022-05-18T08:34:18.494Z"
   },
   {
    "duration": 10,
    "start_time": "2022-05-18T08:36:58.811Z"
   },
   {
    "duration": 12,
    "start_time": "2022-05-18T08:37:10.165Z"
   },
   {
    "duration": 11,
    "start_time": "2022-05-18T08:37:18.570Z"
   },
   {
    "duration": 56,
    "start_time": "2022-05-18T08:37:42.372Z"
   },
   {
    "duration": 94,
    "start_time": "2022-05-18T08:38:18.540Z"
   },
   {
    "duration": 563,
    "start_time": "2022-05-18T08:38:43.892Z"
   },
   {
    "duration": 1095,
    "start_time": "2022-05-18T08:38:53.684Z"
   },
   {
    "duration": 441,
    "start_time": "2022-05-18T08:38:54.781Z"
   },
   {
    "duration": 59,
    "start_time": "2022-05-18T08:38:55.224Z"
   },
   {
    "duration": 50,
    "start_time": "2022-05-18T08:38:55.285Z"
   },
   {
    "duration": 36,
    "start_time": "2022-05-18T08:38:55.336Z"
   },
   {
    "duration": 38,
    "start_time": "2022-05-18T08:38:55.374Z"
   },
   {
    "duration": 16,
    "start_time": "2022-05-18T08:38:55.414Z"
   },
   {
    "duration": 18,
    "start_time": "2022-05-18T08:38:55.432Z"
   },
   {
    "duration": 47,
    "start_time": "2022-05-18T08:38:55.452Z"
   },
   {
    "duration": 5,
    "start_time": "2022-05-18T08:38:55.502Z"
   },
   {
    "duration": 11,
    "start_time": "2022-05-18T08:38:55.509Z"
   },
   {
    "duration": 14,
    "start_time": "2022-05-18T08:38:55.522Z"
   },
   {
    "duration": 11,
    "start_time": "2022-05-18T08:38:55.538Z"
   },
   {
    "duration": 66,
    "start_time": "2022-05-18T08:38:55.550Z"
   },
   {
    "duration": 66,
    "start_time": "2022-05-18T08:38:55.617Z"
   },
   {
    "duration": 17,
    "start_time": "2022-05-18T08:38:55.694Z"
   },
   {
    "duration": 32,
    "start_time": "2022-05-18T08:38:55.713Z"
   },
   {
    "duration": 63,
    "start_time": "2022-05-18T08:38:55.747Z"
   },
   {
    "duration": 15,
    "start_time": "2022-05-18T08:38:55.812Z"
   },
   {
    "duration": 39,
    "start_time": "2022-05-18T08:38:55.829Z"
   },
   {
    "duration": 61,
    "start_time": "2022-05-18T08:38:55.870Z"
   },
   {
    "duration": 8,
    "start_time": "2022-05-18T08:38:55.933Z"
   },
   {
    "duration": 69,
    "start_time": "2022-05-18T08:38:55.943Z"
   },
   {
    "duration": 100,
    "start_time": "2022-05-18T08:38:56.013Z"
   },
   {
    "duration": 402,
    "start_time": "2022-05-18T08:38:56.114Z"
   },
   {
    "duration": 140,
    "start_time": "2022-05-18T08:38:56.518Z"
   },
   {
    "duration": 0,
    "start_time": "2022-05-18T08:38:56.742Z"
   },
   {
    "duration": 0,
    "start_time": "2022-05-18T08:38:56.744Z"
   },
   {
    "duration": 0,
    "start_time": "2022-05-18T08:38:56.745Z"
   },
   {
    "duration": 0,
    "start_time": "2022-05-18T08:38:56.746Z"
   },
   {
    "duration": 0,
    "start_time": "2022-05-18T08:38:56.748Z"
   },
   {
    "duration": 0,
    "start_time": "2022-05-18T08:38:56.749Z"
   },
   {
    "duration": 0,
    "start_time": "2022-05-18T08:38:56.751Z"
   },
   {
    "duration": 0,
    "start_time": "2022-05-18T08:38:56.752Z"
   },
   {
    "duration": 0,
    "start_time": "2022-05-18T08:38:56.754Z"
   },
   {
    "duration": 0,
    "start_time": "2022-05-18T08:38:56.755Z"
   },
   {
    "duration": 0,
    "start_time": "2022-05-18T08:38:56.757Z"
   },
   {
    "duration": 0,
    "start_time": "2022-05-18T08:38:56.759Z"
   },
   {
    "duration": 0,
    "start_time": "2022-05-18T08:38:56.760Z"
   },
   {
    "duration": 0,
    "start_time": "2022-05-18T08:38:56.762Z"
   },
   {
    "duration": 0,
    "start_time": "2022-05-18T08:38:56.799Z"
   },
   {
    "duration": 0,
    "start_time": "2022-05-18T08:38:56.801Z"
   },
   {
    "duration": 0,
    "start_time": "2022-05-18T08:38:56.802Z"
   },
   {
    "duration": 0,
    "start_time": "2022-05-18T08:38:56.802Z"
   },
   {
    "duration": 0,
    "start_time": "2022-05-18T08:38:56.803Z"
   },
   {
    "duration": 0,
    "start_time": "2022-05-18T08:38:56.804Z"
   },
   {
    "duration": 0,
    "start_time": "2022-05-18T08:38:56.805Z"
   },
   {
    "duration": 0,
    "start_time": "2022-05-18T08:38:56.806Z"
   },
   {
    "duration": 0,
    "start_time": "2022-05-18T08:38:56.807Z"
   },
   {
    "duration": 0,
    "start_time": "2022-05-18T08:38:56.810Z"
   },
   {
    "duration": 0,
    "start_time": "2022-05-18T08:38:56.811Z"
   },
   {
    "duration": 0,
    "start_time": "2022-05-18T08:38:56.812Z"
   },
   {
    "duration": 0,
    "start_time": "2022-05-18T08:38:56.813Z"
   },
   {
    "duration": 0,
    "start_time": "2022-05-18T08:38:56.814Z"
   },
   {
    "duration": 0,
    "start_time": "2022-05-18T08:38:56.815Z"
   },
   {
    "duration": 0,
    "start_time": "2022-05-18T08:38:56.817Z"
   },
   {
    "duration": 0,
    "start_time": "2022-05-18T08:38:56.818Z"
   },
   {
    "duration": 0,
    "start_time": "2022-05-18T08:38:56.820Z"
   },
   {
    "duration": 0,
    "start_time": "2022-05-18T08:38:56.821Z"
   },
   {
    "duration": 0,
    "start_time": "2022-05-18T08:38:56.822Z"
   },
   {
    "duration": 0,
    "start_time": "2022-05-18T08:38:56.824Z"
   },
   {
    "duration": 0,
    "start_time": "2022-05-18T08:38:56.826Z"
   },
   {
    "duration": 0,
    "start_time": "2022-05-18T08:38:56.827Z"
   },
   {
    "duration": 0,
    "start_time": "2022-05-18T08:38:56.828Z"
   },
   {
    "duration": 0,
    "start_time": "2022-05-18T08:38:56.830Z"
   },
   {
    "duration": 0,
    "start_time": "2022-05-18T08:38:56.831Z"
   },
   {
    "duration": 0,
    "start_time": "2022-05-18T08:38:56.833Z"
   },
   {
    "duration": 0,
    "start_time": "2022-05-18T08:38:56.835Z"
   },
   {
    "duration": 0,
    "start_time": "2022-05-18T08:38:56.836Z"
   },
   {
    "duration": 0,
    "start_time": "2022-05-18T08:38:56.898Z"
   },
   {
    "duration": 0,
    "start_time": "2022-05-18T08:38:56.899Z"
   },
   {
    "duration": 0,
    "start_time": "2022-05-18T08:38:56.900Z"
   },
   {
    "duration": 5,
    "start_time": "2022-05-18T08:39:46.690Z"
   },
   {
    "duration": 123,
    "start_time": "2022-05-18T08:39:48.747Z"
   },
   {
    "duration": 1090,
    "start_time": "2022-05-18T08:39:58.092Z"
   },
   {
    "duration": 407,
    "start_time": "2022-05-18T08:39:59.185Z"
   },
   {
    "duration": 63,
    "start_time": "2022-05-18T08:39:59.594Z"
   },
   {
    "duration": 48,
    "start_time": "2022-05-18T08:39:59.659Z"
   },
   {
    "duration": 30,
    "start_time": "2022-05-18T08:39:59.709Z"
   },
   {
    "duration": 16,
    "start_time": "2022-05-18T08:39:59.741Z"
   },
   {
    "duration": 45,
    "start_time": "2022-05-18T08:39:59.759Z"
   },
   {
    "duration": 19,
    "start_time": "2022-05-18T08:39:59.806Z"
   },
   {
    "duration": 20,
    "start_time": "2022-05-18T08:39:59.827Z"
   },
   {
    "duration": 4,
    "start_time": "2022-05-18T08:39:59.849Z"
   },
   {
    "duration": 6,
    "start_time": "2022-05-18T08:39:59.854Z"
   },
   {
    "duration": 11,
    "start_time": "2022-05-18T08:39:59.862Z"
   },
   {
    "duration": 31,
    "start_time": "2022-05-18T08:39:59.874Z"
   },
   {
    "duration": 46,
    "start_time": "2022-05-18T08:39:59.906Z"
   },
   {
    "duration": 72,
    "start_time": "2022-05-18T08:39:59.954Z"
   },
   {
    "duration": 7,
    "start_time": "2022-05-18T08:40:00.028Z"
   },
   {
    "duration": 39,
    "start_time": "2022-05-18T08:40:00.037Z"
   },
   {
    "duration": 57,
    "start_time": "2022-05-18T08:40:00.078Z"
   },
   {
    "duration": 11,
    "start_time": "2022-05-18T08:40:00.137Z"
   },
   {
    "duration": 59,
    "start_time": "2022-05-18T08:40:00.150Z"
   },
   {
    "duration": 41,
    "start_time": "2022-05-18T08:40:00.211Z"
   },
   {
    "duration": 8,
    "start_time": "2022-05-18T08:40:00.254Z"
   },
   {
    "duration": 77,
    "start_time": "2022-05-18T08:40:00.263Z"
   },
   {
    "duration": 99,
    "start_time": "2022-05-18T08:40:00.341Z"
   },
   {
    "duration": 361,
    "start_time": "2022-05-18T08:40:00.442Z"
   },
   {
    "duration": 6,
    "start_time": "2022-05-18T08:40:00.804Z"
   },
   {
    "duration": 205,
    "start_time": "2022-05-18T08:40:00.813Z"
   },
   {
    "duration": 105,
    "start_time": "2022-05-18T08:40:01.021Z"
   },
   {
    "duration": 0,
    "start_time": "2022-05-18T08:40:01.127Z"
   },
   {
    "duration": 0,
    "start_time": "2022-05-18T08:40:01.129Z"
   },
   {
    "duration": 0,
    "start_time": "2022-05-18T08:40:01.130Z"
   },
   {
    "duration": 0,
    "start_time": "2022-05-18T08:40:01.131Z"
   },
   {
    "duration": 0,
    "start_time": "2022-05-18T08:40:01.132Z"
   },
   {
    "duration": 0,
    "start_time": "2022-05-18T08:40:01.133Z"
   },
   {
    "duration": 0,
    "start_time": "2022-05-18T08:40:01.134Z"
   },
   {
    "duration": 0,
    "start_time": "2022-05-18T08:40:01.136Z"
   },
   {
    "duration": 0,
    "start_time": "2022-05-18T08:40:01.137Z"
   },
   {
    "duration": 0,
    "start_time": "2022-05-18T08:40:01.137Z"
   },
   {
    "duration": 0,
    "start_time": "2022-05-18T08:40:01.138Z"
   },
   {
    "duration": 0,
    "start_time": "2022-05-18T08:40:01.139Z"
   },
   {
    "duration": 0,
    "start_time": "2022-05-18T08:40:01.140Z"
   },
   {
    "duration": 0,
    "start_time": "2022-05-18T08:40:01.141Z"
   },
   {
    "duration": 0,
    "start_time": "2022-05-18T08:40:01.142Z"
   },
   {
    "duration": 0,
    "start_time": "2022-05-18T08:40:01.143Z"
   },
   {
    "duration": 0,
    "start_time": "2022-05-18T08:40:01.144Z"
   },
   {
    "duration": 1,
    "start_time": "2022-05-18T08:40:01.145Z"
   },
   {
    "duration": 0,
    "start_time": "2022-05-18T08:40:01.147Z"
   },
   {
    "duration": 0,
    "start_time": "2022-05-18T08:40:01.147Z"
   },
   {
    "duration": 0,
    "start_time": "2022-05-18T08:40:01.148Z"
   },
   {
    "duration": 0,
    "start_time": "2022-05-18T08:40:01.149Z"
   },
   {
    "duration": 0,
    "start_time": "2022-05-18T08:40:01.150Z"
   },
   {
    "duration": 0,
    "start_time": "2022-05-18T08:40:01.151Z"
   },
   {
    "duration": 0,
    "start_time": "2022-05-18T08:40:01.197Z"
   },
   {
    "duration": 0,
    "start_time": "2022-05-18T08:40:01.198Z"
   },
   {
    "duration": 0,
    "start_time": "2022-05-18T08:40:01.199Z"
   },
   {
    "duration": 0,
    "start_time": "2022-05-18T08:40:01.204Z"
   },
   {
    "duration": 0,
    "start_time": "2022-05-18T08:40:01.205Z"
   },
   {
    "duration": 0,
    "start_time": "2022-05-18T08:40:01.206Z"
   },
   {
    "duration": 0,
    "start_time": "2022-05-18T08:40:01.207Z"
   },
   {
    "duration": 0,
    "start_time": "2022-05-18T08:40:01.208Z"
   },
   {
    "duration": 0,
    "start_time": "2022-05-18T08:40:01.209Z"
   },
   {
    "duration": 0,
    "start_time": "2022-05-18T08:40:01.210Z"
   },
   {
    "duration": 0,
    "start_time": "2022-05-18T08:40:01.211Z"
   },
   {
    "duration": 0,
    "start_time": "2022-05-18T08:40:01.213Z"
   },
   {
    "duration": 1,
    "start_time": "2022-05-18T08:40:01.213Z"
   },
   {
    "duration": 0,
    "start_time": "2022-05-18T08:40:01.215Z"
   },
   {
    "duration": 0,
    "start_time": "2022-05-18T08:40:01.216Z"
   },
   {
    "duration": 0,
    "start_time": "2022-05-18T08:40:01.217Z"
   },
   {
    "duration": 0,
    "start_time": "2022-05-18T08:40:01.218Z"
   },
   {
    "duration": 0,
    "start_time": "2022-05-18T08:40:01.219Z"
   },
   {
    "duration": 0,
    "start_time": "2022-05-18T08:40:01.220Z"
   },
   {
    "duration": 0,
    "start_time": "2022-05-18T08:40:01.221Z"
   },
   {
    "duration": 0,
    "start_time": "2022-05-18T08:40:01.222Z"
   },
   {
    "duration": 5,
    "start_time": "2022-05-18T08:40:50.334Z"
   },
   {
    "duration": 111,
    "start_time": "2022-05-18T08:40:52.354Z"
   },
   {
    "duration": 1006,
    "start_time": "2022-05-18T08:40:57.343Z"
   },
   {
    "duration": 360,
    "start_time": "2022-05-18T08:40:58.351Z"
   },
   {
    "duration": 40,
    "start_time": "2022-05-18T08:40:58.713Z"
   },
   {
    "duration": 33,
    "start_time": "2022-05-18T08:40:58.754Z"
   },
   {
    "duration": 33,
    "start_time": "2022-05-18T08:40:58.796Z"
   },
   {
    "duration": 16,
    "start_time": "2022-05-18T08:40:58.830Z"
   },
   {
    "duration": 16,
    "start_time": "2022-05-18T08:40:58.848Z"
   },
   {
    "duration": 56,
    "start_time": "2022-05-18T08:40:58.876Z"
   },
   {
    "duration": 16,
    "start_time": "2022-05-18T08:40:58.934Z"
   },
   {
    "duration": 4,
    "start_time": "2022-05-18T08:40:58.954Z"
   },
   {
    "duration": 12,
    "start_time": "2022-05-18T08:40:58.960Z"
   },
   {
    "duration": 15,
    "start_time": "2022-05-18T08:40:58.974Z"
   },
   {
    "duration": 18,
    "start_time": "2022-05-18T08:40:58.991Z"
   },
   {
    "duration": 51,
    "start_time": "2022-05-18T08:40:59.011Z"
   },
   {
    "duration": 76,
    "start_time": "2022-05-18T08:40:59.064Z"
   },
   {
    "duration": 10,
    "start_time": "2022-05-18T08:40:59.142Z"
   },
   {
    "duration": 46,
    "start_time": "2022-05-18T08:40:59.153Z"
   },
   {
    "duration": 39,
    "start_time": "2022-05-18T08:40:59.200Z"
   },
   {
    "duration": 7,
    "start_time": "2022-05-18T08:40:59.240Z"
   },
   {
    "duration": 32,
    "start_time": "2022-05-18T08:40:59.248Z"
   },
   {
    "duration": 44,
    "start_time": "2022-05-18T08:40:59.281Z"
   },
   {
    "duration": 7,
    "start_time": "2022-05-18T08:40:59.326Z"
   },
   {
    "duration": 44,
    "start_time": "2022-05-18T08:40:59.334Z"
   },
   {
    "duration": 91,
    "start_time": "2022-05-18T08:40:59.380Z"
   },
   {
    "duration": 312,
    "start_time": "2022-05-18T08:40:59.472Z"
   },
   {
    "duration": 3,
    "start_time": "2022-05-18T08:40:59.785Z"
   },
   {
    "duration": 169,
    "start_time": "2022-05-18T08:40:59.800Z"
   },
   {
    "duration": 4,
    "start_time": "2022-05-18T08:40:59.972Z"
   },
   {
    "duration": 101,
    "start_time": "2022-05-18T08:40:59.977Z"
   },
   {
    "duration": 29,
    "start_time": "2022-05-18T08:41:00.080Z"
   },
   {
    "duration": 7,
    "start_time": "2022-05-18T08:41:00.111Z"
   },
   {
    "duration": 290,
    "start_time": "2022-05-18T08:41:00.120Z"
   },
   {
    "duration": 78,
    "start_time": "2022-05-18T08:41:00.412Z"
   },
   {
    "duration": 97,
    "start_time": "2022-05-18T08:41:00.492Z"
   },
   {
    "duration": 18,
    "start_time": "2022-05-18T08:41:00.590Z"
   },
   {
    "duration": 12,
    "start_time": "2022-05-18T08:41:00.611Z"
   },
   {
    "duration": 310,
    "start_time": "2022-05-18T08:41:00.625Z"
   },
   {
    "duration": 105,
    "start_time": "2022-05-18T08:41:00.937Z"
   },
   {
    "duration": 123,
    "start_time": "2022-05-18T08:41:01.044Z"
   },
   {
    "duration": 8,
    "start_time": "2022-05-18T08:41:01.169Z"
   },
   {
    "duration": 31,
    "start_time": "2022-05-18T08:41:01.178Z"
   },
   {
    "duration": 10,
    "start_time": "2022-05-18T08:41:01.211Z"
   },
   {
    "duration": 21,
    "start_time": "2022-05-18T08:41:01.223Z"
   },
   {
    "duration": 34,
    "start_time": "2022-05-18T08:41:01.245Z"
   },
   {
    "duration": 18,
    "start_time": "2022-05-18T08:41:01.281Z"
   },
   {
    "duration": 24,
    "start_time": "2022-05-18T08:41:01.300Z"
   },
   {
    "duration": 14,
    "start_time": "2022-05-18T08:41:01.325Z"
   },
   {
    "duration": 27,
    "start_time": "2022-05-18T08:41:01.341Z"
   },
   {
    "duration": 20,
    "start_time": "2022-05-18T08:41:01.369Z"
   },
   {
    "duration": 26,
    "start_time": "2022-05-18T08:41:01.390Z"
   },
   {
    "duration": 40,
    "start_time": "2022-05-18T08:41:01.418Z"
   },
   {
    "duration": 2,
    "start_time": "2022-05-18T08:41:01.460Z"
   },
   {
    "duration": 44,
    "start_time": "2022-05-18T08:41:01.463Z"
   },
   {
    "duration": 449,
    "start_time": "2022-05-18T08:41:01.508Z"
   },
   {
    "duration": 4,
    "start_time": "2022-05-18T08:41:01.959Z"
   },
   {
    "duration": 34,
    "start_time": "2022-05-18T08:41:01.965Z"
   },
   {
    "duration": 31,
    "start_time": "2022-05-18T08:41:02.004Z"
   },
   {
    "duration": 42,
    "start_time": "2022-05-18T08:41:02.037Z"
   },
   {
    "duration": 6,
    "start_time": "2022-05-18T08:41:02.081Z"
   },
   {
    "duration": 10,
    "start_time": "2022-05-18T08:41:02.088Z"
   },
   {
    "duration": 35,
    "start_time": "2022-05-18T08:41:02.099Z"
   },
   {
    "duration": 70,
    "start_time": "2022-05-18T08:41:02.135Z"
   },
   {
    "duration": 719,
    "start_time": "2022-05-18T08:41:02.206Z"
   },
   {
    "duration": 0,
    "start_time": "2022-05-18T08:41:02.927Z"
   },
   {
    "duration": 0,
    "start_time": "2022-05-18T08:41:02.928Z"
   },
   {
    "duration": 0,
    "start_time": "2022-05-18T08:41:02.929Z"
   },
   {
    "duration": 0,
    "start_time": "2022-05-18T08:41:02.930Z"
   },
   {
    "duration": 0,
    "start_time": "2022-05-18T08:41:02.931Z"
   },
   {
    "duration": 0,
    "start_time": "2022-05-18T08:41:02.932Z"
   },
   {
    "duration": 0,
    "start_time": "2022-05-18T08:41:02.933Z"
   },
   {
    "duration": 0,
    "start_time": "2022-05-18T08:41:02.934Z"
   },
   {
    "duration": 0,
    "start_time": "2022-05-18T08:41:02.935Z"
   },
   {
    "duration": 0,
    "start_time": "2022-05-18T08:41:02.936Z"
   },
   {
    "duration": 0,
    "start_time": "2022-05-18T08:41:02.937Z"
   },
   {
    "duration": 8,
    "start_time": "2022-05-18T08:45:27.325Z"
   },
   {
    "duration": 5,
    "start_time": "2022-05-18T08:45:42.807Z"
   },
   {
    "duration": 13,
    "start_time": "2022-05-18T08:46:12.966Z"
   },
   {
    "duration": 11,
    "start_time": "2022-05-18T08:46:25.709Z"
   },
   {
    "duration": 21,
    "start_time": "2022-05-18T08:46:29.187Z"
   },
   {
    "duration": 3,
    "start_time": "2022-05-18T08:46:34.206Z"
   },
   {
    "duration": 28,
    "start_time": "2022-05-18T08:46:38.947Z"
   },
   {
    "duration": 26,
    "start_time": "2022-05-18T08:46:42.527Z"
   },
   {
    "duration": 20,
    "start_time": "2022-05-18T08:46:45.911Z"
   },
   {
    "duration": 12,
    "start_time": "2022-05-18T08:46:55.045Z"
   },
   {
    "duration": 1550,
    "start_time": "2022-05-19T08:54:57.760Z"
   },
   {
    "duration": 743,
    "start_time": "2022-05-19T08:54:59.313Z"
   },
   {
    "duration": 51,
    "start_time": "2022-05-19T08:55:00.058Z"
   },
   {
    "duration": 61,
    "start_time": "2022-05-19T08:55:00.112Z"
   },
   {
    "duration": 36,
    "start_time": "2022-05-19T08:55:00.176Z"
   },
   {
    "duration": 50,
    "start_time": "2022-05-19T08:55:00.215Z"
   },
   {
    "duration": 16,
    "start_time": "2022-05-19T08:55:00.267Z"
   },
   {
    "duration": 29,
    "start_time": "2022-05-19T08:55:00.285Z"
   },
   {
    "duration": 21,
    "start_time": "2022-05-19T08:55:00.315Z"
   },
   {
    "duration": 4,
    "start_time": "2022-05-19T08:55:00.338Z"
   },
   {
    "duration": 5,
    "start_time": "2022-05-19T08:55:00.366Z"
   },
   {
    "duration": 15,
    "start_time": "2022-05-19T08:55:00.373Z"
   },
   {
    "duration": 18,
    "start_time": "2022-05-19T08:55:00.390Z"
   },
   {
    "duration": 80,
    "start_time": "2022-05-19T08:55:00.412Z"
   },
   {
    "duration": 78,
    "start_time": "2022-05-19T08:55:00.494Z"
   },
   {
    "duration": 10,
    "start_time": "2022-05-19T08:55:00.574Z"
   },
   {
    "duration": 57,
    "start_time": "2022-05-19T08:55:00.586Z"
   },
   {
    "duration": 63,
    "start_time": "2022-05-19T08:55:00.645Z"
   },
   {
    "duration": 8,
    "start_time": "2022-05-19T08:55:00.710Z"
   },
   {
    "duration": 69,
    "start_time": "2022-05-19T08:55:00.720Z"
   },
   {
    "duration": 46,
    "start_time": "2022-05-19T08:55:00.792Z"
   },
   {
    "duration": 29,
    "start_time": "2022-05-19T08:55:00.839Z"
   },
   {
    "duration": 69,
    "start_time": "2022-05-19T08:55:00.870Z"
   },
   {
    "duration": 111,
    "start_time": "2022-05-19T08:55:00.941Z"
   },
   {
    "duration": 439,
    "start_time": "2022-05-19T08:55:01.054Z"
   },
   {
    "duration": 5,
    "start_time": "2022-05-19T08:55:01.494Z"
   },
   {
    "duration": 236,
    "start_time": "2022-05-19T08:55:01.501Z"
   },
   {
    "duration": 5,
    "start_time": "2022-05-19T08:55:01.739Z"
   },
   {
    "duration": 150,
    "start_time": "2022-05-19T08:55:01.745Z"
   },
   {
    "duration": 15,
    "start_time": "2022-05-19T08:55:01.897Z"
   },
   {
    "duration": 34,
    "start_time": "2022-05-19T08:55:01.914Z"
   },
   {
    "duration": 407,
    "start_time": "2022-05-19T08:55:01.951Z"
   },
   {
    "duration": 139,
    "start_time": "2022-05-19T08:55:02.360Z"
   },
   {
    "duration": 153,
    "start_time": "2022-05-19T08:55:02.501Z"
   },
   {
    "duration": 13,
    "start_time": "2022-05-19T08:55:02.664Z"
   },
   {
    "duration": 15,
    "start_time": "2022-05-19T08:55:02.679Z"
   },
   {
    "duration": 406,
    "start_time": "2022-05-19T08:55:02.695Z"
   },
   {
    "duration": 130,
    "start_time": "2022-05-19T08:55:03.103Z"
   },
   {
    "duration": 153,
    "start_time": "2022-05-19T08:55:03.235Z"
   },
   {
    "duration": 9,
    "start_time": "2022-05-19T08:55:03.390Z"
   },
   {
    "duration": 11,
    "start_time": "2022-05-19T08:55:03.405Z"
   },
   {
    "duration": 8,
    "start_time": "2022-05-19T08:55:03.418Z"
   },
   {
    "duration": 43,
    "start_time": "2022-05-19T08:55:03.429Z"
   },
   {
    "duration": 23,
    "start_time": "2022-05-19T08:55:03.474Z"
   },
   {
    "duration": 17,
    "start_time": "2022-05-19T08:55:03.499Z"
   },
   {
    "duration": 18,
    "start_time": "2022-05-19T08:55:03.518Z"
   },
   {
    "duration": 8,
    "start_time": "2022-05-19T08:55:03.538Z"
   },
   {
    "duration": 8,
    "start_time": "2022-05-19T08:55:03.564Z"
   },
   {
    "duration": 15,
    "start_time": "2022-05-19T08:55:03.574Z"
   },
   {
    "duration": 14,
    "start_time": "2022-05-19T08:55:03.591Z"
   },
   {
    "duration": 45,
    "start_time": "2022-05-19T08:55:03.607Z"
   },
   {
    "duration": 3,
    "start_time": "2022-05-19T08:55:03.654Z"
   },
   {
    "duration": 12,
    "start_time": "2022-05-19T08:55:03.659Z"
   },
   {
    "duration": 492,
    "start_time": "2022-05-19T08:55:03.672Z"
   },
   {
    "duration": 5,
    "start_time": "2022-05-19T08:55:04.166Z"
   },
   {
    "duration": 33,
    "start_time": "2022-05-19T08:55:04.173Z"
   },
   {
    "duration": 33,
    "start_time": "2022-05-19T08:55:04.208Z"
   },
   {
    "duration": 56,
    "start_time": "2022-05-19T08:55:04.242Z"
   },
   {
    "duration": 9,
    "start_time": "2022-05-19T08:55:04.300Z"
   },
   {
    "duration": 8,
    "start_time": "2022-05-19T08:55:04.311Z"
   },
   {
    "duration": 55,
    "start_time": "2022-05-19T08:55:04.320Z"
   },
   {
    "duration": 89,
    "start_time": "2022-05-19T08:55:04.377Z"
   },
   {
    "duration": 8,
    "start_time": "2022-05-19T08:55:04.468Z"
   },
   {
    "duration": 9,
    "start_time": "2022-05-19T08:55:04.479Z"
   },
   {
    "duration": 9,
    "start_time": "2022-05-19T08:55:04.489Z"
   },
   {
    "duration": 17,
    "start_time": "2022-05-19T08:55:04.500Z"
   },
   {
    "duration": 16,
    "start_time": "2022-05-19T08:55:04.519Z"
   },
   {
    "duration": 34,
    "start_time": "2022-05-19T08:55:04.566Z"
   },
   {
    "duration": 3,
    "start_time": "2022-05-19T08:55:04.602Z"
   },
   {
    "duration": 37,
    "start_time": "2022-05-19T08:55:04.608Z"
   },
   {
    "duration": 50,
    "start_time": "2022-05-19T08:55:04.646Z"
   },
   {
    "duration": 25,
    "start_time": "2022-05-19T08:55:04.698Z"
   },
   {
    "duration": 40,
    "start_time": "2022-05-19T08:55:04.725Z"
   },
   {
    "duration": 16,
    "start_time": "2022-05-19T08:57:25.322Z"
   },
   {
    "duration": 22,
    "start_time": "2022-05-19T08:58:46.236Z"
   },
   {
    "duration": 19,
    "start_time": "2022-05-19T08:58:59.176Z"
   },
   {
    "duration": 19,
    "start_time": "2022-05-19T08:59:09.015Z"
   },
   {
    "duration": 18,
    "start_time": "2022-05-19T08:59:22.156Z"
   },
   {
    "duration": 107,
    "start_time": "2022-05-19T08:59:44.114Z"
   },
   {
    "duration": 117,
    "start_time": "2022-05-19T08:59:57.018Z"
   },
   {
    "duration": 5,
    "start_time": "2022-05-19T09:08:34.646Z"
   },
   {
    "duration": 6,
    "start_time": "2022-05-19T09:08:43.687Z"
   },
   {
    "duration": 46,
    "start_time": "2022-05-19T09:14:59.973Z"
   },
   {
    "duration": 3,
    "start_time": "2022-05-19T09:34:50.895Z"
   },
   {
    "duration": 3,
    "start_time": "2022-05-19T09:36:13.337Z"
   },
   {
    "duration": 60,
    "start_time": "2022-05-19T09:36:33.790Z"
   },
   {
    "duration": 39,
    "start_time": "2022-05-19T09:52:08.982Z"
   },
   {
    "duration": 1428,
    "start_time": "2022-05-19T09:52:14.485Z"
   },
   {
    "duration": 1564,
    "start_time": "2022-05-19T09:52:15.915Z"
   },
   {
    "duration": 46,
    "start_time": "2022-05-19T09:52:17.481Z"
   },
   {
    "duration": 38,
    "start_time": "2022-05-19T09:52:17.529Z"
   },
   {
    "duration": 38,
    "start_time": "2022-05-19T09:52:17.569Z"
   },
   {
    "duration": 21,
    "start_time": "2022-05-19T09:52:17.608Z"
   },
   {
    "duration": 50,
    "start_time": "2022-05-19T09:52:17.631Z"
   },
   {
    "duration": 54,
    "start_time": "2022-05-19T09:52:17.684Z"
   },
   {
    "duration": 59,
    "start_time": "2022-05-19T09:52:17.741Z"
   },
   {
    "duration": 31,
    "start_time": "2022-05-19T09:52:17.803Z"
   },
   {
    "duration": 69,
    "start_time": "2022-05-19T09:52:17.836Z"
   },
   {
    "duration": 33,
    "start_time": "2022-05-19T09:52:17.908Z"
   },
   {
    "duration": 67,
    "start_time": "2022-05-19T09:52:17.947Z"
   },
   {
    "duration": 28,
    "start_time": "2022-05-19T09:52:18.018Z"
   },
   {
    "duration": 36,
    "start_time": "2022-05-19T09:52:18.048Z"
   },
   {
    "duration": 48,
    "start_time": "2022-05-19T09:52:18.086Z"
   },
   {
    "duration": 61,
    "start_time": "2022-05-19T09:52:18.135Z"
   },
   {
    "duration": 87,
    "start_time": "2022-05-19T09:52:18.198Z"
   },
   {
    "duration": 9,
    "start_time": "2022-05-19T09:52:18.288Z"
   },
   {
    "duration": 81,
    "start_time": "2022-05-19T09:52:18.298Z"
   },
   {
    "duration": 51,
    "start_time": "2022-05-19T09:52:18.381Z"
   },
   {
    "duration": 8,
    "start_time": "2022-05-19T09:52:18.433Z"
   },
   {
    "duration": 174,
    "start_time": "2022-05-19T09:52:18.443Z"
   },
   {
    "duration": 0,
    "start_time": "2022-05-19T09:52:18.620Z"
   },
   {
    "duration": 0,
    "start_time": "2022-05-19T09:52:18.621Z"
   },
   {
    "duration": 0,
    "start_time": "2022-05-19T09:52:18.623Z"
   },
   {
    "duration": 1,
    "start_time": "2022-05-19T09:52:18.624Z"
   },
   {
    "duration": 0,
    "start_time": "2022-05-19T09:52:18.626Z"
   },
   {
    "duration": 0,
    "start_time": "2022-05-19T09:52:18.627Z"
   },
   {
    "duration": 0,
    "start_time": "2022-05-19T09:52:18.629Z"
   },
   {
    "duration": 0,
    "start_time": "2022-05-19T09:52:18.630Z"
   },
   {
    "duration": 0,
    "start_time": "2022-05-19T09:52:18.632Z"
   },
   {
    "duration": 0,
    "start_time": "2022-05-19T09:52:18.633Z"
   },
   {
    "duration": 0,
    "start_time": "2022-05-19T09:52:18.634Z"
   },
   {
    "duration": 0,
    "start_time": "2022-05-19T09:52:18.635Z"
   },
   {
    "duration": 0,
    "start_time": "2022-05-19T09:52:18.636Z"
   },
   {
    "duration": 0,
    "start_time": "2022-05-19T09:52:18.637Z"
   },
   {
    "duration": 0,
    "start_time": "2022-05-19T09:52:18.659Z"
   },
   {
    "duration": 0,
    "start_time": "2022-05-19T09:52:18.660Z"
   },
   {
    "duration": 0,
    "start_time": "2022-05-19T09:52:18.660Z"
   },
   {
    "duration": 0,
    "start_time": "2022-05-19T09:52:18.663Z"
   },
   {
    "duration": 0,
    "start_time": "2022-05-19T09:52:18.664Z"
   },
   {
    "duration": 0,
    "start_time": "2022-05-19T09:52:18.665Z"
   },
   {
    "duration": 0,
    "start_time": "2022-05-19T09:52:18.666Z"
   },
   {
    "duration": 0,
    "start_time": "2022-05-19T09:52:18.667Z"
   },
   {
    "duration": 0,
    "start_time": "2022-05-19T09:52:18.668Z"
   },
   {
    "duration": 0,
    "start_time": "2022-05-19T09:52:18.669Z"
   },
   {
    "duration": 0,
    "start_time": "2022-05-19T09:52:18.670Z"
   },
   {
    "duration": 0,
    "start_time": "2022-05-19T09:52:18.671Z"
   },
   {
    "duration": 0,
    "start_time": "2022-05-19T09:52:18.672Z"
   },
   {
    "duration": 0,
    "start_time": "2022-05-19T09:52:18.673Z"
   },
   {
    "duration": 0,
    "start_time": "2022-05-19T09:52:18.674Z"
   },
   {
    "duration": 1,
    "start_time": "2022-05-19T09:52:18.675Z"
   },
   {
    "duration": 0,
    "start_time": "2022-05-19T09:52:18.677Z"
   },
   {
    "duration": 0,
    "start_time": "2022-05-19T09:52:18.678Z"
   },
   {
    "duration": 0,
    "start_time": "2022-05-19T09:52:18.679Z"
   },
   {
    "duration": 0,
    "start_time": "2022-05-19T09:52:18.680Z"
   },
   {
    "duration": 0,
    "start_time": "2022-05-19T09:52:18.681Z"
   },
   {
    "duration": 0,
    "start_time": "2022-05-19T09:52:18.682Z"
   },
   {
    "duration": 0,
    "start_time": "2022-05-19T09:52:18.683Z"
   },
   {
    "duration": 0,
    "start_time": "2022-05-19T09:52:18.684Z"
   },
   {
    "duration": 0,
    "start_time": "2022-05-19T09:52:18.685Z"
   },
   {
    "duration": 0,
    "start_time": "2022-05-19T09:52:18.686Z"
   },
   {
    "duration": 0,
    "start_time": "2022-05-19T09:52:18.687Z"
   },
   {
    "duration": 0,
    "start_time": "2022-05-19T09:52:18.689Z"
   },
   {
    "duration": 0,
    "start_time": "2022-05-19T09:52:18.690Z"
   },
   {
    "duration": 0,
    "start_time": "2022-05-19T09:52:18.691Z"
   },
   {
    "duration": 0,
    "start_time": "2022-05-19T09:52:18.692Z"
   },
   {
    "duration": 0,
    "start_time": "2022-05-19T09:52:18.693Z"
   },
   {
    "duration": 0,
    "start_time": "2022-05-19T09:52:18.694Z"
   },
   {
    "duration": 0,
    "start_time": "2022-05-19T09:52:18.695Z"
   },
   {
    "duration": 0,
    "start_time": "2022-05-19T09:52:18.697Z"
   },
   {
    "duration": 0,
    "start_time": "2022-05-19T09:52:18.699Z"
   },
   {
    "duration": 68,
    "start_time": "2022-05-19T09:53:25.405Z"
   },
   {
    "duration": 64,
    "start_time": "2022-05-19T09:53:31.483Z"
   },
   {
    "duration": 60,
    "start_time": "2022-05-19T09:53:38.006Z"
   },
   {
    "duration": 138,
    "start_time": "2022-05-19T09:53:57.877Z"
   },
   {
    "duration": 35,
    "start_time": "2022-05-19T09:54:29.189Z"
   },
   {
    "duration": 5,
    "start_time": "2022-05-19T09:54:57.998Z"
   },
   {
    "duration": 575,
    "start_time": "2022-05-19T09:54:58.005Z"
   },
   {
    "duration": 83,
    "start_time": "2022-05-19T09:54:58.585Z"
   },
   {
    "duration": 64,
    "start_time": "2022-05-19T09:54:58.670Z"
   },
   {
    "duration": 54,
    "start_time": "2022-05-19T09:54:58.738Z"
   },
   {
    "duration": 28,
    "start_time": "2022-05-19T09:54:58.794Z"
   },
   {
    "duration": 19,
    "start_time": "2022-05-19T09:54:58.824Z"
   },
   {
    "duration": 20,
    "start_time": "2022-05-19T09:54:58.865Z"
   },
   {
    "duration": 22,
    "start_time": "2022-05-19T09:54:58.886Z"
   },
   {
    "duration": 5,
    "start_time": "2022-05-19T09:54:58.910Z"
   },
   {
    "duration": 10,
    "start_time": "2022-05-19T09:54:58.919Z"
   },
   {
    "duration": 31,
    "start_time": "2022-05-19T09:54:58.931Z"
   },
   {
    "duration": 26,
    "start_time": "2022-05-19T09:54:58.965Z"
   },
   {
    "duration": 80,
    "start_time": "2022-05-19T09:54:58.997Z"
   },
   {
    "duration": 4,
    "start_time": "2022-05-19T09:54:59.082Z"
   },
   {
    "duration": 21,
    "start_time": "2022-05-19T09:54:59.089Z"
   },
   {
    "duration": 42,
    "start_time": "2022-05-19T09:54:59.112Z"
   },
   {
    "duration": 55,
    "start_time": "2022-05-19T09:54:59.160Z"
   },
   {
    "duration": 11,
    "start_time": "2022-05-19T09:54:59.218Z"
   },
   {
    "duration": 79,
    "start_time": "2022-05-19T09:54:59.231Z"
   },
   {
    "duration": 51,
    "start_time": "2022-05-19T09:54:59.313Z"
   },
   {
    "duration": 19,
    "start_time": "2022-05-19T09:54:59.366Z"
   },
   {
    "duration": 69,
    "start_time": "2022-05-19T09:54:59.388Z"
   },
   {
    "duration": 120,
    "start_time": "2022-05-19T09:54:59.459Z"
   },
   {
    "duration": 855,
    "start_time": "2022-05-19T09:54:59.580Z"
   },
   {
    "duration": 6,
    "start_time": "2022-05-19T09:55:00.437Z"
   },
   {
    "duration": 234,
    "start_time": "2022-05-19T09:55:00.445Z"
   },
   {
    "duration": 19,
    "start_time": "2022-05-19T09:55:00.681Z"
   },
   {
    "duration": 145,
    "start_time": "2022-05-19T09:55:00.702Z"
   },
   {
    "duration": 14,
    "start_time": "2022-05-19T09:55:00.849Z"
   },
   {
    "duration": 33,
    "start_time": "2022-05-19T09:55:00.864Z"
   },
   {
    "duration": 453,
    "start_time": "2022-05-19T09:55:00.899Z"
   },
   {
    "duration": 122,
    "start_time": "2022-05-19T09:55:01.353Z"
   },
   {
    "duration": 142,
    "start_time": "2022-05-19T09:55:01.476Z"
   },
   {
    "duration": 14,
    "start_time": "2022-05-19T09:55:01.621Z"
   },
   {
    "duration": 30,
    "start_time": "2022-05-19T09:55:01.640Z"
   },
   {
    "duration": 488,
    "start_time": "2022-05-19T09:55:01.672Z"
   },
   {
    "duration": 129,
    "start_time": "2022-05-19T09:55:02.162Z"
   },
   {
    "duration": 151,
    "start_time": "2022-05-19T09:55:02.297Z"
   },
   {
    "duration": 21,
    "start_time": "2022-05-19T09:55:02.450Z"
   },
   {
    "duration": 39,
    "start_time": "2022-05-19T09:55:02.477Z"
   },
   {
    "duration": 17,
    "start_time": "2022-05-19T09:55:02.518Z"
   },
   {
    "duration": 28,
    "start_time": "2022-05-19T09:55:02.537Z"
   },
   {
    "duration": 49,
    "start_time": "2022-05-19T09:55:02.568Z"
   },
   {
    "duration": 12,
    "start_time": "2022-05-19T09:55:02.619Z"
   },
   {
    "duration": 21,
    "start_time": "2022-05-19T09:55:02.633Z"
   },
   {
    "duration": 2,
    "start_time": "2022-05-19T09:55:02.656Z"
   },
   {
    "duration": 41,
    "start_time": "2022-05-19T09:55:02.660Z"
   },
   {
    "duration": 7,
    "start_time": "2022-05-19T09:55:02.703Z"
   },
   {
    "duration": 5,
    "start_time": "2022-05-19T09:55:02.712Z"
   },
   {
    "duration": 46,
    "start_time": "2022-05-19T09:55:02.719Z"
   },
   {
    "duration": 4,
    "start_time": "2022-05-19T09:55:02.766Z"
   },
   {
    "duration": 3,
    "start_time": "2022-05-19T09:55:02.771Z"
   },
   {
    "duration": 847,
    "start_time": "2022-05-19T09:55:02.780Z"
   },
   {
    "duration": 5,
    "start_time": "2022-05-19T09:55:03.629Z"
   },
   {
    "duration": 43,
    "start_time": "2022-05-19T09:55:03.636Z"
   },
   {
    "duration": 101,
    "start_time": "2022-05-19T09:55:03.682Z"
   },
   {
    "duration": 32,
    "start_time": "2022-05-19T09:55:03.790Z"
   },
   {
    "duration": 9,
    "start_time": "2022-05-19T09:55:03.824Z"
   },
   {
    "duration": 29,
    "start_time": "2022-05-19T09:55:03.835Z"
   },
   {
    "duration": 98,
    "start_time": "2022-05-19T09:55:03.866Z"
   },
   {
    "duration": 110,
    "start_time": "2022-05-19T09:55:03.970Z"
   },
   {
    "duration": 10,
    "start_time": "2022-05-19T09:55:04.084Z"
   },
   {
    "duration": 7,
    "start_time": "2022-05-19T09:55:04.099Z"
   },
   {
    "duration": 21,
    "start_time": "2022-05-19T09:55:04.108Z"
   },
   {
    "duration": 19,
    "start_time": "2022-05-19T09:55:04.131Z"
   },
   {
    "duration": 19,
    "start_time": "2022-05-19T09:55:04.153Z"
   },
   {
    "duration": 43,
    "start_time": "2022-05-19T09:55:04.174Z"
   },
   {
    "duration": 4,
    "start_time": "2022-05-19T09:55:04.219Z"
   },
   {
    "duration": 66,
    "start_time": "2022-05-19T09:55:04.226Z"
   },
   {
    "duration": 39,
    "start_time": "2022-05-19T09:55:04.294Z"
   },
   {
    "duration": 40,
    "start_time": "2022-05-19T09:55:04.335Z"
   },
   {
    "duration": 15,
    "start_time": "2022-05-19T09:55:04.381Z"
   },
   {
    "duration": 13,
    "start_time": "2022-05-19T12:14:40.907Z"
   },
   {
    "duration": 63,
    "start_time": "2022-05-19T12:15:22.451Z"
   },
   {
    "duration": 1102,
    "start_time": "2022-05-19T12:15:24.591Z"
   },
   {
    "duration": 440,
    "start_time": "2022-05-19T12:15:26.679Z"
   },
   {
    "duration": 46,
    "start_time": "2022-05-19T12:15:29.196Z"
   },
   {
    "duration": 44,
    "start_time": "2022-05-19T12:15:32.029Z"
   },
   {
    "duration": 21,
    "start_time": "2022-05-19T12:15:42.257Z"
   },
   {
    "duration": 34,
    "start_time": "2022-05-19T12:15:45.848Z"
   },
   {
    "duration": 15,
    "start_time": "2022-05-19T12:15:55.278Z"
   },
   {
    "duration": 32,
    "start_time": "2022-05-19T12:16:32.903Z"
   },
   {
    "duration": 4,
    "start_time": "2022-05-19T12:17:55.377Z"
   },
   {
    "duration": 58,
    "start_time": "2022-05-19T12:18:04.855Z"
   },
   {
    "duration": 29,
    "start_time": "2022-05-19T12:18:12.012Z"
   },
   {
    "duration": 52,
    "start_time": "2022-05-19T12:18:14.320Z"
   },
   {
    "duration": 9,
    "start_time": "2022-05-19T12:18:21.703Z"
   },
   {
    "duration": 65,
    "start_time": "2022-05-19T12:18:24.785Z"
   },
   {
    "duration": 41,
    "start_time": "2022-05-19T12:18:27.589Z"
   },
   {
    "duration": 62,
    "start_time": "2022-05-19T12:18:46.711Z"
   },
   {
    "duration": 115,
    "start_time": "2022-05-19T12:18:57.185Z"
   },
   {
    "duration": 18,
    "start_time": "2022-05-19T12:20:02.010Z"
   },
   {
    "duration": 5,
    "start_time": "2022-05-19T12:26:27.957Z"
   },
   {
    "duration": 25,
    "start_time": "2022-05-19T12:26:34.175Z"
   },
   {
    "duration": 17,
    "start_time": "2022-05-19T12:26:54.400Z"
   },
   {
    "duration": 523,
    "start_time": "2022-05-19T12:28:05.427Z"
   },
   {
    "duration": 82,
    "start_time": "2022-05-19T12:28:14.732Z"
   },
   {
    "duration": 351,
    "start_time": "2022-05-19T12:29:16.928Z"
   },
   {
    "duration": 4,
    "start_time": "2022-05-19T12:29:25.330Z"
   },
   {
    "duration": 111,
    "start_time": "2022-05-19T12:29:27.472Z"
   },
   {
    "duration": 4,
    "start_time": "2022-05-19T12:29:32.190Z"
   },
   {
    "duration": 987,
    "start_time": "2022-05-19T12:30:06.100Z"
   },
   {
    "duration": 425,
    "start_time": "2022-05-19T12:30:07.094Z"
   },
   {
    "duration": 40,
    "start_time": "2022-05-19T12:30:07.520Z"
   },
   {
    "duration": 43,
    "start_time": "2022-05-19T12:30:07.569Z"
   },
   {
    "duration": 26,
    "start_time": "2022-05-19T12:30:07.613Z"
   },
   {
    "duration": 38,
    "start_time": "2022-05-19T12:30:07.641Z"
   },
   {
    "duration": 14,
    "start_time": "2022-05-19T12:30:07.683Z"
   },
   {
    "duration": 25,
    "start_time": "2022-05-19T12:30:07.699Z"
   },
   {
    "duration": 20,
    "start_time": "2022-05-19T12:30:07.725Z"
   },
   {
    "duration": 15,
    "start_time": "2022-05-19T12:30:07.748Z"
   },
   {
    "duration": 4,
    "start_time": "2022-05-19T12:30:07.765Z"
   },
   {
    "duration": 45,
    "start_time": "2022-05-19T12:30:07.770Z"
   },
   {
    "duration": 19,
    "start_time": "2022-05-19T12:30:07.817Z"
   },
   {
    "duration": 16,
    "start_time": "2022-05-19T12:30:07.839Z"
   },
   {
    "duration": 99,
    "start_time": "2022-05-19T12:30:07.857Z"
   },
   {
    "duration": 12,
    "start_time": "2022-05-19T12:30:07.958Z"
   },
   {
    "duration": 42,
    "start_time": "2022-05-19T12:30:07.971Z"
   },
   {
    "duration": 36,
    "start_time": "2022-05-19T12:30:08.015Z"
   },
   {
    "duration": 49,
    "start_time": "2022-05-19T12:30:08.053Z"
   },
   {
    "duration": 10,
    "start_time": "2022-05-19T12:30:08.104Z"
   },
   {
    "duration": 57,
    "start_time": "2022-05-19T12:30:08.116Z"
   },
   {
    "duration": 45,
    "start_time": "2022-05-19T12:30:08.176Z"
   },
   {
    "duration": 7,
    "start_time": "2022-05-19T12:30:08.222Z"
   },
   {
    "duration": 74,
    "start_time": "2022-05-19T12:30:08.230Z"
   },
   {
    "duration": 93,
    "start_time": "2022-05-19T12:30:08.305Z"
   },
   {
    "duration": 318,
    "start_time": "2022-05-19T12:30:08.399Z"
   },
   {
    "duration": 4,
    "start_time": "2022-05-19T12:30:08.719Z"
   },
   {
    "duration": 188,
    "start_time": "2022-05-19T12:30:08.728Z"
   },
   {
    "duration": 4,
    "start_time": "2022-05-19T12:30:08.918Z"
   },
   {
    "duration": 105,
    "start_time": "2022-05-19T12:30:08.923Z"
   },
   {
    "duration": 9,
    "start_time": "2022-05-19T12:30:09.029Z"
   },
   {
    "duration": 41,
    "start_time": "2022-05-19T12:30:09.039Z"
   },
   {
    "duration": 301,
    "start_time": "2022-05-19T12:30:09.082Z"
   },
   {
    "duration": 104,
    "start_time": "2022-05-19T12:30:09.385Z"
   },
   {
    "duration": 102,
    "start_time": "2022-05-19T12:30:09.491Z"
   },
   {
    "duration": 8,
    "start_time": "2022-05-19T12:30:09.596Z"
   },
   {
    "duration": 8,
    "start_time": "2022-05-19T12:30:09.606Z"
   },
   {
    "duration": 23,
    "start_time": "2022-05-19T12:30:09.615Z"
   },
   {
    "duration": 345,
    "start_time": "2022-05-19T12:30:09.640Z"
   },
   {
    "duration": 216,
    "start_time": "2022-05-19T12:30:09.990Z"
   },
   {
    "duration": 0,
    "start_time": "2022-05-19T12:30:10.208Z"
   },
   {
    "duration": 0,
    "start_time": "2022-05-19T12:30:10.209Z"
   },
   {
    "duration": 0,
    "start_time": "2022-05-19T12:30:10.211Z"
   },
   {
    "duration": 0,
    "start_time": "2022-05-19T12:30:10.212Z"
   },
   {
    "duration": 0,
    "start_time": "2022-05-19T12:30:10.213Z"
   },
   {
    "duration": 0,
    "start_time": "2022-05-19T12:30:10.214Z"
   },
   {
    "duration": 0,
    "start_time": "2022-05-19T12:30:10.215Z"
   },
   {
    "duration": 0,
    "start_time": "2022-05-19T12:30:10.216Z"
   },
   {
    "duration": 1,
    "start_time": "2022-05-19T12:30:10.217Z"
   },
   {
    "duration": 0,
    "start_time": "2022-05-19T12:30:10.218Z"
   },
   {
    "duration": 0,
    "start_time": "2022-05-19T12:30:10.219Z"
   },
   {
    "duration": 0,
    "start_time": "2022-05-19T12:30:10.220Z"
   },
   {
    "duration": 0,
    "start_time": "2022-05-19T12:30:10.221Z"
   },
   {
    "duration": 0,
    "start_time": "2022-05-19T12:30:10.222Z"
   },
   {
    "duration": 0,
    "start_time": "2022-05-19T12:30:10.223Z"
   },
   {
    "duration": 0,
    "start_time": "2022-05-19T12:30:10.224Z"
   },
   {
    "duration": 0,
    "start_time": "2022-05-19T12:30:10.225Z"
   },
   {
    "duration": 0,
    "start_time": "2022-05-19T12:30:10.226Z"
   },
   {
    "duration": 0,
    "start_time": "2022-05-19T12:30:10.227Z"
   },
   {
    "duration": 0,
    "start_time": "2022-05-19T12:30:10.259Z"
   },
   {
    "duration": 0,
    "start_time": "2022-05-19T12:30:10.260Z"
   },
   {
    "duration": 0,
    "start_time": "2022-05-19T12:30:10.260Z"
   },
   {
    "duration": 0,
    "start_time": "2022-05-19T12:30:10.261Z"
   },
   {
    "duration": 0,
    "start_time": "2022-05-19T12:30:10.261Z"
   },
   {
    "duration": 0,
    "start_time": "2022-05-19T12:30:10.262Z"
   },
   {
    "duration": 0,
    "start_time": "2022-05-19T12:30:10.264Z"
   },
   {
    "duration": 0,
    "start_time": "2022-05-19T12:30:10.265Z"
   },
   {
    "duration": 0,
    "start_time": "2022-05-19T12:30:10.266Z"
   },
   {
    "duration": 0,
    "start_time": "2022-05-19T12:30:10.266Z"
   },
   {
    "duration": 0,
    "start_time": "2022-05-19T12:30:10.267Z"
   },
   {
    "duration": 0,
    "start_time": "2022-05-19T12:30:10.267Z"
   },
   {
    "duration": 0,
    "start_time": "2022-05-19T12:30:10.268Z"
   },
   {
    "duration": 0,
    "start_time": "2022-05-19T12:30:10.269Z"
   },
   {
    "duration": 0,
    "start_time": "2022-05-19T12:30:10.269Z"
   },
   {
    "duration": 0,
    "start_time": "2022-05-19T12:30:10.270Z"
   },
   {
    "duration": 23,
    "start_time": "2022-05-19T13:22:19.643Z"
   },
   {
    "duration": 27,
    "start_time": "2022-05-19T13:23:21.318Z"
   },
   {
    "duration": 1072,
    "start_time": "2022-05-19T13:23:31.404Z"
   },
   {
    "duration": 411,
    "start_time": "2022-05-19T13:23:32.478Z"
   },
   {
    "duration": 45,
    "start_time": "2022-05-19T13:23:32.891Z"
   },
   {
    "duration": 33,
    "start_time": "2022-05-19T13:23:32.938Z"
   },
   {
    "duration": 30,
    "start_time": "2022-05-19T13:23:32.973Z"
   },
   {
    "duration": 22,
    "start_time": "2022-05-19T13:23:33.005Z"
   },
   {
    "duration": 41,
    "start_time": "2022-05-19T13:23:33.029Z"
   },
   {
    "duration": 18,
    "start_time": "2022-05-19T13:23:33.072Z"
   },
   {
    "duration": 26,
    "start_time": "2022-05-19T13:23:33.092Z"
   },
   {
    "duration": 21,
    "start_time": "2022-05-19T13:23:33.121Z"
   },
   {
    "duration": 17,
    "start_time": "2022-05-19T13:23:33.144Z"
   },
   {
    "duration": 8,
    "start_time": "2022-05-19T13:23:33.163Z"
   },
   {
    "duration": 15,
    "start_time": "2022-05-19T13:23:33.173Z"
   },
   {
    "duration": 9,
    "start_time": "2022-05-19T13:23:33.190Z"
   },
   {
    "duration": 92,
    "start_time": "2022-05-19T13:23:33.201Z"
   },
   {
    "duration": 3,
    "start_time": "2022-05-19T13:23:33.294Z"
   },
   {
    "duration": 12,
    "start_time": "2022-05-19T13:23:33.298Z"
   },
   {
    "duration": 39,
    "start_time": "2022-05-19T13:23:33.312Z"
   },
   {
    "duration": 41,
    "start_time": "2022-05-19T13:23:33.360Z"
   },
   {
    "duration": 8,
    "start_time": "2022-05-19T13:23:33.403Z"
   },
   {
    "duration": 52,
    "start_time": "2022-05-19T13:23:33.412Z"
   },
   {
    "duration": 54,
    "start_time": "2022-05-19T13:23:33.466Z"
   },
   {
    "duration": 7,
    "start_time": "2022-05-19T13:23:33.522Z"
   },
   {
    "duration": 97,
    "start_time": "2022-05-19T13:23:33.531Z"
   },
   {
    "duration": 129,
    "start_time": "2022-05-19T13:23:33.630Z"
   },
   {
    "duration": 350,
    "start_time": "2022-05-19T13:23:33.761Z"
   },
   {
    "duration": 18,
    "start_time": "2022-05-19T13:23:34.112Z"
   },
   {
    "duration": 223,
    "start_time": "2022-05-19T13:23:34.136Z"
   },
   {
    "duration": 4,
    "start_time": "2022-05-19T13:23:34.361Z"
   },
   {
    "duration": 118,
    "start_time": "2022-05-19T13:23:34.367Z"
   },
   {
    "duration": 9,
    "start_time": "2022-05-19T13:23:34.486Z"
   },
   {
    "duration": 11,
    "start_time": "2022-05-19T13:23:34.497Z"
   },
   {
    "duration": 341,
    "start_time": "2022-05-19T13:23:34.510Z"
   },
   {
    "duration": 127,
    "start_time": "2022-05-19T13:23:34.853Z"
   },
   {
    "duration": 158,
    "start_time": "2022-05-19T13:23:34.982Z"
   },
   {
    "duration": 18,
    "start_time": "2022-05-19T13:23:35.142Z"
   },
   {
    "duration": 15,
    "start_time": "2022-05-19T13:23:35.162Z"
   },
   {
    "duration": 26,
    "start_time": "2022-05-19T13:23:35.179Z"
   },
   {
    "duration": 326,
    "start_time": "2022-05-19T13:23:35.206Z"
   },
   {
    "duration": 27,
    "start_time": "2022-05-19T13:23:35.534Z"
   },
   {
    "duration": 119,
    "start_time": "2022-05-19T13:23:35.563Z"
   },
   {
    "duration": 10,
    "start_time": "2022-05-19T13:23:35.683Z"
   },
   {
    "duration": 30,
    "start_time": "2022-05-19T13:23:35.695Z"
   },
   {
    "duration": 39,
    "start_time": "2022-05-19T13:23:35.727Z"
   },
   {
    "duration": 23,
    "start_time": "2022-05-19T13:23:35.768Z"
   },
   {
    "duration": 32,
    "start_time": "2022-05-19T13:23:35.793Z"
   },
   {
    "duration": 13,
    "start_time": "2022-05-19T13:23:35.827Z"
   },
   {
    "duration": 26,
    "start_time": "2022-05-19T13:23:35.842Z"
   },
   {
    "duration": 3,
    "start_time": "2022-05-19T13:23:35.870Z"
   },
   {
    "duration": 11,
    "start_time": "2022-05-19T13:23:35.875Z"
   },
   {
    "duration": 15,
    "start_time": "2022-05-19T13:23:35.888Z"
   },
   {
    "duration": 12,
    "start_time": "2022-05-19T13:23:35.905Z"
   },
   {
    "duration": 42,
    "start_time": "2022-05-19T13:23:35.919Z"
   },
   {
    "duration": 3,
    "start_time": "2022-05-19T13:23:35.964Z"
   },
   {
    "duration": 7,
    "start_time": "2022-05-19T13:23:35.969Z"
   },
   {
    "duration": 359,
    "start_time": "2022-05-19T13:23:35.978Z"
   },
   {
    "duration": 4,
    "start_time": "2022-05-19T13:23:36.338Z"
   },
   {
    "duration": 40,
    "start_time": "2022-05-19T13:23:36.344Z"
   },
   {
    "duration": 26,
    "start_time": "2022-05-19T13:23:36.386Z"
   },
   {
    "duration": 119,
    "start_time": "2022-05-19T13:23:36.413Z"
   },
   {
    "duration": 15,
    "start_time": "2022-05-19T13:23:36.534Z"
   },
   {
    "duration": 3,
    "start_time": "2022-05-19T13:23:36.560Z"
   },
   {
    "duration": 35,
    "start_time": "2022-05-19T13:23:36.565Z"
   },
   {
    "duration": 85,
    "start_time": "2022-05-19T13:23:36.602Z"
   },
   {
    "duration": 9,
    "start_time": "2022-05-19T13:23:36.689Z"
   },
   {
    "duration": 9,
    "start_time": "2022-05-19T13:23:36.700Z"
   },
   {
    "duration": 8,
    "start_time": "2022-05-19T13:23:36.711Z"
   },
   {
    "duration": 19,
    "start_time": "2022-05-19T13:23:36.720Z"
   },
   {
    "duration": 11,
    "start_time": "2022-05-19T13:23:36.760Z"
   },
   {
    "duration": 23,
    "start_time": "2022-05-19T13:23:36.773Z"
   },
   {
    "duration": 4,
    "start_time": "2022-05-19T13:23:36.798Z"
   },
   {
    "duration": 35,
    "start_time": "2022-05-19T13:23:36.804Z"
   },
   {
    "duration": 35,
    "start_time": "2022-05-19T13:23:36.859Z"
   },
   {
    "duration": 16,
    "start_time": "2022-05-19T13:23:36.896Z"
   },
   {
    "duration": 15,
    "start_time": "2022-05-19T13:23:36.913Z"
   },
   {
    "duration": 26,
    "start_time": "2022-05-19T13:24:24.164Z"
   },
   {
    "duration": 123,
    "start_time": "2022-05-19T13:24:34.026Z"
   },
   {
    "duration": 227,
    "start_time": "2022-05-19T13:24:42.398Z"
   },
   {
    "duration": 18,
    "start_time": "2022-05-19T13:25:04.617Z"
   },
   {
    "duration": 18,
    "start_time": "2022-05-19T13:25:50.016Z"
   },
   {
    "duration": 20,
    "start_time": "2022-05-19T13:26:02.295Z"
   },
   {
    "duration": 21,
    "start_time": "2022-05-19T13:26:08.945Z"
   },
   {
    "duration": 20,
    "start_time": "2022-05-19T13:26:23.644Z"
   },
   {
    "duration": 1157,
    "start_time": "2022-05-19T13:26:47.645Z"
   },
   {
    "duration": 402,
    "start_time": "2022-05-19T13:26:48.804Z"
   },
   {
    "duration": 43,
    "start_time": "2022-05-19T13:26:49.208Z"
   },
   {
    "duration": 45,
    "start_time": "2022-05-19T13:26:49.252Z"
   },
   {
    "duration": 51,
    "start_time": "2022-05-19T13:26:49.299Z"
   },
   {
    "duration": 56,
    "start_time": "2022-05-19T13:26:49.352Z"
   },
   {
    "duration": 33,
    "start_time": "2022-05-19T13:26:49.410Z"
   },
   {
    "duration": 56,
    "start_time": "2022-05-19T13:26:49.445Z"
   },
   {
    "duration": 16,
    "start_time": "2022-05-19T13:26:49.504Z"
   },
   {
    "duration": 31,
    "start_time": "2022-05-19T13:26:49.522Z"
   },
   {
    "duration": 6,
    "start_time": "2022-05-19T13:26:49.555Z"
   },
   {
    "duration": 30,
    "start_time": "2022-05-19T13:26:49.563Z"
   },
   {
    "duration": 15,
    "start_time": "2022-05-19T13:26:49.595Z"
   },
   {
    "duration": 20,
    "start_time": "2022-05-19T13:26:49.613Z"
   },
   {
    "duration": 64,
    "start_time": "2022-05-19T13:26:49.635Z"
   },
   {
    "duration": 2,
    "start_time": "2022-05-19T13:26:49.701Z"
   },
   {
    "duration": 19,
    "start_time": "2022-05-19T13:26:49.705Z"
   },
   {
    "duration": 67,
    "start_time": "2022-05-19T13:26:49.725Z"
   },
   {
    "duration": 51,
    "start_time": "2022-05-19T13:26:49.794Z"
   },
   {
    "duration": 18,
    "start_time": "2022-05-19T13:26:49.847Z"
   },
   {
    "duration": 55,
    "start_time": "2022-05-19T13:26:49.872Z"
   },
   {
    "duration": 43,
    "start_time": "2022-05-19T13:26:49.929Z"
   },
   {
    "duration": 9,
    "start_time": "2022-05-19T13:26:49.975Z"
   },
   {
    "duration": 62,
    "start_time": "2022-05-19T13:26:49.985Z"
   },
   {
    "duration": 86,
    "start_time": "2022-05-19T13:26:50.049Z"
   },
   {
    "duration": 327,
    "start_time": "2022-05-19T13:26:50.137Z"
   },
   {
    "duration": 22,
    "start_time": "2022-05-19T13:26:50.467Z"
   },
   {
    "duration": 172,
    "start_time": "2022-05-19T13:26:50.491Z"
   },
   {
    "duration": 21,
    "start_time": "2022-05-19T13:26:50.670Z"
   },
   {
    "duration": 117,
    "start_time": "2022-05-19T13:26:50.693Z"
   },
   {
    "duration": 10,
    "start_time": "2022-05-19T13:26:50.811Z"
   },
   {
    "duration": 10,
    "start_time": "2022-05-19T13:26:50.823Z"
   },
   {
    "duration": 298,
    "start_time": "2022-05-19T13:26:50.834Z"
   },
   {
    "duration": 111,
    "start_time": "2022-05-19T13:26:51.134Z"
   },
   {
    "duration": 125,
    "start_time": "2022-05-19T13:26:51.247Z"
   },
   {
    "duration": 11,
    "start_time": "2022-05-19T13:26:51.374Z"
   },
   {
    "duration": 25,
    "start_time": "2022-05-19T13:26:51.386Z"
   },
   {
    "duration": 33,
    "start_time": "2022-05-19T13:26:51.413Z"
   },
   {
    "duration": 375,
    "start_time": "2022-05-19T13:26:51.447Z"
   },
   {
    "duration": 222,
    "start_time": "2022-05-19T13:26:51.824Z"
   },
   {
    "duration": 0,
    "start_time": "2022-05-19T13:26:52.049Z"
   },
   {
    "duration": 0,
    "start_time": "2022-05-19T13:26:52.051Z"
   },
   {
    "duration": 0,
    "start_time": "2022-05-19T13:26:52.061Z"
   },
   {
    "duration": 0,
    "start_time": "2022-05-19T13:26:52.062Z"
   },
   {
    "duration": 0,
    "start_time": "2022-05-19T13:26:52.064Z"
   },
   {
    "duration": 0,
    "start_time": "2022-05-19T13:26:52.067Z"
   },
   {
    "duration": 0,
    "start_time": "2022-05-19T13:26:52.068Z"
   },
   {
    "duration": 0,
    "start_time": "2022-05-19T13:26:52.070Z"
   },
   {
    "duration": 0,
    "start_time": "2022-05-19T13:26:52.074Z"
   },
   {
    "duration": 0,
    "start_time": "2022-05-19T13:26:52.077Z"
   },
   {
    "duration": 0,
    "start_time": "2022-05-19T13:26:52.079Z"
   },
   {
    "duration": 0,
    "start_time": "2022-05-19T13:26:52.081Z"
   },
   {
    "duration": 0,
    "start_time": "2022-05-19T13:26:52.082Z"
   },
   {
    "duration": 0,
    "start_time": "2022-05-19T13:26:52.084Z"
   },
   {
    "duration": 0,
    "start_time": "2022-05-19T13:26:52.085Z"
   },
   {
    "duration": 0,
    "start_time": "2022-05-19T13:26:52.086Z"
   },
   {
    "duration": 0,
    "start_time": "2022-05-19T13:26:52.087Z"
   },
   {
    "duration": 0,
    "start_time": "2022-05-19T13:26:52.088Z"
   },
   {
    "duration": 0,
    "start_time": "2022-05-19T13:26:52.089Z"
   },
   {
    "duration": 0,
    "start_time": "2022-05-19T13:26:52.090Z"
   },
   {
    "duration": 0,
    "start_time": "2022-05-19T13:26:52.091Z"
   },
   {
    "duration": 0,
    "start_time": "2022-05-19T13:26:52.092Z"
   },
   {
    "duration": 0,
    "start_time": "2022-05-19T13:26:52.093Z"
   },
   {
    "duration": 0,
    "start_time": "2022-05-19T13:26:52.094Z"
   },
   {
    "duration": 0,
    "start_time": "2022-05-19T13:26:52.095Z"
   },
   {
    "duration": 0,
    "start_time": "2022-05-19T13:26:52.096Z"
   },
   {
    "duration": 0,
    "start_time": "2022-05-19T13:26:52.097Z"
   },
   {
    "duration": 0,
    "start_time": "2022-05-19T13:26:52.098Z"
   },
   {
    "duration": 0,
    "start_time": "2022-05-19T13:26:52.099Z"
   },
   {
    "duration": 0,
    "start_time": "2022-05-19T13:26:52.100Z"
   },
   {
    "duration": 0,
    "start_time": "2022-05-19T13:26:52.101Z"
   },
   {
    "duration": 0,
    "start_time": "2022-05-19T13:26:52.102Z"
   },
   {
    "duration": 0,
    "start_time": "2022-05-19T13:26:52.104Z"
   },
   {
    "duration": 0,
    "start_time": "2022-05-19T13:26:52.105Z"
   },
   {
    "duration": 0,
    "start_time": "2022-05-19T13:26:52.106Z"
   },
   {
    "duration": 124,
    "start_time": "2022-05-19T13:27:05.048Z"
   },
   {
    "duration": 105,
    "start_time": "2022-05-19T13:27:13.774Z"
   },
   {
    "duration": 1108,
    "start_time": "2022-05-19T13:27:21.820Z"
   },
   {
    "duration": 391,
    "start_time": "2022-05-19T13:27:22.930Z"
   },
   {
    "duration": 52,
    "start_time": "2022-05-19T13:27:23.323Z"
   },
   {
    "duration": 35,
    "start_time": "2022-05-19T13:27:23.377Z"
   },
   {
    "duration": 58,
    "start_time": "2022-05-19T13:27:23.414Z"
   },
   {
    "duration": 18,
    "start_time": "2022-05-19T13:27:23.474Z"
   },
   {
    "duration": 15,
    "start_time": "2022-05-19T13:27:23.494Z"
   },
   {
    "duration": 33,
    "start_time": "2022-05-19T13:27:23.511Z"
   },
   {
    "duration": 31,
    "start_time": "2022-05-19T13:27:23.546Z"
   },
   {
    "duration": 15,
    "start_time": "2022-05-19T13:27:23.581Z"
   },
   {
    "duration": 4,
    "start_time": "2022-05-19T13:27:23.598Z"
   },
   {
    "duration": 11,
    "start_time": "2022-05-19T13:27:23.604Z"
   },
   {
    "duration": 14,
    "start_time": "2022-05-19T13:27:23.617Z"
   },
   {
    "duration": 34,
    "start_time": "2022-05-19T13:27:23.633Z"
   },
   {
    "duration": 60,
    "start_time": "2022-05-19T13:27:23.668Z"
   },
   {
    "duration": 2,
    "start_time": "2022-05-19T13:27:23.730Z"
   },
   {
    "duration": 13,
    "start_time": "2022-05-19T13:27:23.733Z"
   },
   {
    "duration": 43,
    "start_time": "2022-05-19T13:27:23.749Z"
   },
   {
    "duration": 38,
    "start_time": "2022-05-19T13:27:23.793Z"
   },
   {
    "duration": 9,
    "start_time": "2022-05-19T13:27:23.832Z"
   },
   {
    "duration": 61,
    "start_time": "2022-05-19T13:27:23.843Z"
   },
   {
    "duration": 39,
    "start_time": "2022-05-19T13:27:23.906Z"
   },
   {
    "duration": 15,
    "start_time": "2022-05-19T13:27:23.947Z"
   },
   {
    "duration": 79,
    "start_time": "2022-05-19T13:27:23.964Z"
   },
   {
    "duration": 96,
    "start_time": "2022-05-19T13:27:24.045Z"
   },
   {
    "duration": 323,
    "start_time": "2022-05-19T13:27:24.143Z"
   },
   {
    "duration": 16,
    "start_time": "2022-05-19T13:27:24.468Z"
   },
   {
    "duration": 173,
    "start_time": "2022-05-19T13:27:24.488Z"
   },
   {
    "duration": 16,
    "start_time": "2022-05-19T13:27:24.662Z"
   },
   {
    "duration": 108,
    "start_time": "2022-05-19T13:27:24.679Z"
   },
   {
    "duration": 8,
    "start_time": "2022-05-19T13:27:24.788Z"
   },
   {
    "duration": 9,
    "start_time": "2022-05-19T13:27:24.797Z"
   },
   {
    "duration": 312,
    "start_time": "2022-05-19T13:27:24.807Z"
   },
   {
    "duration": 95,
    "start_time": "2022-05-19T13:27:25.121Z"
   },
   {
    "duration": 124,
    "start_time": "2022-05-19T13:27:25.218Z"
   },
   {
    "duration": 23,
    "start_time": "2022-05-19T13:27:25.343Z"
   },
   {
    "duration": 12,
    "start_time": "2022-05-19T13:27:25.368Z"
   },
   {
    "duration": 35,
    "start_time": "2022-05-19T13:27:25.381Z"
   },
   {
    "duration": 321,
    "start_time": "2022-05-19T13:27:25.418Z"
   },
   {
    "duration": 100,
    "start_time": "2022-05-19T13:27:25.741Z"
   },
   {
    "duration": 128,
    "start_time": "2022-05-19T13:27:25.843Z"
   },
   {
    "duration": 12,
    "start_time": "2022-05-19T13:27:25.972Z"
   },
   {
    "duration": 10,
    "start_time": "2022-05-19T13:27:25.986Z"
   },
   {
    "duration": 5,
    "start_time": "2022-05-19T13:27:25.998Z"
   },
   {
    "duration": 14,
    "start_time": "2022-05-19T13:27:26.005Z"
   },
   {
    "duration": 39,
    "start_time": "2022-05-19T13:27:26.021Z"
   },
   {
    "duration": 7,
    "start_time": "2022-05-19T13:27:26.063Z"
   },
   {
    "duration": 20,
    "start_time": "2022-05-19T13:27:26.072Z"
   },
   {
    "duration": 3,
    "start_time": "2022-05-19T13:27:26.093Z"
   },
   {
    "duration": 6,
    "start_time": "2022-05-19T13:27:26.098Z"
   },
   {
    "duration": 6,
    "start_time": "2022-05-19T13:27:26.106Z"
   },
   {
    "duration": 9,
    "start_time": "2022-05-19T13:27:26.113Z"
   },
   {
    "duration": 53,
    "start_time": "2022-05-19T13:27:26.124Z"
   },
   {
    "duration": 2,
    "start_time": "2022-05-19T13:27:26.179Z"
   },
   {
    "duration": 7,
    "start_time": "2022-05-19T13:27:26.183Z"
   },
   {
    "duration": 377,
    "start_time": "2022-05-19T13:27:26.192Z"
   },
   {
    "duration": 4,
    "start_time": "2022-05-19T13:27:26.571Z"
   },
   {
    "duration": 27,
    "start_time": "2022-05-19T13:27:26.577Z"
   },
   {
    "duration": 33,
    "start_time": "2022-05-19T13:27:26.605Z"
   },
   {
    "duration": 23,
    "start_time": "2022-05-19T13:27:26.661Z"
   },
   {
    "duration": 8,
    "start_time": "2022-05-19T13:27:26.685Z"
   },
   {
    "duration": 6,
    "start_time": "2022-05-19T13:27:26.694Z"
   },
   {
    "duration": 29,
    "start_time": "2022-05-19T13:27:26.701Z"
   },
   {
    "duration": 128,
    "start_time": "2022-05-19T13:27:26.732Z"
   },
   {
    "duration": 8,
    "start_time": "2022-05-19T13:27:26.862Z"
   },
   {
    "duration": 7,
    "start_time": "2022-05-19T13:27:26.871Z"
   },
   {
    "duration": 7,
    "start_time": "2022-05-19T13:27:26.880Z"
   },
   {
    "duration": 14,
    "start_time": "2022-05-19T13:27:26.889Z"
   },
   {
    "duration": 23,
    "start_time": "2022-05-19T13:27:26.904Z"
   },
   {
    "duration": 39,
    "start_time": "2022-05-19T13:27:26.929Z"
   },
   {
    "duration": 4,
    "start_time": "2022-05-19T13:27:26.969Z"
   },
   {
    "duration": 26,
    "start_time": "2022-05-19T13:27:26.974Z"
   },
   {
    "duration": 58,
    "start_time": "2022-05-19T13:27:27.001Z"
   },
   {
    "duration": 18,
    "start_time": "2022-05-19T13:27:27.061Z"
   },
   {
    "duration": 13,
    "start_time": "2022-05-19T13:27:27.080Z"
   },
   {
    "duration": 361,
    "start_time": "2022-05-19T13:28:26.676Z"
   },
   {
    "duration": 86,
    "start_time": "2022-05-19T13:28:35.505Z"
   },
   {
    "duration": 217,
    "start_time": "2022-05-19T13:28:40.001Z"
   },
   {
    "duration": 104,
    "start_time": "2022-05-19T13:29:02.020Z"
   },
   {
    "duration": 20,
    "start_time": "2022-05-19T13:29:11.995Z"
   },
   {
    "duration": 22,
    "start_time": "2022-05-19T13:29:53.843Z"
   },
   {
    "duration": 4,
    "start_time": "2022-05-19T13:30:25.606Z"
   },
   {
    "duration": 21,
    "start_time": "2022-05-19T13:30:31.160Z"
   },
   {
    "duration": 94,
    "start_time": "2022-05-19T13:30:36.455Z"
   },
   {
    "duration": 9,
    "start_time": "2022-05-19T13:30:49.856Z"
   },
   {
    "duration": 8,
    "start_time": "2022-05-19T13:30:52.121Z"
   },
   {
    "duration": 989,
    "start_time": "2022-05-19T13:31:06.291Z"
   },
   {
    "duration": 382,
    "start_time": "2022-05-19T13:31:07.282Z"
   },
   {
    "duration": 42,
    "start_time": "2022-05-19T13:31:07.666Z"
   },
   {
    "duration": 53,
    "start_time": "2022-05-19T13:31:07.711Z"
   },
   {
    "duration": 44,
    "start_time": "2022-05-19T13:31:07.765Z"
   },
   {
    "duration": 22,
    "start_time": "2022-05-19T13:31:07.811Z"
   },
   {
    "duration": 34,
    "start_time": "2022-05-19T13:31:07.835Z"
   },
   {
    "duration": 17,
    "start_time": "2022-05-19T13:31:07.870Z"
   },
   {
    "duration": 16,
    "start_time": "2022-05-19T13:31:07.889Z"
   },
   {
    "duration": 24,
    "start_time": "2022-05-19T13:31:07.908Z"
   },
   {
    "duration": 16,
    "start_time": "2022-05-19T13:31:07.934Z"
   },
   {
    "duration": 30,
    "start_time": "2022-05-19T13:31:07.952Z"
   },
   {
    "duration": 28,
    "start_time": "2022-05-19T13:31:07.984Z"
   },
   {
    "duration": 27,
    "start_time": "2022-05-19T13:31:08.014Z"
   },
   {
    "duration": 47,
    "start_time": "2022-05-19T13:31:08.042Z"
   },
   {
    "duration": 2,
    "start_time": "2022-05-19T13:31:08.091Z"
   },
   {
    "duration": 17,
    "start_time": "2022-05-19T13:31:08.094Z"
   },
   {
    "duration": 43,
    "start_time": "2022-05-19T13:31:08.112Z"
   },
   {
    "duration": 36,
    "start_time": "2022-05-19T13:31:08.157Z"
   },
   {
    "duration": 6,
    "start_time": "2022-05-19T13:31:08.195Z"
   },
   {
    "duration": 48,
    "start_time": "2022-05-19T13:31:08.203Z"
   },
   {
    "duration": 35,
    "start_time": "2022-05-19T13:31:08.253Z"
   },
   {
    "duration": 6,
    "start_time": "2022-05-19T13:31:08.289Z"
   },
   {
    "duration": 66,
    "start_time": "2022-05-19T13:31:08.296Z"
   },
   {
    "duration": 74,
    "start_time": "2022-05-19T13:31:08.364Z"
   },
   {
    "duration": 303,
    "start_time": "2022-05-19T13:31:08.440Z"
   },
   {
    "duration": 23,
    "start_time": "2022-05-19T13:31:08.745Z"
   },
   {
    "duration": 166,
    "start_time": "2022-05-19T13:31:08.772Z"
   },
   {
    "duration": 26,
    "start_time": "2022-05-19T13:31:08.939Z"
   },
   {
    "duration": 99,
    "start_time": "2022-05-19T13:31:08.967Z"
   },
   {
    "duration": 7,
    "start_time": "2022-05-19T13:31:09.067Z"
   },
   {
    "duration": 13,
    "start_time": "2022-05-19T13:31:09.076Z"
   },
   {
    "duration": 284,
    "start_time": "2022-05-19T13:31:09.090Z"
   },
   {
    "duration": 91,
    "start_time": "2022-05-19T13:31:09.375Z"
   },
   {
    "duration": 103,
    "start_time": "2022-05-19T13:31:09.468Z"
   },
   {
    "duration": 8,
    "start_time": "2022-05-19T13:31:09.572Z"
   },
   {
    "duration": 23,
    "start_time": "2022-05-19T13:31:09.581Z"
   },
   {
    "duration": 20,
    "start_time": "2022-05-19T13:31:09.606Z"
   },
   {
    "duration": 277,
    "start_time": "2022-05-19T13:31:09.627Z"
   },
   {
    "duration": 197,
    "start_time": "2022-05-19T13:31:09.906Z"
   },
   {
    "duration": 0,
    "start_time": "2022-05-19T13:31:10.105Z"
   },
   {
    "duration": 0,
    "start_time": "2022-05-19T13:31:10.107Z"
   },
   {
    "duration": 0,
    "start_time": "2022-05-19T13:31:10.117Z"
   },
   {
    "duration": 0,
    "start_time": "2022-05-19T13:31:10.118Z"
   },
   {
    "duration": 0,
    "start_time": "2022-05-19T13:31:10.120Z"
   },
   {
    "duration": 0,
    "start_time": "2022-05-19T13:31:10.121Z"
   },
   {
    "duration": 0,
    "start_time": "2022-05-19T13:31:10.123Z"
   },
   {
    "duration": 0,
    "start_time": "2022-05-19T13:31:10.125Z"
   },
   {
    "duration": 0,
    "start_time": "2022-05-19T13:31:10.126Z"
   },
   {
    "duration": 0,
    "start_time": "2022-05-19T13:31:10.128Z"
   },
   {
    "duration": 1,
    "start_time": "2022-05-19T13:31:10.129Z"
   },
   {
    "duration": 0,
    "start_time": "2022-05-19T13:31:10.131Z"
   },
   {
    "duration": 0,
    "start_time": "2022-05-19T13:31:10.132Z"
   },
   {
    "duration": 0,
    "start_time": "2022-05-19T13:31:10.133Z"
   },
   {
    "duration": 0,
    "start_time": "2022-05-19T13:31:10.134Z"
   },
   {
    "duration": 1,
    "start_time": "2022-05-19T13:31:10.135Z"
   },
   {
    "duration": 0,
    "start_time": "2022-05-19T13:31:10.160Z"
   },
   {
    "duration": 0,
    "start_time": "2022-05-19T13:31:10.161Z"
   },
   {
    "duration": 0,
    "start_time": "2022-05-19T13:31:10.162Z"
   },
   {
    "duration": 0,
    "start_time": "2022-05-19T13:31:10.163Z"
   },
   {
    "duration": 0,
    "start_time": "2022-05-19T13:31:10.164Z"
   },
   {
    "duration": 0,
    "start_time": "2022-05-19T13:31:10.165Z"
   },
   {
    "duration": 0,
    "start_time": "2022-05-19T13:31:10.166Z"
   },
   {
    "duration": 0,
    "start_time": "2022-05-19T13:31:10.167Z"
   },
   {
    "duration": 0,
    "start_time": "2022-05-19T13:31:10.169Z"
   },
   {
    "duration": 0,
    "start_time": "2022-05-19T13:31:10.170Z"
   },
   {
    "duration": 0,
    "start_time": "2022-05-19T13:31:10.171Z"
   },
   {
    "duration": 0,
    "start_time": "2022-05-19T13:31:10.172Z"
   },
   {
    "duration": 0,
    "start_time": "2022-05-19T13:31:10.174Z"
   },
   {
    "duration": 0,
    "start_time": "2022-05-19T13:31:10.175Z"
   },
   {
    "duration": 0,
    "start_time": "2022-05-19T13:31:10.176Z"
   },
   {
    "duration": 0,
    "start_time": "2022-05-19T13:31:10.177Z"
   },
   {
    "duration": 0,
    "start_time": "2022-05-19T13:31:10.178Z"
   },
   {
    "duration": 0,
    "start_time": "2022-05-19T13:31:10.179Z"
   },
   {
    "duration": 0,
    "start_time": "2022-05-19T13:31:10.180Z"
   },
   {
    "duration": 83,
    "start_time": "2022-05-19T13:31:35.375Z"
   },
   {
    "duration": 1026,
    "start_time": "2022-05-19T13:31:42.141Z"
   },
   {
    "duration": 388,
    "start_time": "2022-05-19T13:31:43.169Z"
   },
   {
    "duration": 40,
    "start_time": "2022-05-19T13:31:43.559Z"
   },
   {
    "duration": 32,
    "start_time": "2022-05-19T13:31:43.601Z"
   },
   {
    "duration": 49,
    "start_time": "2022-05-19T13:31:43.635Z"
   },
   {
    "duration": 16,
    "start_time": "2022-05-19T13:31:43.685Z"
   },
   {
    "duration": 13,
    "start_time": "2022-05-19T13:31:43.703Z"
   },
   {
    "duration": 42,
    "start_time": "2022-05-19T13:31:43.718Z"
   },
   {
    "duration": 12,
    "start_time": "2022-05-19T13:31:43.762Z"
   },
   {
    "duration": 15,
    "start_time": "2022-05-19T13:31:43.776Z"
   },
   {
    "duration": 3,
    "start_time": "2022-05-19T13:31:43.793Z"
   },
   {
    "duration": 4,
    "start_time": "2022-05-19T13:31:43.798Z"
   },
   {
    "duration": 18,
    "start_time": "2022-05-19T13:31:43.804Z"
   },
   {
    "duration": 4,
    "start_time": "2022-05-19T13:31:43.823Z"
   },
   {
    "duration": 66,
    "start_time": "2022-05-19T13:31:43.828Z"
   },
   {
    "duration": 2,
    "start_time": "2022-05-19T13:31:43.896Z"
   },
   {
    "duration": 10,
    "start_time": "2022-05-19T13:31:43.899Z"
   },
   {
    "duration": 27,
    "start_time": "2022-05-19T13:31:43.911Z"
   },
   {
    "duration": 51,
    "start_time": "2022-05-19T13:31:43.939Z"
   },
   {
    "duration": 7,
    "start_time": "2022-05-19T13:31:43.991Z"
   },
   {
    "duration": 34,
    "start_time": "2022-05-19T13:31:44.000Z"
   },
   {
    "duration": 54,
    "start_time": "2022-05-19T13:31:44.036Z"
   },
   {
    "duration": 7,
    "start_time": "2022-05-19T13:31:44.091Z"
   },
   {
    "duration": 65,
    "start_time": "2022-05-19T13:31:44.099Z"
   },
   {
    "duration": 76,
    "start_time": "2022-05-19T13:31:44.165Z"
   },
   {
    "duration": 300,
    "start_time": "2022-05-19T13:31:44.242Z"
   },
   {
    "duration": 19,
    "start_time": "2022-05-19T13:31:44.544Z"
   },
   {
    "duration": 169,
    "start_time": "2022-05-19T13:31:44.566Z"
   },
   {
    "duration": 27,
    "start_time": "2022-05-19T13:31:44.737Z"
   },
   {
    "duration": 101,
    "start_time": "2022-05-19T13:31:44.766Z"
   },
   {
    "duration": 8,
    "start_time": "2022-05-19T13:31:44.868Z"
   },
   {
    "duration": 9,
    "start_time": "2022-05-19T13:31:44.877Z"
   },
   {
    "duration": 297,
    "start_time": "2022-05-19T13:31:44.887Z"
   },
   {
    "duration": 86,
    "start_time": "2022-05-19T13:31:45.185Z"
   },
   {
    "duration": 103,
    "start_time": "2022-05-19T13:31:45.273Z"
   },
   {
    "duration": 7,
    "start_time": "2022-05-19T13:31:45.377Z"
   },
   {
    "duration": 9,
    "start_time": "2022-05-19T13:31:45.386Z"
   },
   {
    "duration": 17,
    "start_time": "2022-05-19T13:31:45.396Z"
   },
   {
    "duration": 294,
    "start_time": "2022-05-19T13:31:45.415Z"
   },
   {
    "duration": 93,
    "start_time": "2022-05-19T13:31:45.711Z"
   },
   {
    "duration": 112,
    "start_time": "2022-05-19T13:31:45.806Z"
   },
   {
    "duration": 7,
    "start_time": "2022-05-19T13:31:45.920Z"
   },
   {
    "duration": 14,
    "start_time": "2022-05-19T13:31:45.929Z"
   },
   {
    "duration": 4,
    "start_time": "2022-05-19T13:31:45.944Z"
   },
   {
    "duration": 13,
    "start_time": "2022-05-19T13:31:45.959Z"
   },
   {
    "duration": 13,
    "start_time": "2022-05-19T13:31:45.974Z"
   },
   {
    "duration": 8,
    "start_time": "2022-05-19T13:31:45.988Z"
   },
   {
    "duration": 18,
    "start_time": "2022-05-19T13:31:45.997Z"
   },
   {
    "duration": 13,
    "start_time": "2022-05-19T13:31:46.016Z"
   },
   {
    "duration": 11,
    "start_time": "2022-05-19T13:31:46.030Z"
   },
   {
    "duration": 18,
    "start_time": "2022-05-19T13:31:46.042Z"
   },
   {
    "duration": 8,
    "start_time": "2022-05-19T13:31:46.061Z"
   },
   {
    "duration": 28,
    "start_time": "2022-05-19T13:31:46.070Z"
   },
   {
    "duration": 2,
    "start_time": "2022-05-19T13:31:46.100Z"
   },
   {
    "duration": 5,
    "start_time": "2022-05-19T13:31:46.103Z"
   },
   {
    "duration": 367,
    "start_time": "2022-05-19T13:31:46.109Z"
   },
   {
    "duration": 3,
    "start_time": "2022-05-19T13:31:46.478Z"
   },
   {
    "duration": 26,
    "start_time": "2022-05-19T13:31:46.482Z"
   },
   {
    "duration": 24,
    "start_time": "2022-05-19T13:31:46.509Z"
   },
   {
    "duration": 41,
    "start_time": "2022-05-19T13:31:46.535Z"
   },
   {
    "duration": 6,
    "start_time": "2022-05-19T13:31:46.578Z"
   },
   {
    "duration": 4,
    "start_time": "2022-05-19T13:31:46.585Z"
   },
   {
    "duration": 28,
    "start_time": "2022-05-19T13:31:46.590Z"
   },
   {
    "duration": 90,
    "start_time": "2022-05-19T13:31:46.619Z"
   },
   {
    "duration": 8,
    "start_time": "2022-05-19T13:31:46.711Z"
   },
   {
    "duration": 5,
    "start_time": "2022-05-19T13:31:46.720Z"
   },
   {
    "duration": 7,
    "start_time": "2022-05-19T13:31:46.727Z"
   },
   {
    "duration": 29,
    "start_time": "2022-05-19T13:31:46.735Z"
   },
   {
    "duration": 11,
    "start_time": "2022-05-19T13:31:46.765Z"
   },
   {
    "duration": 18,
    "start_time": "2022-05-19T13:31:46.778Z"
   },
   {
    "duration": 2,
    "start_time": "2022-05-19T13:31:46.798Z"
   },
   {
    "duration": 24,
    "start_time": "2022-05-19T13:31:46.801Z"
   },
   {
    "duration": 49,
    "start_time": "2022-05-19T13:31:46.826Z"
   },
   {
    "duration": 14,
    "start_time": "2022-05-19T13:31:46.876Z"
   },
   {
    "duration": 11,
    "start_time": "2022-05-19T13:31:46.891Z"
   },
   {
    "duration": 4,
    "start_time": "2022-05-19T13:44:15.797Z"
   },
   {
    "duration": 32,
    "start_time": "2022-05-19T13:44:35.552Z"
   },
   {
    "duration": 27,
    "start_time": "2022-05-19T13:44:40.438Z"
   },
   {
    "duration": 22,
    "start_time": "2022-05-19T13:44:49.893Z"
   },
   {
    "duration": 1051,
    "start_time": "2022-05-19T13:45:06.631Z"
   },
   {
    "duration": 445,
    "start_time": "2022-05-19T13:45:07.683Z"
   },
   {
    "duration": 40,
    "start_time": "2022-05-19T13:45:08.129Z"
   },
   {
    "duration": 30,
    "start_time": "2022-05-19T13:45:08.171Z"
   },
   {
    "duration": 26,
    "start_time": "2022-05-19T13:45:08.202Z"
   },
   {
    "duration": 35,
    "start_time": "2022-05-19T13:45:08.230Z"
   },
   {
    "duration": 16,
    "start_time": "2022-05-19T13:45:08.267Z"
   },
   {
    "duration": 20,
    "start_time": "2022-05-19T13:45:08.285Z"
   },
   {
    "duration": 11,
    "start_time": "2022-05-19T13:45:08.307Z"
   },
   {
    "duration": 15,
    "start_time": "2022-05-19T13:45:08.321Z"
   },
   {
    "duration": 4,
    "start_time": "2022-05-19T13:45:08.337Z"
   },
   {
    "duration": 4,
    "start_time": "2022-05-19T13:45:08.360Z"
   },
   {
    "duration": 14,
    "start_time": "2022-05-19T13:45:08.365Z"
   },
   {
    "duration": 15,
    "start_time": "2022-05-19T13:45:08.381Z"
   },
   {
    "duration": 44,
    "start_time": "2022-05-19T13:45:08.397Z"
   },
   {
    "duration": 2,
    "start_time": "2022-05-19T13:45:08.442Z"
   },
   {
    "duration": 17,
    "start_time": "2022-05-19T13:45:08.446Z"
   },
   {
    "duration": 34,
    "start_time": "2022-05-19T13:45:08.465Z"
   },
   {
    "duration": 38,
    "start_time": "2022-05-19T13:45:08.501Z"
   },
   {
    "duration": 7,
    "start_time": "2022-05-19T13:45:08.541Z"
   },
   {
    "duration": 44,
    "start_time": "2022-05-19T13:45:08.559Z"
   },
   {
    "duration": 43,
    "start_time": "2022-05-19T13:45:08.605Z"
   },
   {
    "duration": 11,
    "start_time": "2022-05-19T13:45:08.650Z"
   },
   {
    "duration": 62,
    "start_time": "2022-05-19T13:45:08.662Z"
   },
   {
    "duration": 91,
    "start_time": "2022-05-19T13:45:08.725Z"
   },
   {
    "duration": 298,
    "start_time": "2022-05-19T13:45:08.817Z"
   },
   {
    "duration": 16,
    "start_time": "2022-05-19T13:45:09.116Z"
   },
   {
    "duration": 170,
    "start_time": "2022-05-19T13:45:09.136Z"
   },
   {
    "duration": 15,
    "start_time": "2022-05-19T13:45:09.308Z"
   },
   {
    "duration": 108,
    "start_time": "2022-05-19T13:45:09.325Z"
   },
   {
    "duration": 8,
    "start_time": "2022-05-19T13:45:09.434Z"
   },
   {
    "duration": 21,
    "start_time": "2022-05-19T13:45:09.443Z"
   },
   {
    "duration": 273,
    "start_time": "2022-05-19T13:45:09.465Z"
   },
   {
    "duration": 87,
    "start_time": "2022-05-19T13:45:09.739Z"
   },
   {
    "duration": 111,
    "start_time": "2022-05-19T13:45:09.828Z"
   },
   {
    "duration": 19,
    "start_time": "2022-05-19T13:45:09.941Z"
   },
   {
    "duration": 7,
    "start_time": "2022-05-19T13:45:09.962Z"
   },
   {
    "duration": 16,
    "start_time": "2022-05-19T13:45:09.970Z"
   },
   {
    "duration": 300,
    "start_time": "2022-05-19T13:45:09.988Z"
   },
   {
    "duration": 88,
    "start_time": "2022-05-19T13:45:10.290Z"
   },
   {
    "duration": 103,
    "start_time": "2022-05-19T13:45:10.379Z"
   },
   {
    "duration": 8,
    "start_time": "2022-05-19T13:45:10.483Z"
   },
   {
    "duration": 7,
    "start_time": "2022-05-19T13:45:10.493Z"
   },
   {
    "duration": 6,
    "start_time": "2022-05-19T13:45:10.501Z"
   },
   {
    "duration": 9,
    "start_time": "2022-05-19T13:45:10.509Z"
   },
   {
    "duration": 41,
    "start_time": "2022-05-19T13:45:10.520Z"
   },
   {
    "duration": 8,
    "start_time": "2022-05-19T13:45:10.563Z"
   },
   {
    "duration": 15,
    "start_time": "2022-05-19T13:45:10.572Z"
   },
   {
    "duration": 2,
    "start_time": "2022-05-19T13:45:10.588Z"
   },
   {
    "duration": 6,
    "start_time": "2022-05-19T13:45:10.592Z"
   },
   {
    "duration": 5,
    "start_time": "2022-05-19T13:45:10.599Z"
   },
   {
    "duration": 11,
    "start_time": "2022-05-19T13:45:10.605Z"
   },
   {
    "duration": 45,
    "start_time": "2022-05-19T13:45:10.617Z"
   },
   {
    "duration": 2,
    "start_time": "2022-05-19T13:45:10.664Z"
   },
   {
    "duration": 7,
    "start_time": "2022-05-19T13:45:10.667Z"
   },
   {
    "duration": 373,
    "start_time": "2022-05-19T13:45:10.676Z"
   },
   {
    "duration": 9,
    "start_time": "2022-05-19T13:45:11.050Z"
   },
   {
    "duration": 24,
    "start_time": "2022-05-19T13:45:11.060Z"
   },
   {
    "duration": 26,
    "start_time": "2022-05-19T13:45:11.086Z"
   },
   {
    "duration": 21,
    "start_time": "2022-05-19T13:45:11.113Z"
   },
   {
    "duration": 28,
    "start_time": "2022-05-19T13:45:11.136Z"
   },
   {
    "duration": 6,
    "start_time": "2022-05-19T13:45:11.165Z"
   },
   {
    "duration": 28,
    "start_time": "2022-05-19T13:45:11.172Z"
   },
   {
    "duration": 80,
    "start_time": "2022-05-19T13:45:11.202Z"
   },
   {
    "duration": 8,
    "start_time": "2022-05-19T13:45:11.283Z"
   },
   {
    "duration": 8,
    "start_time": "2022-05-19T13:45:11.293Z"
   },
   {
    "duration": 7,
    "start_time": "2022-05-19T13:45:11.302Z"
   },
   {
    "duration": 16,
    "start_time": "2022-05-19T13:45:11.310Z"
   },
   {
    "duration": 14,
    "start_time": "2022-05-19T13:45:11.328Z"
   },
   {
    "duration": 31,
    "start_time": "2022-05-19T13:45:11.344Z"
   },
   {
    "duration": 3,
    "start_time": "2022-05-19T13:45:11.376Z"
   },
   {
    "duration": 23,
    "start_time": "2022-05-19T13:45:11.381Z"
   },
   {
    "duration": 31,
    "start_time": "2022-05-19T13:45:11.406Z"
   },
   {
    "duration": 14,
    "start_time": "2022-05-19T13:45:11.459Z"
   },
   {
    "duration": 9,
    "start_time": "2022-05-19T13:45:11.475Z"
   },
   {
    "duration": 4,
    "start_time": "2022-05-19T13:45:55.289Z"
   },
   {
    "duration": 30,
    "start_time": "2022-05-19T13:45:58.208Z"
   },
   {
    "duration": 76,
    "start_time": "2022-05-19T13:46:04.300Z"
   },
   {
    "duration": 7,
    "start_time": "2022-05-19T13:46:11.036Z"
   },
   {
    "duration": 57,
    "start_time": "2022-05-19T13:46:38.752Z"
   },
   {
    "duration": 59,
    "start_time": "2022-05-19T13:54:16.037Z"
   },
   {
    "duration": 1054,
    "start_time": "2022-05-19T13:56:37.398Z"
   },
   {
    "duration": 397,
    "start_time": "2022-05-19T13:56:38.454Z"
   },
   {
    "duration": 42,
    "start_time": "2022-05-19T13:56:38.852Z"
   },
   {
    "duration": 50,
    "start_time": "2022-05-19T13:56:38.896Z"
   },
   {
    "duration": 44,
    "start_time": "2022-05-19T13:56:38.958Z"
   },
   {
    "duration": 31,
    "start_time": "2022-05-19T13:56:39.004Z"
   },
   {
    "duration": 18,
    "start_time": "2022-05-19T13:56:39.037Z"
   },
   {
    "duration": 46,
    "start_time": "2022-05-19T13:56:39.062Z"
   },
   {
    "duration": 18,
    "start_time": "2022-05-19T13:56:39.110Z"
   },
   {
    "duration": 35,
    "start_time": "2022-05-19T13:56:39.129Z"
   },
   {
    "duration": 21,
    "start_time": "2022-05-19T13:56:39.165Z"
   },
   {
    "duration": 15,
    "start_time": "2022-05-19T13:56:39.188Z"
   },
   {
    "duration": 16,
    "start_time": "2022-05-19T13:56:39.205Z"
   },
   {
    "duration": 11,
    "start_time": "2022-05-19T13:56:39.225Z"
   },
   {
    "duration": 90,
    "start_time": "2022-05-19T13:56:39.237Z"
   },
   {
    "duration": 2,
    "start_time": "2022-05-19T13:56:39.329Z"
   },
   {
    "duration": 33,
    "start_time": "2022-05-19T13:56:39.333Z"
   },
   {
    "duration": 57,
    "start_time": "2022-05-19T13:56:39.368Z"
   },
   {
    "duration": 67,
    "start_time": "2022-05-19T13:56:39.427Z"
   },
   {
    "duration": 9,
    "start_time": "2022-05-19T13:56:39.496Z"
   },
   {
    "duration": 61,
    "start_time": "2022-05-19T13:56:39.507Z"
   },
   {
    "duration": 37,
    "start_time": "2022-05-19T13:56:39.576Z"
   },
   {
    "duration": 10,
    "start_time": "2022-05-19T13:56:39.615Z"
   },
   {
    "duration": 61,
    "start_time": "2022-05-19T13:56:39.626Z"
   },
   {
    "duration": 92,
    "start_time": "2022-05-19T13:56:39.689Z"
   },
   {
    "duration": 318,
    "start_time": "2022-05-19T13:56:39.783Z"
   },
   {
    "duration": 19,
    "start_time": "2022-05-19T13:56:40.103Z"
   },
   {
    "duration": 197,
    "start_time": "2022-05-19T13:56:40.124Z"
   },
   {
    "duration": 16,
    "start_time": "2022-05-19T13:56:40.323Z"
   },
   {
    "duration": 155,
    "start_time": "2022-05-19T13:56:40.340Z"
   },
   {
    "duration": 11,
    "start_time": "2022-05-19T13:56:40.497Z"
   },
   {
    "duration": 23,
    "start_time": "2022-05-19T13:56:40.510Z"
   },
   {
    "duration": 436,
    "start_time": "2022-05-19T13:56:40.534Z"
   },
   {
    "duration": 140,
    "start_time": "2022-05-19T13:56:40.972Z"
   },
   {
    "duration": 156,
    "start_time": "2022-05-19T13:56:41.114Z"
   },
   {
    "duration": 10,
    "start_time": "2022-05-19T13:56:41.272Z"
   },
   {
    "duration": 12,
    "start_time": "2022-05-19T13:56:41.283Z"
   },
   {
    "duration": 26,
    "start_time": "2022-05-19T13:56:41.297Z"
   },
   {
    "duration": 492,
    "start_time": "2022-05-19T13:56:41.324Z"
   },
   {
    "duration": 143,
    "start_time": "2022-05-19T13:56:41.818Z"
   },
   {
    "duration": 127,
    "start_time": "2022-05-19T13:56:41.967Z"
   },
   {
    "duration": 11,
    "start_time": "2022-05-19T13:56:42.096Z"
   },
   {
    "duration": 18,
    "start_time": "2022-05-19T13:56:42.109Z"
   },
   {
    "duration": 7,
    "start_time": "2022-05-19T13:56:42.129Z"
   },
   {
    "duration": 22,
    "start_time": "2022-05-19T13:56:42.138Z"
   },
   {
    "duration": 17,
    "start_time": "2022-05-19T13:56:42.162Z"
   },
   {
    "duration": 15,
    "start_time": "2022-05-19T13:56:42.180Z"
   },
   {
    "duration": 17,
    "start_time": "2022-05-19T13:56:42.197Z"
   },
   {
    "duration": 25,
    "start_time": "2022-05-19T13:56:42.216Z"
   },
   {
    "duration": 24,
    "start_time": "2022-05-19T13:56:42.243Z"
   },
   {
    "duration": 12,
    "start_time": "2022-05-19T13:56:42.269Z"
   },
   {
    "duration": 11,
    "start_time": "2022-05-19T13:56:42.283Z"
   },
   {
    "duration": 34,
    "start_time": "2022-05-19T13:56:42.296Z"
   },
   {
    "duration": 5,
    "start_time": "2022-05-19T13:56:42.331Z"
   },
   {
    "duration": 8,
    "start_time": "2022-05-19T13:56:42.337Z"
   },
   {
    "duration": 392,
    "start_time": "2022-05-19T13:56:42.347Z"
   },
   {
    "duration": 4,
    "start_time": "2022-05-19T13:56:42.741Z"
   },
   {
    "duration": 34,
    "start_time": "2022-05-19T13:56:42.746Z"
   },
   {
    "duration": 26,
    "start_time": "2022-05-19T13:56:42.781Z"
   },
   {
    "duration": 27,
    "start_time": "2022-05-19T13:56:42.808Z"
   },
   {
    "duration": 7,
    "start_time": "2022-05-19T13:56:42.860Z"
   },
   {
    "duration": 15,
    "start_time": "2022-05-19T13:56:42.868Z"
   },
   {
    "duration": 42,
    "start_time": "2022-05-19T13:56:42.884Z"
   },
   {
    "duration": 75,
    "start_time": "2022-05-19T13:56:42.928Z"
   },
   {
    "duration": 8,
    "start_time": "2022-05-19T13:56:43.005Z"
   },
   {
    "duration": 9,
    "start_time": "2022-05-19T13:56:43.015Z"
   },
   {
    "duration": 11,
    "start_time": "2022-05-19T13:56:43.026Z"
   },
   {
    "duration": 27,
    "start_time": "2022-05-19T13:56:43.039Z"
   },
   {
    "duration": 17,
    "start_time": "2022-05-19T13:56:43.068Z"
   },
   {
    "duration": 22,
    "start_time": "2022-05-19T13:56:43.086Z"
   },
   {
    "duration": 7,
    "start_time": "2022-05-19T13:56:43.110Z"
   },
   {
    "duration": 29,
    "start_time": "2022-05-19T13:56:43.118Z"
   },
   {
    "duration": 53,
    "start_time": "2022-05-19T13:56:43.149Z"
   },
   {
    "duration": 19,
    "start_time": "2022-05-19T13:56:43.204Z"
   },
   {
    "duration": 12,
    "start_time": "2022-05-19T13:56:43.224Z"
   },
   {
    "duration": 53,
    "start_time": "2022-05-20T11:39:59.652Z"
   },
   {
    "duration": 1045,
    "start_time": "2022-05-20T11:40:05.261Z"
   },
   {
    "duration": 1304,
    "start_time": "2022-05-20T11:40:06.308Z"
   },
   {
    "duration": 40,
    "start_time": "2022-05-20T11:40:07.613Z"
   },
   {
    "duration": 34,
    "start_time": "2022-05-20T11:40:07.654Z"
   },
   {
    "duration": 26,
    "start_time": "2022-05-20T11:40:07.689Z"
   },
   {
    "duration": 27,
    "start_time": "2022-05-20T11:40:07.717Z"
   },
   {
    "duration": 29,
    "start_time": "2022-05-20T11:40:07.745Z"
   },
   {
    "duration": 58,
    "start_time": "2022-05-20T11:40:07.776Z"
   },
   {
    "duration": 41,
    "start_time": "2022-05-20T11:40:07.836Z"
   },
   {
    "duration": 39,
    "start_time": "2022-05-20T11:40:07.880Z"
   },
   {
    "duration": 14,
    "start_time": "2022-05-20T11:40:07.921Z"
   },
   {
    "duration": 27,
    "start_time": "2022-05-20T11:40:07.937Z"
   },
   {
    "duration": 33,
    "start_time": "2022-05-20T11:40:07.965Z"
   },
   {
    "duration": 28,
    "start_time": "2022-05-20T11:40:08.000Z"
   },
   {
    "duration": 76,
    "start_time": "2022-05-20T11:40:08.030Z"
   },
   {
    "duration": 2,
    "start_time": "2022-05-20T11:40:08.108Z"
   },
   {
    "duration": 25,
    "start_time": "2022-05-20T11:40:08.112Z"
   },
   {
    "duration": 42,
    "start_time": "2022-05-20T11:40:08.138Z"
   },
   {
    "duration": 70,
    "start_time": "2022-05-20T11:40:08.181Z"
   },
   {
    "duration": 7,
    "start_time": "2022-05-20T11:40:08.252Z"
   },
   {
    "duration": 50,
    "start_time": "2022-05-20T11:40:08.260Z"
   },
   {
    "duration": 37,
    "start_time": "2022-05-20T11:40:08.311Z"
   },
   {
    "duration": 6,
    "start_time": "2022-05-20T11:40:08.349Z"
   },
   {
    "duration": 63,
    "start_time": "2022-05-20T11:40:08.359Z"
   },
   {
    "duration": 78,
    "start_time": "2022-05-20T11:40:08.423Z"
   },
   {
    "duration": 305,
    "start_time": "2022-05-20T11:40:08.503Z"
   },
   {
    "duration": 15,
    "start_time": "2022-05-20T11:40:08.810Z"
   },
   {
    "duration": 164,
    "start_time": "2022-05-20T11:40:08.830Z"
   },
   {
    "duration": 15,
    "start_time": "2022-05-20T11:40:08.996Z"
   },
   {
    "duration": 105,
    "start_time": "2022-05-20T11:40:09.013Z"
   },
   {
    "duration": 7,
    "start_time": "2022-05-20T11:40:09.119Z"
   },
   {
    "duration": 26,
    "start_time": "2022-05-20T11:40:09.127Z"
   },
   {
    "duration": 293,
    "start_time": "2022-05-20T11:40:09.155Z"
   },
   {
    "duration": 82,
    "start_time": "2022-05-20T11:40:09.449Z"
   },
   {
    "duration": 101,
    "start_time": "2022-05-20T11:40:09.532Z"
   },
   {
    "duration": 7,
    "start_time": "2022-05-20T11:40:09.635Z"
   },
   {
    "duration": 21,
    "start_time": "2022-05-20T11:40:09.643Z"
   },
   {
    "duration": 37,
    "start_time": "2022-05-20T11:40:09.665Z"
   },
   {
    "duration": 287,
    "start_time": "2022-05-20T11:40:09.704Z"
   },
   {
    "duration": 96,
    "start_time": "2022-05-20T11:40:09.992Z"
   },
   {
    "duration": 111,
    "start_time": "2022-05-20T11:40:10.090Z"
   },
   {
    "duration": 8,
    "start_time": "2022-05-20T11:40:10.203Z"
   },
   {
    "duration": 29,
    "start_time": "2022-05-20T11:40:10.213Z"
   },
   {
    "duration": 20,
    "start_time": "2022-05-20T11:40:10.244Z"
   },
   {
    "duration": 33,
    "start_time": "2022-05-20T11:40:10.265Z"
   },
   {
    "duration": 23,
    "start_time": "2022-05-20T11:40:10.299Z"
   },
   {
    "duration": 29,
    "start_time": "2022-05-20T11:40:10.324Z"
   },
   {
    "duration": 25,
    "start_time": "2022-05-20T11:40:10.354Z"
   },
   {
    "duration": 12,
    "start_time": "2022-05-20T11:40:10.380Z"
   },
   {
    "duration": 31,
    "start_time": "2022-05-20T11:40:10.393Z"
   },
   {
    "duration": 19,
    "start_time": "2022-05-20T11:40:10.425Z"
   },
   {
    "duration": 28,
    "start_time": "2022-05-20T11:40:10.446Z"
   },
   {
    "duration": 55,
    "start_time": "2022-05-20T11:40:10.476Z"
   },
   {
    "duration": 2,
    "start_time": "2022-05-20T11:40:10.532Z"
   },
   {
    "duration": 22,
    "start_time": "2022-05-20T11:40:10.535Z"
   },
   {
    "duration": 376,
    "start_time": "2022-05-20T11:40:10.558Z"
   },
   {
    "duration": 5,
    "start_time": "2022-05-20T11:40:10.935Z"
   },
   {
    "duration": 56,
    "start_time": "2022-05-20T11:40:10.941Z"
   },
   {
    "duration": 26,
    "start_time": "2022-05-20T11:40:10.998Z"
   },
   {
    "duration": 22,
    "start_time": "2022-05-20T11:40:11.025Z"
   },
   {
    "duration": 3,
    "start_time": "2022-05-20T11:40:11.049Z"
   },
   {
    "duration": 11,
    "start_time": "2022-05-20T11:40:11.053Z"
   },
   {
    "duration": 3,
    "start_time": "2022-05-20T11:40:11.065Z"
   },
   {
    "duration": 27,
    "start_time": "2022-05-20T11:40:11.069Z"
   },
   {
    "duration": 76,
    "start_time": "2022-05-20T11:40:11.097Z"
   },
   {
    "duration": 6,
    "start_time": "2022-05-20T11:40:11.175Z"
   },
   {
    "duration": 8,
    "start_time": "2022-05-20T11:40:11.182Z"
   },
   {
    "duration": 7,
    "start_time": "2022-05-20T11:40:11.191Z"
   },
   {
    "duration": 16,
    "start_time": "2022-05-20T11:40:11.199Z"
   },
   {
    "duration": 12,
    "start_time": "2022-05-20T11:40:11.216Z"
   },
   {
    "duration": 30,
    "start_time": "2022-05-20T11:40:11.230Z"
   },
   {
    "duration": 3,
    "start_time": "2022-05-20T11:40:11.261Z"
   },
   {
    "duration": 27,
    "start_time": "2022-05-20T11:40:11.265Z"
   },
   {
    "duration": 31,
    "start_time": "2022-05-20T11:40:11.293Z"
   },
   {
    "duration": 14,
    "start_time": "2022-05-20T11:40:11.325Z"
   },
   {
    "duration": 21,
    "start_time": "2022-05-20T11:40:11.359Z"
   },
   {
    "duration": 4,
    "start_time": "2022-05-20T11:40:33.027Z"
   },
   {
    "duration": 4,
    "start_time": "2022-05-20T11:40:39.904Z"
   },
   {
    "duration": 997,
    "start_time": "2022-05-20T11:52:11.300Z"
   },
   {
    "duration": 373,
    "start_time": "2022-05-20T11:52:12.299Z"
   },
   {
    "duration": 41,
    "start_time": "2022-05-20T11:52:12.673Z"
   },
   {
    "duration": 31,
    "start_time": "2022-05-20T11:52:12.716Z"
   },
   {
    "duration": 27,
    "start_time": "2022-05-20T11:52:12.760Z"
   },
   {
    "duration": 17,
    "start_time": "2022-05-20T11:52:12.788Z"
   },
   {
    "duration": 12,
    "start_time": "2022-05-20T11:52:12.807Z"
   },
   {
    "duration": 43,
    "start_time": "2022-05-20T11:52:12.821Z"
   },
   {
    "duration": 11,
    "start_time": "2022-05-20T11:52:12.866Z"
   },
   {
    "duration": 18,
    "start_time": "2022-05-20T11:52:12.880Z"
   },
   {
    "duration": 27,
    "start_time": "2022-05-20T11:52:12.899Z"
   },
   {
    "duration": 11,
    "start_time": "2022-05-20T11:52:12.928Z"
   },
   {
    "duration": 22,
    "start_time": "2022-05-20T11:52:12.941Z"
   },
   {
    "duration": 16,
    "start_time": "2022-05-20T11:52:12.965Z"
   },
   {
    "duration": 49,
    "start_time": "2022-05-20T11:52:12.983Z"
   },
   {
    "duration": 2,
    "start_time": "2022-05-20T11:52:13.034Z"
   },
   {
    "duration": 13,
    "start_time": "2022-05-20T11:52:13.038Z"
   },
   {
    "duration": 30,
    "start_time": "2022-05-20T11:52:13.052Z"
   },
   {
    "duration": 38,
    "start_time": "2022-05-20T11:52:13.083Z"
   },
   {
    "duration": 7,
    "start_time": "2022-05-20T11:52:13.123Z"
   },
   {
    "duration": 49,
    "start_time": "2022-05-20T11:52:13.132Z"
   },
   {
    "duration": 36,
    "start_time": "2022-05-20T11:52:13.183Z"
   },
   {
    "duration": 8,
    "start_time": "2022-05-20T11:52:13.221Z"
   },
   {
    "duration": 67,
    "start_time": "2022-05-20T11:52:13.230Z"
   },
   {
    "duration": 80,
    "start_time": "2022-05-20T11:52:13.299Z"
   },
   {
    "duration": 299,
    "start_time": "2022-05-20T11:52:13.381Z"
   },
   {
    "duration": 20,
    "start_time": "2022-05-20T11:52:13.681Z"
   },
   {
    "duration": 175,
    "start_time": "2022-05-20T11:52:13.704Z"
   },
   {
    "duration": 16,
    "start_time": "2022-05-20T11:52:13.881Z"
   },
   {
    "duration": 110,
    "start_time": "2022-05-20T11:52:13.898Z"
   },
   {
    "duration": 7,
    "start_time": "2022-05-20T11:52:14.009Z"
   },
   {
    "duration": 10,
    "start_time": "2022-05-20T11:52:14.017Z"
   },
   {
    "duration": 269,
    "start_time": "2022-05-20T11:52:14.028Z"
   },
   {
    "duration": 86,
    "start_time": "2022-05-20T11:52:14.298Z"
   },
   {
    "duration": 93,
    "start_time": "2022-05-20T11:52:14.386Z"
   },
   {
    "duration": 7,
    "start_time": "2022-05-20T11:52:14.480Z"
   },
   {
    "duration": 10,
    "start_time": "2022-05-20T11:52:14.488Z"
   },
   {
    "duration": 22,
    "start_time": "2022-05-20T11:52:14.500Z"
   },
   {
    "duration": 285,
    "start_time": "2022-05-20T11:52:14.523Z"
   },
   {
    "duration": 99,
    "start_time": "2022-05-20T11:52:14.810Z"
   },
   {
    "duration": 112,
    "start_time": "2022-05-20T11:52:14.910Z"
   },
   {
    "duration": 12,
    "start_time": "2022-05-20T11:52:15.024Z"
   },
   {
    "duration": 30,
    "start_time": "2022-05-20T11:52:15.038Z"
   },
   {
    "duration": 31,
    "start_time": "2022-05-20T11:52:15.070Z"
   },
   {
    "duration": 20,
    "start_time": "2022-05-20T11:52:15.102Z"
   },
   {
    "duration": 21,
    "start_time": "2022-05-20T11:52:15.124Z"
   },
   {
    "duration": 25,
    "start_time": "2022-05-20T11:52:15.147Z"
   },
   {
    "duration": 24,
    "start_time": "2022-05-20T11:52:15.173Z"
   },
   {
    "duration": 9,
    "start_time": "2022-05-20T11:52:15.199Z"
   },
   {
    "duration": 24,
    "start_time": "2022-05-20T11:52:15.209Z"
   },
   {
    "duration": 19,
    "start_time": "2022-05-20T11:52:15.235Z"
   },
   {
    "duration": 17,
    "start_time": "2022-05-20T11:52:15.255Z"
   },
   {
    "duration": 41,
    "start_time": "2022-05-20T11:52:15.274Z"
   },
   {
    "duration": 2,
    "start_time": "2022-05-20T11:52:15.317Z"
   },
   {
    "duration": 33,
    "start_time": "2022-05-20T11:52:15.320Z"
   },
   {
    "duration": 361,
    "start_time": "2022-05-20T11:52:15.354Z"
   },
   {
    "duration": 3,
    "start_time": "2022-05-20T11:52:15.717Z"
   },
   {
    "duration": 33,
    "start_time": "2022-05-20T11:52:15.721Z"
   },
   {
    "duration": 21,
    "start_time": "2022-05-20T11:52:15.755Z"
   },
   {
    "duration": 43,
    "start_time": "2022-05-20T11:52:15.777Z"
   },
   {
    "duration": 39,
    "start_time": "2022-05-20T11:52:15.821Z"
   },
   {
    "duration": 4,
    "start_time": "2022-05-20T11:52:15.861Z"
   },
   {
    "duration": 10,
    "start_time": "2022-05-20T11:52:15.866Z"
   },
   {
    "duration": 6,
    "start_time": "2022-05-20T11:52:15.877Z"
   },
   {
    "duration": 24,
    "start_time": "2022-05-20T11:52:15.885Z"
   },
   {
    "duration": 22,
    "start_time": "2022-05-20T11:52:15.910Z"
   },
   {
    "duration": 82,
    "start_time": "2022-05-20T11:52:15.933Z"
   },
   {
    "duration": 4,
    "start_time": "2022-05-20T11:52:16.016Z"
   },
   {
    "duration": 10,
    "start_time": "2022-05-20T11:52:16.021Z"
   },
   {
    "duration": 6,
    "start_time": "2022-05-20T11:52:16.032Z"
   },
   {
    "duration": 21,
    "start_time": "2022-05-20T11:52:16.039Z"
   },
   {
    "duration": 14,
    "start_time": "2022-05-20T11:52:16.062Z"
   },
   {
    "duration": 10,
    "start_time": "2022-05-20T11:52:16.077Z"
   },
   {
    "duration": 19,
    "start_time": "2022-05-20T11:52:16.088Z"
   },
   {
    "duration": 2,
    "start_time": "2022-05-20T11:52:16.108Z"
   },
   {
    "duration": 24,
    "start_time": "2022-05-20T11:52:16.112Z"
   },
   {
    "duration": 49,
    "start_time": "2022-05-20T11:52:16.138Z"
   },
   {
    "duration": 13,
    "start_time": "2022-05-20T11:52:16.189Z"
   },
   {
    "duration": 10,
    "start_time": "2022-05-20T11:52:16.203Z"
   },
   {
    "duration": 960,
    "start_time": "2022-05-20T11:53:33.599Z"
   },
   {
    "duration": 381,
    "start_time": "2022-05-20T11:53:34.561Z"
   },
   {
    "duration": 45,
    "start_time": "2022-05-20T11:53:34.943Z"
   },
   {
    "duration": 32,
    "start_time": "2022-05-20T11:53:34.989Z"
   },
   {
    "duration": 37,
    "start_time": "2022-05-20T11:53:35.023Z"
   },
   {
    "duration": 16,
    "start_time": "2022-05-20T11:53:35.061Z"
   },
   {
    "duration": 19,
    "start_time": "2022-05-20T11:53:35.078Z"
   },
   {
    "duration": 25,
    "start_time": "2022-05-20T11:53:35.098Z"
   },
   {
    "duration": 24,
    "start_time": "2022-05-20T11:53:35.124Z"
   },
   {
    "duration": 14,
    "start_time": "2022-05-20T11:53:35.150Z"
   },
   {
    "duration": 3,
    "start_time": "2022-05-20T11:53:35.165Z"
   },
   {
    "duration": 8,
    "start_time": "2022-05-20T11:53:35.170Z"
   },
   {
    "duration": 15,
    "start_time": "2022-05-20T11:53:35.179Z"
   },
   {
    "duration": 7,
    "start_time": "2022-05-20T11:53:35.195Z"
   },
   {
    "duration": 48,
    "start_time": "2022-05-20T11:53:35.203Z"
   },
   {
    "duration": 7,
    "start_time": "2022-05-20T11:53:35.252Z"
   },
   {
    "duration": 14,
    "start_time": "2022-05-20T11:53:35.260Z"
   },
   {
    "duration": 33,
    "start_time": "2022-05-20T11:53:35.275Z"
   },
   {
    "duration": 36,
    "start_time": "2022-05-20T11:53:35.309Z"
   },
   {
    "duration": 19,
    "start_time": "2022-05-20T11:53:35.346Z"
   },
   {
    "duration": 36,
    "start_time": "2022-05-20T11:53:35.366Z"
   },
   {
    "duration": 37,
    "start_time": "2022-05-20T11:53:35.403Z"
   },
   {
    "duration": 18,
    "start_time": "2022-05-20T11:53:35.442Z"
   },
   {
    "duration": 50,
    "start_time": "2022-05-20T11:53:35.461Z"
   },
   {
    "duration": 94,
    "start_time": "2022-05-20T11:53:35.513Z"
   },
   {
    "duration": 299,
    "start_time": "2022-05-20T11:53:35.609Z"
   },
   {
    "duration": 15,
    "start_time": "2022-05-20T11:53:35.909Z"
   },
   {
    "duration": 162,
    "start_time": "2022-05-20T11:53:35.927Z"
   },
   {
    "duration": 14,
    "start_time": "2022-05-20T11:53:36.090Z"
   },
   {
    "duration": 106,
    "start_time": "2022-05-20T11:53:36.106Z"
   },
   {
    "duration": 8,
    "start_time": "2022-05-20T11:53:36.213Z"
   },
   {
    "duration": 6,
    "start_time": "2022-05-20T11:53:36.222Z"
   },
   {
    "duration": 282,
    "start_time": "2022-05-20T11:53:36.229Z"
   },
   {
    "duration": 92,
    "start_time": "2022-05-20T11:53:36.512Z"
   },
   {
    "duration": 97,
    "start_time": "2022-05-20T11:53:36.605Z"
   },
   {
    "duration": 7,
    "start_time": "2022-05-20T11:53:36.703Z"
   },
   {
    "duration": 8,
    "start_time": "2022-05-20T11:53:36.712Z"
   },
   {
    "duration": 16,
    "start_time": "2022-05-20T11:53:36.722Z"
   },
   {
    "duration": 291,
    "start_time": "2022-05-20T11:53:36.759Z"
   },
   {
    "duration": 81,
    "start_time": "2022-05-20T11:53:37.058Z"
   },
   {
    "duration": 105,
    "start_time": "2022-05-20T11:53:37.141Z"
   },
   {
    "duration": 17,
    "start_time": "2022-05-20T11:53:37.248Z"
   },
   {
    "duration": 9,
    "start_time": "2022-05-20T11:53:37.266Z"
   },
   {
    "duration": 4,
    "start_time": "2022-05-20T11:53:37.276Z"
   },
   {
    "duration": 20,
    "start_time": "2022-05-20T11:53:37.282Z"
   },
   {
    "duration": 15,
    "start_time": "2022-05-20T11:53:37.303Z"
   },
   {
    "duration": 7,
    "start_time": "2022-05-20T11:53:37.319Z"
   },
   {
    "duration": 14,
    "start_time": "2022-05-20T11:53:37.327Z"
   },
   {
    "duration": 4,
    "start_time": "2022-05-20T11:53:37.342Z"
   },
   {
    "duration": 22,
    "start_time": "2022-05-20T11:53:37.348Z"
   },
   {
    "duration": 31,
    "start_time": "2022-05-20T11:53:37.372Z"
   },
   {
    "duration": 33,
    "start_time": "2022-05-20T11:53:37.405Z"
   },
   {
    "duration": 53,
    "start_time": "2022-05-20T11:53:37.439Z"
   },
   {
    "duration": 4,
    "start_time": "2022-05-20T11:53:37.494Z"
   },
   {
    "duration": 21,
    "start_time": "2022-05-20T11:53:37.499Z"
   },
   {
    "duration": 433,
    "start_time": "2022-05-20T11:53:37.521Z"
   },
   {
    "duration": 4,
    "start_time": "2022-05-20T11:53:37.960Z"
   },
   {
    "duration": 18,
    "start_time": "2022-05-20T11:53:37.966Z"
   },
   {
    "duration": 41,
    "start_time": "2022-05-20T11:53:37.986Z"
   },
   {
    "duration": 36,
    "start_time": "2022-05-20T11:53:38.029Z"
   },
   {
    "duration": 24,
    "start_time": "2022-05-20T11:53:38.066Z"
   },
   {
    "duration": 9,
    "start_time": "2022-05-20T11:53:38.092Z"
   },
   {
    "duration": 18,
    "start_time": "2022-05-20T11:53:38.102Z"
   },
   {
    "duration": 20,
    "start_time": "2022-05-20T11:53:38.121Z"
   },
   {
    "duration": 16,
    "start_time": "2022-05-20T11:53:38.143Z"
   },
   {
    "duration": 37,
    "start_time": "2022-05-20T11:53:38.161Z"
   },
   {
    "duration": 71,
    "start_time": "2022-05-20T11:53:38.199Z"
   },
   {
    "duration": 4,
    "start_time": "2022-05-20T11:53:38.272Z"
   },
   {
    "duration": 33,
    "start_time": "2022-05-20T11:53:38.277Z"
   },
   {
    "duration": 16,
    "start_time": "2022-05-20T11:53:38.311Z"
   },
   {
    "duration": 32,
    "start_time": "2022-05-20T11:53:38.328Z"
   },
   {
    "duration": 21,
    "start_time": "2022-05-20T11:53:38.362Z"
   },
   {
    "duration": 28,
    "start_time": "2022-05-20T11:53:38.384Z"
   },
   {
    "duration": 35,
    "start_time": "2022-05-20T11:53:38.413Z"
   },
   {
    "duration": 8,
    "start_time": "2022-05-20T11:53:38.450Z"
   },
   {
    "duration": 44,
    "start_time": "2022-05-20T11:53:38.460Z"
   },
   {
    "duration": 33,
    "start_time": "2022-05-20T11:53:38.505Z"
   },
   {
    "duration": 13,
    "start_time": "2022-05-20T11:53:38.539Z"
   },
   {
    "duration": 10,
    "start_time": "2022-05-20T11:53:38.553Z"
   },
   {
    "duration": 1084,
    "start_time": "2022-05-20T11:55:36.989Z"
   },
   {
    "duration": 418,
    "start_time": "2022-05-20T11:55:38.075Z"
   },
   {
    "duration": 39,
    "start_time": "2022-05-20T11:55:38.494Z"
   },
   {
    "duration": 30,
    "start_time": "2022-05-20T11:55:38.535Z"
   },
   {
    "duration": 27,
    "start_time": "2022-05-20T11:55:38.567Z"
   },
   {
    "duration": 15,
    "start_time": "2022-05-20T11:55:38.595Z"
   },
   {
    "duration": 13,
    "start_time": "2022-05-20T11:55:38.612Z"
   },
   {
    "duration": 34,
    "start_time": "2022-05-20T11:55:38.626Z"
   },
   {
    "duration": 12,
    "start_time": "2022-05-20T11:55:38.662Z"
   },
   {
    "duration": 16,
    "start_time": "2022-05-20T11:55:38.676Z"
   },
   {
    "duration": 4,
    "start_time": "2022-05-20T11:55:38.694Z"
   },
   {
    "duration": 6,
    "start_time": "2022-05-20T11:55:38.700Z"
   },
   {
    "duration": 13,
    "start_time": "2022-05-20T11:55:38.708Z"
   },
   {
    "duration": 7,
    "start_time": "2022-05-20T11:55:38.724Z"
   },
   {
    "duration": 67,
    "start_time": "2022-05-20T11:55:38.732Z"
   },
   {
    "duration": 2,
    "start_time": "2022-05-20T11:55:38.801Z"
   },
   {
    "duration": 14,
    "start_time": "2022-05-20T11:55:38.804Z"
   },
   {
    "duration": 43,
    "start_time": "2022-05-20T11:55:38.820Z"
   },
   {
    "duration": 43,
    "start_time": "2022-05-20T11:55:38.865Z"
   },
   {
    "duration": 8,
    "start_time": "2022-05-20T11:55:38.910Z"
   },
   {
    "duration": 52,
    "start_time": "2022-05-20T11:55:38.919Z"
   },
   {
    "duration": 41,
    "start_time": "2022-05-20T11:55:38.973Z"
   },
   {
    "duration": 7,
    "start_time": "2022-05-20T11:55:39.016Z"
   },
   {
    "duration": 70,
    "start_time": "2022-05-20T11:55:39.025Z"
   },
   {
    "duration": 83,
    "start_time": "2022-05-20T11:55:39.097Z"
   },
   {
    "duration": 295,
    "start_time": "2022-05-20T11:55:39.182Z"
   },
   {
    "duration": 15,
    "start_time": "2022-05-20T11:55:39.478Z"
   },
   {
    "duration": 168,
    "start_time": "2022-05-20T11:55:39.494Z"
   },
   {
    "duration": 14,
    "start_time": "2022-05-20T11:55:39.663Z"
   },
   {
    "duration": 113,
    "start_time": "2022-05-20T11:55:39.678Z"
   },
   {
    "duration": 8,
    "start_time": "2022-05-20T11:55:39.792Z"
   },
   {
    "duration": 8,
    "start_time": "2022-05-20T11:55:39.802Z"
   },
   {
    "duration": 282,
    "start_time": "2022-05-20T11:55:39.811Z"
   },
   {
    "duration": 92,
    "start_time": "2022-05-20T11:55:40.095Z"
   },
   {
    "duration": 98,
    "start_time": "2022-05-20T11:55:40.188Z"
   },
   {
    "duration": 8,
    "start_time": "2022-05-20T11:55:40.288Z"
   },
   {
    "duration": 7,
    "start_time": "2022-05-20T11:55:40.298Z"
   },
   {
    "duration": 18,
    "start_time": "2022-05-20T11:55:40.306Z"
   },
   {
    "duration": 303,
    "start_time": "2022-05-20T11:55:40.325Z"
   },
   {
    "duration": 94,
    "start_time": "2022-05-20T11:55:40.630Z"
   },
   {
    "duration": 101,
    "start_time": "2022-05-20T11:55:40.727Z"
   },
   {
    "duration": 8,
    "start_time": "2022-05-20T11:55:40.830Z"
   },
   {
    "duration": 24,
    "start_time": "2022-05-20T11:55:40.839Z"
   },
   {
    "duration": 3,
    "start_time": "2022-05-20T11:55:40.865Z"
   },
   {
    "duration": 12,
    "start_time": "2022-05-20T11:55:40.869Z"
   },
   {
    "duration": 12,
    "start_time": "2022-05-20T11:55:40.882Z"
   },
   {
    "duration": 7,
    "start_time": "2022-05-20T11:55:40.896Z"
   },
   {
    "duration": 15,
    "start_time": "2022-05-20T11:55:40.904Z"
   },
   {
    "duration": 2,
    "start_time": "2022-05-20T11:55:40.921Z"
   },
   {
    "duration": 8,
    "start_time": "2022-05-20T11:55:40.924Z"
   },
   {
    "duration": 16,
    "start_time": "2022-05-20T11:55:40.933Z"
   },
   {
    "duration": 10,
    "start_time": "2022-05-20T11:55:40.950Z"
   },
   {
    "duration": 39,
    "start_time": "2022-05-20T11:55:40.962Z"
   },
   {
    "duration": 3,
    "start_time": "2022-05-20T11:55:41.002Z"
   },
   {
    "duration": 5,
    "start_time": "2022-05-20T11:55:41.006Z"
   },
   {
    "duration": 361,
    "start_time": "2022-05-20T11:55:41.012Z"
   },
   {
    "duration": 3,
    "start_time": "2022-05-20T11:55:41.375Z"
   },
   {
    "duration": 6,
    "start_time": "2022-05-20T11:55:41.380Z"
   },
   {
    "duration": 29,
    "start_time": "2022-05-20T11:55:41.388Z"
   },
   {
    "duration": 40,
    "start_time": "2022-05-20T11:55:41.419Z"
   },
   {
    "duration": 21,
    "start_time": "2022-05-20T11:55:41.460Z"
   },
   {
    "duration": 5,
    "start_time": "2022-05-20T11:55:41.483Z"
   },
   {
    "duration": 5,
    "start_time": "2022-05-20T11:55:41.489Z"
   },
   {
    "duration": 27,
    "start_time": "2022-05-20T11:55:41.495Z"
   },
   {
    "duration": 90,
    "start_time": "2022-05-20T11:55:41.523Z"
   },
   {
    "duration": 6,
    "start_time": "2022-05-20T11:55:41.615Z"
   },
   {
    "duration": 8,
    "start_time": "2022-05-20T11:55:41.623Z"
   },
   {
    "duration": 11,
    "start_time": "2022-05-20T11:55:41.632Z"
   },
   {
    "duration": 28,
    "start_time": "2022-05-20T11:55:41.644Z"
   },
   {
    "duration": 18,
    "start_time": "2022-05-20T11:55:41.673Z"
   },
   {
    "duration": 25,
    "start_time": "2022-05-20T11:55:41.692Z"
   },
   {
    "duration": 2,
    "start_time": "2022-05-20T11:55:41.718Z"
   },
   {
    "duration": 29,
    "start_time": "2022-05-20T11:55:41.722Z"
   },
   {
    "duration": 33,
    "start_time": "2022-05-20T11:55:41.759Z"
   },
   {
    "duration": 17,
    "start_time": "2022-05-20T11:55:41.793Z"
   },
   {
    "duration": 9,
    "start_time": "2022-05-20T11:55:41.812Z"
   },
   {
    "duration": 6,
    "start_time": "2022-05-20T11:56:32.831Z"
   },
   {
    "duration": 4,
    "start_time": "2022-05-20T11:57:32.689Z"
   },
   {
    "duration": 8,
    "start_time": "2022-05-20T11:57:45.513Z"
   },
   {
    "duration": 6,
    "start_time": "2022-05-20T12:05:44.003Z"
   },
   {
    "duration": 17,
    "start_time": "2022-05-20T12:12:19.611Z"
   },
   {
    "duration": 3,
    "start_time": "2022-05-20T12:36:11.441Z"
   },
   {
    "duration": 23,
    "start_time": "2022-05-20T12:36:13.297Z"
   },
   {
    "duration": 34,
    "start_time": "2022-05-20T12:36:15.229Z"
   },
   {
    "duration": 5,
    "start_time": "2022-05-20T12:36:15.875Z"
   },
   {
    "duration": 1067,
    "start_time": "2022-05-20T12:36:25.122Z"
   },
   {
    "duration": 410,
    "start_time": "2022-05-20T12:36:26.192Z"
   },
   {
    "duration": 40,
    "start_time": "2022-05-20T12:36:26.604Z"
   },
   {
    "duration": 55,
    "start_time": "2022-05-20T12:36:26.646Z"
   },
   {
    "duration": 26,
    "start_time": "2022-05-20T12:36:26.703Z"
   },
   {
    "duration": 34,
    "start_time": "2022-05-20T12:36:26.731Z"
   },
   {
    "duration": 19,
    "start_time": "2022-05-20T12:36:26.766Z"
   },
   {
    "duration": 16,
    "start_time": "2022-05-20T12:36:26.786Z"
   },
   {
    "duration": 15,
    "start_time": "2022-05-20T12:36:26.804Z"
   },
   {
    "duration": 12,
    "start_time": "2022-05-20T12:36:26.821Z"
   },
   {
    "duration": 30,
    "start_time": "2022-05-20T12:36:26.834Z"
   },
   {
    "duration": 14,
    "start_time": "2022-05-20T12:36:26.869Z"
   },
   {
    "duration": 13,
    "start_time": "2022-05-20T12:36:26.884Z"
   },
   {
    "duration": 5,
    "start_time": "2022-05-20T12:36:26.899Z"
   },
   {
    "duration": 46,
    "start_time": "2022-05-20T12:36:26.906Z"
   },
   {
    "duration": 6,
    "start_time": "2022-05-20T12:36:26.953Z"
   },
   {
    "duration": 16,
    "start_time": "2022-05-20T12:36:26.961Z"
   },
   {
    "duration": 35,
    "start_time": "2022-05-20T12:36:26.979Z"
   },
   {
    "duration": 37,
    "start_time": "2022-05-20T12:36:27.015Z"
   },
   {
    "duration": 17,
    "start_time": "2022-05-20T12:36:27.060Z"
   },
   {
    "duration": 36,
    "start_time": "2022-05-20T12:36:27.079Z"
   },
   {
    "duration": 58,
    "start_time": "2022-05-20T12:36:27.117Z"
   },
   {
    "duration": 7,
    "start_time": "2022-05-20T12:36:27.178Z"
   },
   {
    "duration": 42,
    "start_time": "2022-05-20T12:36:27.187Z"
   },
   {
    "duration": 90,
    "start_time": "2022-05-20T12:36:27.230Z"
   },
   {
    "duration": 354,
    "start_time": "2022-05-20T12:36:27.321Z"
   },
   {
    "duration": 18,
    "start_time": "2022-05-20T12:36:27.677Z"
   },
   {
    "duration": 217,
    "start_time": "2022-05-20T12:36:27.698Z"
   },
   {
    "duration": 21,
    "start_time": "2022-05-20T12:36:27.917Z"
   },
   {
    "duration": 146,
    "start_time": "2022-05-20T12:36:27.940Z"
   },
   {
    "duration": 10,
    "start_time": "2022-05-20T12:36:28.089Z"
   },
   {
    "duration": 12,
    "start_time": "2022-05-20T12:36:28.103Z"
   },
   {
    "duration": 312,
    "start_time": "2022-05-20T12:36:28.116Z"
   },
   {
    "duration": 98,
    "start_time": "2022-05-20T12:36:28.429Z"
   },
   {
    "duration": 106,
    "start_time": "2022-05-20T12:36:28.528Z"
   },
   {
    "duration": 8,
    "start_time": "2022-05-20T12:36:28.636Z"
   },
   {
    "duration": 10,
    "start_time": "2022-05-20T12:36:28.659Z"
   },
   {
    "duration": 20,
    "start_time": "2022-05-20T12:36:28.670Z"
   },
   {
    "duration": 299,
    "start_time": "2022-05-20T12:36:28.692Z"
   },
   {
    "duration": 99,
    "start_time": "2022-05-20T12:36:28.993Z"
   },
   {
    "duration": 107,
    "start_time": "2022-05-20T12:36:29.094Z"
   },
   {
    "duration": 9,
    "start_time": "2022-05-20T12:36:29.202Z"
   },
   {
    "duration": 8,
    "start_time": "2022-05-20T12:36:29.212Z"
   },
   {
    "duration": 4,
    "start_time": "2022-05-20T12:36:29.222Z"
   },
   {
    "duration": 35,
    "start_time": "2022-05-20T12:36:29.228Z"
   },
   {
    "duration": 13,
    "start_time": "2022-05-20T12:36:29.264Z"
   },
   {
    "duration": 20,
    "start_time": "2022-05-20T12:36:29.279Z"
   },
   {
    "duration": 16,
    "start_time": "2022-05-20T12:36:29.300Z"
   },
   {
    "duration": 2,
    "start_time": "2022-05-20T12:36:29.318Z"
   },
   {
    "duration": 6,
    "start_time": "2022-05-20T12:36:29.322Z"
   },
   {
    "duration": 4,
    "start_time": "2022-05-20T12:36:29.329Z"
   },
   {
    "duration": 5,
    "start_time": "2022-05-20T12:36:29.335Z"
   },
   {
    "duration": 41,
    "start_time": "2022-05-20T12:36:29.342Z"
   },
   {
    "duration": 3,
    "start_time": "2022-05-20T12:36:29.385Z"
   },
   {
    "duration": 6,
    "start_time": "2022-05-20T12:36:29.389Z"
   },
   {
    "duration": 375,
    "start_time": "2022-05-20T12:36:29.396Z"
   },
   {
    "duration": 4,
    "start_time": "2022-05-20T12:36:29.773Z"
   },
   {
    "duration": 48,
    "start_time": "2022-05-20T12:36:29.779Z"
   },
   {
    "duration": 36,
    "start_time": "2022-05-20T12:36:29.828Z"
   },
   {
    "duration": 10,
    "start_time": "2022-05-20T12:36:29.866Z"
   },
   {
    "duration": 19,
    "start_time": "2022-05-20T12:36:29.877Z"
   },
   {
    "duration": 10,
    "start_time": "2022-05-20T12:36:29.897Z"
   },
   {
    "duration": 10,
    "start_time": "2022-05-20T12:36:29.908Z"
   },
   {
    "duration": 4,
    "start_time": "2022-05-20T12:36:29.920Z"
   },
   {
    "duration": 37,
    "start_time": "2022-05-20T12:36:29.925Z"
   },
   {
    "duration": 121,
    "start_time": "2022-05-20T12:36:29.963Z"
   },
   {
    "duration": 0,
    "start_time": "2022-05-20T12:36:30.086Z"
   },
   {
    "duration": 0,
    "start_time": "2022-05-20T12:36:30.088Z"
   },
   {
    "duration": 0,
    "start_time": "2022-05-20T12:36:30.089Z"
   },
   {
    "duration": 0,
    "start_time": "2022-05-20T12:36:30.090Z"
   },
   {
    "duration": 0,
    "start_time": "2022-05-20T12:36:30.093Z"
   },
   {
    "duration": 0,
    "start_time": "2022-05-20T12:36:30.094Z"
   },
   {
    "duration": 0,
    "start_time": "2022-05-20T12:36:30.096Z"
   },
   {
    "duration": 0,
    "start_time": "2022-05-20T12:36:30.097Z"
   },
   {
    "duration": 0,
    "start_time": "2022-05-20T12:36:30.099Z"
   },
   {
    "duration": 0,
    "start_time": "2022-05-20T12:36:30.100Z"
   },
   {
    "duration": 0,
    "start_time": "2022-05-20T12:36:30.102Z"
   },
   {
    "duration": 0,
    "start_time": "2022-05-20T12:36:30.103Z"
   },
   {
    "duration": 4,
    "start_time": "2022-05-20T12:38:12.439Z"
   },
   {
    "duration": 1046,
    "start_time": "2022-05-20T12:40:02.949Z"
   },
   {
    "duration": 413,
    "start_time": "2022-05-20T12:40:03.997Z"
   },
   {
    "duration": 41,
    "start_time": "2022-05-20T12:40:04.411Z"
   },
   {
    "duration": 32,
    "start_time": "2022-05-20T12:40:04.454Z"
   },
   {
    "duration": 32,
    "start_time": "2022-05-20T12:40:04.488Z"
   },
   {
    "duration": 16,
    "start_time": "2022-05-20T12:40:04.521Z"
   },
   {
    "duration": 12,
    "start_time": "2022-05-20T12:40:04.560Z"
   },
   {
    "duration": 19,
    "start_time": "2022-05-20T12:40:04.574Z"
   },
   {
    "duration": 12,
    "start_time": "2022-05-20T12:40:04.594Z"
   },
   {
    "duration": 12,
    "start_time": "2022-05-20T12:40:04.608Z"
   },
   {
    "duration": 3,
    "start_time": "2022-05-20T12:40:04.621Z"
   },
   {
    "duration": 36,
    "start_time": "2022-05-20T12:40:04.626Z"
   },
   {
    "duration": 14,
    "start_time": "2022-05-20T12:40:04.663Z"
   },
   {
    "duration": 6,
    "start_time": "2022-05-20T12:40:04.680Z"
   },
   {
    "duration": 49,
    "start_time": "2022-05-20T12:40:04.687Z"
   },
   {
    "duration": 3,
    "start_time": "2022-05-20T12:40:04.737Z"
   },
   {
    "duration": 21,
    "start_time": "2022-05-20T12:40:04.742Z"
   },
   {
    "duration": 46,
    "start_time": "2022-05-20T12:40:04.764Z"
   },
   {
    "duration": 53,
    "start_time": "2022-05-20T12:40:04.812Z"
   },
   {
    "duration": 8,
    "start_time": "2022-05-20T12:40:04.866Z"
   },
   {
    "duration": 37,
    "start_time": "2022-05-20T12:40:04.875Z"
   },
   {
    "duration": 51,
    "start_time": "2022-05-20T12:40:04.913Z"
   },
   {
    "duration": 7,
    "start_time": "2022-05-20T12:40:04.965Z"
   },
   {
    "duration": 75,
    "start_time": "2022-05-20T12:40:04.973Z"
   },
   {
    "duration": 88,
    "start_time": "2022-05-20T12:40:05.049Z"
   },
   {
    "duration": 332,
    "start_time": "2022-05-20T12:40:05.139Z"
   },
   {
    "duration": 15,
    "start_time": "2022-05-20T12:40:05.473Z"
   },
   {
    "duration": 182,
    "start_time": "2022-05-20T12:40:05.490Z"
   },
   {
    "duration": 15,
    "start_time": "2022-05-20T12:40:05.673Z"
   },
   {
    "duration": 112,
    "start_time": "2022-05-20T12:40:05.689Z"
   },
   {
    "duration": 7,
    "start_time": "2022-05-20T12:40:05.803Z"
   },
   {
    "duration": 7,
    "start_time": "2022-05-20T12:40:05.811Z"
   },
   {
    "duration": 301,
    "start_time": "2022-05-20T12:40:05.819Z"
   },
   {
    "duration": 91,
    "start_time": "2022-05-20T12:40:06.121Z"
   },
   {
    "duration": 107,
    "start_time": "2022-05-20T12:40:06.213Z"
   },
   {
    "duration": 9,
    "start_time": "2022-05-20T12:40:06.321Z"
   },
   {
    "duration": 13,
    "start_time": "2022-05-20T12:40:06.332Z"
   },
   {
    "duration": 29,
    "start_time": "2022-05-20T12:40:06.347Z"
   },
   {
    "duration": 283,
    "start_time": "2022-05-20T12:40:06.378Z"
   },
   {
    "duration": 101,
    "start_time": "2022-05-20T12:40:06.663Z"
   },
   {
    "duration": 111,
    "start_time": "2022-05-20T12:40:06.769Z"
   },
   {
    "duration": 8,
    "start_time": "2022-05-20T12:40:06.881Z"
   },
   {
    "duration": 8,
    "start_time": "2022-05-20T12:40:06.890Z"
   },
   {
    "duration": 5,
    "start_time": "2022-05-20T12:40:06.899Z"
   },
   {
    "duration": 17,
    "start_time": "2022-05-20T12:40:06.905Z"
   },
   {
    "duration": 13,
    "start_time": "2022-05-20T12:40:06.924Z"
   },
   {
    "duration": 22,
    "start_time": "2022-05-20T12:40:06.938Z"
   },
   {
    "duration": 16,
    "start_time": "2022-05-20T12:40:06.962Z"
   },
   {
    "duration": 3,
    "start_time": "2022-05-20T12:40:06.979Z"
   },
   {
    "duration": 7,
    "start_time": "2022-05-20T12:40:06.983Z"
   },
   {
    "duration": 9,
    "start_time": "2022-05-20T12:40:06.992Z"
   },
   {
    "duration": 8,
    "start_time": "2022-05-20T12:40:07.002Z"
   },
   {
    "duration": 33,
    "start_time": "2022-05-20T12:40:07.012Z"
   },
   {
    "duration": 2,
    "start_time": "2022-05-20T12:40:07.046Z"
   },
   {
    "duration": 11,
    "start_time": "2022-05-20T12:40:07.049Z"
   },
   {
    "duration": 376,
    "start_time": "2022-05-20T12:40:07.062Z"
   },
   {
    "duration": 4,
    "start_time": "2022-05-20T12:40:07.439Z"
   },
   {
    "duration": 38,
    "start_time": "2022-05-20T12:40:07.445Z"
   },
   {
    "duration": 27,
    "start_time": "2022-05-20T12:40:07.484Z"
   },
   {
    "duration": 18,
    "start_time": "2022-05-20T12:40:07.513Z"
   },
   {
    "duration": 27,
    "start_time": "2022-05-20T12:40:07.533Z"
   },
   {
    "duration": 8,
    "start_time": "2022-05-20T12:40:07.562Z"
   },
   {
    "duration": 14,
    "start_time": "2022-05-20T12:40:07.571Z"
   },
   {
    "duration": 36,
    "start_time": "2022-05-20T12:40:07.586Z"
   },
   {
    "duration": 73,
    "start_time": "2022-05-20T12:40:07.624Z"
   },
   {
    "duration": 8,
    "start_time": "2022-05-20T12:40:07.699Z"
   },
   {
    "duration": 27,
    "start_time": "2022-05-20T12:40:07.708Z"
   },
   {
    "duration": 24,
    "start_time": "2022-05-20T12:40:07.741Z"
   },
   {
    "duration": 22,
    "start_time": "2022-05-20T12:40:07.768Z"
   },
   {
    "duration": 38,
    "start_time": "2022-05-20T12:40:07.792Z"
   },
   {
    "duration": 48,
    "start_time": "2022-05-20T12:40:07.832Z"
   },
   {
    "duration": 4,
    "start_time": "2022-05-20T12:40:07.881Z"
   },
   {
    "duration": 48,
    "start_time": "2022-05-20T12:40:07.887Z"
   },
   {
    "duration": 47,
    "start_time": "2022-05-20T12:40:07.940Z"
   },
   {
    "duration": 17,
    "start_time": "2022-05-20T12:40:07.992Z"
   },
   {
    "duration": 11,
    "start_time": "2022-05-20T12:40:08.011Z"
   },
   {
    "duration": 49,
    "start_time": "2022-05-20T12:44:21.249Z"
   },
   {
    "duration": 1137,
    "start_time": "2022-05-20T12:56:22.556Z"
   },
   {
    "duration": 403,
    "start_time": "2022-05-20T12:56:23.695Z"
   },
   {
    "duration": 50,
    "start_time": "2022-05-20T12:56:24.100Z"
   },
   {
    "duration": 31,
    "start_time": "2022-05-20T12:56:24.152Z"
   },
   {
    "duration": 26,
    "start_time": "2022-05-20T12:56:24.185Z"
   },
   {
    "duration": 16,
    "start_time": "2022-05-20T12:56:24.213Z"
   },
   {
    "duration": 37,
    "start_time": "2022-05-20T12:56:24.230Z"
   },
   {
    "duration": 20,
    "start_time": "2022-05-20T12:56:24.269Z"
   },
   {
    "duration": 18,
    "start_time": "2022-05-20T12:56:24.291Z"
   },
   {
    "duration": 23,
    "start_time": "2022-05-20T12:56:24.312Z"
   },
   {
    "duration": 5,
    "start_time": "2022-05-20T12:56:24.337Z"
   },
   {
    "duration": 20,
    "start_time": "2022-05-20T12:56:24.343Z"
   },
   {
    "duration": 15,
    "start_time": "2022-05-20T12:56:24.365Z"
   },
   {
    "duration": 5,
    "start_time": "2022-05-20T12:56:24.381Z"
   },
   {
    "duration": 50,
    "start_time": "2022-05-20T12:56:24.387Z"
   },
   {
    "duration": 3,
    "start_time": "2022-05-20T12:56:24.439Z"
   },
   {
    "duration": 9,
    "start_time": "2022-05-20T12:56:24.460Z"
   },
   {
    "duration": 32,
    "start_time": "2022-05-20T12:56:24.471Z"
   },
   {
    "duration": 59,
    "start_time": "2022-05-20T12:56:24.505Z"
   },
   {
    "duration": 8,
    "start_time": "2022-05-20T12:56:24.566Z"
   },
   {
    "duration": 39,
    "start_time": "2022-05-20T12:56:24.575Z"
   },
   {
    "duration": 49,
    "start_time": "2022-05-20T12:56:24.615Z"
   },
   {
    "duration": 7,
    "start_time": "2022-05-20T12:56:24.666Z"
   },
   {
    "duration": 69,
    "start_time": "2022-05-20T12:56:24.674Z"
   },
   {
    "duration": 74,
    "start_time": "2022-05-20T12:56:24.745Z"
   },
   {
    "duration": 297,
    "start_time": "2022-05-20T12:56:24.821Z"
   },
   {
    "duration": 15,
    "start_time": "2022-05-20T12:56:25.120Z"
   },
   {
    "duration": 178,
    "start_time": "2022-05-20T12:56:25.139Z"
   },
   {
    "duration": 16,
    "start_time": "2022-05-20T12:56:25.318Z"
   },
   {
    "duration": 121,
    "start_time": "2022-05-20T12:56:25.335Z"
   },
   {
    "duration": 9,
    "start_time": "2022-05-20T12:56:25.458Z"
   },
   {
    "duration": 27,
    "start_time": "2022-05-20T12:56:25.469Z"
   },
   {
    "duration": 278,
    "start_time": "2022-05-20T12:56:25.498Z"
   },
   {
    "duration": 104,
    "start_time": "2022-05-20T12:56:25.777Z"
   },
   {
    "duration": 100,
    "start_time": "2022-05-20T12:56:25.882Z"
   },
   {
    "duration": 7,
    "start_time": "2022-05-20T12:56:25.984Z"
   },
   {
    "duration": 26,
    "start_time": "2022-05-20T12:56:25.993Z"
   },
   {
    "duration": 25,
    "start_time": "2022-05-20T12:56:26.020Z"
   },
   {
    "duration": 299,
    "start_time": "2022-05-20T12:56:26.046Z"
   },
   {
    "duration": 89,
    "start_time": "2022-05-20T12:56:26.347Z"
   },
   {
    "duration": 104,
    "start_time": "2022-05-20T12:56:26.438Z"
   },
   {
    "duration": 16,
    "start_time": "2022-05-20T12:56:26.544Z"
   },
   {
    "duration": 12,
    "start_time": "2022-05-20T12:56:26.561Z"
   },
   {
    "duration": 16,
    "start_time": "2022-05-20T12:56:26.574Z"
   },
   {
    "duration": 31,
    "start_time": "2022-05-20T12:56:26.591Z"
   },
   {
    "duration": 31,
    "start_time": "2022-05-20T12:56:26.624Z"
   },
   {
    "duration": 18,
    "start_time": "2022-05-20T12:56:26.657Z"
   },
   {
    "duration": 29,
    "start_time": "2022-05-20T12:56:26.677Z"
   },
   {
    "duration": 17,
    "start_time": "2022-05-20T12:56:26.707Z"
   },
   {
    "duration": 16,
    "start_time": "2022-05-20T12:56:26.725Z"
   },
   {
    "duration": 20,
    "start_time": "2022-05-20T12:56:26.742Z"
   },
   {
    "duration": 23,
    "start_time": "2022-05-20T12:56:26.764Z"
   },
   {
    "duration": 50,
    "start_time": "2022-05-20T12:56:26.788Z"
   },
   {
    "duration": 7,
    "start_time": "2022-05-20T12:56:26.840Z"
   },
   {
    "duration": 12,
    "start_time": "2022-05-20T12:56:26.848Z"
   },
   {
    "duration": 398,
    "start_time": "2022-05-20T12:56:26.861Z"
   },
   {
    "duration": 4,
    "start_time": "2022-05-20T12:56:27.260Z"
   },
   {
    "duration": 37,
    "start_time": "2022-05-20T12:56:27.266Z"
   },
   {
    "duration": 40,
    "start_time": "2022-05-20T12:56:27.304Z"
   },
   {
    "duration": 4,
    "start_time": "2022-05-20T12:56:27.346Z"
   },
   {
    "duration": 38,
    "start_time": "2022-05-20T12:56:27.351Z"
   },
   {
    "duration": 14,
    "start_time": "2022-05-20T12:56:27.391Z"
   },
   {
    "duration": 35,
    "start_time": "2022-05-20T12:56:27.407Z"
   },
   {
    "duration": 20,
    "start_time": "2022-05-20T12:56:27.444Z"
   },
   {
    "duration": 47,
    "start_time": "2022-05-20T12:56:27.465Z"
   },
   {
    "duration": 78,
    "start_time": "2022-05-20T12:56:27.513Z"
   },
   {
    "duration": 6,
    "start_time": "2022-05-20T12:56:27.593Z"
   },
   {
    "duration": 33,
    "start_time": "2022-05-20T12:56:27.600Z"
   },
   {
    "duration": 21,
    "start_time": "2022-05-20T12:56:27.634Z"
   },
   {
    "duration": 26,
    "start_time": "2022-05-20T12:56:27.656Z"
   },
   {
    "duration": 23,
    "start_time": "2022-05-20T12:56:27.683Z"
   },
   {
    "duration": 27,
    "start_time": "2022-05-20T12:56:27.708Z"
   },
   {
    "duration": 15,
    "start_time": "2022-05-20T12:56:27.737Z"
   },
   {
    "duration": 47,
    "start_time": "2022-05-20T12:56:27.753Z"
   },
   {
    "duration": 43,
    "start_time": "2022-05-20T12:56:27.802Z"
   },
   {
    "duration": 17,
    "start_time": "2022-05-20T12:56:27.847Z"
   },
   {
    "duration": 19,
    "start_time": "2022-05-20T12:56:27.866Z"
   },
   {
    "duration": 979,
    "start_time": "2022-05-20T12:59:55.999Z"
   },
   {
    "duration": 386,
    "start_time": "2022-05-20T12:59:56.980Z"
   },
   {
    "duration": 39,
    "start_time": "2022-05-20T12:59:57.368Z"
   },
   {
    "duration": 30,
    "start_time": "2022-05-20T12:59:57.408Z"
   },
   {
    "duration": 37,
    "start_time": "2022-05-20T12:59:57.440Z"
   },
   {
    "duration": 15,
    "start_time": "2022-05-20T12:59:57.478Z"
   },
   {
    "duration": 11,
    "start_time": "2022-05-20T12:59:57.494Z"
   },
   {
    "duration": 20,
    "start_time": "2022-05-20T12:59:57.507Z"
   },
   {
    "duration": 39,
    "start_time": "2022-05-20T12:59:57.529Z"
   },
   {
    "duration": 10,
    "start_time": "2022-05-20T12:59:57.570Z"
   },
   {
    "duration": 3,
    "start_time": "2022-05-20T12:59:57.582Z"
   },
   {
    "duration": 9,
    "start_time": "2022-05-20T12:59:57.586Z"
   },
   {
    "duration": 15,
    "start_time": "2022-05-20T12:59:57.597Z"
   },
   {
    "duration": 11,
    "start_time": "2022-05-20T12:59:57.616Z"
   },
   {
    "duration": 63,
    "start_time": "2022-05-20T12:59:57.629Z"
   },
   {
    "duration": 3,
    "start_time": "2022-05-20T12:59:57.694Z"
   },
   {
    "duration": 20,
    "start_time": "2022-05-20T12:59:57.698Z"
   },
   {
    "duration": 43,
    "start_time": "2022-05-20T12:59:57.719Z"
   },
   {
    "duration": 57,
    "start_time": "2022-05-20T12:59:57.763Z"
   },
   {
    "duration": 11,
    "start_time": "2022-05-20T12:59:57.822Z"
   },
   {
    "duration": 55,
    "start_time": "2022-05-20T12:59:57.834Z"
   },
   {
    "duration": 46,
    "start_time": "2022-05-20T12:59:57.890Z"
   },
   {
    "duration": 21,
    "start_time": "2022-05-20T12:59:57.938Z"
   },
   {
    "duration": 61,
    "start_time": "2022-05-20T12:59:57.961Z"
   },
   {
    "duration": 93,
    "start_time": "2022-05-20T12:59:58.023Z"
   },
   {
    "duration": 292,
    "start_time": "2022-05-20T12:59:58.117Z"
   },
   {
    "duration": 14,
    "start_time": "2022-05-20T12:59:58.411Z"
   },
   {
    "duration": 169,
    "start_time": "2022-05-20T12:59:58.426Z"
   },
   {
    "duration": 15,
    "start_time": "2022-05-20T12:59:58.597Z"
   },
   {
    "duration": 109,
    "start_time": "2022-05-20T12:59:58.613Z"
   },
   {
    "duration": 7,
    "start_time": "2022-05-20T12:59:58.724Z"
   },
   {
    "duration": 10,
    "start_time": "2022-05-20T12:59:58.733Z"
   },
   {
    "duration": 277,
    "start_time": "2022-05-20T12:59:58.745Z"
   },
   {
    "duration": 85,
    "start_time": "2022-05-20T12:59:59.024Z"
   },
   {
    "duration": 102,
    "start_time": "2022-05-20T12:59:59.110Z"
   },
   {
    "duration": 8,
    "start_time": "2022-05-20T12:59:59.214Z"
   },
   {
    "duration": 9,
    "start_time": "2022-05-20T12:59:59.223Z"
   },
   {
    "duration": 34,
    "start_time": "2022-05-20T12:59:59.233Z"
   },
   {
    "duration": 280,
    "start_time": "2022-05-20T12:59:59.268Z"
   },
   {
    "duration": 99,
    "start_time": "2022-05-20T12:59:59.550Z"
   },
   {
    "duration": 119,
    "start_time": "2022-05-20T12:59:59.662Z"
   },
   {
    "duration": 9,
    "start_time": "2022-05-20T12:59:59.782Z"
   },
   {
    "duration": 7,
    "start_time": "2022-05-20T12:59:59.792Z"
   },
   {
    "duration": 4,
    "start_time": "2022-05-20T12:59:59.800Z"
   },
   {
    "duration": 11,
    "start_time": "2022-05-20T12:59:59.805Z"
   },
   {
    "duration": 11,
    "start_time": "2022-05-20T12:59:59.818Z"
   },
   {
    "duration": 35,
    "start_time": "2022-05-20T12:59:59.830Z"
   },
   {
    "duration": 20,
    "start_time": "2022-05-20T12:59:59.866Z"
   },
   {
    "duration": 3,
    "start_time": "2022-05-20T12:59:59.887Z"
   },
   {
    "duration": 7,
    "start_time": "2022-05-20T12:59:59.892Z"
   },
   {
    "duration": 6,
    "start_time": "2022-05-20T12:59:59.901Z"
   },
   {
    "duration": 6,
    "start_time": "2022-05-20T12:59:59.909Z"
   },
   {
    "duration": 33,
    "start_time": "2022-05-20T12:59:59.916Z"
   },
   {
    "duration": 10,
    "start_time": "2022-05-20T12:59:59.950Z"
   },
   {
    "duration": 6,
    "start_time": "2022-05-20T12:59:59.961Z"
   },
   {
    "duration": 376,
    "start_time": "2022-05-20T12:59:59.968Z"
   },
   {
    "duration": 4,
    "start_time": "2022-05-20T13:00:00.345Z"
   },
   {
    "duration": 29,
    "start_time": "2022-05-20T13:00:00.351Z"
   },
   {
    "duration": 27,
    "start_time": "2022-05-20T13:00:00.381Z"
   },
   {
    "duration": 19,
    "start_time": "2022-05-20T13:00:00.409Z"
   },
   {
    "duration": 30,
    "start_time": "2022-05-20T13:00:00.429Z"
   },
   {
    "duration": 6,
    "start_time": "2022-05-20T13:00:00.461Z"
   },
   {
    "duration": 6,
    "start_time": "2022-05-20T13:00:00.468Z"
   },
   {
    "duration": 30,
    "start_time": "2022-05-20T13:00:00.475Z"
   },
   {
    "duration": 85,
    "start_time": "2022-05-20T13:00:00.506Z"
   },
   {
    "duration": 6,
    "start_time": "2022-05-20T13:00:00.593Z"
   },
   {
    "duration": 13,
    "start_time": "2022-05-20T13:00:00.601Z"
   },
   {
    "duration": 10,
    "start_time": "2022-05-20T13:00:00.615Z"
   },
   {
    "duration": 13,
    "start_time": "2022-05-20T13:00:00.627Z"
   },
   {
    "duration": 19,
    "start_time": "2022-05-20T13:00:00.641Z"
   },
   {
    "duration": 22,
    "start_time": "2022-05-20T13:00:00.662Z"
   },
   {
    "duration": 3,
    "start_time": "2022-05-20T13:00:00.686Z"
   },
   {
    "duration": 32,
    "start_time": "2022-05-20T13:00:00.690Z"
   },
   {
    "duration": 39,
    "start_time": "2022-05-20T13:00:00.723Z"
   },
   {
    "duration": 14,
    "start_time": "2022-05-20T13:00:00.764Z"
   },
   {
    "duration": 11,
    "start_time": "2022-05-20T13:00:00.780Z"
   },
   {
    "duration": 35,
    "start_time": "2022-05-20T13:10:51.621Z"
   },
   {
    "duration": 45,
    "start_time": "2022-05-20T13:13:30.881Z"
   },
   {
    "duration": 37,
    "start_time": "2022-05-20T13:18:03.880Z"
   },
   {
    "duration": 64,
    "start_time": "2022-05-20T13:34:00.446Z"
   },
   {
    "duration": 1637,
    "start_time": "2022-05-20T13:34:10.218Z"
   },
   {
    "duration": 787,
    "start_time": "2022-05-20T13:34:11.857Z"
   },
   {
    "duration": 48,
    "start_time": "2022-05-20T13:34:12.645Z"
   },
   {
    "duration": 37,
    "start_time": "2022-05-20T13:34:12.695Z"
   },
   {
    "duration": 34,
    "start_time": "2022-05-20T13:34:12.734Z"
   },
   {
    "duration": 41,
    "start_time": "2022-05-20T13:34:12.770Z"
   },
   {
    "duration": 22,
    "start_time": "2022-05-20T13:34:12.813Z"
   },
   {
    "duration": 20,
    "start_time": "2022-05-20T13:34:12.836Z"
   },
   {
    "duration": 47,
    "start_time": "2022-05-20T13:34:12.858Z"
   },
   {
    "duration": 14,
    "start_time": "2022-05-20T13:34:12.908Z"
   },
   {
    "duration": 4,
    "start_time": "2022-05-20T13:34:12.924Z"
   },
   {
    "duration": 9,
    "start_time": "2022-05-20T13:34:12.929Z"
   },
   {
    "duration": 17,
    "start_time": "2022-05-20T13:34:12.940Z"
   },
   {
    "duration": 6,
    "start_time": "2022-05-20T13:34:12.958Z"
   },
   {
    "duration": 75,
    "start_time": "2022-05-20T13:34:12.965Z"
   },
   {
    "duration": 2,
    "start_time": "2022-05-20T13:34:13.044Z"
   },
   {
    "duration": 12,
    "start_time": "2022-05-20T13:34:13.047Z"
   },
   {
    "duration": 54,
    "start_time": "2022-05-20T13:34:13.061Z"
   },
   {
    "duration": 49,
    "start_time": "2022-05-20T13:34:13.117Z"
   },
   {
    "duration": 9,
    "start_time": "2022-05-20T13:34:13.168Z"
   },
   {
    "duration": 43,
    "start_time": "2022-05-20T13:34:13.194Z"
   },
   {
    "duration": 66,
    "start_time": "2022-05-20T13:34:13.239Z"
   },
   {
    "duration": 8,
    "start_time": "2022-05-20T13:34:13.307Z"
   },
   {
    "duration": 81,
    "start_time": "2022-05-20T13:34:13.317Z"
   },
   {
    "duration": 111,
    "start_time": "2022-05-20T13:34:13.399Z"
   },
   {
    "duration": 365,
    "start_time": "2022-05-20T13:34:13.512Z"
   },
   {
    "duration": 30,
    "start_time": "2022-05-20T13:34:13.878Z"
   },
   {
    "duration": 226,
    "start_time": "2022-05-20T13:34:13.914Z"
   },
   {
    "duration": 20,
    "start_time": "2022-05-20T13:34:14.143Z"
   },
   {
    "duration": 138,
    "start_time": "2022-05-20T13:34:14.165Z"
   },
   {
    "duration": 10,
    "start_time": "2022-05-20T13:34:14.305Z"
   },
   {
    "duration": 14,
    "start_time": "2022-05-20T13:34:14.317Z"
   },
   {
    "duration": 349,
    "start_time": "2022-05-20T13:34:14.333Z"
   },
   {
    "duration": 113,
    "start_time": "2022-05-20T13:34:14.684Z"
   },
   {
    "duration": 130,
    "start_time": "2022-05-20T13:34:14.798Z"
   },
   {
    "duration": 11,
    "start_time": "2022-05-20T13:34:14.930Z"
   },
   {
    "duration": 13,
    "start_time": "2022-05-20T13:34:14.944Z"
   },
   {
    "duration": 40,
    "start_time": "2022-05-20T13:34:14.959Z"
   },
   {
    "duration": 364,
    "start_time": "2022-05-20T13:34:15.001Z"
   },
   {
    "duration": 112,
    "start_time": "2022-05-20T13:34:15.367Z"
   },
   {
    "duration": 131,
    "start_time": "2022-05-20T13:34:15.481Z"
   },
   {
    "duration": 11,
    "start_time": "2022-05-20T13:34:15.614Z"
   },
   {
    "duration": 11,
    "start_time": "2022-05-20T13:34:15.627Z"
   },
   {
    "duration": 5,
    "start_time": "2022-05-20T13:34:15.640Z"
   },
   {
    "duration": 13,
    "start_time": "2022-05-20T13:34:15.647Z"
   },
   {
    "duration": 41,
    "start_time": "2022-05-20T13:34:15.662Z"
   },
   {
    "duration": 9,
    "start_time": "2022-05-20T13:34:15.705Z"
   },
   {
    "duration": 17,
    "start_time": "2022-05-20T13:34:15.716Z"
   },
   {
    "duration": 3,
    "start_time": "2022-05-20T13:34:15.735Z"
   },
   {
    "duration": 14,
    "start_time": "2022-05-20T13:34:15.740Z"
   },
   {
    "duration": 14,
    "start_time": "2022-05-20T13:34:15.757Z"
   },
   {
    "duration": 21,
    "start_time": "2022-05-20T13:34:15.774Z"
   },
   {
    "duration": 46,
    "start_time": "2022-05-20T13:34:15.797Z"
   },
   {
    "duration": 2,
    "start_time": "2022-05-20T13:34:15.845Z"
   },
   {
    "duration": 7,
    "start_time": "2022-05-20T13:34:15.849Z"
   },
   {
    "duration": 486,
    "start_time": "2022-05-20T13:34:15.858Z"
   },
   {
    "duration": 3,
    "start_time": "2022-05-20T13:34:16.346Z"
   },
   {
    "duration": 30,
    "start_time": "2022-05-20T13:34:16.351Z"
   },
   {
    "duration": 40,
    "start_time": "2022-05-20T13:34:16.383Z"
   },
   {
    "duration": 8,
    "start_time": "2022-05-20T13:34:16.425Z"
   },
   {
    "duration": 4,
    "start_time": "2022-05-20T13:34:16.434Z"
   },
   {
    "duration": 55,
    "start_time": "2022-05-20T13:34:16.440Z"
   },
   {
    "duration": 78,
    "start_time": "2022-05-20T13:34:16.497Z"
   },
   {
    "duration": 22,
    "start_time": "2022-05-20T13:34:16.577Z"
   },
   {
    "duration": 8,
    "start_time": "2022-05-20T13:34:16.601Z"
   },
   {
    "duration": 14,
    "start_time": "2022-05-20T13:34:16.610Z"
   },
   {
    "duration": 18,
    "start_time": "2022-05-20T13:34:16.626Z"
   },
   {
    "duration": 13,
    "start_time": "2022-05-20T13:34:16.646Z"
   },
   {
    "duration": 50,
    "start_time": "2022-05-20T13:34:16.661Z"
   },
   {
    "duration": 3,
    "start_time": "2022-05-20T13:34:16.713Z"
   },
   {
    "duration": 29,
    "start_time": "2022-05-20T13:34:16.718Z"
   },
   {
    "duration": 56,
    "start_time": "2022-05-20T13:34:16.749Z"
   },
   {
    "duration": 17,
    "start_time": "2022-05-20T13:34:16.807Z"
   },
   {
    "duration": 14,
    "start_time": "2022-05-20T13:34:16.826Z"
   },
   {
    "duration": 55,
    "start_time": "2022-05-20T13:35:24.992Z"
   },
   {
    "duration": 2,
    "start_time": "2022-05-20T13:45:03.077Z"
   },
   {
    "duration": 30,
    "start_time": "2022-05-20T13:45:40.125Z"
   },
   {
    "duration": 3,
    "start_time": "2022-05-20T13:45:52.954Z"
   },
   {
    "duration": 29,
    "start_time": "2022-05-20T13:47:09.738Z"
   },
   {
    "duration": 2,
    "start_time": "2022-05-20T13:47:47.202Z"
   },
   {
    "duration": 37,
    "start_time": "2022-05-20T13:48:14.995Z"
   },
   {
    "duration": 136,
    "start_time": "2022-05-20T13:50:48.618Z"
   },
   {
    "duration": 139,
    "start_time": "2022-05-20T13:50:55.252Z"
   },
   {
    "duration": 113,
    "start_time": "2022-05-20T13:50:58.276Z"
   },
   {
    "duration": 95,
    "start_time": "2022-05-20T13:51:05.212Z"
   },
   {
    "duration": 118,
    "start_time": "2022-05-20T13:51:09.663Z"
   },
   {
    "duration": 117,
    "start_time": "2022-05-20T13:55:06.375Z"
   },
   {
    "duration": 121,
    "start_time": "2022-05-20T13:55:40.092Z"
   },
   {
    "duration": 55,
    "start_time": "2022-05-20T18:55:37.333Z"
   },
   {
    "duration": 1330,
    "start_time": "2022-05-20T18:55:52.765Z"
   },
   {
    "duration": 1361,
    "start_time": "2022-05-20T18:55:56.519Z"
   },
   {
    "duration": 21,
    "start_time": "2022-05-20T18:56:06.051Z"
   },
   {
    "duration": 11,
    "start_time": "2022-05-20T18:56:15.467Z"
   },
   {
    "duration": 47,
    "start_time": "2022-05-20T18:56:32.545Z"
   },
   {
    "duration": 30,
    "start_time": "2022-05-20T18:56:37.192Z"
   },
   {
    "duration": 37,
    "start_time": "2022-05-20T18:56:42.270Z"
   },
   {
    "duration": 62,
    "start_time": "2022-05-20T18:56:50.218Z"
   },
   {
    "duration": 90,
    "start_time": "2022-05-20T18:56:54.492Z"
   },
   {
    "duration": 18,
    "start_time": "2022-05-20T18:57:05.121Z"
   },
   {
    "duration": 20,
    "start_time": "2022-05-20T18:57:17.463Z"
   },
   {
    "duration": 11,
    "start_time": "2022-05-20T18:57:33.262Z"
   },
   {
    "duration": 75,
    "start_time": "2022-05-20T18:57:43.324Z"
   },
   {
    "duration": 229,
    "start_time": "2022-05-20T18:57:57.993Z"
   },
   {
    "duration": 15,
    "start_time": "2022-05-20T18:58:03.950Z"
   },
   {
    "duration": 4,
    "start_time": "2022-05-20T18:58:12.929Z"
   },
   {
    "duration": 28,
    "start_time": "2022-05-20T18:58:16.146Z"
   },
   {
    "duration": 29,
    "start_time": "2022-05-20T18:58:20.914Z"
   },
   {
    "duration": 4,
    "start_time": "2022-05-20T18:58:27.625Z"
   },
   {
    "duration": 24,
    "start_time": "2022-05-20T18:58:30.502Z"
   },
   {
    "duration": 73,
    "start_time": "2022-05-20T18:58:36.347Z"
   },
   {
    "duration": 7,
    "start_time": "2022-05-20T18:58:47.930Z"
   },
   {
    "duration": 16,
    "start_time": "2022-05-20T18:58:53.692Z"
   },
   {
    "duration": 10,
    "start_time": "2022-05-20T18:59:01.412Z"
   },
   {
    "duration": 18,
    "start_time": "2022-05-20T18:59:04.378Z"
   },
   {
    "duration": 3,
    "start_time": "2022-05-20T18:59:07.346Z"
   },
   {
    "duration": 26,
    "start_time": "2022-05-20T18:59:10.337Z"
   },
   {
    "duration": 15,
    "start_time": "2022-05-20T18:59:13.068Z"
   },
   {
    "duration": 16,
    "start_time": "2022-05-20T18:59:25.298Z"
   },
   {
    "duration": 22,
    "start_time": "2022-05-20T19:00:01.342Z"
   },
   {
    "duration": 17,
    "start_time": "2022-05-20T19:06:38.061Z"
   },
   {
    "duration": 20,
    "start_time": "2022-05-20T19:07:07.559Z"
   },
   {
    "duration": 11,
    "start_time": "2022-05-20T19:07:13.624Z"
   },
   {
    "duration": 20,
    "start_time": "2022-05-20T19:07:17.191Z"
   },
   {
    "duration": 20,
    "start_time": "2022-05-20T19:07:52.733Z"
   },
   {
    "duration": 15,
    "start_time": "2022-05-20T19:08:07.799Z"
   },
   {
    "duration": 15,
    "start_time": "2022-05-20T19:08:15.647Z"
   },
   {
    "duration": 22,
    "start_time": "2022-05-20T19:08:27.709Z"
   },
   {
    "duration": 23,
    "start_time": "2022-05-20T19:08:47.601Z"
   },
   {
    "duration": 17,
    "start_time": "2022-05-20T19:08:55.381Z"
   },
   {
    "duration": 22,
    "start_time": "2022-05-20T19:09:14.028Z"
   },
   {
    "duration": 18,
    "start_time": "2022-05-20T19:09:17.574Z"
   },
   {
    "duration": 45,
    "start_time": "2022-05-20T19:09:24.954Z"
   },
   {
    "duration": 19,
    "start_time": "2022-05-20T19:09:53.054Z"
   },
   {
    "duration": 40,
    "start_time": "2022-05-20T19:09:55.546Z"
   },
   {
    "duration": 16,
    "start_time": "2022-05-20T19:10:08.345Z"
   },
   {
    "duration": 15,
    "start_time": "2022-05-20T19:10:11.263Z"
   },
   {
    "duration": 22,
    "start_time": "2022-05-20T19:10:54.699Z"
   },
   {
    "duration": 27,
    "start_time": "2022-05-20T19:11:02.845Z"
   },
   {
    "duration": 38,
    "start_time": "2022-05-20T19:11:16.699Z"
   },
   {
    "duration": 22,
    "start_time": "2022-05-20T19:11:39.106Z"
   },
   {
    "duration": 19,
    "start_time": "2022-05-20T19:11:45.151Z"
   },
   {
    "duration": 19,
    "start_time": "2022-05-20T19:12:29.033Z"
   },
   {
    "duration": 17,
    "start_time": "2022-05-20T19:13:35.931Z"
   },
   {
    "duration": 37,
    "start_time": "2022-05-20T19:14:09.778Z"
   },
   {
    "duration": 52,
    "start_time": "2022-05-20T19:14:15.122Z"
   },
   {
    "duration": 138,
    "start_time": "2022-05-20T19:14:21.345Z"
   },
   {
    "duration": 18,
    "start_time": "2022-05-20T19:14:37.073Z"
   },
   {
    "duration": 20,
    "start_time": "2022-05-20T19:16:10.778Z"
   },
   {
    "duration": 125,
    "start_time": "2022-05-20T19:16:52.210Z"
   },
   {
    "duration": 5,
    "start_time": "2022-05-20T19:16:59.542Z"
   },
   {
    "duration": 18,
    "start_time": "2022-05-20T19:17:09.170Z"
   },
   {
    "duration": 61,
    "start_time": "2022-05-20T19:17:26.471Z"
   },
   {
    "duration": 43,
    "start_time": "2022-05-20T19:18:02.744Z"
   },
   {
    "duration": 21,
    "start_time": "2022-05-20T19:18:18.833Z"
   },
   {
    "duration": 20,
    "start_time": "2022-05-20T19:18:25.902Z"
   },
   {
    "duration": 18,
    "start_time": "2022-05-20T19:19:05.421Z"
   },
   {
    "duration": 18,
    "start_time": "2022-05-20T19:19:29.808Z"
   },
   {
    "duration": 13,
    "start_time": "2022-05-20T19:24:13.092Z"
   },
   {
    "duration": 22,
    "start_time": "2022-05-20T19:24:28.229Z"
   },
   {
    "duration": 3,
    "start_time": "2022-05-20T19:24:32.469Z"
   },
   {
    "duration": 24,
    "start_time": "2022-05-20T19:24:34.571Z"
   },
   {
    "duration": 17,
    "start_time": "2022-05-20T19:24:40.484Z"
   },
   {
    "duration": 18,
    "start_time": "2022-05-20T19:24:53.957Z"
   },
   {
    "duration": 40,
    "start_time": "2022-05-20T19:24:58.881Z"
   },
   {
    "duration": 38,
    "start_time": "2022-05-20T19:25:19.224Z"
   },
   {
    "duration": 16,
    "start_time": "2022-05-20T19:25:29.215Z"
   },
   {
    "duration": 12,
    "start_time": "2022-05-20T19:25:32.833Z"
   },
   {
    "duration": 36,
    "start_time": "2022-05-20T19:27:08.386Z"
   },
   {
    "duration": 36,
    "start_time": "2022-05-20T19:29:01.743Z"
   },
   {
    "duration": 62,
    "start_time": "2022-05-21T16:03:18.715Z"
   },
   {
    "duration": 1194,
    "start_time": "2022-05-21T16:06:08.348Z"
   },
   {
    "duration": 736,
    "start_time": "2022-05-21T16:06:09.544Z"
   },
   {
    "duration": 45,
    "start_time": "2022-05-21T16:06:10.281Z"
   },
   {
    "duration": 44,
    "start_time": "2022-05-21T16:06:10.328Z"
   },
   {
    "duration": 28,
    "start_time": "2022-05-21T16:06:10.375Z"
   },
   {
    "duration": 24,
    "start_time": "2022-05-21T16:06:10.427Z"
   },
   {
    "duration": 17,
    "start_time": "2022-05-21T16:06:10.452Z"
   },
   {
    "duration": 19,
    "start_time": "2022-05-21T16:06:10.471Z"
   },
   {
    "duration": 36,
    "start_time": "2022-05-21T16:06:10.492Z"
   },
   {
    "duration": 26,
    "start_time": "2022-05-21T16:06:10.530Z"
   },
   {
    "duration": 4,
    "start_time": "2022-05-21T16:06:10.557Z"
   },
   {
    "duration": 8,
    "start_time": "2022-05-21T16:06:10.563Z"
   },
   {
    "duration": 15,
    "start_time": "2022-05-21T16:06:10.573Z"
   },
   {
    "duration": 6,
    "start_time": "2022-05-21T16:06:10.591Z"
   },
   {
    "duration": 67,
    "start_time": "2022-05-21T16:06:10.599Z"
   },
   {
    "duration": 3,
    "start_time": "2022-05-21T16:06:10.668Z"
   },
   {
    "duration": 20,
    "start_time": "2022-05-21T16:06:10.673Z"
   },
   {
    "duration": 55,
    "start_time": "2022-05-21T16:06:10.695Z"
   },
   {
    "duration": 2,
    "start_time": "2022-05-21T16:06:10.753Z"
   },
   {
    "duration": 35,
    "start_time": "2022-05-21T16:06:10.757Z"
   },
   {
    "duration": 52,
    "start_time": "2022-05-21T16:06:10.793Z"
   },
   {
    "duration": 3,
    "start_time": "2022-05-21T16:06:10.847Z"
   },
   {
    "duration": 12,
    "start_time": "2022-05-21T16:06:10.852Z"
   },
   {
    "duration": 97,
    "start_time": "2022-05-21T16:06:10.867Z"
   },
   {
    "duration": 121,
    "start_time": "2022-05-21T16:06:10.966Z"
   },
   {
    "duration": 382,
    "start_time": "2022-05-21T16:06:11.088Z"
   },
   {
    "duration": 18,
    "start_time": "2022-05-21T16:06:11.472Z"
   },
   {
    "duration": 219,
    "start_time": "2022-05-21T16:06:11.492Z"
   },
   {
    "duration": 33,
    "start_time": "2022-05-21T16:06:11.712Z"
   },
   {
    "duration": 126,
    "start_time": "2022-05-21T16:06:11.746Z"
   },
   {
    "duration": 12,
    "start_time": "2022-05-21T16:06:11.874Z"
   },
   {
    "duration": 21,
    "start_time": "2022-05-21T16:06:11.888Z"
   },
   {
    "duration": 381,
    "start_time": "2022-05-21T16:06:11.922Z"
   },
   {
    "duration": 123,
    "start_time": "2022-05-21T16:06:12.305Z"
   },
   {
    "duration": 135,
    "start_time": "2022-05-21T16:06:12.431Z"
   },
   {
    "duration": 11,
    "start_time": "2022-05-21T16:06:12.567Z"
   },
   {
    "duration": 10,
    "start_time": "2022-05-21T16:06:12.580Z"
   },
   {
    "duration": 49,
    "start_time": "2022-05-21T16:06:12.593Z"
   },
   {
    "duration": 383,
    "start_time": "2022-05-21T16:06:12.645Z"
   },
   {
    "duration": 111,
    "start_time": "2022-05-21T16:06:13.031Z"
   },
   {
    "duration": 119,
    "start_time": "2022-05-21T16:06:13.148Z"
   },
   {
    "duration": 9,
    "start_time": "2022-05-21T16:06:13.269Z"
   },
   {
    "duration": 9,
    "start_time": "2022-05-21T16:06:13.280Z"
   },
   {
    "duration": 36,
    "start_time": "2022-05-21T16:06:13.290Z"
   },
   {
    "duration": 19,
    "start_time": "2022-05-21T16:06:13.328Z"
   },
   {
    "duration": 18,
    "start_time": "2022-05-21T16:06:13.349Z"
   },
   {
    "duration": 39,
    "start_time": "2022-05-21T16:06:13.369Z"
   },
   {
    "duration": 3,
    "start_time": "2022-05-21T16:06:13.410Z"
   },
   {
    "duration": 17,
    "start_time": "2022-05-21T16:06:13.414Z"
   },
   {
    "duration": 22,
    "start_time": "2022-05-21T16:06:13.433Z"
   },
   {
    "duration": 7,
    "start_time": "2022-05-21T16:06:13.457Z"
   },
   {
    "duration": 44,
    "start_time": "2022-05-21T16:06:13.465Z"
   },
   {
    "duration": 3,
    "start_time": "2022-05-21T16:06:13.510Z"
   },
   {
    "duration": 16,
    "start_time": "2022-05-21T16:06:13.514Z"
   },
   {
    "duration": 471,
    "start_time": "2022-05-21T16:06:13.532Z"
   },
   {
    "duration": 5,
    "start_time": "2022-05-21T16:06:14.005Z"
   },
   {
    "duration": 44,
    "start_time": "2022-05-21T16:06:14.012Z"
   },
   {
    "duration": 41,
    "start_time": "2022-05-21T16:06:14.058Z"
   },
   {
    "duration": 27,
    "start_time": "2022-05-21T16:06:14.102Z"
   },
   {
    "duration": 16,
    "start_time": "2022-05-21T16:06:14.132Z"
   },
   {
    "duration": 44,
    "start_time": "2022-05-21T16:06:14.149Z"
   },
   {
    "duration": 98,
    "start_time": "2022-05-21T16:06:14.195Z"
   },
   {
    "duration": 8,
    "start_time": "2022-05-21T16:06:14.295Z"
   },
   {
    "duration": 11,
    "start_time": "2022-05-21T16:06:14.304Z"
   },
   {
    "duration": 23,
    "start_time": "2022-05-21T16:06:14.329Z"
   },
   {
    "duration": 24,
    "start_time": "2022-05-21T16:06:14.353Z"
   },
   {
    "duration": 29,
    "start_time": "2022-05-21T16:06:14.379Z"
   },
   {
    "duration": 66,
    "start_time": "2022-05-21T16:06:14.410Z"
   },
   {
    "duration": 4,
    "start_time": "2022-05-21T16:06:14.478Z"
   },
   {
    "duration": 50,
    "start_time": "2022-05-21T16:06:14.484Z"
   },
   {
    "duration": 136,
    "start_time": "2022-05-21T16:06:14.536Z"
   },
   {
    "duration": 0,
    "start_time": "2022-05-21T16:06:14.674Z"
   },
   {
    "duration": 0,
    "start_time": "2022-05-21T16:06:14.676Z"
   },
   {
    "duration": 0,
    "start_time": "2022-05-21T16:06:14.678Z"
   },
   {
    "duration": 25,
    "start_time": "2022-05-21T16:06:41.419Z"
   },
   {
    "duration": 102,
    "start_time": "2022-05-21T16:06:51.548Z"
   },
   {
    "duration": 118,
    "start_time": "2022-05-21T16:08:11.245Z"
   },
   {
    "duration": 126,
    "start_time": "2022-05-21T16:08:16.027Z"
   },
   {
    "duration": 119,
    "start_time": "2022-05-21T16:08:20.318Z"
   },
   {
    "duration": 59,
    "start_time": "2022-05-21T16:18:31.449Z"
   },
   {
    "duration": 1365,
    "start_time": "2022-05-21T16:18:40.674Z"
   },
   {
    "duration": 1454,
    "start_time": "2022-05-21T16:18:42.042Z"
   },
   {
    "duration": 52,
    "start_time": "2022-05-21T16:18:43.498Z"
   },
   {
    "duration": 65,
    "start_time": "2022-05-21T16:18:43.552Z"
   },
   {
    "duration": 38,
    "start_time": "2022-05-21T16:18:43.620Z"
   },
   {
    "duration": 43,
    "start_time": "2022-05-21T16:18:43.659Z"
   },
   {
    "duration": 16,
    "start_time": "2022-05-21T16:18:43.704Z"
   },
   {
    "duration": 32,
    "start_time": "2022-05-21T16:18:43.722Z"
   },
   {
    "duration": 38,
    "start_time": "2022-05-21T16:18:43.756Z"
   },
   {
    "duration": 13,
    "start_time": "2022-05-21T16:18:43.797Z"
   },
   {
    "duration": 4,
    "start_time": "2022-05-21T16:18:43.811Z"
   },
   {
    "duration": 7,
    "start_time": "2022-05-21T16:18:43.817Z"
   },
   {
    "duration": 13,
    "start_time": "2022-05-21T16:18:43.825Z"
   },
   {
    "duration": 5,
    "start_time": "2022-05-21T16:18:43.841Z"
   },
   {
    "duration": 73,
    "start_time": "2022-05-21T16:18:43.848Z"
   },
   {
    "duration": 3,
    "start_time": "2022-05-21T16:18:43.923Z"
   },
   {
    "duration": 11,
    "start_time": "2022-05-21T16:18:43.928Z"
   },
   {
    "duration": 60,
    "start_time": "2022-05-21T16:18:43.941Z"
   },
   {
    "duration": 3,
    "start_time": "2022-05-21T16:18:44.003Z"
   },
   {
    "duration": 12,
    "start_time": "2022-05-21T16:18:44.008Z"
   },
   {
    "duration": 39,
    "start_time": "2022-05-21T16:18:44.022Z"
   },
   {
    "duration": 21,
    "start_time": "2022-05-21T16:18:44.063Z"
   },
   {
    "duration": 14,
    "start_time": "2022-05-21T16:18:44.085Z"
   },
   {
    "duration": 86,
    "start_time": "2022-05-21T16:18:44.102Z"
   },
   {
    "duration": 99,
    "start_time": "2022-05-21T16:18:44.190Z"
   },
   {
    "duration": 369,
    "start_time": "2022-05-21T16:18:44.290Z"
   },
   {
    "duration": 30,
    "start_time": "2022-05-21T16:18:44.662Z"
   },
   {
    "duration": 238,
    "start_time": "2022-05-21T16:18:44.694Z"
   },
   {
    "duration": 20,
    "start_time": "2022-05-21T16:18:44.934Z"
   },
   {
    "duration": 150,
    "start_time": "2022-05-21T16:18:44.955Z"
   },
   {
    "duration": 14,
    "start_time": "2022-05-21T16:18:45.107Z"
   },
   {
    "duration": 13,
    "start_time": "2022-05-21T16:18:45.123Z"
   },
   {
    "duration": 344,
    "start_time": "2022-05-21T16:18:45.138Z"
   },
   {
    "duration": 135,
    "start_time": "2022-05-21T16:18:45.484Z"
   },
   {
    "duration": 133,
    "start_time": "2022-05-21T16:18:45.621Z"
   },
   {
    "duration": 9,
    "start_time": "2022-05-21T16:18:45.756Z"
   },
   {
    "duration": 23,
    "start_time": "2022-05-21T16:18:45.767Z"
   },
   {
    "duration": 19,
    "start_time": "2022-05-21T16:18:45.793Z"
   },
   {
    "duration": 349,
    "start_time": "2022-05-21T16:18:45.813Z"
   },
   {
    "duration": 99,
    "start_time": "2022-05-21T16:18:46.164Z"
   },
   {
    "duration": 118,
    "start_time": "2022-05-21T16:18:46.269Z"
   },
   {
    "duration": 10,
    "start_time": "2022-05-21T16:18:46.388Z"
   },
   {
    "duration": 12,
    "start_time": "2022-05-21T16:18:46.400Z"
   },
   {
    "duration": 10,
    "start_time": "2022-05-21T16:18:46.414Z"
   },
   {
    "duration": 13,
    "start_time": "2022-05-21T16:18:46.426Z"
   },
   {
    "duration": 8,
    "start_time": "2022-05-21T16:18:46.441Z"
   },
   {
    "duration": 50,
    "start_time": "2022-05-21T16:18:46.451Z"
   },
   {
    "duration": 3,
    "start_time": "2022-05-21T16:18:46.503Z"
   },
   {
    "duration": 5,
    "start_time": "2022-05-21T16:18:46.508Z"
   },
   {
    "duration": 5,
    "start_time": "2022-05-21T16:18:46.515Z"
   },
   {
    "duration": 6,
    "start_time": "2022-05-21T16:18:46.521Z"
   },
   {
    "duration": 57,
    "start_time": "2022-05-21T16:18:46.528Z"
   },
   {
    "duration": 3,
    "start_time": "2022-05-21T16:18:46.587Z"
   },
   {
    "duration": 4,
    "start_time": "2022-05-21T16:18:46.592Z"
   },
   {
    "duration": 476,
    "start_time": "2022-05-21T16:18:46.598Z"
   },
   {
    "duration": 8,
    "start_time": "2022-05-21T16:18:47.076Z"
   },
   {
    "duration": 33,
    "start_time": "2022-05-21T16:18:47.086Z"
   },
   {
    "duration": 38,
    "start_time": "2022-05-21T16:18:47.122Z"
   },
   {
    "duration": 29,
    "start_time": "2022-05-21T16:18:47.161Z"
   },
   {
    "duration": 6,
    "start_time": "2022-05-21T16:18:47.192Z"
   },
   {
    "duration": 31,
    "start_time": "2022-05-21T16:18:47.199Z"
   },
   {
    "duration": 96,
    "start_time": "2022-05-21T16:18:47.231Z"
   },
   {
    "duration": 7,
    "start_time": "2022-05-21T16:18:47.329Z"
   },
   {
    "duration": 7,
    "start_time": "2022-05-21T16:18:47.338Z"
   },
   {
    "duration": 5,
    "start_time": "2022-05-21T16:18:47.346Z"
   },
   {
    "duration": 47,
    "start_time": "2022-05-21T16:18:47.353Z"
   },
   {
    "duration": 13,
    "start_time": "2022-05-21T16:18:47.402Z"
   },
   {
    "duration": 34,
    "start_time": "2022-05-21T16:18:47.417Z"
   },
   {
    "duration": 4,
    "start_time": "2022-05-21T16:18:47.453Z"
   },
   {
    "duration": 41,
    "start_time": "2022-05-21T16:18:47.460Z"
   },
   {
    "duration": 64,
    "start_time": "2022-05-21T16:18:47.503Z"
   },
   {
    "duration": 0,
    "start_time": "2022-05-21T16:18:47.584Z"
   },
   {
    "duration": 0,
    "start_time": "2022-05-21T16:18:47.585Z"
   },
   {
    "duration": 0,
    "start_time": "2022-05-21T16:18:47.587Z"
   },
   {
    "duration": 101,
    "start_time": "2022-05-21T16:19:42.453Z"
   },
   {
    "duration": 7,
    "start_time": "2022-05-21T16:20:37.254Z"
   },
   {
    "duration": 8,
    "start_time": "2022-05-21T16:21:53.572Z"
   },
   {
    "duration": 9,
    "start_time": "2022-05-21T16:21:56.963Z"
   },
   {
    "duration": 117,
    "start_time": "2022-05-21T16:21:59.681Z"
   },
   {
    "duration": 107,
    "start_time": "2022-05-21T16:22:25.666Z"
   },
   {
    "duration": 6,
    "start_time": "2022-05-21T16:22:40.048Z"
   },
   {
    "duration": 9,
    "start_time": "2022-05-21T16:23:43.864Z"
   },
   {
    "duration": 105,
    "start_time": "2022-05-21T16:23:46.951Z"
   },
   {
    "duration": 100,
    "start_time": "2022-05-21T16:23:55.107Z"
   },
   {
    "duration": 14,
    "start_time": "2022-05-21T16:24:09.455Z"
   },
   {
    "duration": 5,
    "start_time": "2022-05-21T16:24:17.368Z"
   },
   {
    "duration": 117,
    "start_time": "2022-05-21T16:24:31.110Z"
   },
   {
    "duration": 28,
    "start_time": "2022-05-21T16:25:10.882Z"
   },
   {
    "duration": 109,
    "start_time": "2022-05-21T16:26:33.060Z"
   },
   {
    "duration": 122,
    "start_time": "2022-05-21T16:26:37.109Z"
   },
   {
    "duration": 112,
    "start_time": "2022-05-21T16:27:02.340Z"
   },
   {
    "duration": 97,
    "start_time": "2022-05-21T16:27:20.668Z"
   },
   {
    "duration": 124,
    "start_time": "2022-05-21T16:28:11.522Z"
   },
   {
    "duration": 118,
    "start_time": "2022-05-21T16:28:40.529Z"
   },
   {
    "duration": 134,
    "start_time": "2022-05-21T16:29:14.392Z"
   },
   {
    "duration": 115,
    "start_time": "2022-05-21T16:29:47.293Z"
   },
   {
    "duration": 18,
    "start_time": "2022-05-21T16:29:57.678Z"
   },
   {
    "duration": 18,
    "start_time": "2022-05-21T16:30:21.020Z"
   },
   {
    "duration": 20,
    "start_time": "2022-05-21T16:30:53.018Z"
   },
   {
    "duration": 19,
    "start_time": "2022-05-21T16:31:06.767Z"
   },
   {
    "duration": 29,
    "start_time": "2022-05-21T16:31:17.978Z"
   },
   {
    "duration": 105,
    "start_time": "2022-05-21T16:31:26.278Z"
   },
   {
    "duration": 136,
    "start_time": "2022-05-21T16:31:31.218Z"
   },
   {
    "duration": 138,
    "start_time": "2022-05-21T16:31:46.658Z"
   },
   {
    "duration": 132,
    "start_time": "2022-05-21T16:32:21.786Z"
   },
   {
    "duration": 10,
    "start_time": "2022-05-21T16:32:38.950Z"
   },
   {
    "duration": 10,
    "start_time": "2022-05-21T16:32:52.750Z"
   },
   {
    "duration": 23,
    "start_time": "2022-05-21T16:32:59.278Z"
   },
   {
    "duration": 4,
    "start_time": "2022-05-21T16:33:05.878Z"
   },
   {
    "duration": 469,
    "start_time": "2022-05-21T16:33:05.885Z"
   },
   {
    "duration": 71,
    "start_time": "2022-05-21T16:33:06.356Z"
   },
   {
    "duration": 35,
    "start_time": "2022-05-21T16:33:06.428Z"
   },
   {
    "duration": 31,
    "start_time": "2022-05-21T16:33:06.483Z"
   },
   {
    "duration": 123,
    "start_time": "2022-05-21T16:33:06.516Z"
   },
   {
    "duration": 21,
    "start_time": "2022-05-21T16:33:06.640Z"
   },
   {
    "duration": 26,
    "start_time": "2022-05-21T16:33:06.663Z"
   },
   {
    "duration": 16,
    "start_time": "2022-05-21T16:33:06.691Z"
   },
   {
    "duration": 10,
    "start_time": "2022-05-21T16:33:06.708Z"
   },
   {
    "duration": 6,
    "start_time": "2022-05-21T16:33:06.719Z"
   },
   {
    "duration": 6,
    "start_time": "2022-05-21T16:33:06.727Z"
   },
   {
    "duration": 53,
    "start_time": "2022-05-21T16:33:06.735Z"
   },
   {
    "duration": 2,
    "start_time": "2022-05-21T16:33:06.792Z"
   },
   {
    "duration": 51,
    "start_time": "2022-05-21T16:33:06.795Z"
   },
   {
    "duration": 3,
    "start_time": "2022-05-21T16:33:06.847Z"
   },
   {
    "duration": 31,
    "start_time": "2022-05-21T16:33:06.852Z"
   },
   {
    "duration": 31,
    "start_time": "2022-05-21T16:33:06.886Z"
   },
   {
    "duration": 6,
    "start_time": "2022-05-21T16:33:06.922Z"
   },
   {
    "duration": 10,
    "start_time": "2022-05-21T16:33:06.930Z"
   },
   {
    "duration": 59,
    "start_time": "2022-05-21T16:33:06.942Z"
   },
   {
    "duration": 3,
    "start_time": "2022-05-21T16:33:07.003Z"
   },
   {
    "duration": 18,
    "start_time": "2022-05-21T16:33:07.007Z"
   },
   {
    "duration": 65,
    "start_time": "2022-05-21T16:33:07.027Z"
   },
   {
    "duration": 101,
    "start_time": "2022-05-21T16:33:07.094Z"
   },
   {
    "duration": 353,
    "start_time": "2022-05-21T16:33:07.197Z"
   },
   {
    "duration": 20,
    "start_time": "2022-05-21T16:33:07.552Z"
   },
   {
    "duration": 151,
    "start_time": "2022-05-21T16:33:07.584Z"
   },
   {
    "duration": 19,
    "start_time": "2022-05-21T16:33:07.737Z"
   },
   {
    "duration": 138,
    "start_time": "2022-05-21T16:33:07.758Z"
   },
   {
    "duration": 14,
    "start_time": "2022-05-21T16:33:07.898Z"
   },
   {
    "duration": 10,
    "start_time": "2022-05-21T16:33:07.914Z"
   },
   {
    "duration": 380,
    "start_time": "2022-05-21T16:33:07.927Z"
   },
   {
    "duration": 115,
    "start_time": "2022-05-21T16:33:08.308Z"
   },
   {
    "duration": 131,
    "start_time": "2022-05-21T16:33:08.425Z"
   },
   {
    "duration": 8,
    "start_time": "2022-05-21T16:33:08.558Z"
   },
   {
    "duration": 21,
    "start_time": "2022-05-21T16:33:08.568Z"
   },
   {
    "duration": 19,
    "start_time": "2022-05-21T16:33:08.591Z"
   },
   {
    "duration": 333,
    "start_time": "2022-05-21T16:33:08.612Z"
   },
   {
    "duration": 110,
    "start_time": "2022-05-21T16:33:08.947Z"
   },
   {
    "duration": 253,
    "start_time": "2022-05-21T16:33:09.062Z"
   },
   {
    "duration": 9,
    "start_time": "2022-05-21T16:33:09.317Z"
   },
   {
    "duration": 11,
    "start_time": "2022-05-21T16:33:09.327Z"
   },
   {
    "duration": 11,
    "start_time": "2022-05-21T16:33:09.339Z"
   },
   {
    "duration": 43,
    "start_time": "2022-05-21T16:33:09.352Z"
   },
   {
    "duration": 6,
    "start_time": "2022-05-21T16:33:09.398Z"
   },
   {
    "duration": 16,
    "start_time": "2022-05-21T16:33:09.406Z"
   },
   {
    "duration": 3,
    "start_time": "2022-05-21T16:33:09.423Z"
   },
   {
    "duration": 5,
    "start_time": "2022-05-21T16:33:09.427Z"
   },
   {
    "duration": 5,
    "start_time": "2022-05-21T16:33:09.433Z"
   },
   {
    "duration": 5,
    "start_time": "2022-05-21T16:33:09.440Z"
   },
   {
    "duration": 79,
    "start_time": "2022-05-21T16:33:09.446Z"
   },
   {
    "duration": 2,
    "start_time": "2022-05-21T16:33:09.527Z"
   },
   {
    "duration": 7,
    "start_time": "2022-05-21T16:33:09.530Z"
   },
   {
    "duration": 338,
    "start_time": "2022-05-21T16:33:09.538Z"
   },
   {
    "duration": 8,
    "start_time": "2022-05-21T16:33:09.878Z"
   },
   {
    "duration": 40,
    "start_time": "2022-05-21T16:33:09.888Z"
   },
   {
    "duration": 26,
    "start_time": "2022-05-21T16:33:09.929Z"
   },
   {
    "duration": 27,
    "start_time": "2022-05-21T16:33:09.957Z"
   },
   {
    "duration": 4,
    "start_time": "2022-05-21T16:33:09.986Z"
   },
   {
    "duration": 30,
    "start_time": "2022-05-21T16:33:09.991Z"
   },
   {
    "duration": 96,
    "start_time": "2022-05-21T16:33:10.023Z"
   },
   {
    "duration": 7,
    "start_time": "2022-05-21T16:33:10.121Z"
   },
   {
    "duration": 8,
    "start_time": "2022-05-21T16:33:10.130Z"
   },
   {
    "duration": 7,
    "start_time": "2022-05-21T16:33:10.140Z"
   },
   {
    "duration": 44,
    "start_time": "2022-05-21T16:33:10.149Z"
   },
   {
    "duration": 14,
    "start_time": "2022-05-21T16:33:10.195Z"
   },
   {
    "duration": 26,
    "start_time": "2022-05-21T16:33:10.211Z"
   },
   {
    "duration": 3,
    "start_time": "2022-05-21T16:33:10.238Z"
   },
   {
    "duration": 48,
    "start_time": "2022-05-21T16:33:10.243Z"
   },
   {
    "duration": 18,
    "start_time": "2022-05-21T16:33:10.293Z"
   },
   {
    "duration": 41,
    "start_time": "2022-05-21T16:33:10.313Z"
   },
   {
    "duration": 39,
    "start_time": "2022-05-21T16:33:10.355Z"
   },
   {
    "duration": 13,
    "start_time": "2022-05-21T16:33:10.395Z"
   },
   {
    "duration": 43,
    "start_time": "2022-05-21T16:34:41.258Z"
   }
  ],
  "kernelspec": {
   "display_name": "Python 3 (ipykernel)",
   "language": "python",
   "name": "python3"
  },
  "language_info": {
   "codemirror_mode": {
    "name": "ipython",
    "version": 3
   },
   "file_extension": ".py",
   "mimetype": "text/x-python",
   "name": "python",
   "nbconvert_exporter": "python",
   "pygments_lexer": "ipython3",
   "version": "3.9.5"
  },
  "toc": {
   "base_numbering": 1,
   "nav_menu": {},
   "number_sections": true,
   "sideBar": true,
   "skip_h1_title": true,
   "title_cell": "Table of Contents",
   "title_sidebar": "Contents",
   "toc_cell": false,
   "toc_position": {
    "height": "calc(100% - 180px)",
    "left": "10px",
    "top": "150px",
    "width": "429px"
   },
   "toc_section_display": true,
   "toc_window_display": true
  }
 },
 "nbformat": 4,
 "nbformat_minor": 2
}
